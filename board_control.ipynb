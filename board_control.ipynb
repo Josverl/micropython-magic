{
 "cells": [
  {
   "attachments": {},
   "cell_type": "markdown",
   "metadata": {},
   "source": [
    "# Notebook to run MicroPython on a device.\n",
    "\n",
    "Uses mpremote to make the connections to the MCU and run the cells/lines on a connected board\n",
    "\n",
    "Requirements : \n",
    "- `pip install -U micropython-magic` or `pip install -U \"git+https://github.com/josverl/micropython-magic\"`\n",
    "\n",
    "Notes: \n",
    " - The name of the module to load is `mpy_magic`, load with command `%load_ext mpy_magic`\n",
    " - The magic command `%%micropython` or `%%mpy` is used to run the cell on the connected board\n",
    " - `%list_devices` lists the available devices"
   ]
  },
  {
   "cell_type": "code",
   "execution_count": 1,
   "metadata": {},
   "outputs": [],
   "source": [
    "%load_ext mpy_magic"
   ]
  },
  {
   "cell_type": "code",
   "execution_count": 2,
   "metadata": {},
   "outputs": [],
   "source": [
    "%reload_ext mpy_magic\n",
    "# %alias_magic mpy micropython # todo - declare alias in module"
   ]
  },
  {
   "cell_type": "code",
   "execution_count": 4,
   "metadata": {},
   "outputs": [
    {
     "name": "stdout",
     "output_type": "stream",
     "text": [
      "['/dev/ttyS0 None 0000:0000 None None', '/dev/ttyS1 None 0000:0000 None None']\n",
      "['/dev/ttyS0', '/dev/ttyS1']\n"
     ]
    }
   ],
   "source": [
    "from IPython.utils.text import SList\n",
    "r:SList = %list_devices\n",
    "devices = list(r.fields(0))\n",
    "print(r)\n",
    "print(devices)"
   ]
  },
  {
   "cell_type": "code",
   "execution_count": 6,
   "metadata": {},
   "outputs": [
    {
     "name": "stdout",
     "output_type": "stream",
     "text": [
      "mpremote connect /dev/ttyS1 resume eval \"'Connected to MCU on port /dev/ttyS1.'\"\n"
     ]
    },
    {
     "data": {
      "text/plain": [
       "['failed to access /dev/ttyS1 (it may be in use by another program)']"
      ]
     },
     "execution_count": 6,
     "metadata": {},
     "output_type": "execute_result"
    }
   ],
   "source": [
    "#  connect to a specific device\n",
    "%connect {devices[0]}"
   ]
  },
  {
   "cell_type": "code",
   "execution_count": 7,
   "metadata": {},
   "outputs": [
    {
     "name": "stdout",
     "output_type": "stream",
     "text": [
      "mpremote connect /dev/ttyS1 resume exec \"exec( open('temp.py').read() , globals() )\"\n"
     ]
    },
    {
     "data": {
      "text/plain": [
       "['failed to access /dev/ttyS1 (it may be in use by another program)']"
      ]
     },
     "execution_count": 7,
     "metadata": {},
     "output_type": "execute_result"
    }
   ],
   "source": [
    "%%micropython\n",
    "import os\n",
    "print(os.listdir('.'))\n",
    "print(os.uname().sysname)\n",
    "x = 1"
   ]
  },
  {
   "cell_type": "code",
   "execution_count": null,
   "metadata": {},
   "outputs": [],
   "source": [
    "# connect to the last device in the list\n",
    "%connect {devices[-1]}"
   ]
  },
  {
   "cell_type": "code",
   "execution_count": null,
   "metadata": {},
   "outputs": [],
   "source": [
    "%%micropython\n",
    "import os\n",
    "print(os.listdir('.'))\n",
    "print(os.uname())\n",
    "x = 1"
   ]
  },
  {
   "cell_type": "code",
   "execution_count": null,
   "metadata": {},
   "outputs": [],
   "source": [
    "%mpy print(globals())"
   ]
  },
  {
   "cell_type": "code",
   "execution_count": null,
   "metadata": {},
   "outputs": [],
   "source": [
    "%%micropython\n",
    "value = {\"foo\": 'aaa', \"bar\": 42}"
   ]
  },
  {
   "cell_type": "code",
   "execution_count": null,
   "metadata": {},
   "outputs": [],
   "source": []
  }
 ],
 "metadata": {
  "kernelspec": {
   "display_name": ".venv",
   "language": "python",
   "name": "python3"
  },
  "language_info": {
   "codemirror_mode": {
    "name": "ipython",
    "version": 3
   },
   "file_extension": ".py",
   "mimetype": "text/x-python",
   "name": "python",
   "nbconvert_exporter": "python",
   "pygments_lexer": "ipython3",
   "version": "3.10.4"
  },
  "orig_nbformat": 4
 },
 "nbformat": 4,
 "nbformat_minor": 2
}
