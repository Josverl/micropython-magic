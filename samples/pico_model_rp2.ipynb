{
 "cells": [
  {
   "cell_type": "markdown",
   "metadata": {},
   "source": [
    "This sample works on the rp2 only\n"
   ]
  },
  {
   "cell_type": "code",
   "execution_count": 2,
   "metadata": {},
   "outputs": [
    {
     "data": {
      "text/plain": [
       "{'ver': 'v1.22.0',\n",
       " 'version': '1.22.0',\n",
       " 'port': 'samd',\n",
       " 'mpy': 'v6.2',\n",
       " 'build': '',\n",
       " 'cpu': 'SAMD51P19A',\n",
       " 'family': 'micropython',\n",
       " 'board': 'Wio Terminal D51R with SAMD51P19A',\n",
       " 'arch': 'armv7emsp',\n",
       " 'serial_port': 'auto'}"
      ]
     },
     "execution_count": 2,
     "metadata": {},
     "output_type": "execute_result"
    }
   ],
   "source": [
    "%mpy --info"
   ]
  },
  {
   "cell_type": "code",
   "execution_count": null,
   "metadata": {},
   "outputs": [],
   "source": [
    "%%micropython\n",
    "from machine import Pin, ADC\n",
    "\n",
    "\n",
    "def GetPicoModel():\n",
    "    # Ensure Pin 25 Low...\n",
    "    pin_25 = Pin(25, mode=Pin.IN, pull=Pin.PULL_DOWN, value=0)\n",
    "    raw = ADC(3).read_u16()  # Read the raw value (0-65535) from the ADC pin\n",
    "    voltage = raw * 3.3 / 65535  # Convert the raw value to a voltage\n",
    "    # 1/3 VSYS, Not Almost Zero? Test As 0.4 Or Greater\n",
    "    model = \"Pico\" if (voltage > 0.4) else \"Pico-W\"\n",
    "    return model\n",
    "\n",
    "\n",
    "print(\"Pico Model: {0}\".format(GetPicoModel()))"
   ]
  }
 ],
 "metadata": {
  "kernelspec": {
   "display_name": ".venv",
   "language": "python",
   "name": "python3"
  },
  "language_info": {
   "codemirror_mode": {
    "name": "ipython",
    "version": 3
   },
   "file_extension": ".py",
   "mimetype": "text/x-python",
   "name": "python",
   "nbconvert_exporter": "python",
   "pygments_lexer": "ipython3",
   "version": "3.11.7"
  }
 },
 "nbformat": 4,
 "nbformat_minor": 2
}
