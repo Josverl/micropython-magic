{
 "cells": [
  {
   "cell_type": "code",
   "execution_count": 9,
   "metadata": {
    "notebookRunGroups": {
     "groupValue": ""
    },
    "tags": []
   },
   "outputs": [],
   "source": [
    "%store -r log_text"
   ]
  },
  {
   "cell_type": "code",
   "execution_count": 11,
   "metadata": {
    "notebookRunGroups": {
     "groupValue": ""
    },
    "tags": []
   },
   "outputs": [
    {
     "name": "stdout",
     "output_type": "stream",
     "text": [
      "Loaded and parsed 323 memory_info records from the log file\n"
     ]
    }
   ],
   "source": [
    "from micropython_magic.memoryinfo import MemoryInfoList\n",
    "\n",
    "mi_list = MemoryInfoList(show_free=False)\n",
    "print(f\"Loaded and parsed {len(mi_list.parse_log(log_text))} memory_info records from the log file\")"
   ]
  },
  {
   "cell_type": "code",
   "execution_count": 21,
   "metadata": {
    "tags": []
   },
   "outputs": [],
   "source": [
    "import bqplot.pyplot as plt\n",
    "import numpy as np\n",
    "\n",
    "\n",
    "def meminfo_plot(\n",
    "    mi_list: MemoryInfoList,\n",
    "    title: str = \"Memory Info\",\n",
    "    used: bool = False,\n",
    "    one_blocks: bool = False,\n",
    "    two_blocks: bool = False,\n",
    "    max_block_size: bool = False,\n",
    "    max_free_size: bool = False,\n",
    "    stack_used: bool = False,\n",
    "    stack_total: bool = False,\n",
    "    name_step: int = 5,\n",
    "    legend_location: str = \"left\",\n",
    "    display_toolbar=True,\n",
    "):\n",
    "    \"\"\"\n",
    "    Plot the memory info data from a log file.\n",
    "    use the parameters to select the data to be plotted.\n",
    "    \"\"\"\n",
    "    # left axis is the free memory\n",
    "    free_mem = [i.free for i in mi_list]\n",
    "\n",
    "    # right axis is configurable\n",
    "    data_l = np.array([[i.free for i in mi_list]])\n",
    "    data_r = np.array([[i.free for i in mi_list]])\n",
    "    labels_l = [\"free <\"]\n",
    "    labels_r = []\n",
    "    if used:\n",
    "        data_l = np.vstack([data_l, [i.used for i in mi_list]])\n",
    "        labels_l.append(\"used <\")\n",
    "    if one_blocks:\n",
    "        data_r = np.vstack([data_r, [i.one_blocks for i in mi_list]])\n",
    "        labels_r.append(\"1-blocks >\")\n",
    "    if two_blocks:\n",
    "        data_r = np.vstack([data_r, [i.two_blocks for i in mi_list]])\n",
    "        labels_r.append(\"2-blocks >\")\n",
    "    if max_block_size:\n",
    "        data_r = np.vstack([data_r, [i.max_block_size for i in mi_list]])\n",
    "        labels_r.append(\"max block size >\")\n",
    "    if max_free_size:\n",
    "        data_r = np.vstack([data_r, [i.max_free_size for i in mi_list]])\n",
    "        labels_r.append(\"max free size >\")\n",
    "    if stack_used:\n",
    "        data_r = np.vstack([data_r, [i.stack_used for i in mi_list]])\n",
    "        labels_r.append(\"stack used >\")\n",
    "    if stack_total:\n",
    "        data_r = np.vstack([data_r, [i.stack_total for i in mi_list]])\n",
    "        labels_r.append(\"stack total >\")\n",
    "    # throw away the first row\n",
    "    data_r = data_r[1:]\n",
    "\n",
    "    # plot the free memory with an area chart\n",
    "    fig_memory = plt.figure(title=title, animation_duration=500, legend_location=legend_location)\n",
    "    # ----------------------------------------------------------------------------------------------------\n",
    "    axes_left_options = {\n",
    "        \"x\": {\"label\": \"time\", \"grid_lines\": \"solid\"},\n",
    "        \"y\": {\n",
    "            \"side\": \"left\",\n",
    "            \"grid_lines\": \"solid\",\n",
    "            \"color\": \"green\",\n",
    "            \"label_color\": \"black\",\n",
    "        },  # \"label\": \"Memory in bytes\",\n",
    "    }\n",
    "    axes_right_options = {\n",
    "        \"x\": {\"label\": \"time\", \"grid_lines\": \"solid\"},\n",
    "        \"y\": {\"side\": \"right\", \"color\": \"blue\", \"label_color\": \"black\"},\n",
    "    }\n",
    "    # plot the free memory\n",
    "    line_1 = plt.plot(\n",
    "        data_l,\n",
    "        labels=labels_l,\n",
    "        display_legend=True,\n",
    "        colors=[\"green\", \"red\"],\n",
    "        axes_options=axes_left_options,\n",
    "    )\n",
    "\n",
    "    if name_step > 0:\n",
    "        # add the log names as labels to the x axis for every n-th entry\n",
    "        names = [i.name for i in mi_list]\n",
    "        name_labels = plt.label(\n",
    "            text=[x.name for x in mi_list][::name_step],\n",
    "            x=range(len(mi_list))[::name_step],\n",
    "            y=[y + 10 for y in free_mem[::name_step]],\n",
    "            default_size=14,\n",
    "            labels=[\"name\"],\n",
    "            display_legend=False,\n",
    "        )\n",
    "        name_labels.rotate_angle = -30\n",
    "\n",
    "    # ----------------------------------------------------------------------------------------------------\n",
    "    if data_r.shape[0] > 0:\n",
    "        # create a seperate scale for the y axis on the right-hand side of the plot to allow for the difference in scale\n",
    "        plt.scales(scales={\"x\": plt.Keep})\n",
    "\n",
    "        line_3 = plt.plot(\n",
    "            data_r,\n",
    "            labels=labels_r,\n",
    "            display_legend=True,\n",
    "            axes_options=axes_right_options,\n",
    "        )\n",
    "    # code to add a legend to the plot\n",
    "    # ref:  bqplot.pyplot.show()\n",
    "    if display_toolbar:\n",
    "        if not hasattr(fig_memory, \"pyplot\"):\n",
    "            fig_memory.pyplot = plt.Toolbar(figure=fig_memory)\n",
    "            fig_memory.pyplot_vbox = plt.VBox([fig_memory, fig_memory.pyplot])\n",
    "        return fig_memory.pyplot_vbox\n",
    "    else:\n",
    "        return fig_memory"
   ]
  },
  {
   "cell_type": "code",
   "execution_count": 22,
   "metadata": {
    "tags": []
   },
   "outputs": [
    {
     "ename": "ValueError",
     "evalue": "fig_memory.pyplot not defined",
     "output_type": "error",
     "traceback": [
      "\u001b[1;31m---------------------------------------------------------------------------\u001b[0m",
      "\u001b[1;31mValueError\u001b[0m                                Traceback (most recent call last)",
      "Cell \u001b[1;32mIn[22], line 1\u001b[0m\n\u001b[1;32m----> 1\u001b[0m f \u001b[39m=\u001b[39m meminfo_plot(\n\u001b[0;32m      2\u001b[0m     mi_list,\n\u001b[0;32m      3\u001b[0m     title\u001b[39m=\u001b[39;49m\u001b[39m\"\u001b[39;49m\u001b[39mcreatestubs memory use\u001b[39;49m\u001b[39m\"\u001b[39;49m,\n\u001b[0;32m      4\u001b[0m     used\u001b[39m=\u001b[39;49m\u001b[39mTrue\u001b[39;49;00m,\n\u001b[0;32m      5\u001b[0m     one_blocks\u001b[39m=\u001b[39;49m\u001b[39mTrue\u001b[39;49;00m,\n\u001b[0;32m      6\u001b[0m     two_blocks\u001b[39m=\u001b[39;49m\u001b[39mTrue\u001b[39;49;00m,\n\u001b[0;32m      7\u001b[0m     max_block_size\u001b[39m=\u001b[39;49m\u001b[39mTrue\u001b[39;49;00m,\n\u001b[0;32m      8\u001b[0m     max_free_size\u001b[39m=\u001b[39;49m\u001b[39mTrue\u001b[39;49;00m,\n\u001b[0;32m      9\u001b[0m     stack_used\u001b[39m=\u001b[39;49m\u001b[39mTrue\u001b[39;49;00m,\n\u001b[0;32m     10\u001b[0m     stack_total\u001b[39m=\u001b[39;49m\u001b[39mTrue\u001b[39;49;00m,\n\u001b[0;32m     11\u001b[0m     name_step\u001b[39m=\u001b[39;49m\u001b[39m0\u001b[39;49m,\n\u001b[0;32m     12\u001b[0m )\n",
      "Cell \u001b[1;32mIn[21], line 107\u001b[0m, in \u001b[0;36mmeminfo_plot\u001b[1;34m(mi_list, title, used, one_blocks, two_blocks, max_block_size, max_free_size, stack_used, stack_total, name_step, legend_location, display_toolbar)\u001b[0m\n\u001b[0;32m    105\u001b[0m \u001b[39mif\u001b[39;00m display_toolbar:\n\u001b[0;32m    106\u001b[0m     \u001b[39mif\u001b[39;00m \u001b[39mnot\u001b[39;00m \u001b[39mhasattr\u001b[39m(fig_memory, \u001b[39m\"\u001b[39m\u001b[39mpyplot\u001b[39m\u001b[39m\"\u001b[39m):\n\u001b[1;32m--> 107\u001b[0m         \u001b[39mraise\u001b[39;00m \u001b[39mValueError\u001b[39;00m(\u001b[39m\"\u001b[39m\u001b[39mfig_memory.pyplot not defined\u001b[39m\u001b[39m\"\u001b[39m)\n\u001b[0;32m    108\u001b[0m         fig_memory\u001b[39m.\u001b[39mpyplot \u001b[39m=\u001b[39m plt\u001b[39m.\u001b[39mToolbar(figure\u001b[39m=\u001b[39mfig_memory)\n\u001b[0;32m    109\u001b[0m         fig_memory\u001b[39m.\u001b[39mpyplot_vbox \u001b[39m=\u001b[39m plt\u001b[39m.\u001b[39mVBox([fig_memory, fig_memory\u001b[39m.\u001b[39mpyplot])\n",
      "\u001b[1;31mValueError\u001b[0m: fig_memory.pyplot not defined"
     ]
    }
   ],
   "source": [
    "f = meminfo_plot(\n",
    "    mi_list,\n",
    "    title=\"createstubs memory use\",\n",
    "    used=True,\n",
    "    one_blocks=True,\n",
    "    two_blocks=True,\n",
    "    max_block_size=True,\n",
    "    max_free_size=True,\n",
    "    stack_used=True,\n",
    "    stack_total=True,\n",
    "    name_step=0,\n",
    ")"
   ]
  },
  {
   "cell_type": "code",
   "execution_count": 20,
   "metadata": {},
   "outputs": [
    {
     "data": {
      "application/vnd.jupyter.widget-view+json": {
       "model_id": "d0448c8a5fdd4ed485f05da42fcda3c5",
       "version_major": 2,
       "version_minor": 0
      },
      "text/plain": [
       "VBox(children=(Figure(animation_duration=500, axes=[Axis(label='time', scale=LinearScale(), side='bottom'), Ax…"
      ]
     },
     "execution_count": 20,
     "metadata": {},
     "output_type": "execute_result"
    }
   ],
   "source": [
    "f"
   ]
  },
  {
   "attachments": {},
   "cell_type": "markdown",
   "metadata": {},
   "source": [
    "### Optional HTML width adjustment to allow wider plots and other outputs\n"
   ]
  },
  {
   "cell_type": "code",
   "execution_count": null,
   "metadata": {},
   "outputs": [],
   "source": [
    "# use the whole page width for displaying the output in the Jupyter notebook web viewer\n",
    "\n",
    "from IPython.display import display, HTML\n",
    "\n",
    "display(HTML(\"<style>.container { width:100% !important; }</style>\"))\n",
    "display(HTML(\"<style>.output_result { max-width:100% !important; }</style>\"))"
   ]
  }
 ],
 "metadata": {
  "kernelspec": {
   "display_name": "Python 3 (ipykernel)",
   "language": "python",
   "name": "python3"
  },
  "language_info": {
   "codemirror_mode": {
    "name": "ipython",
    "version": 3
   },
   "file_extension": ".py",
   "mimetype": "text/x-python",
   "name": "python",
   "nbconvert_exporter": "python",
   "pygments_lexer": "ipython3",
   "version": "3.11.0"
  }
 },
 "nbformat": 4,
 "nbformat_minor": 4
}
