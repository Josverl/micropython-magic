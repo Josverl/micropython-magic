{
 "cells": [
  {
   "cell_type": "code",
   "execution_count": 17,
   "metadata": {
    "notebookRunGroups": {
     "groupValue": ""
    }
   },
   "outputs": [],
   "source": [
    "%store -r log_text"
   ]
  },
  {
   "cell_type": "code",
   "execution_count": 18,
   "metadata": {
    "notebookRunGroups": {
     "groupValue": ""
    }
   },
   "outputs": [],
   "source": [
    "from micropython_magic.memoryinfo import MemoryInfoList, MemoryInfo"
   ]
  },
  {
   "cell_type": "code",
   "execution_count": 19,
   "metadata": {
    "notebookRunGroups": {
     "groupValue": ""
    }
   },
   "outputs": [
    {
     "name": "stdout",
     "output_type": "stream",
     "text": [
      "Loaded and parsed 323 memory_info records from the log file\n"
     ]
    }
   ],
   "source": [
    "mi_list = MemoryInfoList(show_free=False, columns=2)\n",
    "print(f\"Loaded and parsed {len(mi_list.parse_log(log_text))} memory_info records from the log file\")"
   ]
  },
  {
   "cell_type": "code",
   "execution_count": 20,
   "metadata": {},
   "outputs": [],
   "source": [
    "import bqplot.pyplot as plt\n",
    "import numpy as np\n",
    "\n",
    "\n",
    "def meminfo_plot(\n",
    "    mi_list: MemoryInfoList,\n",
    "    title: str = \"Memory Info\",\n",
    "    used: bool = False,\n",
    "    one_blocks: bool = False,\n",
    "    two_blocks: bool = False,\n",
    "    max_block_size: bool = False,\n",
    "    max_free_size: bool = False,\n",
    "    stack_used: bool = False,\n",
    "    stack_total: bool = False,\n",
    "    name_step: int = 5,\n",
    "    legend_location: str = \"left\",\n",
    "):\n",
    "    \"\"\"\n",
    "    Plot the memory info data from a log file.\n",
    "    use the parameters to select the data to be plotted.\n",
    "    \"\"\"\n",
    "    # left axis is the free memory\n",
    "    free_mem = [i.free for i in mi_list]\n",
    "\n",
    "    # right axis is configurable\n",
    "    data_l = np.array([[i.free for i in mi_list]])\n",
    "    data_r = np.array([[i.free for i in mi_list]])\n",
    "    labels_l = [\"free\"]\n",
    "    labels_r = []\n",
    "    if used:\n",
    "        data_l = np.vstack([data_l, [i.used for i in mi_list]])\n",
    "        labels_l.append(\"used\")\n",
    "    if one_blocks:\n",
    "        data_r = np.vstack([data_r, [i.one_blocks for i in mi_list]])\n",
    "        labels_r.append(\"1-blocks\")\n",
    "    if two_blocks:\n",
    "        data_r = np.vstack([data_r, [i.two_blocks for i in mi_list]])\n",
    "        labels_r.append(\"2-blocks\")\n",
    "    if max_block_size:\n",
    "        data_r = np.vstack([data_r, [i.max_block_size for i in mi_list]])\n",
    "        labels_r.append(\"max block size\")\n",
    "    if max_free_size:\n",
    "        data_r = np.vstack([data_r, [i.max_free_size for i in mi_list]])\n",
    "        labels_r.append(\"max free size\")\n",
    "    if stack_used:\n",
    "        data_r = np.vstack([data_r, [i.stack_used for i in mi_list]])\n",
    "        labels_r.append(\"stack used\")\n",
    "    if stack_total:\n",
    "        data_r = np.vstack([data_r, [i.stack_total for i in mi_list]])\n",
    "        labels_r.append(\"stack total\")\n",
    "    # throw away the first row\n",
    "    data_r = data_r[1:]\n",
    "\n",
    "    # plot the free memory with an area chart\n",
    "    fig_memory = plt.figure(title=title, animation_duration=500, legend_location=legend_location)\n",
    "    # ----------------------------------------------------------------------------------------------------\n",
    "    axes_1_options = {\n",
    "        \"x\": {\"label\": \"time\", \"grid_lines\": \"solid\"},\n",
    "        \"y\": {\"label\": \"Memory in bytes\", \"grid_lines\": \"solid\"},\n",
    "    }\n",
    "    # plot the free memory\n",
    "    line_1 = plt.plot(\n",
    "        data_l,\n",
    "        labels=labels_l,\n",
    "        display_legend=True,\n",
    "        colors=[\"green\", \"red\"],\n",
    "        axes_options=axes_1_options,\n",
    "    )\n",
    "\n",
    "    if name_step > 0:\n",
    "        # add the log names as labels to the x axis for every n-th entry\n",
    "        names = [i.name for i in mi_list]\n",
    "        name_labels = plt.label(\n",
    "            text=[x.name for x in mi_list][::name_step],\n",
    "            x=range(len(mi_list))[::name_step],\n",
    "            y=[y + 10 for y in free_mem[::name_step]],\n",
    "            default_size=14,\n",
    "            labels=[\"name\"],\n",
    "            display_legend=False,\n",
    "        )\n",
    "        name_labels.rotate_angle = -30\n",
    "\n",
    "    # ----------------------------------------------------------------------------------------------------\n",
    "    if data_r.shape[0] > 0:\n",
    "        # create a seperate scale for the y axis on the right-hand side of the plot to allow for the difference in scale\n",
    "        plt.scales(scales={\"x\": plt.Keep})\n",
    "        axes_3_options = {\n",
    "            \"x\": {\"label\": \"time\"},\n",
    "            \"y\": {\"side\": \"right\", \"color\": \"olive\", \"label_color\": \"olive\"},\n",
    "        }\n",
    "\n",
    "        line_3 = plt.plot(\n",
    "            data_r,\n",
    "            labels=labels_r,\n",
    "            display_legend=True,\n",
    "            axes_options=axes_3_options,\n",
    "        )\n",
    "\n",
    "    plt.show(key=None, display_toolbar=True)"
   ]
  },
  {
   "cell_type": "code",
   "execution_count": 21,
   "metadata": {},
   "outputs": [
    {
     "data": {
      "application/vnd.jupyter.widget-view+json": {
       "model_id": "6fbbc36b2cc34bfa9f4455e18e8f5528",
       "version_major": 2,
       "version_minor": 0
      },
      "text/plain": [
       "VBox(children=(Figure(animation_duration=500, axes=[Axis(label='time', scale=LinearScale()), Axis(label='Memor…"
      ]
     },
     "metadata": {},
     "output_type": "display_data"
    }
   ],
   "source": [
    "meminfo_plot(\n",
    "    mi_list,\n",
    "    title=\"createstubs memory use\",\n",
    "    used=True,\n",
    "    one_blocks=True,\n",
    "    two_blocks=True,\n",
    "    max_block_size=True,\n",
    "    max_free_size=True,\n",
    "    stack_used=True,\n",
    "    stack_total=True,\n",
    "    name_step=6,\n",
    ")"
   ]
  },
  {
   "attachments": {},
   "cell_type": "markdown",
   "metadata": {},
   "source": [
    "HTML width adjustment Only for Jupiter Notebook in the browser (not VSCode )\n"
   ]
  },
  {
   "cell_type": "code",
   "execution_count": 22,
   "metadata": {},
   "outputs": [
    {
     "data": {
      "text/html": [
       "<style>.container { width:100% !important; }</style>"
      ],
      "text/plain": [
       "<IPython.core.display.HTML object>"
      ]
     },
     "metadata": {},
     "output_type": "display_data"
    },
    {
     "data": {
      "text/html": [
       "<style>.output_result { max-width:100% !important; }</style>"
      ],
      "text/plain": [
       "<IPython.core.display.HTML object>"
      ]
     },
     "metadata": {},
     "output_type": "display_data"
    }
   ],
   "source": [
    "# use the whole page width for displaying the output in the jupyter notebook web viewer\n",
    "# not needed for VSCode\n",
    "from IPython.display import display, HTML\n",
    "\n",
    "display(HTML(\"<style>.container { width:100% !important; }</style>\"))\n",
    "display(HTML(\"<style>.output_result { max-width:100% !important; }</style>\"))"
   ]
  }
 ],
 "metadata": {
  "kernelspec": {
   "display_name": "Python 3 (ipykernel)",
   "language": "python",
   "name": "python3"
  },
  "language_info": {
   "codemirror_mode": {
    "name": "ipython",
    "version": 3
   },
   "file_extension": ".py",
   "mimetype": "text/x-python",
   "name": "python",
   "nbconvert_exporter": "python",
   "pygments_lexer": "ipython3",
   "version": "3.11.0"
  }
 },
 "nbformat": 4,
 "nbformat_minor": 2
}
