{
 "cells": [
  {
   "cell_type": "markdown",
   "metadata": {},
   "source": [
    "This notebook can be used to explore the memory usage on a MCU if micropython app prints the meminfo to the serial port.\n",
    "this is done by adding the following line to the main.py file:\n",
    "```\n",
    "import micropython\n",
    "micropython.mem_info(1)\n",
    "```\n",
    "The output of this command is then captured by the notebook and displayed as a memory map."
   ]
  },
  {
   "cell_type": "code",
   "execution_count": 1,
   "metadata": {
    "notebookRunGroups": {
     "groupValue": "1"
    }
   },
   "outputs": [
    {
     "name": "stdout",
     "output_type": "stream",
     "text": [
      "cp ../../micropython-stubber/src/stubber/board/logging.py :logging.py\n",
      "cp ../../micropython-stubber/src/stubber/board/createstubs_info.py :createstubs.py"
     ]
    },
    {
     "name": "stderr",
     "output_type": "stream",
     "text": [
      "mpremote: [WinError 2] The system cannot find the file specified: '../../micropython-stubber/src/stubber/board/createstubs_info.py'\n"
     ]
    },
    {
     "name": "stdout",
     "output_type": "stream",
     "text": [
      "\n"
     ]
    }
   ],
   "source": [
    "# TODO replace this by a sample script that allocates memory \n",
    "!mpremote cp ../../micropython-stubber/src/stubber/board/logging.py :logging.py\n",
    "!mpremote cp ../../micropython-stubber/src/stubber/board/createstubs_info.py :createstubs.py\n",
    "# !mpremote cp ../../micropython-stubber/src/stubber/board/createstubs.py :createstubs.py"
   ]
  },
  {
   "cell_type": "code",
   "execution_count": 2,
   "metadata": {
    "notebookRunGroups": {
     "groupValue": "1"
    }
   },
   "outputs": [
    {
     "name": "stdout",
     "output_type": "stream",
     "text": [
      "True\n",
      "Board not found, guessing board name\n",
      "INFO  :stubber :Port: rp2\n",
      "INFO  :stubber :Board: Arduino_Nano_RP2040_Connect\n",
      "INFO  :stubber :Clean/remove files in folder: /stubs/micropython-v1_22_0-rp2-Arduino_Nano_RP2040_Connect\n",
      "INFO  :stubber :Start micropython-stubber vv1.16.2 on micropython-v1.22.0-rp2-Arduino_Nano_RP2040_Connect\n",
      "\u001b[33m\u001b[1mWARNING \u001b[0m | \u001b[36mmicropython_magic.interactive\u001b[0m:\u001b[36mdo_output\u001b[0m:\u001b[36m86\u001b[0m - \u001b[33m\u001b[1mWARN  :stubber :Skip module: WM8960                    Module not found.                                                              \n",
      "\u001b[0m\n",
      "WARN  :stubber :Skip module: WM8960                    Module not found.                                                              \n",
      "\u001b[33m\u001b[1mWARNING \u001b[0m | \u001b[36mmicropython_magic.interactive\u001b[0m:\u001b[36mdo_output\u001b[0m:\u001b[36m86\u001b[0m - \u001b[33m\u001b[1mWARN  :stubber :Skip module: _OTA                      Module not found.                                                              \n",
      "\u001b[0m\n",
      "WARN  :stubber :Skip module: _OTA                      Module not found.                                                              \n",
      "INFO  :stubber :Stub module: _asyncio                  to file: _asyncio.py                                                            mem:179584\n",
      "INFO  :stubber :Stub module: _boot_fat                 to file: _boot_fat.py                                                           mem:175232\n",
      "\u001b[33m\u001b[1mWARNING \u001b[0m | \u001b[36mmicropython_magic.interactive\u001b[0m:\u001b[36mdo_output\u001b[0m:\u001b[36m86\u001b[0m - \u001b[33m\u001b[1mWARN  :stubber :Skip module: _coap                     Module not found.                                                              \n",
      "\u001b[0m\n",
      "WARN  :stubber :Skip module: _coap                     Module not found.                                                              \n",
      "\u001b[33m\u001b[1mWARNING \u001b[0m | \u001b[36mmicropython_magic.interactive\u001b[0m:\u001b[36mdo_output\u001b[0m:\u001b[36m86\u001b[0m - \u001b[33m\u001b[1mWARN  :stubber :Skip module: _espnow                   Module not found.                                                              \n",
      "\u001b[0m\n",
      "WARN  :stubber :Skip module: _espnow                   Module not found.                                                              \n",
      "\u001b[33m\u001b[1mWARNING \u001b[0m | \u001b[36mmicropython_magic.interactive\u001b[0m:\u001b[36mdo_output\u001b[0m:\u001b[36m86\u001b[0m - \u001b[33m\u001b[1mWARN  :stubber :Skip module: _flash_control_OTA        Module not found.                                                              \n",
      "\u001b[0m\n",
      "WARN  :stubber :Skip module: _flash_control_OTA        Module not found.                                                              \n",
      "\u001b[33m\u001b[1mWARNING \u001b[0m | \u001b[36mmicropython_magic.interactive\u001b[0m:\u001b[36mdo_output\u001b[0m:\u001b[36m86\u001b[0m - \u001b[33m\u001b[1mWARN  :stubber :Skip module: _main_pybytes             Module not found.                                                              \n",
      "\u001b[0m\n",
      "WARN  :stubber :Skip module: _main_pybytes             Module not found.                                                              \n",
      "\u001b[33m\u001b[1mWARNING \u001b[0m | \u001b[36mmicropython_magic.interactive\u001b[0m:\u001b[36mdo_output\u001b[0m:\u001b[36m86\u001b[0m - \u001b[33m\u001b[1mWARN  :stubber :Skip module: _mqtt                     Module not found.                                                              \n",
      "\u001b[0m\n",
      "WARN  :stubber :Skip module: _mqtt                     Module not found.                                                              \n",
      "\u001b[33m\u001b[1mWARNING \u001b[0m | \u001b[36mmicropython_magic.interactive\u001b[0m:\u001b[36mdo_output\u001b[0m:\u001b[36m86\u001b[0m - \u001b[33m\u001b[1mWARN  :stubber :Skip module: _mqtt_core                Module not found.                                                              \n",
      "\u001b[0m\n",
      "WARN  :stubber :Skip module: _mqtt_core                Module not found.                                                              \n",
      "\u001b[33m\u001b[1mWARNING \u001b[0m | \u001b[36mmicropython_magic.interactive\u001b[0m:\u001b[36mdo_output\u001b[0m:\u001b[36m86\u001b[0m - \u001b[33m\u001b[1mWARN  :stubber :Skip module: _msg_handl                Module not found.                                                              \n",
      "\u001b[0m\n",
      "WARN  :stubber :Skip module: _msg_handl                Module not found.                                                              \n",
      "INFO  :stubber :Stub module: _onewire                  to file: _onewire.py                                                            mem:175040\n",
      "\u001b[33m\u001b[1mWARNING \u001b[0m | \u001b[36mmicropython_magic.interactive\u001b[0m:\u001b[36mdo_output\u001b[0m:\u001b[36m86\u001b[0m - \u001b[33m\u001b[1mWARN  :stubber :Skip module: _periodical_pin           Module not found.                                                              \n",
      "\u001b[0m\n",
      "WARN  :stubber :Skip module: _periodical_pin           Module not found.                                                              \n",
      "\u001b[33m\u001b[1mWARNING \u001b[0m | \u001b[36mmicropython_magic.interactive\u001b[0m:\u001b[36mdo_output\u001b[0m:\u001b[36m86\u001b[0m - \u001b[33m\u001b[1mWARN  :stubber :Skip module: _pybytes                  Module not found.                                                              \n",
      "\u001b[0m\n",
      "WARN  :stubber :Skip module: _pybytes                  Module not found.                                                              \n",
      "\u001b[33m\u001b[1mWARNING \u001b[0m | \u001b[36mmicropython_magic.interactive\u001b[0m:\u001b[36mdo_output\u001b[0m:\u001b[36m86\u001b[0m - \u001b[33m\u001b[1mWARN  :stubber :Skip module: _pybytes_ca               Module not found.                                                              \n",
      "\u001b[0m\n",
      "WARN  :stubber :Skip module: _pybytes_ca               Module not found.                                                              \n",
      "\u001b[33m\u001b[1mWARNING \u001b[0m | \u001b[36mmicropython_magic.interactive\u001b[0m:\u001b[36mdo_output\u001b[0m:\u001b[36m86\u001b[0m - \u001b[33m\u001b[1mWARN  :stubber :Skip module: _pybytes_config           Module not found.                                                              \n",
      "\u001b[0m\n",
      "WARN  :stubber :Skip module: _pybytes_config           Module not found.                                                              \n",
      "\u001b[33m\u001b[1mWARNING \u001b[0m | \u001b[36mmicropython_magic.interactive\u001b[0m:\u001b[36mdo_output\u001b[0m:\u001b[36m86\u001b[0m - \u001b[33m\u001b[1mWARN  :stubber :Skip module: _pybytes_config_reader    Module not found.                                                              \n",
      "\u001b[0m\n",
      "WARN  :stubber :Skip module: _pybytes_config_reader    Module not found.                                                              \n",
      "\u001b[33m\u001b[1mWARNING \u001b[0m | \u001b[36mmicropython_magic.interactive\u001b[0m:\u001b[36mdo_output\u001b[0m:\u001b[36m86\u001b[0m - \u001b[33m\u001b[1mWARN  :stubber :Skip module: _pybytes_connection       Module not found.                                                              \n",
      "\u001b[0m\n",
      "WARN  :stubber :Skip module: _pybytes_connection       Module not found.                                                              \n",
      "\u001b[33m\u001b[1mWARNING \u001b[0m | \u001b[36mmicropython_magic.interactive\u001b[0m:\u001b[36mdo_output\u001b[0m:\u001b[36m86\u001b[0m - \u001b[33m\u001b[1mWARN  :stubber :Skip module: _pybytes_constants        Module not found.                                                              \n",
      "\u001b[0m\n",
      "WARN  :stubber :Skip module: _pybytes_constants        Module not found.                                                              \n",
      "\u001b[33m\u001b[1mWARNING \u001b[0m | \u001b[36mmicropython_magic.interactive\u001b[0m:\u001b[36mdo_output\u001b[0m:\u001b[36m86\u001b[0m - \u001b[33m\u001b[1mWARN  :stubber :Skip module: _pybytes_debug            Module not found.                                                              \n",
      "\u001b[0m\n",
      "WARN  :stubber :Skip module: _pybytes_debug            Module not found.                                                              \n",
      "\u001b[33m\u001b[1mWARNING \u001b[0m | \u001b[36mmicropython_magic.interactive\u001b[0m:\u001b[36mdo_output\u001b[0m:\u001b[36m86\u001b[0m - \u001b[33m\u001b[1mWARN  :stubber :Skip module: _pybytes_library          Module not found.                                                              \n",
      "\u001b[0m\n",
      "WARN  :stubber :Skip module: _pybytes_library          Module not found.                                                              \n",
      "\u001b[33m\u001b[1mWARNING \u001b[0m | \u001b[36mmicropython_magic.interactive\u001b[0m:\u001b[36mdo_output\u001b[0m:\u001b[36m86\u001b[0m - \u001b[33m\u001b[1mWARN  :stubber :Skip module: _pybytes_machine_learning Module not found.                                                              \n",
      "\u001b[0m\n",
      "WARN  :stubber :Skip module: _pybytes_machine_learning Module not found.                                                              \n",
      "\u001b[33m\u001b[1mWARNING \u001b[0m | \u001b[36mmicropython_magic.interactive\u001b[0m:\u001b[36mdo_output\u001b[0m:\u001b[36m86\u001b[0m - \u001b[33m\u001b[1mWARN  :stubber :Skip module: _pybytes_main             Module not found.                                                              \n",
      "\u001b[0m\n",
      "WARN  :stubber :Skip module: _pybytes_main             Module not found.                                                              \n",
      "\u001b[33m\u001b[1mWARNING \u001b[0m | \u001b[36mmicropython_magic.interactive\u001b[0m:\u001b[36mdo_output\u001b[0m:\u001b[36m86\u001b[0m - \u001b[33m\u001b[1mWARN  :stubber :Skip module: _pybytes_protocol         Module not found.                                                              \n",
      "\u001b[0m\n",
      "WARN  :stubber :Skip module: _pybytes_protocol         Module not found.                                                              \n",
      "\u001b[33m\u001b[1mWARNING \u001b[0m | \u001b[36mmicropython_magic.interactive\u001b[0m:\u001b[36mdo_output\u001b[0m:\u001b[36m86\u001b[0m - \u001b[33m\u001b[1mWARN  :stubber :Skip module: _pybytes_pyconfig         Module not found.                                                              \n",
      "\u001b[0m\n",
      "WARN  :stubber :Skip module: _pybytes_pyconfig         Module not found.                                                              \n",
      "\u001b[33m\u001b[1mWARNING \u001b[0m | \u001b[36mmicropython_magic.interactive\u001b[0m:\u001b[36mdo_output\u001b[0m:\u001b[36m86\u001b[0m - \u001b[33m\u001b[1mWARN  :stubber :Skip module: _pybytes_pymesh_config    Module not found.                                                              \n",
      "\u001b[0m\n",
      "WARN  :stubber :Skip module: _pybytes_pymesh_config    Module not found.                                                              \n",
      "INFO  :stubber :Stub module: _rp2                      to file: _rp2.py                                                                mem:174672\n",
      "\u001b[33m\u001b[1mWARNING \u001b[0m | \u001b[36mmicropython_magic.interactive\u001b[0m:\u001b[36mdo_output\u001b[0m:\u001b[36m86\u001b[0m - \u001b[33m\u001b[1mWARN  :stubber :Skip module: _terminal                 Module not found.                                                              \n",
      "\u001b[0m\n",
      "WARN  :stubber :Skip module: _terminal                 Module not found.                                                              \n",
      "INFO  :stubber :Stub module: _thread                   to file: _thread.py                                                             mem:174544\n",
      "\u001b[33m\u001b[1mWARNING \u001b[0m | \u001b[36mmicropython_magic.interactive\u001b[0m:\u001b[36mdo_output\u001b[0m:\u001b[36m86\u001b[0m - \u001b[33m\u001b[1mWARN  :stubber :Skip module: _uasyncio                 Module not found.                                                              \n",
      "\u001b[0m\n",
      "WARN  :stubber :Skip module: _uasyncio                 Module not found.                                                              \n",
      "\u001b[33m\u001b[1mWARNING \u001b[0m | \u001b[36mmicropython_magic.interactive\u001b[0m:\u001b[36mdo_output\u001b[0m:\u001b[36m86\u001b[0m - \u001b[33m\u001b[1mWARN  :stubber :Skip module: _urequest                 Module not found.                                                              \n",
      "\u001b[0m\n",
      "WARN  :stubber :Skip module: _urequest                 Module not found.                                                              \n",
      "\u001b[33m\u001b[1mWARNING \u001b[0m | \u001b[36mmicropython_magic.interactive\u001b[0m:\u001b[36mdo_output\u001b[0m:\u001b[36m86\u001b[0m - \u001b[33m\u001b[1mWARN  :stubber :Skip module: adcfft                    Module not found.                                                              \n",
      "\u001b[0m\n",
      "WARN  :stubber :Skip module: adcfft                    Module not found.                                                              \n",
      "INFO  :stubber :Stub module: aioble.__init__           to file: __init__.py                                                            mem:168416\n",
      "INFO  :stubber :Stub module: aioble.central            to file: central.py                                                             mem:168720\n",
      "INFO  :stubber :Stub module: aioble.client             to file: client.py                                                              mem:166224\n",
      "INFO  :stubber :Stub module: aioble.core               to file: core.py                                                                mem:166512\n",
      "INFO  :stubber :Stub module: aioble.device             to file: device.py                                                              mem:166352\n",
      "INFO  :stubber :Stub module: aioble.l2cap              to file: l2cap.py                                                               mem:163376\n",
      "INFO  :stubber :Stub module: aioble.peripheral         to file: peripheral.py                                                          mem:163280\n",
      "INFO  :stubber :Stub module: aioble.security           to file: security.py                                                            mem:162576\n",
      "INFO  :stubber :Stub module: aioble.server             to file: server.py                                                              mem:162608\n",
      "\u001b[33m\u001b[1mWARNING \u001b[0m | \u001b[36mmicropython_magic.interactive\u001b[0m:\u001b[36mdo_output\u001b[0m:\u001b[36m86\u001b[0m - \u001b[33m\u001b[1mWARN  :stubber :Skip module: aioespnow                 Module not found.                                                              \n",
      "\u001b[0m\n",
      "WARN  :stubber :Skip module: aioespnow                 Module not found.                                                              \n",
      "\u001b[33m\u001b[1mWARNING \u001b[0m | \u001b[36mmicropython_magic.interactive\u001b[0m:\u001b[36mdo_output\u001b[0m:\u001b[36m86\u001b[0m - \u001b[33m\u001b[1mWARN  :stubber :Skip module: ak8963                    Module not found.                                                              \n",
      "\u001b[0m\n",
      "WARN  :stubber :Skip module: ak8963                    Module not found.                                                              \n",
      "\u001b[33m\u001b[1mWARNING \u001b[0m | \u001b[36mmicropython_magic.interactive\u001b[0m:\u001b[36mdo_output\u001b[0m:\u001b[36m86\u001b[0m - \u001b[33m\u001b[1mWARN  :stubber :Skip module: apa102                    Module not found.                                                              \n",
      "\u001b[0m\n",
      "WARN  :stubber :Skip module: apa102                    Module not found.                                                              \n",
      "\u001b[33m\u001b[1mWARNING \u001b[0m | \u001b[36mmicropython_magic.interactive\u001b[0m:\u001b[36mdo_output\u001b[0m:\u001b[36m86\u001b[0m - \u001b[33m\u001b[1mWARN  :stubber :Skip module: apa106                    Module not found.                                                              \n",
      "\u001b[0m\n",
      "WARN  :stubber :Skip module: apa106                    Module not found.                                                              \n",
      "\u001b[33m\u001b[1mWARNING \u001b[0m | \u001b[36mmicropython_magic.interactive\u001b[0m:\u001b[36mdo_output\u001b[0m:\u001b[36m86\u001b[0m - \u001b[33m\u001b[1mWARN  :stubber :Skip module: argparse                  Module not found.                                                              \n",
      "\u001b[0m\n",
      "WARN  :stubber :Skip module: argparse                  Module not found.                                                              \n",
      "INFO  :stubber :Stub module: array                     to file: array.py                                                               mem:162480\n",
      "INFO  :stubber :Stub module: asyncio.__init__          to file: __init__.py                                                            mem:159952\n",
      "INFO  :stubber :Stub module: asyncio.core              to file: core.py                                                                mem:155424\n",
      "INFO  :stubber :Stub module: asyncio.event             to file: event.py                                                               mem:155216\n",
      "INFO  :stubber :Stub module: asyncio.funcs             to file: funcs.py                                                               mem:155072\n",
      "INFO  :stubber :Stub module: asyncio.lock              to file: lock.py                                                                mem:154928\n",
      "INFO  :stubber :Stub module: asyncio.stream            to file: stream.py                                                              mem:154784\n",
      "INFO  :stubber :Stub module: binascii                  to file: binascii.py                                                            mem:154656\n",
      "INFO  :stubber :Stub module: bluetooth                 to file: bluetooth.py                                                           mem:154528\n",
      "\u001b[33m\u001b[1mWARNING \u001b[0m | \u001b[36mmicropython_magic.interactive\u001b[0m:\u001b[36mdo_output\u001b[0m:\u001b[36m86\u001b[0m - \u001b[33m\u001b[1mWARN  :stubber :Skip module: breakout_as7262           Module not found.                                                              \n",
      "\u001b[0m\n",
      "WARN  :stubber :Skip module: breakout_as7262           Module not found.                                                              \n",
      "\u001b[33m\u001b[1mWARNING \u001b[0m | \u001b[36mmicropython_magic.interactive\u001b[0m:\u001b[36mdo_output\u001b[0m:\u001b[36m86\u001b[0m - \u001b[33m\u001b[1mWARN  :stubber :Skip module: breakout_bh1745           Module not found.                                                              \n",
      "\u001b[0m\n",
      "WARN  :stubber :Skip module: breakout_bh1745           Module not found.                                                              \n",
      "\u001b[33m\u001b[1mWARNING \u001b[0m | \u001b[36mmicropython_magic.interactive\u001b[0m:\u001b[36mdo_output\u001b[0m:\u001b[36m86\u001b[0m - \u001b[33m\u001b[1mWARN  :stubber :Skip module: breakout_bme280           Module not found.                                                              \n",
      "\u001b[0m\n",
      "WARN  :stubber :Skip module: breakout_bme280           Module not found.                                                              \n",
      "\u001b[33m\u001b[1mWARNING \u001b[0m | \u001b[36mmicropython_magic.interactive\u001b[0m:\u001b[36mdo_output\u001b[0m:\u001b[36m86\u001b[0m - \u001b[33m\u001b[1mWARN  :stubber :Skip module: breakout_bme68x           Module not found.                                                              \n",
      "\u001b[0m\n",
      "WARN  :stubber :Skip module: breakout_bme68x           Module not found.                                                              \n",
      "\u001b[33m\u001b[1mWARNING \u001b[0m | \u001b[36mmicropython_magic.interactive\u001b[0m:\u001b[36mdo_output\u001b[0m:\u001b[36m86\u001b[0m - \u001b[33m\u001b[1mWARN  :stubber :Skip module: breakout_bmp280           Module not found.                                                              \n",
      "\u001b[0m\n",
      "WARN  :stubber :Skip module: breakout_bmp280           Module not found.                                                              \n",
      "\u001b[33m\u001b[1mWARNING \u001b[0m | \u001b[36mmicropython_magic.interactive\u001b[0m:\u001b[36mdo_output\u001b[0m:\u001b[36m86\u001b[0m - \u001b[33m\u001b[1mWARN  :stubber :Skip module: breakout_dotmatrix        Module not found.                                                              \n",
      "\u001b[0m\n",
      "WARN  :stubber :Skip module: breakout_dotmatrix        Module not found.                                                              \n",
      "\u001b[33m\u001b[1mWARNING \u001b[0m | \u001b[36mmicropython_magic.interactive\u001b[0m:\u001b[36mdo_output\u001b[0m:\u001b[36m86\u001b[0m - \u001b[33m\u001b[1mWARN  :stubber :Skip module: breakout_encoder          Module not found.                                                              \n",
      "\u001b[0m\n",
      "WARN  :stubber :Skip module: breakout_encoder          Module not found.                                                              \n",
      "\u001b[33m\u001b[1mWARNING \u001b[0m | \u001b[36mmicropython_magic.interactive\u001b[0m:\u001b[36mdo_output\u001b[0m:\u001b[36m86\u001b[0m - \u001b[33m\u001b[1mWARN  :stubber :Skip module: breakout_icp10125         Module not found.                                                              \n",
      "\u001b[0m\n",
      "WARN  :stubber :Skip module: breakout_icp10125         Module not found.                                                              \n",
      "\u001b[33m\u001b[1mWARNING \u001b[0m | \u001b[36mmicropython_magic.interactive\u001b[0m:\u001b[36mdo_output\u001b[0m:\u001b[36m86\u001b[0m - \u001b[33m\u001b[1mWARN  :stubber :Skip module: breakout_ioexpander       Module not found.                                                              \n",
      "\u001b[0m\n",
      "WARN  :stubber :Skip module: breakout_ioexpander       Module not found.                                                              \n",
      "\u001b[33m\u001b[1mWARNING \u001b[0m | \u001b[36mmicropython_magic.interactive\u001b[0m:\u001b[36mdo_output\u001b[0m:\u001b[36m86\u001b[0m - \u001b[33m\u001b[1mWARN  :stubber :Skip module: breakout_ltr559           Module not found.                                                              \n",
      "\u001b[0m\n",
      "WARN  :stubber :Skip module: breakout_ltr559           Module not found.                                                              \n",
      "\u001b[33m\u001b[1mWARNING \u001b[0m | \u001b[36mmicropython_magic.interactive\u001b[0m:\u001b[36mdo_output\u001b[0m:\u001b[36m86\u001b[0m - \u001b[33m\u001b[1mWARN  :stubber :Skip module: breakout_matrix11x7       Module not found.                                                              \n",
      "\u001b[0m\n",
      "WARN  :stubber :Skip module: breakout_matrix11x7       Module not found.                                                              \n",
      "\u001b[33m\u001b[1mWARNING \u001b[0m | \u001b[36mmicropython_magic.interactive\u001b[0m:\u001b[36mdo_output\u001b[0m:\u001b[36m86\u001b[0m - \u001b[33m\u001b[1mWARN  :stubber :Skip module: breakout_mics6814         Module not found.                                                              \n",
      "\u001b[0m\n",
      "WARN  :stubber :Skip module: breakout_mics6814         Module not found.                                                              \n",
      "\u001b[33m\u001b[1mWARNING \u001b[0m | \u001b[36mmicropython_magic.interactive\u001b[0m:\u001b[36mdo_output\u001b[0m:\u001b[36m86\u001b[0m - \u001b[33m\u001b[1mWARN  :stubber :Skip module: breakout_msa301           Module not found.                                                              \n",
      "\u001b[0m\n",
      "WARN  :stubber :Skip module: breakout_msa301           Module not found.                                                              \n",
      "\u001b[33m\u001b[1mWARNING \u001b[0m | \u001b[36mmicropython_magic.interactive\u001b[0m:\u001b[36mdo_output\u001b[0m:\u001b[36m86\u001b[0m - \u001b[33m\u001b[1mWARN  :stubber :Skip module: breakout_paa5100          Module not found.                                                              \n",
      "\u001b[0m\n",
      "WARN  :stubber :Skip module: breakout_paa5100          Module not found.                                                              \n",
      "\u001b[33m\u001b[1mWARNING \u001b[0m | \u001b[36mmicropython_magic.interactive\u001b[0m:\u001b[36mdo_output\u001b[0m:\u001b[36m86\u001b[0m - \u001b[33m\u001b[1mWARN  :stubber :Skip module: breakout_pmw3901          Module not found.                                                              \n",
      "\u001b[0m\n",
      "WARN  :stubber :Skip module: breakout_pmw3901          Module not found.                                                              \n",
      "\u001b[33m\u001b[1mWARNING \u001b[0m | \u001b[36mmicropython_magic.interactive\u001b[0m:\u001b[36mdo_output\u001b[0m:\u001b[36m86\u001b[0m - \u001b[33m\u001b[1mWARN  :stubber :Skip module: breakout_potentiometer    Module not found.                                                              \n",
      "\u001b[0m\n",
      "WARN  :stubber :Skip module: breakout_potentiometer    Module not found.                                                              \n",
      "\u001b[33m\u001b[1mWARNING \u001b[0m | \u001b[36mmicropython_magic.interactive\u001b[0m:\u001b[36mdo_output\u001b[0m:\u001b[36m86\u001b[0m - \u001b[33m\u001b[1mWARN  :stubber :Skip module: breakout_rgbmatrix5x5     Module not found.                                                              \n",
      "\u001b[0m\n",
      "WARN  :stubber :Skip module: breakout_rgbmatrix5x5     Module not found.                                                              \n",
      "\u001b[33m\u001b[1mWARNING \u001b[0m | \u001b[36mmicropython_magic.interactive\u001b[0m:\u001b[36mdo_output\u001b[0m:\u001b[36m86\u001b[0m - \u001b[33m\u001b[1mWARN  :stubber :Skip module: breakout_rtc              Module not found.                                                              \n",
      "\u001b[0m\n",
      "WARN  :stubber :Skip module: breakout_rtc              Module not found.                                                              \n",
      "\u001b[33m\u001b[1mWARNING \u001b[0m | \u001b[36mmicropython_magic.interactive\u001b[0m:\u001b[36mdo_output\u001b[0m:\u001b[36m86\u001b[0m - \u001b[33m\u001b[1mWARN  :stubber :Skip module: breakout_scd41            Module not found.                                                              \n",
      "\u001b[0m\n",
      "WARN  :stubber :Skip module: breakout_scd41            Module not found.                                                              \n",
      "\u001b[33m\u001b[1mWARNING \u001b[0m | \u001b[36mmicropython_magic.interactive\u001b[0m:\u001b[36mdo_output\u001b[0m:\u001b[36m86\u001b[0m - \u001b[33m\u001b[1mWARN  :stubber :Skip module: breakout_sgp30            Module not found.                                                              \n",
      "\u001b[0m\n",
      "WARN  :stubber :Skip module: breakout_sgp30            Module not found.                                                              \n",
      "\u001b[33m\u001b[1mWARNING \u001b[0m | \u001b[36mmicropython_magic.interactive\u001b[0m:\u001b[36mdo_output\u001b[0m:\u001b[36m86\u001b[0m - \u001b[33m\u001b[1mWARN  :stubber :Skip module: breakout_trackball        Module not found.                                                              \n",
      "\u001b[0m\n",
      "WARN  :stubber :Skip module: breakout_trackball        Module not found.                                                              \n",
      "\u001b[33m\u001b[1mWARNING \u001b[0m | \u001b[36mmicropython_magic.interactive\u001b[0m:\u001b[36mdo_output\u001b[0m:\u001b[36m86\u001b[0m - \u001b[33m\u001b[1mWARN  :stubber :Skip module: breakout_vl53l5cx         Module not found.                                                              \n",
      "\u001b[0m\n",
      "WARN  :stubber :Skip module: breakout_vl53l5cx         Module not found.                                                              \n",
      "\u001b[33m\u001b[1mWARNING \u001b[0m | \u001b[36mmicropython_magic.interactive\u001b[0m:\u001b[36mdo_output\u001b[0m:\u001b[36m86\u001b[0m - \u001b[33m\u001b[1mWARN  :stubber :Skip module: btree                     Module not found.                                                              \n",
      "\u001b[0m\n",
      "WARN  :stubber :Skip module: btree                     Module not found.                                                              \n",
      "INFO  :stubber :Stub module: cmath                     to file: cmath.py                                                               mem:154080\n",
      "INFO  :stubber :Stub module: collections               to file: collections.py                                                         mem:153952\n",
      "\u001b[33m\u001b[1mWARNING \u001b[0m | \u001b[36mmicropython_magic.interactive\u001b[0m:\u001b[36mdo_output\u001b[0m:\u001b[36m86\u001b[0m - \u001b[33m\u001b[1mWARN  :stubber :Skip module: crypto                    Module not found.                                                              \n",
      "\u001b[0m\n",
      "WARN  :stubber :Skip module: crypto                    Module not found.                                                              \n",
      "INFO  :stubber :Stub module: cryptolib                 to file: cryptolib.py                                                           mem:153824\n",
      "\u001b[33m\u001b[1mWARNING \u001b[0m | \u001b[36mmicropython_magic.interactive\u001b[0m:\u001b[36mdo_output\u001b[0m:\u001b[36m86\u001b[0m - \u001b[33m\u001b[1mWARN  :stubber :Skip module: curl                      Module not found.                                                              \n",
      "\u001b[0m\n",
      "WARN  :stubber :Skip module: curl                      Module not found.                                                              \n",
      "INFO  :stubber :Stub module: deflate                   to file: deflate.py                                                             mem:153696\n",
      "INFO  :stubber :Stub module: dht                       to file: dht.py                                                                 mem:152960\n",
      "\u001b[33m\u001b[1mWARNING \u001b[0m | \u001b[36mmicropython_magic.interactive\u001b[0m:\u001b[36mdo_output\u001b[0m:\u001b[36m86\u001b[0m - \u001b[33m\u001b[1mWARN  :stubber :Skip module: display                   Module not found.                                                              \n",
      "\u001b[0m\n",
      "WARN  :stubber :Skip module: display                   Module not found.                                                              \n",
      "\u001b[33m\u001b[1mWARNING \u001b[0m | \u001b[36mmicropython_magic.interactive\u001b[0m:\u001b[36mdo_output\u001b[0m:\u001b[36m86\u001b[0m - \u001b[33m\u001b[1mWARN  :stubber :Skip module: display_driver_utils      Module not found.                                                              \n",
      "\u001b[0m\n",
      "WARN  :stubber :Skip module: display_driver_utils      Module not found.                                                              \n",
      "INFO  :stubber :Stub module: ds18x20                   to file: ds18x20.py                                                             mem:153088\n",
      "\u001b[33m\u001b[1mWARNING \u001b[0m | \u001b[36mmicropython_magic.interactive\u001b[0m:\u001b[36mdo_output\u001b[0m:\u001b[36m86\u001b[0m - \u001b[33m\u001b[1mWARN  :stubber :Skip module: encoder                   Module not found.                                                              \n",
      "\u001b[0m\n",
      "WARN  :stubber :Skip module: encoder                   Module not found.                                                              \n",
      "INFO  :stubber :Stub module: errno                     to file: errno.py                                                               mem:153296\n",
      "\u001b[33m\u001b[1mWARNING \u001b[0m | \u001b[36mmicropython_magic.interactive\u001b[0m:\u001b[36mdo_output\u001b[0m:\u001b[36m86\u001b[0m - \u001b[33m\u001b[1mWARN  :stubber :Skip module: esp                       Module not found.                                                              \n",
      "\u001b[0m\n",
      "WARN  :stubber :Skip module: esp                       Module not found.                                                              \n",
      "\u001b[33m\u001b[1mWARNING \u001b[0m | \u001b[36mmicropython_magic.interactive\u001b[0m:\u001b[36mdo_output\u001b[0m:\u001b[36m86\u001b[0m - \u001b[33m\u001b[1mWARN  :stubber :Skip module: esp32                     Module not found.                                                              \n",
      "\u001b[0m\n",
      "WARN  :stubber :Skip module: esp32                     Module not found.                                                              \n",
      "\u001b[33m\u001b[1mWARNING \u001b[0m | \u001b[36mmicropython_magic.interactive\u001b[0m:\u001b[36mdo_output\u001b[0m:\u001b[36m86\u001b[0m - \u001b[33m\u001b[1mWARN  :stubber :Skip module: espidf                    Module not found.                                                              \n",
      "\u001b[0m\n",
      "WARN  :stubber :Skip module: espidf                    Module not found.                                                              \n",
      "\u001b[33m\u001b[1mWARNING \u001b[0m | \u001b[36mmicropython_magic.interactive\u001b[0m:\u001b[36mdo_output\u001b[0m:\u001b[36m86\u001b[0m - \u001b[33m\u001b[1mWARN  :stubber :Skip module: espnow                    Module not found.                                                              \n",
      "\u001b[0m\n",
      "WARN  :stubber :Skip module: espnow                    Module not found.                                                              \n",
      "\u001b[33m\u001b[1mWARNING \u001b[0m | \u001b[36mmicropython_magic.interactive\u001b[0m:\u001b[36mdo_output\u001b[0m:\u001b[36m86\u001b[0m - \u001b[33m\u001b[1mWARN  :stubber :Skip module: ffi                       Module not found.                                                              \n",
      "\u001b[0m\n",
      "WARN  :stubber :Skip module: ffi                       Module not found.                                                              \n",
      "\u001b[33m\u001b[1mWARNING \u001b[0m | \u001b[36mmicropython_magic.interactive\u001b[0m:\u001b[36mdo_output\u001b[0m:\u001b[36m86\u001b[0m - \u001b[33m\u001b[1mWARN  :stubber :Skip module: flashbdev                 Module not found.                                                              \n",
      "\u001b[0m\n",
      "WARN  :stubber :Skip module: flashbdev                 Module not found.                                                              \n",
      "INFO  :stubber :Stub module: framebuf                  to file: framebuf.py                                                            mem:153168\n",
      "\u001b[33m\u001b[1mWARNING \u001b[0m | \u001b[36mmicropython_magic.interactive\u001b[0m:\u001b[36mdo_output\u001b[0m:\u001b[36m86\u001b[0m - \u001b[33m\u001b[1mWARN  :stubber :Skip module: freesans20                Module not found.                                                              \n",
      "\u001b[0m\n",
      "WARN  :stubber :Skip module: freesans20                Module not found.                                                              \n",
      "\u001b[33m\u001b[1mWARNING \u001b[0m | \u001b[36mmicropython_magic.interactive\u001b[0m:\u001b[36mdo_output\u001b[0m:\u001b[36m86\u001b[0m - \u001b[33m\u001b[1mWARN  :stubber :Skip module: fs_driver                 Module not found.                                                              \n",
      "\u001b[0m\n",
      "WARN  :stubber :Skip module: fs_driver                 Module not found.                                                              \n",
      "\u001b[33m\u001b[1mWARNING \u001b[0m | \u001b[36mmicropython_magic.interactive\u001b[0m:\u001b[36mdo_output\u001b[0m:\u001b[36m86\u001b[0m - \u001b[33m\u001b[1mWARN  :stubber :Skip module: functools                 Module not found.                                                              \n",
      "\u001b[0m\n",
      "WARN  :stubber :Skip module: functools                 Module not found.                                                              \n",
      "\u001b[33m\u001b[1mWARNING \u001b[0m | \u001b[36mmicropython_magic.interactive\u001b[0m:\u001b[36mdo_output\u001b[0m:\u001b[36m86\u001b[0m - \u001b[33m\u001b[1mWARN  :stubber :Skip module: galactic                  Module not found.                                                              \n",
      "\u001b[0m\n",
      "WARN  :stubber :Skip module: galactic                  Module not found.                                                              \n",
      "INFO  :stubber :Stub module: gc                        to file: gc.py                                                                  mem:153040\n",
      "\u001b[33m\u001b[1mWARNING \u001b[0m | \u001b[36mmicropython_magic.interactive\u001b[0m:\u001b[36mdo_output\u001b[0m:\u001b[36m86\u001b[0m - \u001b[33m\u001b[1mWARN  :stubber :Skip module: gfx_pack                  Module not found.                                                              \n",
      "\u001b[0m\n",
      "WARN  :stubber :Skip module: gfx_pack                  Module not found.                                                              \n",
      "\u001b[33m\u001b[1mWARNING \u001b[0m | \u001b[36mmicropython_magic.interactive\u001b[0m:\u001b[36mdo_output\u001b[0m:\u001b[36m86\u001b[0m - \u001b[33m\u001b[1mWARN  :stubber :Skip module: gsm                       Module not found.                                                              \n",
      "\u001b[0m\n",
      "WARN  :stubber :Skip module: gsm                       Module not found.                                                              \n",
      "INFO  :stubber :Stub module: hashlib                   to file: hashlib.py                                                             mem:152928\n",
      "INFO  :stubber :Stub module: heapq                     to file: heapq.py                                                               mem:152672\n",
      "\u001b[33m\u001b[1mWARNING \u001b[0m | \u001b[36mmicropython_magic.interactive\u001b[0m:\u001b[36mdo_output\u001b[0m:\u001b[36m86\u001b[0m - \u001b[33m\u001b[1mWARN  :stubber :Skip module: hub75                     Module not found.                                                              \n",
      "\u001b[0m\n",
      "WARN  :stubber :Skip module: hub75                     Module not found.                                                              \n",
      "\u001b[33m\u001b[1mWARNING \u001b[0m | \u001b[36mmicropython_magic.interactive\u001b[0m:\u001b[36mdo_output\u001b[0m:\u001b[36m86\u001b[0m - \u001b[33m\u001b[1mWARN  :stubber :Skip module: ili9341                   Module not found.                                                              \n",
      "\u001b[0m\n",
      "WARN  :stubber :Skip module: ili9341                   Module not found.                                                              \n",
      "\u001b[33m\u001b[1mWARNING \u001b[0m | \u001b[36mmicropython_magic.interactive\u001b[0m:\u001b[36mdo_output\u001b[0m:\u001b[36m86\u001b[0m - \u001b[33m\u001b[1mWARN  :stubber :Skip module: ili9XXX                   Module not found.                                                              \n",
      "\u001b[0m\n",
      "WARN  :stubber :Skip module: ili9XXX                   Module not found.                                                              \n",
      "\u001b[33m\u001b[1mWARNING \u001b[0m | \u001b[36mmicropython_magic.interactive\u001b[0m:\u001b[36mdo_output\u001b[0m:\u001b[36m86\u001b[0m - \u001b[33m\u001b[1mWARN  :stubber :Skip module: imagetools                Module not found.                                                              \n",
      "\u001b[0m\n",
      "WARN  :stubber :Skip module: imagetools                Module not found.                                                              \n",
      "\u001b[33m\u001b[1mWARNING \u001b[0m | \u001b[36mmicropython_magic.interactive\u001b[0m:\u001b[36mdo_output\u001b[0m:\u001b[36m86\u001b[0m - \u001b[33m\u001b[1mWARN  :stubber :Skip module: inisetup                  Module not found.                                                              \n",
      "\u001b[0m\n",
      "WARN  :stubber :Skip module: inisetup                  Module not found.                                                              \n",
      "\u001b[33m\u001b[1mWARNING \u001b[0m | \u001b[36mmicropython_magic.interactive\u001b[0m:\u001b[36mdo_output\u001b[0m:\u001b[36m86\u001b[0m - \u001b[33m\u001b[1mWARN  :stubber :Skip module: interstate75              Module not found.                                                              \n",
      "\u001b[0m\n",
      "WARN  :stubber :Skip module: interstate75              Module not found.                                                              \n",
      "INFO  :stubber :Stub module: io                        to file: io.py                                                                  mem:152528\n",
      "\u001b[33m\u001b[1mWARNING \u001b[0m | \u001b[36mmicropython_magic.interactive\u001b[0m:\u001b[36mdo_output\u001b[0m:\u001b[36m86\u001b[0m - \u001b[33m\u001b[1mWARN  :stubber :Skip module: jpegdec                   Module not found.                                                              \n",
      "\u001b[0m\n",
      "WARN  :stubber :Skip module: jpegdec                   Module not found.                                                              \n",
      "INFO  :stubber :Stub module: json                      to file: json.py                                                                mem:152416\n",
      "\u001b[33m\u001b[1mWARNING \u001b[0m | \u001b[36mmicropython_magic.interactive\u001b[0m:\u001b[36mdo_output\u001b[0m:\u001b[36m86\u001b[0m - \u001b[33m\u001b[1mWARN  :stubber :Skip module: lcd160cr                  Module not found.                                                              \n",
      "\u001b[0m\n",
      "WARN  :stubber :Skip module: lcd160cr                  Module not found.                                                              \n",
      "\u001b[33m\u001b[1mWARNING \u001b[0m | \u001b[36mmicropython_magic.interactive\u001b[0m:\u001b[36mdo_output\u001b[0m:\u001b[36m86\u001b[0m - \u001b[33m\u001b[1mWARN  :stubber :Skip module: lodepng                   Module not found.                                                              \n",
      "\u001b[0m\n",
      "WARN  :stubber :Skip module: lodepng                   Module not found.                                                              \n",
      "INFO  :stubber :Stub module: logging                   to file: logging.py                                                             mem:152320\n",
      "INFO  :stubber :Stub module: lsm6dsox                  to file: lsm6dsox.py                                                            mem:151504\n",
      "\u001b[33m\u001b[1mWARNING \u001b[0m | \u001b[36mmicropython_magic.interactive\u001b[0m:\u001b[36mdo_output\u001b[0m:\u001b[36m86\u001b[0m - \u001b[33m\u001b[1mWARN  :stubber :Skip module: lv_colors                 Module not found.                                                              \n",
      "\u001b[0m\n",
      "WARN  :stubber :Skip module: lv_colors                 Module not found.                                                              \n",
      "\u001b[33m\u001b[1mWARNING \u001b[0m | \u001b[36mmicropython_magic.interactive\u001b[0m:\u001b[36mdo_output\u001b[0m:\u001b[36m86\u001b[0m - \u001b[33m\u001b[1mWARN  :stubber :Skip module: lv_utils                  Module not found.                                                              \n",
      "\u001b[0m\n",
      "WARN  :stubber :Skip module: lv_utils                  Module not found.                                                              \n",
      "\u001b[33m\u001b[1mWARNING \u001b[0m | \u001b[36mmicropython_magic.interactive\u001b[0m:\u001b[36mdo_output\u001b[0m:\u001b[36m86\u001b[0m - \u001b[33m\u001b[1mWARN  :stubber :Skip module: lvgl                      Module not found.                                                              \n",
      "\u001b[0m\n",
      "WARN  :stubber :Skip module: lvgl                      Module not found.                                                              \n",
      "\u001b[33m\u001b[1mWARNING \u001b[0m | \u001b[36mmicropython_magic.interactive\u001b[0m:\u001b[36mdo_output\u001b[0m:\u001b[36m86\u001b[0m - \u001b[33m\u001b[1mWARN  :stubber :Skip module: lwip                      Module not found.                                                              \n",
      "\u001b[0m\n",
      "WARN  :stubber :Skip module: lwip                      Module not found.                                                              \n",
      "INFO  :stubber :Stub module: machine                   to file: machine.py                                                             mem:152032\n",
      "INFO  :stubber :Stub module: math                      to file: math.py                                                                mem:151824\n",
      "\u001b[33m\u001b[1mWARNING \u001b[0m | \u001b[36mmicropython_magic.interactive\u001b[0m:\u001b[36mdo_output\u001b[0m:\u001b[36m86\u001b[0m - \u001b[33m\u001b[1mWARN  :stubber :Skip module: microWebSocket            Module not found.                                                              \n",
      "\u001b[0m\n",
      "WARN  :stubber :Skip module: microWebSocket            Module not found.                                                              \n",
      "\u001b[33m\u001b[1mWARNING \u001b[0m | \u001b[36mmicropython_magic.interactive\u001b[0m:\u001b[36mdo_output\u001b[0m:\u001b[36m86\u001b[0m - \u001b[33m\u001b[1mWARN  :stubber :Skip module: microWebSrv               Module not found.                                                              \n",
      "\u001b[0m\n",
      "WARN  :stubber :Skip module: microWebSrv               Module not found.                                                              \n",
      "\u001b[33m\u001b[1mWARNING \u001b[0m | \u001b[36mmicropython_magic.interactive\u001b[0m:\u001b[36mdo_output\u001b[0m:\u001b[36m86\u001b[0m - \u001b[33m\u001b[1mWARN  :stubber :Skip module: microWebTemplate          Module not found.                                                              \n",
      "\u001b[0m\n",
      "WARN  :stubber :Skip module: microWebTemplate          Module not found.                                                              \n",
      "INFO  :stubber :Stub module: micropython               to file: micropython.py                                                         mem:151664\n",
      "INFO  :stubber :Stub module: mip                       to file: mip.py                                                                 mem:150368\n",
      "INFO  :stubber :Stub module: mip.__init__              to file: __init__.py                                                            mem:149856\n",
      "\u001b[33m\u001b[1mWARNING \u001b[0m | \u001b[36mmicropython_magic.interactive\u001b[0m:\u001b[36mdo_output\u001b[0m:\u001b[36m86\u001b[0m - \u001b[33m\u001b[1mWARN  :stubber :Skip module: mip.__main__              Module not found.                                                              \n",
      "\u001b[0m\n",
      "WARN  :stubber :Skip module: mip.__main__              Module not found.                                                              \n",
      "\u001b[33m\u001b[1mWARNING \u001b[0m | \u001b[36mmicropython_magic.interactive\u001b[0m:\u001b[36mdo_output\u001b[0m:\u001b[36m86\u001b[0m - \u001b[33m\u001b[1mWARN  :stubber :Skip module: motor                     Module not found.                                                              \n",
      "\u001b[0m\n",
      "WARN  :stubber :Skip module: motor                     Module not found.                                                              \n",
      "\u001b[33m\u001b[1mWARNING \u001b[0m | \u001b[36mmicropython_magic.interactive\u001b[0m:\u001b[36mdo_output\u001b[0m:\u001b[36m86\u001b[0m - \u001b[33m\u001b[1mWARN  :stubber :Skip module: mpu6500                   Module not found.                                                              \n",
      "\u001b[0m\n",
      "WARN  :stubber :Skip module: mpu6500                   Module not found.                                                              \n",
      "\u001b[33m\u001b[1mWARNING \u001b[0m | \u001b[36mmicropython_magic.interactive\u001b[0m:\u001b[36mdo_output\u001b[0m:\u001b[36m86\u001b[0m - \u001b[33m\u001b[1mWARN  :stubber :Skip module: mpu9250                   Module not found.                                                              \n",
      "\u001b[0m\n",
      "WARN  :stubber :Skip module: mpu9250                   Module not found.                                                              \n",
      "INFO  :stubber :Stub module: neopixel                  to file: neopixel.py                                                            mem:149408\n",
      "INFO  :stubber :Stub module: network                   to file: network.py                                                             mem:149664\n",
      "INFO  :stubber :Stub module: ntptime                   to file: ntptime.py                                                             mem:149408\n",
      "INFO  :stubber :Stub module: onewire                   to file: onewire.py                                                             mem:148752\n",
      "INFO  :stubber :Stub module: os                        to file: os.py                                                                  mem:149280\n",
      "\u001b[33m\u001b[1mWARNING \u001b[0m | \u001b[36mmicropython_magic.interactive\u001b[0m:\u001b[36mdo_output\u001b[0m:\u001b[36m86\u001b[0m - \u001b[33m\u001b[1mWARN  :stubber :Skip module: pcf85063a                 Module not found.                                                              \n",
      "\u001b[0m\n",
      "WARN  :stubber :Skip module: pcf85063a                 Module not found.                                                              \n",
      "\u001b[33m\u001b[1mWARNING \u001b[0m | \u001b[36mmicropython_magic.interactive\u001b[0m:\u001b[36mdo_output\u001b[0m:\u001b[36m86\u001b[0m - \u001b[33m\u001b[1mWARN  :stubber :Skip module: picoexplorer              Module not found.                                                              \n",
      "\u001b[0m\n",
      "WARN  :stubber :Skip module: picoexplorer              Module not found.                                                              \n",
      "\u001b[33m\u001b[1mWARNING \u001b[0m | \u001b[36mmicropython_magic.interactive\u001b[0m:\u001b[36mdo_output\u001b[0m:\u001b[36m86\u001b[0m - \u001b[33m\u001b[1mWARN  :stubber :Skip module: picographics              Module not found.                                                              \n",
      "\u001b[0m\n",
      "WARN  :stubber :Skip module: picographics              Module not found.                                                              \n",
      "\u001b[33m\u001b[1mWARNING \u001b[0m | \u001b[36mmicropython_magic.interactive\u001b[0m:\u001b[36mdo_output\u001b[0m:\u001b[36m86\u001b[0m - \u001b[33m\u001b[1mWARN  :stubber :Skip module: picokeypad                Module not found.                                                              \n",
      "\u001b[0m\n",
      "WARN  :stubber :Skip module: picokeypad                Module not found.                                                              \n",
      "\u001b[33m\u001b[1mWARNING \u001b[0m | \u001b[36mmicropython_magic.interactive\u001b[0m:\u001b[36mdo_output\u001b[0m:\u001b[36m86\u001b[0m - \u001b[33m\u001b[1mWARN  :stubber :Skip module: picoscroll                Module not found.                                                              \n",
      "\u001b[0m\n",
      "WARN  :stubber :Skip module: picoscroll                Module not found.                                                              \n",
      "\u001b[33m\u001b[1mWARNING \u001b[0m | \u001b[36mmicropython_magic.interactive\u001b[0m:\u001b[36mdo_output\u001b[0m:\u001b[36m86\u001b[0m - \u001b[33m\u001b[1mWARN  :stubber :Skip module: picounicorn               Module not found.                                                              \n",
      "\u001b[0m\n",
      "WARN  :stubber :Skip module: picounicorn               Module not found.                                                              \n",
      "\u001b[33m\u001b[1mWARNING \u001b[0m | \u001b[36mmicropython_magic.interactive\u001b[0m:\u001b[36mdo_output\u001b[0m:\u001b[36m86\u001b[0m - \u001b[33m\u001b[1mWARN  :stubber :Skip module: picowireless              Module not found.                                                              \n",
      "\u001b[0m\n",
      "WARN  :stubber :Skip module: picowireless              Module not found.                                                              \n",
      "\u001b[33m\u001b[1mWARNING \u001b[0m | \u001b[36mmicropython_magic.interactive\u001b[0m:\u001b[36mdo_output\u001b[0m:\u001b[36m86\u001b[0m - \u001b[33m\u001b[1mWARN  :stubber :Skip module: pimoroni                  Module not found.                                                              \n",
      "\u001b[0m\n",
      "WARN  :stubber :Skip module: pimoroni                  Module not found.                                                              \n",
      "\u001b[33m\u001b[1mWARNING \u001b[0m | \u001b[36mmicropython_magic.interactive\u001b[0m:\u001b[36mdo_output\u001b[0m:\u001b[36m86\u001b[0m - \u001b[33m\u001b[1mWARN  :stubber :Skip module: pimoroni_bus              Module not found.                                                              \n",
      "\u001b[0m\n",
      "WARN  :stubber :Skip module: pimoroni_bus              Module not found.                                                              \n",
      "\u001b[33m\u001b[1mWARNING \u001b[0m | \u001b[36mmicropython_magic.interactive\u001b[0m:\u001b[36mdo_output\u001b[0m:\u001b[36m86\u001b[0m - \u001b[33m\u001b[1mWARN  :stubber :Skip module: pimoroni_i2c              Module not found.                                                              \n",
      "\u001b[0m\n",
      "WARN  :stubber :Skip module: pimoroni_i2c              Module not found.                                                              \n",
      "\u001b[33m\u001b[1mWARNING \u001b[0m | \u001b[36mmicropython_magic.interactive\u001b[0m:\u001b[36mdo_output\u001b[0m:\u001b[36m86\u001b[0m - \u001b[33m\u001b[1mWARN  :stubber :Skip module: plasma                    Module not found.                                                              \n",
      "\u001b[0m\n",
      "WARN  :stubber :Skip module: plasma                    Module not found.                                                              \n",
      "INFO  :stubber :Stub module: platform                  to file: platform.py                                                            mem:149168\n",
      "\u001b[33m\u001b[1mWARNING \u001b[0m | \u001b[36mmicropython_magic.interactive\u001b[0m:\u001b[36mdo_output\u001b[0m:\u001b[36m86\u001b[0m - \u001b[33m\u001b[1mWARN  :stubber :Skip module: pyb                       Module not found.                                                              \n",
      "\u001b[0m\n",
      "WARN  :stubber :Skip module: pyb                       Module not found.                                                              \n",
      "\u001b[33m\u001b[1mWARNING \u001b[0m | \u001b[36mmicropython_magic.interactive\u001b[0m:\u001b[36mdo_output\u001b[0m:\u001b[36m86\u001b[0m - \u001b[33m\u001b[1mWARN  :stubber :Skip module: pycom                     Module not found.                                                              \n",
      "\u001b[0m\n",
      "WARN  :stubber :Skip module: pycom                     Module not found.                                                              \n",
      "\u001b[33m\u001b[1mWARNING \u001b[0m | \u001b[36mmicropython_magic.interactive\u001b[0m:\u001b[36mdo_output\u001b[0m:\u001b[36m86\u001b[0m - \u001b[33m\u001b[1mWARN  :stubber :Skip module: pye                       Module not found.                                                              \n",
      "\u001b[0m\n",
      "WARN  :stubber :Skip module: pye                       Module not found.                                                              \n",
      "\u001b[33m\u001b[1mWARNING \u001b[0m | \u001b[36mmicropython_magic.interactive\u001b[0m:\u001b[36mdo_output\u001b[0m:\u001b[36m86\u001b[0m - \u001b[33m\u001b[1mWARN  :stubber :Skip module: qrcode                    Module not found.                                                              \n",
      "\u001b[0m\n",
      "WARN  :stubber :Skip module: qrcode                    Module not found.                                                              \n",
      "\u001b[33m\u001b[1mWARNING \u001b[0m | \u001b[36mmicropython_magic.interactive\u001b[0m:\u001b[36mdo_output\u001b[0m:\u001b[36m86\u001b[0m - \u001b[33m\u001b[1mWARN  :stubber :Skip module: queue                     Module not found.                                                              \n",
      "\u001b[0m\n",
      "WARN  :stubber :Skip module: queue                     Module not found.                                                              \n",
      "INFO  :stubber :Stub module: random                    to file: random.py                                                              mem:149040\n",
      "INFO  :stubber :Stub module: requests                  to file: requests.py                                                            mem:148912\n",
      "INFO  :stubber :Stub module: requests.__init__         to file: __init__.py                                                            mem:147376\n",
      "INFO  :stubber :Stub module: rp2                       to file: rp2.py                                                                 mem:147488\n",
      "\u001b[33m\u001b[1mWARNING \u001b[0m | \u001b[36mmicropython_magic.interactive\u001b[0m:\u001b[36mdo_output\u001b[0m:\u001b[36m86\u001b[0m - \u001b[33m\u001b[1mWARN  :stubber :Skip module: rtch                      Module not found.                                                              \n",
      "\u001b[0m\n",
      "WARN  :stubber :Skip module: rtch                      Module not found.                                                              \n",
      "\u001b[33m\u001b[1mWARNING \u001b[0m | \u001b[36mmicropython_magic.interactive\u001b[0m:\u001b[36mdo_output\u001b[0m:\u001b[36m86\u001b[0m - \u001b[33m\u001b[1mWARN  :stubber :Skip module: samd                      Module not found.                                                              \n",
      "\u001b[0m\n",
      "WARN  :stubber :Skip module: samd                      Module not found.                                                              \n",
      "INFO  :stubber :Stub module: select                    to file: select.py                                                              mem:147344\n",
      "\u001b[33m\u001b[1mWARNING \u001b[0m | \u001b[36mmicropython_magic.interactive\u001b[0m:\u001b[36mdo_output\u001b[0m:\u001b[36m86\u001b[0m - \u001b[33m\u001b[1mWARN  :stubber :Skip module: servo                     Module not found.                                                              \n",
      "\u001b[0m\n",
      "WARN  :stubber :Skip module: servo                     Module not found.                                                              \n",
      "INFO  :stubber :Stub module: socket                    to file: socket.py                                                              mem:147216\n",
      "\u001b[33m\u001b[1mWARNING \u001b[0m | \u001b[36mmicropython_magic.interactive\u001b[0m:\u001b[36mdo_output\u001b[0m:\u001b[36m86\u001b[0m - \u001b[33m\u001b[1mWARN  :stubber :Skip module: ssd1306                   Module not found.                                                              \n",
      "\u001b[0m\n",
      "WARN  :stubber :Skip module: ssd1306                   Module not found.                                                              \n",
      "\u001b[33m\u001b[1mWARNING \u001b[0m | \u001b[36mmicropython_magic.interactive\u001b[0m:\u001b[36mdo_output\u001b[0m:\u001b[36m86\u001b[0m - \u001b[33m\u001b[1mWARN  :stubber :Skip module: ssh                       Module not found.                                                              \n",
      "\u001b[0m\n",
      "WARN  :stubber :Skip module: ssh                       Module not found.                                                              \n",
      "INFO  :stubber :Stub module: ssl                       to file: ssl.py                                                                 mem:147088\n",
      "\u001b[33m\u001b[1mWARNING \u001b[0m | \u001b[36mmicropython_magic.interactive\u001b[0m:\u001b[36mdo_output\u001b[0m:\u001b[36m86\u001b[0m - \u001b[33m\u001b[1mWARN  :stubber :Skip module: stm                       Module not found.                                                              \n",
      "\u001b[0m\n",
      "WARN  :stubber :Skip module: stm                       Module not found.                                                              \n",
      "INFO  :stubber :Stub module: struct                    to file: struct.py                                                              mem:146976\n",
      "INFO  :stubber :Stub module: sys                       to file: sys.py                                                                 mem:146848\n",
      "\u001b[33m\u001b[1mWARNING \u001b[0m | \u001b[36mmicropython_magic.interactive\u001b[0m:\u001b[36mdo_output\u001b[0m:\u001b[36m86\u001b[0m - \u001b[33m\u001b[1mWARN  :stubber :Skip module: termios                   Module not found.                                                              \n",
      "\u001b[0m\n",
      "WARN  :stubber :Skip module: termios                   Module not found.                                                              \n",
      "INFO  :stubber :Stub module: time                      to file: time.py                                                                mem:146768\n",
      "\u001b[33m\u001b[1mWARNING \u001b[0m | \u001b[36mmicropython_magic.interactive\u001b[0m:\u001b[36mdo_output\u001b[0m:\u001b[36m86\u001b[0m - \u001b[33m\u001b[1mWARN  :stubber :Skip module: tpcalib                   Module not found.                                                              \n",
      "\u001b[0m\n",
      "WARN  :stubber :Skip module: tpcalib                   Module not found.                                                              \n",
      "INFO  :stubber :Stub module: uarray                    to file: uarray.py                                                              mem:146608\n",
      "INFO  :stubber :Stub module: uasyncio.__init__         to file: __init__.py                                                            mem:144240\n",
      "INFO  :stubber :Stub module: uasyncio.core             to file: core.py                                                                mem:141728\n",
      "INFO  :stubber :Stub module: uasyncio.event            to file: event.py                                                               mem:141584\n",
      "INFO  :stubber :Stub module: uasyncio.funcs            to file: funcs.py                                                               mem:141440\n",
      "INFO  :stubber :Stub module: uasyncio.lock             to file: lock.py                                                                mem:141296\n",
      "INFO  :stubber :Stub module: uasyncio.stream           to file: stream.py                                                              mem:140896\n",
      "\u001b[33m\u001b[1mWARNING \u001b[0m | \u001b[36mmicropython_magic.interactive\u001b[0m:\u001b[36mdo_output\u001b[0m:\u001b[36m86\u001b[0m - \u001b[33m\u001b[1mWARN  :stubber :Skip module: uasyncio.tasks            Module not found.                                                              \n",
      "\u001b[0m\n",
      "WARN  :stubber :Skip module: uasyncio.tasks            Module not found.                                                              \n",
      "INFO  :stubber :Stub module: ubinascii                 to file: ubinascii.py                                                           mem:140768\n",
      "INFO  :stubber :Stub module: ubluetooth                to file: ubluetooth.py                                                          mem:140640\n",
      "INFO  :stubber :Stub module: ucollections              to file: ucollections.py                                                        mem:140512\n",
      "\u001b[33m\u001b[1mWARNING \u001b[0m | \u001b[36mmicropython_magic.interactive\u001b[0m:\u001b[36mdo_output\u001b[0m:\u001b[36m86\u001b[0m - \u001b[33m\u001b[1mWARN  :stubber :Skip module: ucrypto                   Module not found.                                                              \n",
      "\u001b[0m\n",
      "WARN  :stubber :Skip module: ucrypto                   Module not found.                                                              \n",
      "INFO  :stubber :Stub module: ucryptolib                to file: ucryptolib.py                                                          mem:140368\n",
      "INFO  :stubber :Stub module: uctypes                   to file: uctypes.py                                                             mem:140240\n",
      "INFO  :stubber :Stub module: uerrno                    to file: uerrno.py                                                              mem:140112\n",
      "\u001b[33m\u001b[1mWARNING \u001b[0m | \u001b[36mmicropython_magic.interactive\u001b[0m:\u001b[36mdo_output\u001b[0m:\u001b[36m86\u001b[0m - \u001b[33m\u001b[1mWARN  :stubber :Skip module: uftpd                     Module not found.                                                              \n",
      "\u001b[0m\n",
      "WARN  :stubber :Skip module: uftpd                     Module not found.                                                              \n",
      "INFO  :stubber :Stub module: uhashlib                  to file: uhashlib.py                                                            mem:139984\n",
      "INFO  :stubber :Stub module: uheapq                    to file: uheapq.py                                                              mem:139856\n",
      "INFO  :stubber :Stub module: uio                       to file: uio.py                                                                 mem:139728\n",
      "INFO  :stubber :Stub module: ujson                     to file: ujson.py                                                               mem:139616\n",
      "\u001b[33m\u001b[1mWARNING \u001b[0m | \u001b[36mmicropython_magic.interactive\u001b[0m:\u001b[36mdo_output\u001b[0m:\u001b[36m86\u001b[0m - \u001b[33m\u001b[1mWARN  :stubber :Skip module: ulab                      Module not found.                                                              \n",
      "\u001b[0m\n",
      "WARN  :stubber :Skip module: ulab                      Module not found.                                                              \n",
      "\u001b[33m\u001b[1mWARNING \u001b[0m | \u001b[36mmicropython_magic.interactive\u001b[0m:\u001b[36mdo_output\u001b[0m:\u001b[36m86\u001b[0m - \u001b[33m\u001b[1mWARN  :stubber :Skip module: ulab.approx               Module not found.                                                              \n",
      "\u001b[0m\n",
      "WARN  :stubber :Skip module: ulab.approx               Module not found.                                                              \n",
      "\u001b[33m\u001b[1mWARNING \u001b[0m | \u001b[36mmicropython_magic.interactive\u001b[0m:\u001b[36mdo_output\u001b[0m:\u001b[36m86\u001b[0m - \u001b[33m\u001b[1mWARN  :stubber :Skip module: ulab.compare              Module not found.                                                              \n",
      "\u001b[0m\n",
      "WARN  :stubber :Skip module: ulab.compare              Module not found.                                                              \n",
      "\u001b[33m\u001b[1mWARNING \u001b[0m | \u001b[36mmicropython_magic.interactive\u001b[0m:\u001b[36mdo_output\u001b[0m:\u001b[36m86\u001b[0m - \u001b[33m\u001b[1mWARN  :stubber :Skip module: ulab.fft                  Module not found.                                                              \n",
      "\u001b[0m\n",
      "WARN  :stubber :Skip module: ulab.fft                  Module not found.                                                              \n",
      "\u001b[33m\u001b[1mWARNING \u001b[0m | \u001b[36mmicropython_magic.interactive\u001b[0m:\u001b[36mdo_output\u001b[0m:\u001b[36m86\u001b[0m - \u001b[33m\u001b[1mWARN  :stubber :Skip module: ulab.filter               Module not found.                                                              \n",
      "\u001b[0m\n",
      "WARN  :stubber :Skip module: ulab.filter               Module not found.                                                              \n",
      "\u001b[33m\u001b[1mWARNING \u001b[0m | \u001b[36mmicropython_magic.interactive\u001b[0m:\u001b[36mdo_output\u001b[0m:\u001b[36m86\u001b[0m - \u001b[33m\u001b[1mWARN  :stubber :Skip module: ulab.linalg               Module not found.                                                              \n",
      "\u001b[0m\n",
      "WARN  :stubber :Skip module: ulab.linalg               Module not found.                                                              \n",
      "\u001b[33m\u001b[1mWARNING \u001b[0m | \u001b[36mmicropython_magic.interactive\u001b[0m:\u001b[36mdo_output\u001b[0m:\u001b[36m86\u001b[0m - \u001b[33m\u001b[1mWARN  :stubber :Skip module: ulab.numerical            Module not found.                                                              \n",
      "\u001b[0m\n",
      "WARN  :stubber :Skip module: ulab.numerical            Module not found.                                                              \n",
      "\u001b[33m\u001b[1mWARNING \u001b[0m | \u001b[36mmicropython_magic.interactive\u001b[0m:\u001b[36mdo_output\u001b[0m:\u001b[36m86\u001b[0m - \u001b[33m\u001b[1mWARN  :stubber :Skip module: ulab.poly                 Module not found.                                                              \n",
      "\u001b[0m\n",
      "WARN  :stubber :Skip module: ulab.poly                 Module not found.                                                              \n",
      "\u001b[33m\u001b[1mWARNING \u001b[0m | \u001b[36mmicropython_magic.interactive\u001b[0m:\u001b[36mdo_output\u001b[0m:\u001b[36m86\u001b[0m - \u001b[33m\u001b[1mWARN  :stubber :Skip module: ulab.user                 Module not found.                                                              \n",
      "\u001b[0m\n",
      "WARN  :stubber :Skip module: ulab.user                 Module not found.                                                              \n",
      "\u001b[33m\u001b[1mWARNING \u001b[0m | \u001b[36mmicropython_magic.interactive\u001b[0m:\u001b[36mdo_output\u001b[0m:\u001b[36m86\u001b[0m - \u001b[33m\u001b[1mWARN  :stubber :Skip module: ulab.vector               Module not found.                                                              \n",
      "\u001b[0m\n",
      "WARN  :stubber :Skip module: ulab.vector               Module not found.                                                              \n",
      "INFO  :stubber :Stub module: umachine                  to file: umachine.py                                                            mem:139488\n",
      "\u001b[33m\u001b[1mWARNING \u001b[0m | \u001b[36mmicropython_magic.interactive\u001b[0m:\u001b[36mdo_output\u001b[0m:\u001b[36m86\u001b[0m - \u001b[33m\u001b[1mWARN  :stubber :Skip module: umqtt.__init__            Module not found.                                                              \n",
      "\u001b[0m\n",
      "WARN  :stubber :Skip module: umqtt.__init__            Module not found.                                                              \n",
      "\u001b[33m\u001b[1mWARNING \u001b[0m | \u001b[36mmicropython_magic.interactive\u001b[0m:\u001b[36mdo_output\u001b[0m:\u001b[36m86\u001b[0m - \u001b[33m\u001b[1mWARN  :stubber :Skip module: umqtt.robust              Module not found.                                                              \n",
      "\u001b[0m\n",
      "WARN  :stubber :Skip module: umqtt.robust              Module not found.                                                              \n",
      "\u001b[33m\u001b[1mWARNING \u001b[0m | \u001b[36mmicropython_magic.interactive\u001b[0m:\u001b[36mdo_output\u001b[0m:\u001b[36m86\u001b[0m - \u001b[33m\u001b[1mWARN  :stubber :Skip module: umqtt.simple              Module not found.                                                              \n",
      "\u001b[0m\n",
      "WARN  :stubber :Skip module: umqtt.simple              Module not found.                                                              \n",
      "INFO  :stubber :Stub module: uos                       to file: uos.py                                                                 mem:139360\n",
      "INFO  :stubber :Stub module: uplatform                 to file: uplatform.py                                                           mem:139248\n",
      "\u001b[33m\u001b[1mWARNING \u001b[0m | \u001b[36mmicropython_magic.interactive\u001b[0m:\u001b[36mdo_output\u001b[0m:\u001b[36m86\u001b[0m - \u001b[33m\u001b[1mWARN  :stubber :Skip module: uqueue                    Module not found.                                                              \n",
      "\u001b[0m\n",
      "WARN  :stubber :Skip module: uqueue                    Module not found.                                                              \n",
      "INFO  :stubber :Stub module: urandom                   to file: urandom.py                                                             mem:139120\n",
      "INFO  :stubber :Stub module: ure                       to file: ure.py                                                                 mem:138992\n",
      "INFO  :stubber :Stub module: urequests                 to file: urequests.py                                                           mem:138816\n",
      "\u001b[33m\u001b[1mWARNING \u001b[0m | \u001b[36mmicropython_magic.interactive\u001b[0m:\u001b[36mdo_output\u001b[0m:\u001b[36m86\u001b[0m - \u001b[33m\u001b[1mWARN  :stubber :Skip module: urllib.urequest           Module not found.                                                              \n",
      "\u001b[0m\n",
      "WARN  :stubber :Skip module: urllib.urequest           Module not found.                                                              \n",
      "INFO  :stubber :Stub module: uselect                   to file: uselect.py                                                             mem:138752\n",
      "INFO  :stubber :Stub module: usocket                   to file: usocket.py                                                             mem:138624\n",
      "INFO  :stubber :Stub module: ussl                      to file: ussl.py                                                                mem:138496\n",
      "INFO  :stubber :Stub module: ustruct                   to file: ustruct.py                                                             mem:138368\n",
      "INFO  :stubber :Stub module: usys                      to file: usys.py                                                                mem:138240\n",
      "\u001b[33m\u001b[1mWARNING \u001b[0m | \u001b[36mmicropython_magic.interactive\u001b[0m:\u001b[36mdo_output\u001b[0m:\u001b[36m86\u001b[0m - \u001b[33m\u001b[1mWARN  :stubber :Skip module: utelnetserver             Module not found.                                                              \n",
      "\u001b[0m\n",
      "WARN  :stubber :Skip module: utelnetserver             Module not found.                                                              \n",
      "INFO  :stubber :Stub module: utime                     to file: utime.py                                                               mem:137984\n",
      "\u001b[33m\u001b[1mWARNING \u001b[0m | \u001b[36mmicropython_magic.interactive\u001b[0m:\u001b[36mdo_output\u001b[0m:\u001b[36m86\u001b[0m - \u001b[33m\u001b[1mWARN  :stubber :Skip module: utimeq                    Module not found.                                                              \n",
      "\u001b[0m\n",
      "WARN  :stubber :Skip module: utimeq                    Module not found.                                                              \n",
      "INFO  :stubber :Stub module: uwebsocket                to file: uwebsocket.py                                                          mem:137856\n",
      "\u001b[33m\u001b[1mWARNING \u001b[0m | \u001b[36mmicropython_magic.interactive\u001b[0m:\u001b[36mdo_output\u001b[0m:\u001b[36m86\u001b[0m - \u001b[33m\u001b[1mWARN  :stubber :Skip module: uzlib                     Module not found.                                                              \n",
      "\u001b[0m\n",
      "WARN  :stubber :Skip module: uzlib                     Module not found.                                                              \n",
      "\u001b[33m\u001b[1mWARNING \u001b[0m | \u001b[36mmicropython_magic.interactive\u001b[0m:\u001b[36mdo_output\u001b[0m:\u001b[36m86\u001b[0m - \u001b[33m\u001b[1mWARN  :stubber :Skip module: version                   Module not found.                                                              \n",
      "\u001b[0m\n",
      "WARN  :stubber :Skip module: version                   Module not found.                                                              \n",
      "INFO  :stubber :Stub module: websocket                 to file: websocket.py                                                           mem:137728\n",
      "\u001b[33m\u001b[1mWARNING \u001b[0m | \u001b[36mmicropython_magic.interactive\u001b[0m:\u001b[36mdo_output\u001b[0m:\u001b[36m86\u001b[0m - \u001b[33m\u001b[1mWARN  :stubber :Skip module: websocket_helper          Module not found.                                                              \n",
      "\u001b[0m\n",
      "WARN  :stubber :Skip module: websocket_helper          Module not found.                                                              \n",
      "\u001b[33m\u001b[1mWARNING \u001b[0m | \u001b[36mmicropython_magic.interactive\u001b[0m:\u001b[36mdo_output\u001b[0m:\u001b[36m86\u001b[0m - \u001b[33m\u001b[1mWARN  :stubber :Skip module: wipy                      Module not found.                                                              \n",
      "\u001b[0m\n",
      "WARN  :stubber :Skip module: wipy                      Module not found.                                                              \n",
      "\u001b[33m\u001b[1mWARNING \u001b[0m | \u001b[36mmicropython_magic.interactive\u001b[0m:\u001b[36mdo_output\u001b[0m:\u001b[36m86\u001b[0m - \u001b[33m\u001b[1mWARN  :stubber :Skip module: writer                    Module not found.                                                              \n",
      "\u001b[0m\n",
      "WARN  :stubber :Skip module: writer                    Module not found.                                                              \n",
      "\u001b[33m\u001b[1mWARNING \u001b[0m | \u001b[36mmicropython_magic.interactive\u001b[0m:\u001b[36mdo_output\u001b[0m:\u001b[36m86\u001b[0m - \u001b[33m\u001b[1mWARN  :stubber :Skip module: xpt2046                   Module not found.                                                              \n",
      "\u001b[0m\n",
      "WARN  :stubber :Skip module: xpt2046                   Module not found.                                                              \n",
      "\u001b[33m\u001b[1mWARNING \u001b[0m | \u001b[36mmicropython_magic.interactive\u001b[0m:\u001b[36mdo_output\u001b[0m:\u001b[36m86\u001b[0m - \u001b[33m\u001b[1mWARN  :stubber :Skip module: ymodem                    Module not found.                                                              \n",
      "\u001b[0m\n",
      "WARN  :stubber :Skip module: ymodem                    Module not found.                                                              \n",
      "\u001b[33m\u001b[1mWARNING \u001b[0m | \u001b[36mmicropython_magic.interactive\u001b[0m:\u001b[36mdo_output\u001b[0m:\u001b[36m86\u001b[0m - \u001b[33m\u001b[1mWARN  :stubber :Skip module: zephyr                    Module not found.                                                              \n",
      "\u001b[0m\n",
      "WARN  :stubber :Skip module: zephyr                    Module not found.                                                              \n",
      "\u001b[33m\u001b[1mWARNING \u001b[0m | \u001b[36mmicropython_magic.interactive\u001b[0m:\u001b[36mdo_output\u001b[0m:\u001b[36m86\u001b[0m - \u001b[33m\u001b[1mWARN  :stubber :Skip module: zlib                      Module not found.                                                              \n",
      "\u001b[0m\n",
      "WARN  :stubber :Skip module: zlib                      Module not found.                                                              \n",
      "INFO  :stubber :Finally done\n",
      "INFO  :stubber :Created stubs for 90 modules on board micropython-v1.22.0-rp2-Arduino_Nano_RP2040_Connect\n",
      "Path: /stubs/micropython-v1_22_0-rp2-Arduino_Nano_RP2040_Connect\n",
      "INFO  :stubber :Report file: /stubs/micropython-v1_22_0-rp2-Arduino_Nano_RP2040_Connect/modules.json\n",
      "INFO  :stubber :Memory used: 43 Kb\n"
     ]
    }
   ],
   "source": [
    "# TODO replace this by a sample script that allocates memory\n",
    "%%mpy --reset\n",
    "import createstubs"
   ]
  },
  {
   "cell_type": "code",
   "execution_count": 3,
   "metadata": {
    "notebookRunGroups": {
     "groupValue": "1"
    }
   },
   "outputs": [],
   "source": [
    "output = _\n",
    "# log_text = __\n",
    "log_text = list(output)"
   ]
  },
  {
   "cell_type": "code",
   "execution_count": 4,
   "metadata": {
    "notebookRunGroups": {
     "groupValue": "1"
    }
   },
   "outputs": [
    {
     "name": "stdout",
     "output_type": "stream",
     "text": [
      "Stored 'log_text' (list)\n"
     ]
    }
   ],
   "source": [
    "%store log_text "
   ]
  },
  {
   "cell_type": "code",
   "execution_count": 5,
   "metadata": {
    "notebookRunGroups": {
     "groupValue": "2"
    }
   },
   "outputs": [],
   "source": [
    "%store -r log_text"
   ]
  },
  {
   "cell_type": "code",
   "execution_count": 6,
   "metadata": {
    "notebookRunGroups": {
     "groupValue": "2"
    }
   },
   "outputs": [],
   "source": [
    "from micropython_magic.memoryinfo import MemoryInfoList, MemoryInfo"
   ]
  },
  {
   "cell_type": "code",
   "execution_count": 7,
   "metadata": {
    "notebookRunGroups": {
     "groupValue": "2"
    }
   },
   "outputs": [
    {
     "data": {
      "text/plain": []
     },
     "execution_count": 7,
     "metadata": {},
     "output_type": "execute_result"
    }
   ],
   "source": [
    "mi_list = MemoryInfoList(show_free=False, columns=2)\n",
    "mi_list.parse_log(log_text)\n",
    "mi_list"
   ]
  },
  {
   "cell_type": "code",
   "execution_count": 8,
   "metadata": {
    "notebookRunGroups": {
     "groupValue": "2"
    }
   },
   "outputs": [
    {
     "data": {
      "text/plain": []
     },
     "execution_count": 8,
     "metadata": {},
     "output_type": "execute_result"
    }
   ],
   "source": [
    "mi_list.columns = 1\n",
    "# mi_list._repr_pretty_()\n",
    "mi_list"
   ]
  },
  {
   "cell_type": "code",
   "execution_count": 9,
   "metadata": {
    "notebookRunGroups": {
     "groupValue": "2"
    }
   },
   "outputs": [
    {
     "data": {
      "text/plain": []
     },
     "metadata": {},
     "output_type": "display_data"
    }
   ],
   "source": [
    "mi_list.columns = 4\n",
    "handle = display(mi_list, display_id=True)"
   ]
  },
  {
   "cell_type": "code",
   "execution_count": 10,
   "metadata": {
    "notebookRunGroups": {
     "groupValue": "2"
    }
   },
   "outputs": [
    {
     "data": {
      "text/plain": [
       "2"
      ]
     },
     "execution_count": 10,
     "metadata": {},
     "output_type": "execute_result"
    }
   ],
   "source": [
    "from IPython.display import display, update_display\n",
    "\n",
    "mi_list.columns = 2\n",
    "mi_list.columns\n",
    "# did = display(mil, display_id=True)\n",
    "# update_display(mil, display_id=did.display_id)"
   ]
  },
  {
   "cell_type": "code",
   "execution_count": 11,
   "metadata": {},
   "outputs": [
    {
     "data": {
      "text/plain": []
     },
     "metadata": {},
     "output_type": "display_data"
    }
   ],
   "source": [
    "display(mi_list)"
   ]
  },
  {
   "cell_type": "code",
   "execution_count": 12,
   "metadata": {
    "notebookRunGroups": {
     "groupValue": "2"
    }
   },
   "outputs": [
    {
     "data": {
      "text/plain": [
       "''"
      ]
     },
     "metadata": {},
     "output_type": "display_data"
    }
   ],
   "source": [
    "display(\"\", display_id=\"here\")\n",
    "for mm in mi_list:\n",
    "    update_display(mm, display_id=\"here\")"
   ]
  },
  {
   "cell_type": "code",
   "execution_count": 13,
   "metadata": {
    "notebookRunGroups": {
     "groupValue": "2"
    }
   },
   "outputs": [],
   "source": [
    "# difference between the first and last memory info\n",
    "if mi_list and len(mi_list) > 2:\n",
    "    diff = mi_list[-1] - mi_list[0]\n",
    "    diff"
   ]
  },
  {
   "cell_type": "code",
   "execution_count": null,
   "metadata": {},
   "outputs": [],
   "source": []
  }
 ],
 "metadata": {
  "kernelspec": {
   "display_name": "Python 3 (ipykernel)",
   "language": "python",
   "name": "python3"
  },
  "language_info": {
   "codemirror_mode": {
    "name": "ipython",
    "version": 3
   },
   "file_extension": ".py",
   "mimetype": "text/x-python",
   "name": "python",
   "nbconvert_exporter": "python",
   "pygments_lexer": "ipython3",
   "version": "3.11.7"
  }
 },
 "nbformat": 4,
 "nbformat_minor": 2
}
