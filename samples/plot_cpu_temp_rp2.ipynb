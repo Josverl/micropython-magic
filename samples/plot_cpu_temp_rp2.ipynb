{
 "cells": [
  {
   "attachments": {},
   "cell_type": "markdown",
   "metadata": {},
   "source": [
    "#### Hardware Setup:\n",
    "\n",
    "- rp2040 board with micropython v1.20.0 ( other versions should work too )\n",
    "- sensor : internal CPU temperature sensor - can be infuenced by placing your fingertip on the chip or by blowing on it\n",
    "- connected via serial port\n",
    "\n",
    "#### Software Setup:\n",
    "\n",
    "This example uses bqplot to plot the data. bqplot is a plotting library for Jupyter notebooks. It is not part of MicroPython. You need to install it first.\n"
   ]
  },
  {
   "cell_type": "code",
   "execution_count": 1,
   "metadata": {},
   "outputs": [
    {
     "name": "stdout",
     "output_type": "stream",
     "text": [
      "bqplot and numpy loaded\n"
     ]
    }
   ],
   "source": [
    "# load / install libraries to display the plots\n",
    "try:\n",
    "    import bqplot.pyplot as plt\n",
    "    import numpy as np\n",
    "    print(\"bqplot and numpy loaded\")\n",
    "except (ModuleNotFoundError, ImportError):\n",
    "    %pip install -U bqplot numpy\n"
   ]
  },
  {
   "cell_type": "code",
   "execution_count": 2,
   "metadata": {},
   "outputs": [],
   "source": [
    "# start with an empty list of measurements (on the host computer)\n",
    "measurements = []"
   ]
  },
  {
   "attachments": {},
   "cell_type": "markdown",
   "metadata": {},
   "source": [
    "#### Define a **micropython** function to read the temperature from the sensor.\n",
    "\n",
    "The `%%micropython` magic is used to define a micropython function in a jupyter notebook cell.  \n",
    "All code in the cell is passed to the micropython Microcontroller and executed on that (small) device.\n",
    "\n",
    "Any output using print commands is returned to the notebook and displayed in the cell output.\n"
   ]
  },
  {
   "cell_type": "code",
   "execution_count": 3,
   "metadata": {
    "scrolled": true
   },
   "outputs": [],
   "source": [
    "# %%micropython\n",
    "import machine\n",
    "\n",
    "\n",
    "def cpu_temp():\n",
    "    \"Function to measure the internal temperature sensor of a rp2040 cpu in Celsius\"\n",
    "    sensor_temp = machine.ADC(4)\n",
    "    conversion_factor = 3.3 / (65535)\n",
    "    reading = sensor_temp.read_u16() * conversion_factor\n",
    "    return 27 - (reading - 0.706) / 0.001721"
   ]
  },
  {
   "attachments": {},
   "cell_type": "markdown",
   "metadata": {},
   "source": [
    "run the function once on the MCU , get the result , and print it\n"
   ]
  },
  {
   "cell_type": "code",
   "execution_count": 4,
   "metadata": {},
   "outputs": [
    {
     "name": "stdout",
     "output_type": "stream",
     "text": [
      "temperature: t=34.0666 C\n",
      "<class 'float'>\n"
     ]
    }
   ],
   "source": [
    "t = %mpy --eval cpu_temp()\n",
    "print (f\"temperature: {t=} C\")\n",
    "print( type(t))"
   ]
  },
  {
   "attachments": {},
   "cell_type": "markdown",
   "metadata": {},
   "source": [
    "So we can also add it to the list of measurements\n"
   ]
  },
  {
   "cell_type": "code",
   "execution_count": 5,
   "metadata": {},
   "outputs": [
    {
     "name": "stdout",
     "output_type": "stream",
     "text": [
      "34.0666\n",
      "[34.0666]\n"
     ]
    }
   ],
   "source": [
    "# measure once and append to the list\n",
    "t = %mpy --eval cpu_temp()\n",
    "print(t)\n",
    "measurements.append(t)\n",
    "print(measurements)"
   ]
  },
  {
   "attachments": {},
   "cell_type": "markdown",
   "metadata": {},
   "source": [
    "Now lets start a graph of the temperature over time, and display that ( with the single mesurement )\n"
   ]
  },
  {
   "cell_type": "code",
   "execution_count": 6,
   "metadata": {},
   "outputs": [
    {
     "data": {
      "application/vnd.jupyter.widget-view+json": {
       "model_id": "4633418cb4a748e99441bd5c0098e989",
       "version_major": 2,
       "version_minor": 0
      },
      "text/plain": [
       "VBox(children=(Figure(fig_margin={'top': 60, 'bottom': 60, 'left': 60, 'right': 60}, scale_x=LinearScale(allow…"
      ]
     },
     "metadata": {},
     "output_type": "display_data"
    }
   ],
   "source": [
    "# create a graph of the measurements using pyplot\n",
    "cpu_graph = plt.plot(measurements)\n",
    "cpu_graph.colors = [\"red\"]\n",
    "cpu_graph.xlabel = \"samples\"\n",
    "cpu_graph.ylabel = \"CPU Temp\"\n",
    "cpu_graph.title = \"CPU Temperature\"\n",
    "# cpu_graph.display_legend = True\n",
    "plt.clear()  # clear any previous plots\n",
    "plt.show()"
   ]
  },
  {
   "attachments": {},
   "cell_type": "markdown",
   "metadata": {},
   "source": [
    "Now lets add a few more measurements, and display them all on the same graph\n"
   ]
  },
  {
   "cell_type": "code",
   "execution_count": 7,
   "metadata": {},
   "outputs": [],
   "source": [
    "import time\n",
    "\n",
    "for i in range(100):\n",
    "    t = %mpy --eval cpu_temp()\n",
    "    measurements.append(t)\n",
    "    plt.plot(measurements)\n",
    "    time.sleep(0.1)"
   ]
  }
 ],
 "metadata": {
  "celltoolbar": "Geen",
  "kernelspec": {
   "display_name": "Python 3 (ipykernel)",
   "language": "python",
   "name": "python3"
  },
  "language_info": {
   "codemirror_mode": {
    "name": "ipython",
    "version": 3
   },
   "file_extension": ".py",
   "mimetype": "text/x-python",
   "name": "python",
   "nbconvert_exporter": "python",
   "pygments_lexer": "ipython3",
   "version": "3.11.0"
  }
 },
 "nbformat": 4,
 "nbformat_minor": 4
}
