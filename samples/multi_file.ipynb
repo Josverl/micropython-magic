{
 "cells": [
  {
   "cell_type": "code",
   "execution_count": 12,
   "metadata": {},
   "outputs": [
    {
     "data": {
      "application/json": "",
      "text/plain": [
       "['Pico Model: Pico W']"
      ]
     },
     "execution_count": 12,
     "metadata": {},
     "output_type": "execute_result"
    }
   ],
   "source": [
    "# %%micropython\n",
    "from machine import Pin, ADC\n",
    "\n",
    "\n",
    "def GetPicoModel():\n",
    "    # Ensure Pin 25 Low...\n",
    "    pin_25 = Pin(25, mode=Pin.IN, pull=Pin.PULL_DOWN, value=0)\n",
    "    raw = ADC(3).read_u16()  # Read the raw value (0-65535) from the ADC pin\n",
    "    voltage = raw * 3.3 / 65535  # Convert the raw value to a voltage\n",
    "    # 1/3 VSYS, Not Almost Zero? Test As 0.4 Or Greater\n",
    "    model = \"Pico\" if (voltage > 0.4) else \"Pico W\"\n",
    "    return model\n",
    "\n",
    "\n",
    "print(\"Pico Model: {0}\".format(GetPicoModel()))"
   ]
  },
  {
   "cell_type": "code",
   "execution_count": 13,
   "metadata": {},
   "outputs": [
    {
     "data": {
      "application/json": "",
      "text/plain": [
       "['Pin(GPIO25, mode=OUT)']"
      ]
     },
     "execution_count": 13,
     "metadata": {},
     "output_type": "execute_result"
    }
   ],
   "source": [
    "%%micropython \n",
    "# --writefile blink.py\n",
    "# blink the neopixel led on GPIO48\n",
    "from machine import Pin\n",
    "from neopixel import NeoPixel\n",
    "import time\n",
    "led = Pin(\"LED\", Pin.OUT)\n",
    "# led.off()\n",
    "# time.sleep(1)\n",
    "led.on()\n",
    "print(led)"
   ]
  },
  {
   "cell_type": "code",
   "execution_count": 14,
   "metadata": {},
   "outputs": [],
   "source": [
    "# %%micropython --writefile blink.py\n",
    "# blink the neopixel led on GPIO48\n",
    "from machine import Pin\n",
    "from neopixel import NeoPixel\n",
    "import time\n",
    "\n",
    "NP = Pin(\"LED\", Pin.OUT)\n",
    "np = NeoPixel(NP, 1)\n",
    "\n",
    "\n",
    "def set(np, c=(255, 255, 255)):\n",
    "    np[0] = c\n",
    "    np.write()\n",
    "\n",
    "\n",
    "set(np, (255, 0, 0))\n",
    "time.sleep(1)\n",
    "set(np, (0, 255, 0))\n",
    "time.sleep(1)\n",
    "set(np, (0, 0, 255))\n",
    "time.sleep(1)\n",
    "set(np, (10, 10, 10))"
   ]
  },
  {
   "cell_type": "code",
   "execution_count": 15,
   "metadata": {},
   "outputs": [],
   "source": [
    "!mpremote exec \"import blink\""
   ]
  },
  {
   "cell_type": "code",
   "execution_count": 16,
   "metadata": {},
   "outputs": [
    {
     "name": "stdout",
     "output_type": "stream",
     "text": [
      "\u001b[1;31mDocstring:\u001b[0m\n",
      "::\n",
      "\n",
      "  %%micropython [--writefile PATH/FILE.PY] [--readfile PATH/FILE.PY]\n",
      "                    [--new] [--select PORT [PORT ...]] [--reset]\n",
      "                    [--hard-reset]\n",
      "\n",
      "Run Micropython code on an attached device using mpremote.\n",
      "\n",
      "Code execution:\n",
      "  --writefile <PATH/FILE.PY>, --save <PATH/FILE.PY>, -wf <PATH/FILE.PY>\n",
      "                        MCU [path/]filename to write to\n",
      "  --readfile <PATH/FILE.PY>, --load <PATH/FILE.PY>, -rf <PATH/FILE.PY>\n",
      "                        MCU [path/]filename to read from\n",
      "  --new                 new cell is added after the current cell instead of\n",
      "                        replacing it\n",
      "\n",
      "Devices:\n",
      "  --select <PORT [PORT ...]>\n",
      "                        serial port to connect to\n",
      "  --reset, --soft-reset\n",
      "                        Reset device (before running cell).\n",
      "  --hard-reset          reset device.\n",
      "\u001b[1;31mFile:\u001b[0m      c:\\develop\\mypython\\micropython-magic\\src\\micropython_magic\\octarine.py"
     ]
    }
   ],
   "source": [
    "%%micropython?\n",
    "# something cool"
   ]
  },
  {
   "cell_type": "code",
   "execution_count": 17,
   "metadata": {},
   "outputs": [],
   "source": [
    "%%micropython --writefile cool.py\n",
    "# something cool"
   ]
  },
  {
   "cell_type": "code",
   "execution_count": 18,
   "metadata": {},
   "outputs": [
    {
     "name": "stdout",
     "output_type": "stream",
     "text": [
      "ls :\n",
      "         224 __magic.py\n",
      "         377 blink.py\n",
      "         401 blink_neo.py\n",
      "          34 cool.py\n",
      "           0 lib/\n"
     ]
    }
   ],
   "source": [
    "!mpremote ls"
   ]
  },
  {
   "cell_type": "code",
   "execution_count": 19,
   "metadata": {},
   "outputs": [
    {
     "name": "stdout",
     "output_type": "stream",
     "text": [
      "# Jupyter cell\n",
      "\n",
      "# something cool\n",
      "\n"
     ]
    }
   ],
   "source": [
    "!mpremote cat cool.py"
   ]
  },
  {
   "cell_type": "code",
   "execution_count": 20,
   "metadata": {},
   "outputs": [
    {
     "name": "stdout",
     "output_type": "stream",
     "text": [
      "mpremote -- MicroPython remote control\n",
      "See https://docs.micropython.org/en/latest/reference/mpremote.html\n",
      "\n",
      "List of commands:\n",
      "  connect     connect to given device\n",
      "  disconnect  disconnect current device\n",
      "  edit        edit files on the device\n",
      "  eval        evaluate and print the string\n",
      "  exec        execute the string\n",
      "  fs          execute filesystem commands on the device\n",
      "  help        print help and exit\n",
      "  mip         install packages from micropython-lib or third-party sources\n",
      "  mount       mount local directory on device\n",
      "  repl        connect to given device\n",
      "  resume      resume a previous mpremote session (will not auto soft-reset)\n",
      "  run         run the given local script\n",
      "  soft-reset  perform a soft-reset of the device\n",
      "  umount      unmount the local directory\n",
      "  version     print version and exit\n",
      "\n",
      "List of shortcuts:\n",
      "  --help      \n",
      "  --version   \n",
      "  a0          connect to serial port \"/dev/ttyACM0\"\n",
      "  a1          connect to serial port \"/dev/ttyACM1\"\n",
      "  a2          connect to serial port \"/dev/ttyACM2\"\n",
      "  a3          connect to serial port \"/dev/ttyACM3\"\n",
      "  bootloader  make the device enter its bootloader\n",
      "  c0          connect to serial port \"COM0\"\n",
      "  c1          connect to serial port \"COM1\"\n",
      "  c2          connect to serial port \"COM2\"\n",
      "  c3          connect to serial port \"COM3\"\n",
      "  cat         \n",
      "  cp          \n",
      "  devs        list available serial ports\n",
      "  df          \n",
      "  ls          \n",
      "  mkdir       \n",
      "  reset       reset the device after delay\n",
      "  rm          \n",
      "  rmdir       \n",
      "  setrtc      \n",
      "  touch       \n",
      "  u0          connect to serial port \"/dev/ttyUSB0\"\n",
      "  u1          connect to serial port \"/dev/ttyUSB1\"\n",
      "  u2          connect to serial port \"/dev/ttyUSB2\"\n",
      "  u3          connect to serial port \"/dev/ttyUSB3\"\n"
     ]
    }
   ],
   "source": [
    "!mpremote --help"
   ]
  }
 ],
 "metadata": {
  "kernelspec": {
   "display_name": ".venv",
   "language": "python",
   "name": "python3"
  },
  "language_info": {
   "codemirror_mode": {
    "name": "ipython",
    "version": 3
   },
   "file_extension": ".py",
   "mimetype": "text/x-python",
   "name": "python",
   "nbconvert_exporter": "python",
   "pygments_lexer": "ipython3",
   "version": "3.11.0"
  },
  "orig_nbformat": 4
 },
 "nbformat": 4,
 "nbformat_minor": 2
}
