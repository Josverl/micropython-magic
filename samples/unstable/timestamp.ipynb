{
 "cells": [
  {
   "cell_type": "code",
   "execution_count": 4,
   "metadata": {},
   "outputs": [],
   "source": [
    "# %%micropython\n",
    "\n",
    "# The following enables any function or method to be timed by adding an @timed_function decorator:\n",
    "import time\n",
    "\n",
    "\n",
    "def timed_function(f, *args, **kwargs):\n",
    "    \"enables any function or method to be timed by adding an @timed_function decorator\"\n",
    "    myname = str(f).split(\" \")[1]\n",
    "\n",
    "    def new_func(*args, **kwargs):\n",
    "        t = time.ticks_us()\n",
    "        result = f(*args, **kwargs)\n",
    "        delta = time.ticks_diff(time.ticks_us(), t)\n",
    "        print(\"Function {} Time = {:6.3f}ms\".format(myname, delta / 1000))\n",
    "        return result\n",
    "\n",
    "    return new_func"
   ]
  },
  {
   "cell_type": "code",
   "execution_count": 13,
   "metadata": {},
   "outputs": [
    {
     "name": "stdout",
     "output_type": "stream",
     "text": [
      "Function timestamp Time =  0.279ms\n",
      "1609459788553000000\n",
      "Function timestamp Time =  0.206ms\n",
      "1609459788593000000\n",
      "Function timestamp Time =  0.186ms\n",
      "1609459789523000000\n",
      "Function timestamp Time =  0.190ms\n",
      "1609459790478000000\n",
      "Function timestamp Time =  0.195ms\n",
      "1609459790567000000\n",
      "Function timestamp Time =  0.176ms\n",
      "1609459790992000000\n",
      "Function timestamp Time =  0.172ms\n",
      "1609459791469000000\n",
      "Function timestamp Time =  0.173ms\n",
      "1609459792219000000\n",
      "Function timestamp Time =  0.180ms\n",
      "1609459792992000000\n",
      "Function timestamp Time =  0.182ms\n",
      "1609459793703000000\n"
     ]
    }
   ],
   "source": [
    "# %%micropython\n",
    "import time\n",
    "import random\n",
    "\n",
    "\n",
    "@timed_function\n",
    "def timestamp():\n",
    "    return time.time_ns() + ((time.ticks_ms() % 1_000) * 1_000_000)\n",
    "\n",
    "\n",
    "for i in range(10):\n",
    "    time.sleep_ms(random.randint(2, 1_000))\n",
    "    print(f\"{timestamp():>19}\")"
   ]
  },
  {
   "cell_type": "code",
   "execution_count": null,
   "metadata": {},
   "outputs": [],
   "source": []
  }
 ],
 "metadata": {
  "kernelspec": {
   "display_name": ".venv",
   "language": "python",
   "name": "python3"
  },
  "language_info": {
   "codemirror_mode": {
    "name": "ipython",
    "version": 3
   },
   "file_extension": ".py",
   "mimetype": "text/x-python",
   "name": "python",
   "nbconvert_exporter": "python",
   "pygments_lexer": "ipython3",
   "version": "3.11.0"
  },
  "orig_nbformat": 4
 },
 "nbformat": 4,
 "nbformat_minor": 2
}
