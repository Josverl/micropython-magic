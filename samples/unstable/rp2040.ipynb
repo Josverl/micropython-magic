{
 "cells": [
  {
   "cell_type": "code",
   "execution_count": 13,
   "metadata": {},
   "outputs": [
    {
     "name": "stdout",
     "output_type": "stream",
     "text": [
      "bqplot and numpy loaded\n"
     ]
    }
   ],
   "source": [
    "# load / install libraries\n",
    "try:\n",
    "    import bqplot.pyplot as plt\n",
    "    import numpy as np\n",
    "    print(\"bqplot and numpy loaded\")\n",
    "except (ModuleNotFoundError, ImportError):\n",
    "    %pip install -U bqplot numpy\n"
   ]
  },
  {
   "cell_type": "code",
   "execution_count": null,
   "metadata": {},
   "outputs": [],
   "source": [
    "# start with an empty list of measurements\n",
    "measurements = []"
   ]
  },
  {
   "cell_type": "code",
   "execution_count": null,
   "metadata": {
    "scrolled": true
   },
   "outputs": [],
   "source": [
    "# %%micropython\n",
    "import machine\n",
    "\n",
    "\n",
    "def cpu_temp():\n",
    "    \"function to measure the internal temperature sensor of a rp2040 cpu in Celsius\"\n",
    "    sensor_temp = machine.ADC(4)\n",
    "    conversion_factor = 3.3 / (65535)\n",
    "    reading = sensor_temp.read_u16() * conversion_factor\n",
    "    return 27 - (reading - 0.706) / 0.001721"
   ]
  },
  {
   "cell_type": "code",
   "execution_count": null,
   "metadata": {},
   "outputs": [],
   "source": [
    "t = %mpy --eval cpu_temp()\n",
    "type(t)"
   ]
  },
  {
   "cell_type": "code",
   "execution_count": null,
   "metadata": {},
   "outputs": [],
   "source": [
    "# measure once and append to the list\n",
    "t = %mpy --eval cpu_temp()\n",
    "print(t)\n",
    "measurements.append(t)\n",
    "print(measurements)"
   ]
  },
  {
   "cell_type": "code",
   "execution_count": null,
   "metadata": {},
   "outputs": [],
   "source": [
    "# create a graph of the measurements using pyplot\n",
    "measurements = []\n",
    "\n",
    "cpu_graph = plt.plot(measurements)\n",
    "cpu_graph.colors = [\"red\"]\n",
    "cpu_graph.xlabel = \"samples\"\n",
    "cpu_graph.ylabel = \"CPU Temp\"\n",
    "cpu_graph.title = \"CPU Temperature\"\n",
    "cpu_graph.display_legend = True\n",
    "plt.show()"
   ]
  },
  {
   "cell_type": "code",
   "execution_count": null,
   "metadata": {},
   "outputs": [],
   "source": [
    "import time\n",
    "\n",
    "for i in range(10):\n",
    "    t = %mpy --eval cpu_temp()\n",
    "    measurements.append(t)\n",
    "    plt.plot(measurements)\n",
    "    time.sleep(1)"
   ]
  },
  {
   "cell_type": "code",
   "execution_count": null,
   "metadata": {},
   "outputs": [],
   "source": [
    "# create a graph of the measurements using pyplot\n",
    "ldr_graph = plt.plot(measurements)\n",
    "ldr_graph.colors = [\"blue\"]\n",
    "ldr_graph.xlabel = \"samples\"\n",
    "ldr_graph.ylabel = \"ldr\"\n",
    "ldr_graph.title = \"Light Dependent Resistor\"\n",
    "ldr_graph.display_legend = True\n",
    "plt.show()"
   ]
  },
  {
   "cell_type": "code",
   "execution_count": null,
   "metadata": {},
   "outputs": [],
   "source": [
    "# %%micropython\n",
    "from machine import ADC, Pin\n",
    "\n",
    "adc_ldr = ADC(Pin(26))  # create ADC object on ADC pin\n",
    "print(adc_ldr.read_u16())"
   ]
  },
  {
   "cell_type": "code",
   "execution_count": 12,
   "metadata": {},
   "outputs": [
    {
     "ename": "KeyboardInterrupt",
     "evalue": "",
     "output_type": "error",
     "traceback": [
      "\u001b[1;31m---------------------------------------------------------------------------\u001b[0m",
      "\u001b[1;31mKeyboardInterrupt\u001b[0m                         Traceback (most recent call last)",
      "Cell \u001b[1;32mIn[12], line 7\u001b[0m\n\u001b[0;32m      5\u001b[0m measurements\u001b[39m.\u001b[39mappend(t)\n\u001b[0;32m      6\u001b[0m plt\u001b[39m.\u001b[39mplot(measurements)\n\u001b[1;32m----> 7\u001b[0m time\u001b[39m.\u001b[39msleep(\u001b[39m1\u001b[39m)\n",
      "\u001b[1;31mKeyboardInterrupt\u001b[0m: "
     ]
    }
   ],
   "source": [
    "import time\n",
    "\n",
    "for i in range(10):\n",
    "    t = %mpy --eval adc_ldr.read_u16()\n",
    "    measurements.append(t)\n",
    "    plt.plot(measurements)\n",
    "    time.sleep(1)"
   ]
  }
 ],
 "metadata": {
  "celltoolbar": "Geen",
  "kernelspec": {
   "display_name": "Python 3 (ipykernel)",
   "language": "python",
   "name": "python3"
  },
  "language_info": {
   "codemirror_mode": {
    "name": "ipython",
    "version": 3
   },
   "file_extension": ".py",
   "mimetype": "text/x-python",
   "name": "python",
   "nbconvert_exporter": "python",
   "pygments_lexer": "ipython3",
   "version": "3.11.0"
  }
 },
 "nbformat": 4,
 "nbformat_minor": 4
}
