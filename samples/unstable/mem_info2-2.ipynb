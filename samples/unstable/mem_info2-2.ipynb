{
 "cells": [
  {
   "cell_type": "code",
   "execution_count": 1,
   "metadata": {
    "notebookRunGroups": {
     "groupValue": "2"
    }
   },
   "outputs": [],
   "source": [
    "%store -r log_text"
   ]
  },
  {
   "cell_type": "code",
   "execution_count": 2,
   "metadata": {
    "notebookRunGroups": {
     "groupValue": "2"
    }
   },
   "outputs": [],
   "source": [
    "from micropython_magic.memoryinfo import MemoryInfoList, MemoryInfo"
   ]
  },
  {
   "cell_type": "code",
   "execution_count": 3,
   "metadata": {
    "notebookRunGroups": {
     "groupValue": "2"
    }
   },
   "outputs": [
    {
     "data": {
      "text/plain": []
     },
     "execution_count": 3,
     "metadata": {},
     "output_type": "execute_result"
    }
   ],
   "source": [
    "mil = MemoryInfoList(show_free=True, columns=2)\n",
    "mil.parse_log(log_text)\n",
    "mil"
   ]
  },
  {
   "cell_type": "code",
   "execution_count": 4,
   "metadata": {
    "notebookRunGroups": {
     "groupValue": "2"
    }
   },
   "outputs": [
    {
     "data": {
      "text/plain": []
     },
     "execution_count": 4,
     "metadata": {},
     "output_type": "execute_result"
    }
   ],
   "source": [
    "mil.columns = 1\n",
    "mil"
   ]
  },
  {
   "cell_type": "code",
   "execution_count": 5,
   "metadata": {
    "notebookRunGroups": {
     "groupValue": "2"
    }
   },
   "outputs": [
    {
     "data": {
      "text/plain": []
     },
     "metadata": {},
     "output_type": "display_data"
    },
    {
     "data": {
      "text/plain": [
       "<DisplayHandle display_id=1cbf08fef19ab30730dbc31917bf273e>"
      ]
     },
     "execution_count": 5,
     "metadata": {},
     "output_type": "execute_result"
    }
   ],
   "source": [
    "mil.columns = 7\n",
    "display(mil, display_id=True)"
   ]
  },
  {
   "cell_type": "code",
   "execution_count": 6,
   "metadata": {
    "notebookRunGroups": {
     "groupValue": "2"
    }
   },
   "outputs": [
    {
     "data": {
      "text/plain": [
       "2"
      ]
     },
     "execution_count": 6,
     "metadata": {},
     "output_type": "execute_result"
    }
   ],
   "source": [
    "from IPython.display import display, update_display\n",
    "\n",
    "mil.colomns = 2\n",
    "mil.colomns\n",
    "# did = display(mil, display_id=True)\n",
    "# update_display(mil, display_id=did.display_id)"
   ]
  },
  {
   "cell_type": "code",
   "execution_count": 7,
   "metadata": {},
   "outputs": [
    {
     "data": {
      "text/plain": []
     },
     "metadata": {},
     "output_type": "display_data"
    }
   ],
   "source": [
    "display(mil)"
   ]
  },
  {
   "cell_type": "code",
   "execution_count": 8,
   "metadata": {
    "notebookRunGroups": {
     "groupValue": "2"
    }
   },
   "outputs": [],
   "source": [
    "# display(\"\", display_id=\"here\")\n",
    "# for mm in mem_info.memory_maps:\n",
    "#     update_display(mm, display_id=\"here\")"
   ]
  },
  {
   "cell_type": "code",
   "execution_count": 9,
   "metadata": {
    "notebookRunGroups": {
     "groupValue": "2"
    }
   },
   "outputs": [
    {
     "data": {
      "text/html": [
       "<style>.container { width:100% !important; }</style>"
      ],
      "text/plain": [
       "<IPython.core.display.HTML object>"
      ]
     },
     "metadata": {},
     "output_type": "display_data"
    },
    {
     "data": {
      "text/html": [
       "<style>.output_result { max-width:100% !important; }</style>"
      ],
      "text/plain": [
       "<IPython.core.display.HTML object>"
      ]
     },
     "metadata": {},
     "output_type": "display_data"
    }
   ],
   "source": [
    "# use the whole page width for displaying the output in the jupyter notebook web viewer\n",
    "# not needed for VSCode\n",
    "from IPython.display import display, HTML\n",
    "\n",
    "display(HTML(\"<style>.container { width:100% !important; }</style>\"))\n",
    "display(HTML(\"<style>.output_result { max-width:100% !important; }</style>\"))"
   ]
  },
  {
   "cell_type": "code",
   "execution_count": 10,
   "metadata": {},
   "outputs": [
    {
     "data": {
      "application/vnd.jupyter.widget-view+json": {
       "model_id": "f471127018eb4cfbaa334f6375a681bb",
       "version_major": 2,
       "version_minor": 0
      },
      "text/plain": [
       "VBox(children=(Figure(axes=[Axis(label='time', scale=LinearScale()), Axis(label='Memory in bytes', orientation…"
      ]
     },
     "metadata": {},
     "output_type": "display_data"
    }
   ],
   "source": [
    "import bqplot.pyplot as plt\n",
    "import numpy as np\n",
    "\n",
    "\n",
    "zoom = mil[200:250]\n",
    "zoom = mil\n",
    "\n",
    "free_mem = [i.free for i in zoom]\n",
    "max_free = [i.max_free_size for i in zoom]\n",
    "blocks1 = [i.one_blocks for i in zoom]\n",
    "blocks2 = [i.two_blocks for i in zoom]\n",
    "\n",
    "names = [i.name for i in zoom]\n",
    "\n",
    "# plot the free memory with an area chart\n",
    "fig_memory = plt.figure(title=\"createstubs memory consumption\")\n",
    "\n",
    "# customize axes\n",
    "axes_1_options = {\"x\": {\"label\": \"time\"}, \"y\": {\"label\": \"Memory in bytes\"}}\n",
    "# plot the free memory\n",
    "line_1 = plt.plot(free_mem, labels=[\"free memory\"], display_legend=True, colors=[\"green\"], axes_options=axes_1_options)\n",
    "# add the log names as labels to the x axis for every 5th entry\n",
    "label = plt.label(\n",
    "    text=[x.name for x in zoom][::5],\n",
    "    x=range(len(zoom))[::5],\n",
    "    y=[y + 10 for y in free_mem[::5]],\n",
    "    default_size=14,\n",
    "    update_on_move=True,\n",
    "    labels=[\"name\"],\n",
    "    display_legend=True,\n",
    ")\n",
    "label.rotate_angle = -30\n",
    "\n",
    "# create a sperate scale for the y axis on the right-hand side of the plot to allow for the difference in scale\n",
    "# plt.scales(scales={\"name\": \"Blocks\", \"x\": plt.Keep})\n",
    "plt.scales(scales={\"x\": plt.Keep})\n",
    "axes_2_options = {\n",
    "    \"x\": {\"label\": \"time\"},\n",
    "    \"y\": {\"label\": \"Blocks\", \"side\": \"right\", \"color\": \"olive\", \"label_color\": \"olive\"},\n",
    "}\n",
    "\n",
    "line_2 = plt.plot(max_free, labels=[\"max free\"], display_legend=True, axes_options=axes_2_options)\n",
    "\n",
    "\n",
    "# bar = plt.bar(x= names , y=free_mem, label=\"free memory\", display_legend=True, colors=[\"green\"],axes_options=axes_options,)\n",
    "# plt.ylim(0, 10_000)\n",
    "# display(fig_memory, plt.Toolbar(figure=fig_memory))\n",
    "\n",
    "plt.show(key=None, display_toolbar=True)"
   ]
  },
  {
   "cell_type": "code",
   "execution_count": 11,
   "metadata": {
    "notebookRunGroups": {
     "groupValue": "2"
    }
   },
   "outputs": [
    {
     "data": {
      "text/plain": [
       "[]"
      ]
     },
     "execution_count": 11,
     "metadata": {},
     "output_type": "execute_result"
    }
   ],
   "source": [
    "mil.diff_with = ()\n",
    "mil.columns = 3\n",
    "mil.data[1:5]"
   ]
  },
  {
   "cell_type": "code",
   "execution_count": 12,
   "metadata": {
    "notebookRunGroups": {
     "groupValue": "2"
    }
   },
   "outputs": [
    {
     "ename": "IndexError",
     "evalue": "list index out of range",
     "output_type": "error",
     "traceback": [
      "\u001b[1;31m---------------------------------------------------------------------------\u001b[0m",
      "\u001b[1;31mIndexError\u001b[0m                                Traceback (most recent call last)",
      "Cell \u001b[1;32mIn[12], line 1\u001b[0m\n\u001b[1;32m----> 1\u001b[0m diff \u001b[39m=\u001b[39m mil[\u001b[39m200\u001b[39;49m] \u001b[39m-\u001b[39m mil[\u001b[39m1\u001b[39m]\n\u001b[0;32m      2\u001b[0m diff\u001b[39m.\u001b[39mcolumns \u001b[39m=\u001b[39m \u001b[39m3\u001b[39m\n\u001b[0;32m      3\u001b[0m diff\n",
      "File \u001b[1;32m~\\AppData\\Local\\Programs\\Python\\Python311\\Lib\\collections\\__init__.py:1241\u001b[0m, in \u001b[0;36mUserList.__getitem__\u001b[1;34m(self, i)\u001b[0m\n\u001b[0;32m   1239\u001b[0m     \u001b[39mreturn\u001b[39;00m \u001b[39mself\u001b[39m\u001b[39m.\u001b[39m\u001b[39m__class__\u001b[39m(\u001b[39mself\u001b[39m\u001b[39m.\u001b[39mdata[i])\n\u001b[0;32m   1240\u001b[0m \u001b[39melse\u001b[39;00m:\n\u001b[1;32m-> 1241\u001b[0m     \u001b[39mreturn\u001b[39;00m \u001b[39mself\u001b[39;49m\u001b[39m.\u001b[39;49mdata[i]\n",
      "\u001b[1;31mIndexError\u001b[0m: list index out of range"
     ]
    }
   ],
   "source": [
    "diff = mil[200] - mil[1]\n",
    "diff.columns = 3\n",
    "diff"
   ]
  }
 ],
 "metadata": {
  "kernelspec": {
   "display_name": "Python 3 (ipykernel)",
   "language": "python",
   "name": "python3"
  },
  "language_info": {
   "codemirror_mode": {
    "name": "ipython",
    "version": 3
   },
   "file_extension": ".py",
   "mimetype": "text/x-python",
   "name": "python",
   "nbconvert_exporter": "python",
   "pygments_lexer": "ipython3",
   "version": "3.11.0"
  }
 },
 "nbformat": 4,
 "nbformat_minor": 2
}
