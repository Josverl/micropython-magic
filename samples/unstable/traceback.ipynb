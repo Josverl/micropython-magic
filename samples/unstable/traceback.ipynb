{
 "cells": [
  {
   "cell_type": "code",
   "execution_count": null,
   "metadata": {},
   "outputs": [],
   "source": [
    "%reload_ext micropython_magic"
   ]
  },
  {
   "cell_type": "code",
   "execution_count": null,
   "metadata": {},
   "outputs": [],
   "source": [
    "%config MicroPythonMagic.loglevel='WARNING'"
   ]
  },
  {
   "cell_type": "code",
   "execution_count": 1,
   "metadata": {},
   "outputs": [
    {
     "name": "stdout",
     "output_type": "stream",
     "text": [
      "Hello World\n",
      "\u001b[33m\u001b[1mWARNING \u001b[0m | \u001b[36minteractive\u001b[0m:\u001b[36mdo_output\u001b[0m:\u001b[36m95\u001b[0m | \u001b[33m\u001b[1mTraceback (most recent call last):\u001b[0m\n",
      "\u001b[33m\u001b[1mWARNING \u001b[0m | \u001b[36minteractive\u001b[0m:\u001b[36mdo_output\u001b[0m:\u001b[36m95\u001b[0m | \u001b[33m\u001b[1m  File \"<stdin>\", line 13, in <module>\u001b[0m\n",
      "\u001b[33m\u001b[1mWARNING \u001b[0m | \u001b[36minteractive\u001b[0m:\u001b[36mdo_output\u001b[0m:\u001b[36m95\u001b[0m | \u001b[33m\u001b[1m  File \"<stdin>\", line 6, in lumberjack\u001b[0m\n",
      "\u001b[33m\u001b[1mWARNING \u001b[0m | \u001b[36minteractive\u001b[0m:\u001b[36mdo_output\u001b[0m:\u001b[36m95\u001b[0m | \u001b[33m\u001b[1m  File \"<stdin>\", line 10, in bright_side_of_death\u001b[0m\n",
      "\u001b[31m\u001b[1mERROR   \u001b[0m | \u001b[36minteractive\u001b[0m:\u001b[36mdo_output\u001b[0m:\u001b[36m89\u001b[0m | \u001b[31m\u001b[1mIndexError: index out of range\n",
      "\u001b[0m\n"
     ]
    }
   ],
   "source": [
    "# %%micropython\n",
    "import sys\n",
    "\n",
    "\n",
    "def lumberjack():\n",
    "    bright_side_of_death()\n",
    "\n",
    "\n",
    "def bright_side_of_death():\n",
    "    return tuple()[0]\n",
    "\n",
    "print (\"Hello World\")\n",
    "lumberjack()"
   ]
  },
  {
   "cell_type": "code",
   "execution_count": 5,
   "metadata": {},
   "outputs": [
    {
     "name": "stdout",
     "output_type": "stream",
     "text": [
      "True\n"
     ]
    }
   ],
   "source": [
    "%%micropython --writefile petstore.py --reset\n",
    "\n",
    "class Parrot:\n",
    "    def __init__(self):\n",
    "        self.state = 'ALIVE'\n",
    "\n",
    "    def pinin_for_fjords(self):\n",
    "        self.state = 'DEAD'\n",
    "\n",
    "    def is_pinin(self):\n",
    "        return self.state == 'DEAD'\n",
    "    \n",
    "    def feed(self):\n",
    "        self.state = 'ALIVE'\n",
    "  \n",
    "    def is_stiff(self):\n",
    "        return self.state in ['STIFF', 'DEAD']\n",
    "\n",
    "    def is_really_stiff(self):\n",
    "        return self.state % 'STIFF'\n",
    "\n",
    "    "
   ]
  },
  {
   "cell_type": "code",
   "execution_count": 6,
   "metadata": {},
   "outputs": [
    {
     "name": "stdout",
     "output_type": "stream",
     "text": [
      "ALIVE\n",
      "DEAD\n",
      "\u001b[33m\u001b[1mWARNING \u001b[0m | \u001b[36minteractive\u001b[0m:\u001b[36mdo_output\u001b[0m:\u001b[36m95\u001b[0m | \u001b[33m\u001b[1mTraceback (most recent call last):\u001b[0m\n",
      "\u001b[33m\u001b[1mWARNING \u001b[0m | \u001b[36minteractive\u001b[0m:\u001b[36mdo_output\u001b[0m:\u001b[36m95\u001b[0m | \u001b[33m\u001b[1m  File \"<stdin>\", line 10, in <module>\u001b[0m\n",
      "\u001b[33m\u001b[1mWARNING \u001b[0m | \u001b[36minteractive\u001b[0m:\u001b[36mdo_output\u001b[0m:\u001b[36m95\u001b[0m | \u001b[33m\u001b[1m  File \"petstore.py\", line 20, in is_really_stiff\u001b[0m\n",
      "\u001b[31m\u001b[1mERROR   \u001b[0m | \u001b[36minteractive\u001b[0m:\u001b[36mdo_output\u001b[0m:\u001b[36m89\u001b[0m | \u001b[31m\u001b[1mTypeError: format string didn't convert all arguments\n",
      "\u001b[0m\n"
     ]
    }
   ],
   "source": [
    "# %%micropython\n",
    "\n",
    "from petstore import Parrot\n",
    "polly = Parrot()\n",
    "\n",
    "print(polly.state)\n",
    "polly.pinin_for_fjords()\n",
    "print(polly.state)\n",
    "polly.feed()\n",
    "polly.is_really_stiff()\n"
   ]
  },
  {
   "cell_type": "code",
   "execution_count": null,
   "metadata": {},
   "outputs": [],
   "source": [
    "import sys\n",
    "from loguru import logger as log\n",
    "\n",
    "log.remove()\n",
    "log.add(sys.stderr, format=\"{message} | {extra}\")\n",
    "with log.contextualize(name=\"main\"):\n",
    "    log.info(\"Hello, World!\")"
   ]
  },
  {
   "cell_type": "code",
   "execution_count": null,
   "metadata": {},
   "outputs": [],
   "source": [
    "%reload_ext micropython_magic"
   ]
  },
  {
   "cell_type": "code",
   "execution_count": null,
   "metadata": {},
   "outputs": [],
   "source": [
    "from __future__ import annotations\n",
    "from datetime import datetime\n",
    "from loguru import logger as log\n",
    "import loguru\n",
    "import re\n",
    "import sys\n",
    "RE_MCU_TRACEBACK = r\"\\s+File \\\"([\\w<>.]+)\\\", line (\\d+), in (.*)\"\n",
    "\n",
    "\n",
    "# def patch_log(record: loguru.Record) -> None:\n",
    "#     \"\"\"\n",
    "#     Patch the log record with module, line, and function information extracted from the MCU message.\n",
    "    \n",
    "#     Args:\n",
    "#         record (dict): The log record to be patched.\n",
    "#     \"\"\"\n",
    "#     if match := re.search(RE_MCU_TRACEBACK, record[\"message\"]):\n",
    "#         record[\"module\"] = match[1]\n",
    "#         record[\"line\"] = int(match[2])\n",
    "#         record[\"function\"] = match[3]\n",
    "\n",
    "\n",
    "# log = log.patch(patch_log)\n",
    "log.remove()\n",
    "format_str = \"{extra}|<level>{level: <8}</level> | <cyan>{module}</cyan>:<cyan>{function}</cyan>:<cyan>{line}</cyan> | <level>{message}</level>\"\n",
    "log.add(sys.stderr, format=format_str, colorize=True)\n",
    "# log.add(sys.stderr, format=\"{extra[utc]} {message}\")\n",
    "# log = log.patch(lambda record: record[\"extra\"].update(utc=datetime.utcnow()))\n",
    "log.info(\"\"\"  File \"petstore.py\", line 26, in is_really_stiff\"\"\")"
   ]
  },
  {
   "cell_type": "code",
   "execution_count": null,
   "metadata": {},
   "outputs": [],
   "source": []
  }
 ],
 "metadata": {
  "kernelspec": {
   "display_name": ".venv",
   "language": "python",
   "name": "python3"
  },
  "language_info": {
   "codemirror_mode": {
    "name": "ipython",
    "version": 3
   },
   "file_extension": ".py",
   "mimetype": "text/x-python",
   "name": "python",
   "nbconvert_exporter": "python",
   "pygments_lexer": "ipython3",
   "version": "3.11.7"
  }
 },
 "nbformat": 4,
 "nbformat_minor": 2
}
