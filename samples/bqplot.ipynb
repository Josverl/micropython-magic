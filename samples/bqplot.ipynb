{
 "cells": [
  {
   "attachments": {},
   "cell_type": "markdown",
   "metadata": {},
   "source": [
    "## Updating Plots\n",
    "https://bqplot.github.io/bqplot/usage/updating-plots/"
   ]
  },
  {
   "cell_type": "code",
   "execution_count": 1,
   "metadata": {},
   "outputs": [
    {
     "data": {
      "application/vnd.jupyter.widget-view+json": {
       "model_id": "d5607e2f48da41d9b0b0b5c53c575e7d",
       "version_major": 2,
       "version_minor": 0
      },
      "text/plain": [
       "Figure(axes=[Axis(scale=LinearScale()), Axis(orientation='vertical', scale=LinearScale())], fig_margin={'top':…"
      ]
     },
     "execution_count": 1,
     "metadata": {},
     "output_type": "execute_result"
    }
   ],
   "source": [
    "import numpy as np\n",
    "import bqplot.pyplot as plt\n",
    "\n",
    "x = np.linspace(-10, 10, 200)\n",
    "y = np.sin(x)\n",
    "\n",
    "fig = plt.figure()\n",
    "curve = plt.plot(x, y)\n",
    "fig\n"
   ]
  },
  {
   "cell_type": "code",
   "execution_count": 2,
   "metadata": {},
   "outputs": [],
   "source": [
    "# update the (above) plot to cosine\n",
    "curve.y = np.cos(x)\n",
    "fig.title = \"Cosine\""
   ]
  },
  {
   "cell_type": "code",
   "execution_count": 3,
   "metadata": {},
   "outputs": [],
   "source": [
    "# More efficient to update the data in place\n",
    "with curve.hold_sync():\n",
    "    curve.x = np.linspace(-20, 20, 200)\n",
    "    curve.y = np.cos(x)"
   ]
  },
  {
   "cell_type": "code",
   "execution_count": 4,
   "metadata": {},
   "outputs": [
    {
     "data": {
      "application/vnd.jupyter.widget-view+json": {
       "model_id": "c0e682067ed34fc29aa52120b539e8a6",
       "version_major": 2,
       "version_minor": 0
      },
      "text/plain": [
       "Figure(animation_duration=1000, axes=[Axis(scale=LinearScale()), Axis(orientation='vertical', scale=LinearScal…"
      ]
     },
     "execution_count": 4,
     "metadata": {},
     "output_type": "execute_result"
    }
   ],
   "source": [
    "x, y = np.random.rand(2, 10)\n",
    "\n",
    "fig_2 = plt.figure(animation_duration=1000) # 1000 ms or 1s\n",
    "scat = plt.scatter(x=x, y=y)\n",
    "fig_2"
   ]
  },
  {
   "cell_type": "code",
   "execution_count": 5,
   "metadata": {},
   "outputs": [],
   "source": [
    "# update the scatter plot to use animations (1s duration)\n",
    "with scat.hold_sync():\n",
    "    scat.x, scat.y = np.random.rand(2, 10)"
   ]
  },
  {
   "cell_type": "code",
   "execution_count": null,
   "metadata": {},
   "outputs": [],
   "source": []
  }
 ],
 "metadata": {
  "kernelspec": {
   "display_name": ".venv",
   "language": "python",
   "name": "python3"
  },
  "language_info": {
   "codemirror_mode": {
    "name": "ipython",
    "version": 3
   },
   "file_extension": ".py",
   "mimetype": "text/x-python",
   "name": "python",
   "nbconvert_exporter": "python",
   "pygments_lexer": "ipython3",
   "version": "3.11.0"
  },
  "orig_nbformat": 4
 },
 "nbformat": 4,
 "nbformat_minor": 2
}
