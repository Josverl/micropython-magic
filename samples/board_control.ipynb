{
 "cells": [
  {
   "attachments": {},
   "cell_type": "markdown",
   "metadata": {},
   "source": [
    "### Micropython board control\n",
    "\n",
    "Show control of some basic board functions\n"
   ]
  },
  {
   "cell_type": "code",
   "execution_count": 15,
   "metadata": {
    "tags": []
   },
   "outputs": [],
   "source": [
    "%%capture --no-display\n",
    "\n",
    "%load_ext micropython_magic\n",
    "%reload_ext micropython_magic"
   ]
  },
  {
   "cell_type": "code",
   "execution_count": 2,
   "metadata": {
    "tags": []
   },
   "outputs": [
    {
     "name": "stdout",
     "output_type": "stream",
     "text": [
      "\u001b[34m\u001b[1mDEBUG   \u001b[0m | \u001b[36mmicropython_magic.octarine\u001b[0m:\u001b[36mmpy_line\u001b[0m:\u001b[36m220\u001b[0m - \u001b[34m\u001b[1margs=Namespace(statement=[], eval=None, timeout=300, stream=False, list=True, select=None, reset=False, hard_reset=False, info=False)\u001b[0m\n",
      "\u001b[34m\u001b[1mDEBUG   \u001b[0m | \u001b[36mmicropython_magic.mpr\u001b[0m:\u001b[36mrun_cmd\u001b[0m:\u001b[36m54\u001b[0m - \u001b[34m\u001b[1mmpremote connect list\u001b[0m\n",
      "COM3 E46024C7434C552A 2e8a:1003 Microsoft None\n",
      "COM5 82E976144585EC11B88B012C19C2D21C 10c4:ea60 Silicon Labs None\n",
      "COM7 206437A1304E f055:9800 Microsoft None\n",
      "COM8 None 0403:6001 FTDI None\n",
      "['COM3', 'COM5', 'COM7', 'COM8']\n"
     ]
    }
   ],
   "source": [
    "# connect to the last device in the list\n",
    "devices = %mpy --list\n",
    "print('\\n'.join(devices))\n",
    "# use jupyter Slist to select only the first column\n",
    "ports = devices.fields(0)\n",
    "print(ports)"
   ]
  },
  {
   "cell_type": "code",
   "execution_count": 3,
   "metadata": {
    "tags": []
   },
   "outputs": [
    {
     "name": "stdout",
     "output_type": "stream",
     "text": [
      "\u001b[34m\u001b[1mDEBUG   \u001b[0m | \u001b[36mmicropython_magic.octarine\u001b[0m:\u001b[36mmpy_line\u001b[0m:\u001b[36m220\u001b[0m - \u001b[34m\u001b[1margs=Namespace(statement=[], eval=None, timeout=300, stream=False, list=False, select=['COM3'], reset=False, hard_reset=False, info=False)\u001b[0m\n",
      "\u001b[34m\u001b[1mDEBUG   \u001b[0m | \u001b[36mmicropython_magic.octarine\u001b[0m:\u001b[36mmpy_line\u001b[0m:\u001b[36m220\u001b[0m - \u001b[34m\u001b[1margs=Namespace(statement=[], eval=None, timeout=300, stream=False, list=False, select=['COM3'], reset=False, hard_reset=False, info=False)\u001b[0m\n"
     ]
    }
   ],
   "source": [
    "#  select to a specific device\n",
    "%micropython --select {ports[0]}\n",
    "\n",
    "# or using shorthand \n",
    "%mpy -s {ports[0]} "
   ]
  },
  {
   "cell_type": "code",
   "execution_count": 1,
   "metadata": {},
   "outputs": [
    {
     "data": {
      "text/plain": [
       "{'ver': 'v1.19.1',\n",
       " 'version': '1.19.1',\n",
       " 'port': 'rp2',\n",
       " 'mpy': 'v6.1',\n",
       " 'build': '',\n",
       " 'cpu': 'RP2040',\n",
       " 'family': 'micropython',\n",
       " 'board': 'Pimoroni Pico LiPo 16MB with RP2040',\n",
       " 'arch': 'armv6m',\n",
       " 'serial_port': 'auto'}"
      ]
     },
     "execution_count": 1,
     "metadata": {},
     "output_type": "execute_result"
    }
   ],
   "source": [
    "%mpy --info"
   ]
  },
  {
   "cell_type": "code",
   "execution_count": 4,
   "metadata": {},
   "outputs": [
    {
     "name": "stdout",
     "output_type": "stream",
     "text": [
      "\u001b[34m\u001b[1mDEBUG   \u001b[0m | \u001b[36mmicropython_magic.mpr\u001b[0m:\u001b[36mrun_cmd\u001b[0m:\u001b[36m54\u001b[0m - \u001b[34m\u001b[1mmpremote connect COM3 resume  cp C:\\Users\\josverl\\AppData\\Local\\Temp\\tmpcpqi6ukc.py :__magic.py\u001b[0m\n",
      "\u001b[34m\u001b[1mDEBUG   \u001b[0m | \u001b[36mmicropython_magic.mpr\u001b[0m:\u001b[36mrun_cmd\u001b[0m:\u001b[36m54\u001b[0m - \u001b[34m\u001b[1mmpremote connect COM3 resume  exec \"exec( open('__magic.py').read() , globals() )\"\u001b[0m\n",
      "(sysname='rp2', nodename='rp2', release='1.19.1', version='67fac4e on 2023-02-16 (GNU 9.2.1 MinSizeRel)', machine='Pimoroni Pico LiPo 16MB with RP2040')\n",
      "['__magic.py']\n",
      "42\n"
     ]
    }
   ],
   "source": [
    "# %%micropython\n",
    "import os\n",
    "\n",
    "print(os.uname())\n",
    "print(os.listdir(\".\"))\n",
    "x = 2 * 3 * 7\n",
    "print(x)"
   ]
  },
  {
   "cell_type": "code",
   "execution_count": 5,
   "metadata": {},
   "outputs": [
    {
     "name": "stdout",
     "output_type": "stream",
     "text": [
      "\u001b[34m\u001b[1mDEBUG   \u001b[0m | \u001b[36mmicropython_magic.octarine\u001b[0m:\u001b[36mmpy_line\u001b[0m:\u001b[36m220\u001b[0m - \u001b[34m\u001b[1margs=Namespace(statement=[], eval=None, timeout=300, stream=False, list=False, select=['COM8'], reset=False, hard_reset=False, info=False)\u001b[0m\n"
     ]
    }
   ],
   "source": [
    "# select to the last device in the list\n",
    "%micropython --select {ports[-1]}"
   ]
  },
  {
   "cell_type": "code",
   "execution_count": 6,
   "metadata": {},
   "outputs": [
    {
     "name": "stdout",
     "output_type": "stream",
     "text": [
      "\u001b[34m\u001b[1mDEBUG   \u001b[0m | \u001b[36mmicropython_magic.mpr\u001b[0m:\u001b[36mrun_cmd\u001b[0m:\u001b[36m54\u001b[0m - \u001b[34m\u001b[1mmpremote connect COM8 resume  cp C:\\Users\\josverl\\AppData\\Local\\Temp\\tmpyfkkprr9.py :__magic.py\u001b[0m\n",
      "\u001b[34m\u001b[1mDEBUG   \u001b[0m | \u001b[36mmicropython_magic.mpr\u001b[0m:\u001b[36mrun_cmd\u001b[0m:\u001b[36m54\u001b[0m - \u001b[34m\u001b[1mmpremote connect COM8 resume  exec \"exec( open('__magic.py').read() , globals() )\"\u001b[0m\n",
      "(sysname='esp32', nodename='esp32', release='1.13.0', version='v1.13-266-g069557ede on 2020-12-22', machine='ESP32 module with ESP32')\n",
      "['__magic.py', 'boot.py', 'lib', 'temp.py', 'webrepl_cfg.py']\n",
      "42\n"
     ]
    }
   ],
   "source": [
    "# %%micropython\n",
    "import os\n",
    "\n",
    "print(os.uname())\n",
    "print(os.listdir(\".\"))\n",
    "x = 2 * 3 * 7\n",
    "print(x)"
   ]
  },
  {
   "attachments": {},
   "cell_type": "markdown",
   "metadata": {},
   "source": [
    "Turn on the LED connected to Pin 25 ( the built in LED on the RP2 Pico board )"
   ]
  },
  {
   "cell_type": "code",
   "execution_count": 7,
   "metadata": {},
   "outputs": [
    {
     "name": "stdout",
     "output_type": "stream",
     "text": [
      "\u001b[34m\u001b[1mDEBUG   \u001b[0m | \u001b[36mmicropython_magic.mpr\u001b[0m:\u001b[36mrun_cmd\u001b[0m:\u001b[36m54\u001b[0m - \u001b[34m\u001b[1mmpremote connect COM8 resume  cp C:\\Users\\josverl\\AppData\\Local\\Temp\\tmpq4tre6tq.py :__magic.py\u001b[0m\n",
      "\u001b[34m\u001b[1mDEBUG   \u001b[0m | \u001b[36mmicropython_magic.mpr\u001b[0m:\u001b[36mrun_cmd\u001b[0m:\u001b[36m54\u001b[0m - \u001b[34m\u001b[1mmpremote connect COM8 resume  exec \"exec( open('__magic.py').read() , globals() )\"\u001b[0m\n"
     ]
    }
   ],
   "source": [
    "# %%micropython\n",
    "from machine import Pin\n",
    "\n",
    "led = Pin(25, Pin.OUT)\n",
    "led.value(1)\n",
    "led.value()"
   ]
  },
  {
   "attachments": {},
   "cell_type": "markdown",
   "metadata": {},
   "source": [
    "Blink the led 5 times with a 0.5 second delay between each blink"
   ]
  },
  {
   "cell_type": "code",
   "execution_count": 8,
   "metadata": {},
   "outputs": [
    {
     "name": "stdout",
     "output_type": "stream",
     "text": [
      "\u001b[34m\u001b[1mDEBUG   \u001b[0m | \u001b[36mmicropython_magic.mpr\u001b[0m:\u001b[36mrun_cmd\u001b[0m:\u001b[36m54\u001b[0m - \u001b[34m\u001b[1mmpremote connect COM8 resume  cp C:\\Users\\josverl\\AppData\\Local\\Temp\\tmp5jo08v7j.py :__magic.py\u001b[0m\n",
      "\u001b[34m\u001b[1mDEBUG   \u001b[0m | \u001b[36mmicropython_magic.mpr\u001b[0m:\u001b[36mrun_cmd\u001b[0m:\u001b[36m54\u001b[0m - \u001b[34m\u001b[1mmpremote connect COM8 resume  exec \"exec( open('__magic.py').read() , globals() )\"\u001b[0m\n"
     ]
    }
   ],
   "source": [
    "%%micropython\n",
    "from machine import Pin\n",
    "\n",
    "led = Pin(25, Pin.OUT)\n",
    "import time\n",
    "\n",
    "for _ in range(5):\n",
    "    led.value(0)\n",
    "    time.sleep(0.25)\n",
    "    led.value(1)\n",
    "    time.sleep(0.25)"
   ]
  },
  {
   "attachments": {},
   "cell_type": "markdown",
   "metadata": {},
   "source": [
    "Use '# %%micropython' to enable syntax highlighting. The comment `#` enables the syntax highlighting for the whole cell.\n",
    "\n",
    "Alternative notations are : \n",
    "\n",
    "- `# %%micropython` \n",
    "- `# ! %%micropython`\n",
    "- `#%%mpy`\n",
    "- `#!%%mpy`\n",
    "\n"
   ]
  },
  {
   "cell_type": "code",
   "execution_count": 9,
   "metadata": {},
   "outputs": [
    {
     "name": "stdout",
     "output_type": "stream",
     "text": [
      "\u001b[34m\u001b[1mDEBUG   \u001b[0m | \u001b[36mmicropython_magic.mpr\u001b[0m:\u001b[36mrun_cmd\u001b[0m:\u001b[36m54\u001b[0m - \u001b[34m\u001b[1mmpremote connect COM8 resume  cp C:\\Users\\josverl\\AppData\\Local\\Temp\\tmp1g3r2o7_.py :__magic.py\u001b[0m\n",
      "\u001b[34m\u001b[1mDEBUG   \u001b[0m | \u001b[36mmicropython_magic.mpr\u001b[0m:\u001b[36mrun_cmd\u001b[0m:\u001b[36m54\u001b[0m - \u001b[34m\u001b[1mmpremote connect COM8 resume  exec \"exec( open('__magic.py').read() , globals() )\"\u001b[0m\n"
     ]
    }
   ],
   "source": [
    "# %%micropython\n",
    "# Use '# %%micropython' to enable syntax highlighting\n",
    "from machine import Pin\n",
    "\n",
    "led = Pin(25, Pin.OUT)\n",
    "import time\n",
    "\n",
    "for _ in range(5):\n",
    "    led.value(0)\n",
    "    time.sleep(0.25)\n",
    "    led.value(1)\n",
    "    time.sleep(0.25)"
   ]
  },
  {
   "cell_type": "code",
   "execution_count": 10,
   "metadata": {
    "scrolled": true
   },
   "outputs": [
    {
     "name": "stdout",
     "output_type": "stream",
     "text": [
      "\u001b[34m\u001b[1mDEBUG   \u001b[0m | \u001b[36mmicropython_magic.mpr\u001b[0m:\u001b[36mrun_cmd\u001b[0m:\u001b[36m54\u001b[0m - \u001b[34m\u001b[1mmpremote connect COM8 resume  cp C:\\Users\\josverl\\AppData\\Local\\Temp\\tmp0b5xz13t.py :__magic.py\u001b[0m\n",
      "\u001b[34m\u001b[1mDEBUG   \u001b[0m | \u001b[36mmicropython_magic.mpr\u001b[0m:\u001b[36mrun_cmd\u001b[0m:\u001b[36m54\u001b[0m - \u001b[34m\u001b[1mmpremote connect COM8 resume  exec \"exec( open('__magic.py').read() , globals() )\"\u001b[0m\n",
      "stack: 1360 out of 15360\n",
      "GC: total: 111168, used: 32032, free: 79136\n",
      " No. of 1-blocks: 200, 2-blocks: 46, max blk sz: 158, max free sz: 4928\n",
      "None\n"
     ]
    }
   ],
   "source": [
    "# %%micropython\n",
    "import micropython\n",
    "\n",
    "print(micropython.mem_info())"
   ]
  },
  {
   "attachments": {},
   "cell_type": "markdown",
   "metadata": {},
   "source": [
    "`%% micropython --writefile filename.py`\n",
    "will write the contents of the cell to the specified path and file on the micropython board.\n",
    "\n",
    "\n",
    "It will not be executed unless you explicitly import or run it with `%micropython import filename`\n"
   ]
  },
  {
   "cell_type": "code",
   "execution_count": 11,
   "metadata": {},
   "outputs": [
    {
     "name": "stdout",
     "output_type": "stream",
     "text": [
      "\u001b[34m\u001b[1mDEBUG   \u001b[0m | \u001b[36mmicropython_magic.octarine\u001b[0m:\u001b[36mmicropython\u001b[0m:\u001b[36m143\u001b[0m - \u001b[34m\u001b[1margs=Namespace(writefile='blink_neo.py', readfile=None, new=False, timeout=300, select=None, reset=False, hard_reset=False)\u001b[0m\n",
      "\u001b[34m\u001b[1mDEBUG   \u001b[0m | \u001b[36mmicropython_magic.octarine\u001b[0m:\u001b[36mmicropython\u001b[0m:\u001b[36m152\u001b[0m - \u001b[34m\u001b[1margs.writefile='blink_neo.py'\u001b[0m\n",
      "\u001b[34m\u001b[1mDEBUG   \u001b[0m | \u001b[36mmicropython_magic.mpr\u001b[0m:\u001b[36mrun_cmd\u001b[0m:\u001b[36m54\u001b[0m - \u001b[34m\u001b[1mmpremote connect COM8 resume  cp C:\\Users\\josverl\\AppData\\Local\\Temp\\tmpu9u_vsup.py :blink_neo.py\u001b[0m\n"
     ]
    }
   ],
   "source": [
    "# %%micropython --writefile blink_neo.py\n",
    "# blink the neopixel led on GPIO48\n",
    "from machine import Pin\n",
    "from neopixel import NeoPixel\n",
    "import time\n",
    "\n",
    "LED = Pin(48, Pin.OUT)\n",
    "np = NeoPixel(LED, 1)\n",
    "\n",
    "\n",
    "def new_func(np, c=(255, 255, 255)):\n",
    "    np[0] = c\n",
    "    np.write()\n",
    "\n",
    "\n",
    "new_func(np, (255, 0, 0))\n",
    "time.sleep(1)\n",
    "new_func(np, (0, 255, 0))\n",
    "time.sleep(1)\n",
    "new_func(np, (0, 0, 255))\n",
    "time.sleep(1)\n",
    "new_func(np, (10, 10, 10))"
   ]
  },
  {
   "cell_type": "code",
   "execution_count": 12,
   "metadata": {},
   "outputs": [
    {
     "name": "stdout",
     "output_type": "stream",
     "text": [
      "\u001b[34m\u001b[1mDEBUG   \u001b[0m | \u001b[36mmicropython_magic.octarine\u001b[0m:\u001b[36mmicropython\u001b[0m:\u001b[36m143\u001b[0m - \u001b[34m\u001b[1margs=Namespace(writefile='blink.py', readfile=None, new=False, timeout=300, select=None, reset=False, hard_reset=False)\u001b[0m\n",
      "\u001b[34m\u001b[1mDEBUG   \u001b[0m | \u001b[36mmicropython_magic.octarine\u001b[0m:\u001b[36mmicropython\u001b[0m:\u001b[36m152\u001b[0m - \u001b[34m\u001b[1margs.writefile='blink.py'\u001b[0m\n",
      "\u001b[34m\u001b[1mDEBUG   \u001b[0m | \u001b[36mmicropython_magic.mpr\u001b[0m:\u001b[36mrun_cmd\u001b[0m:\u001b[36m54\u001b[0m - \u001b[34m\u001b[1mmpremote connect COM8 resume  cp C:\\Users\\josverl\\AppData\\Local\\Temp\\tmprqyu1b97.py :blink.py\u001b[0m\n"
     ]
    }
   ],
   "source": [
    "# %%micropython --writefile blink.py\n",
    "\"\"\"Blinks the led on Pin 25 - rp2040\"\"\"\n",
    "from machine import Pin\n",
    "\n",
    "led = Pin(25, Pin.OUT)\n",
    "import time\n",
    "\n",
    "for _ in range(5):\n",
    "    led.value(0)\n",
    "    time.sleep(0.25)\n",
    "    led.value(1)\n",
    "    time.sleep(0.25)"
   ]
  },
  {
   "cell_type": "code",
   "execution_count": 13,
   "metadata": {},
   "outputs": [
    {
     "name": "stdout",
     "output_type": "stream",
     "text": [
      "\u001b[34m\u001b[1mDEBUG   \u001b[0m | \u001b[36mmicropython_magic.mpr\u001b[0m:\u001b[36mrun_cmd\u001b[0m:\u001b[36m54\u001b[0m - \u001b[34m\u001b[1mmpremote connect COM8 resume  cp C:\\Users\\josverl\\AppData\\Local\\Temp\\tmpdcyy37se.py :__magic.py\u001b[0m\n",
      "\u001b[34m\u001b[1mDEBUG   \u001b[0m | \u001b[36mmicropython_magic.mpr\u001b[0m:\u001b[36mrun_cmd\u001b[0m:\u001b[36m54\u001b[0m - \u001b[34m\u001b[1mmpremote connect COM8 resume  exec \"exec( open('__magic.py').read() , globals() )\"\u001b[0m\n"
     ]
    }
   ],
   "source": [
    "# %%micropython\n",
    "import blink"
   ]
  },
  {
   "cell_type": "code",
   "execution_count": 14,
   "metadata": {},
   "outputs": [
    {
     "name": "stdout",
     "output_type": "stream",
     "text": [
      "\u001b[34m\u001b[1mDEBUG   \u001b[0m | \u001b[36mmicropython_magic.octarine\u001b[0m:\u001b[36mmicropython\u001b[0m:\u001b[36m143\u001b[0m - \u001b[34m\u001b[1margs=Namespace(writefile=None, readfile=None, new=False, timeout=300, select=None, reset=True, hard_reset=False)\u001b[0m\n",
      "\u001b[34m\u001b[1mDEBUG   \u001b[0m | \u001b[36mmicropython_magic.mpr\u001b[0m:\u001b[36mrun_cmd\u001b[0m:\u001b[36m54\u001b[0m - \u001b[34m\u001b[1mmpremote connect COM8 resume  soft-reset eval True\u001b[0m\n",
      "True\n",
      "\u001b[34m\u001b[1mDEBUG   \u001b[0m | \u001b[36mmicropython_magic.mpr\u001b[0m:\u001b[36mrun_cmd\u001b[0m:\u001b[36m54\u001b[0m - \u001b[34m\u001b[1mmpremote connect COM8 resume  cp C:\\Users\\josverl\\AppData\\Local\\Temp\\tmptvs0p16i.py :__magic.py\u001b[0m\n",
      "\u001b[34m\u001b[1mDEBUG   \u001b[0m | \u001b[36mmicropython_magic.mpr\u001b[0m:\u001b[36mrun_cmd\u001b[0m:\u001b[36m54\u001b[0m - \u001b[34m\u001b[1mmpremote connect COM8 resume  exec \"exec( open('__magic.py').read() , globals() )\"\u001b[0m\n"
     ]
    }
   ],
   "source": [
    "# %%micropython --reset\n",
    "\n",
    "import blink"
   ]
  }
 ],
 "metadata": {
  "kernelspec": {
   "display_name": "Python 3 (ipykernel)",
   "language": "python",
   "name": "python3"
  },
  "language_info": {
   "codemirror_mode": {
    "name": "ipython",
    "version": 3
   },
   "file_extension": ".py",
   "mimetype": "text/x-python",
   "name": "python",
   "nbconvert_exporter": "python",
   "pygments_lexer": "ipython3",
   "version": "3.11.0"
  }
 },
 "nbformat": 4,
 "nbformat_minor": 4
}
