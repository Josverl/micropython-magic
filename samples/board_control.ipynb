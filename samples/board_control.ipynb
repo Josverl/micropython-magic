{
 "cells": [
  {
   "cell_type": "markdown",
   "metadata": {},
   "source": [
    "### Micropython board control\n",
    "\n",
    "Show control of some basic board functions"
   ]
  },
  {
   "cell_type": "code",
   "execution_count": 1,
   "metadata": {
    "tags": []
   },
   "outputs": [],
   "source": [
    "%%capture --no-display\n",
    "\n",
    "%load_ext micropython_magic\n",
    "%reload_ext micropython_magic"
   ]
  },
  {
   "cell_type": "code",
   "execution_count": 2,
   "metadata": {
    "tags": []
   },
   "outputs": [
    {
     "name": "stdout",
     "output_type": "stream",
     "text": [
      "COM3 018ADB6C 10c4:ea60 Silicon Labs None\n",
      "COM5 E46024C7434C552A 2e8a:1003 Microsoft None\n",
      "['COM3', 'COM5']\n"
     ]
    }
   ],
   "source": [
    "# connect to the last device in the list\n",
    "devices = %list_devices\n",
    "print('\\n'.join(devices))\n",
    "# use jupyter Slist to select only the first column\n",
    "ports = devices.fields(0)\n",
    "print(ports)"
   ]
  },
  {
   "cell_type": "code",
   "execution_count": 3,
   "metadata": {
    "tags": []
   },
   "outputs": [
    {
     "data": {
      "text/plain": [
       "'Checking connection to MCU on port COM3.'"
      ]
     },
     "execution_count": 3,
     "metadata": {},
     "output_type": "execute_result"
    }
   ],
   "source": [
    "#  select to a specific device\n",
    "%select {ports[0]}"
   ]
  },
  {
   "cell_type": "code",
   "execution_count": 4,
   "metadata": {},
   "outputs": [
    {
     "data": {
      "text/plain": [
       "failed to access COM3 (it may be in use by another program)"
      ]
     },
     "execution_count": 4,
     "metadata": {},
     "output_type": "execute_result"
    }
   ],
   "source": [
    "%%micropython\n",
    "import os\n",
    "print(os.listdir('.'))\n",
    "print(os.uname().sysname)\n",
    "x = 1"
   ]
  },
  {
   "cell_type": "code",
   "execution_count": 5,
   "metadata": {},
   "outputs": [
    {
     "data": {
      "text/plain": [
       "'failed to access COM3 (it may be in use by another program)'"
      ]
     },
     "execution_count": 5,
     "metadata": {},
     "output_type": "execute_result"
    }
   ],
   "source": [
    "# select to the last device in the list\n",
    "%select {ports[-1]}"
   ]
  },
  {
   "cell_type": "code",
   "execution_count": 6,
   "metadata": {},
   "outputs": [
    {
     "data": {
      "text/plain": [
       "['__magic.py', 'temp.py']\n",
       "(sysname='rp2', nodename='rp2', release='1.19.1', version='67fac4e on 2023-02-16 (GNU 9.2.1 MinSizeRel)', machine='Pimoroni Pico LiPo 16MB with RP2040')"
      ]
     },
     "execution_count": 6,
     "metadata": {},
     "output_type": "execute_result"
    }
   ],
   "source": [
    "%%micropython\n",
    "import os\n",
    "print(os.listdir('.'))\n",
    "print(os.uname())\n",
    "x = 1"
   ]
  },
  {
   "cell_type": "code",
   "execution_count": 7,
   "metadata": {},
   "outputs": [
    {
     "data": {
      "text/plain": []
     },
     "execution_count": 7,
     "metadata": {},
     "output_type": "execute_result"
    }
   ],
   "source": [
    "%%micropython\n",
    "from machine import Pin\n",
    "led = Pin(25, Pin.OUT)\n",
    "led.value(1)"
   ]
  },
  {
   "cell_type": "code",
   "execution_count": 8,
   "metadata": {},
   "outputs": [
    {
     "data": {
      "text/plain": []
     },
     "execution_count": 8,
     "metadata": {},
     "output_type": "execute_result"
    }
   ],
   "source": [
    "%%micropython\n",
    "# blink the led\n",
    "import time\n",
    "for _ in range(5):\n",
    "    led.value(0)\n",
    "    time.sleep(0.25)\n",
    "    led.value(1)\n",
    "    time.sleep(0.25)"
   ]
  },
  {
   "cell_type": "code",
   "execution_count": 9,
   "metadata": {
    "scrolled": true
   },
   "outputs": [
    {
     "data": {
      "text/plain": [
       "stack: 972 out of 7936\n",
       "GC: total: 192064, used: 18704, free: 173360\n",
       " No. of 1-blocks: 188, 2-blocks: 34, max blk sz: 72, max free sz: 10818\n",
       "None"
      ]
     },
     "execution_count": 9,
     "metadata": {},
     "output_type": "execute_result"
    }
   ],
   "source": [
    "%%micropython \n",
    "import gc\n",
    "import micropython\n",
    "print(micropython.mem_info())"
   ]
  },
  {
   "cell_type": "code",
   "execution_count": null,
   "metadata": {},
   "outputs": [],
   "source": []
  }
 ],
 "metadata": {
  "kernelspec": {
   "display_name": "Python 3 (ipykernel)",
   "language": "python",
   "name": "python3"
  },
  "language_info": {
   "codemirror_mode": {
    "name": "ipython",
    "version": 3
   },
   "file_extension": ".py",
   "mimetype": "text/x-python",
   "name": "python",
   "nbconvert_exporter": "python",
   "pygments_lexer": "ipython3",
   "version": "3.11.0"
  }
 },
 "nbformat": 4,
 "nbformat_minor": 4
}
