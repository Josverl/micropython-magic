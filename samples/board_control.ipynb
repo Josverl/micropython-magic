{
 "cells": [
  {
   "attachments": {},
   "cell_type": "markdown",
   "metadata": {},
   "source": [
    "### Micropython board control\n",
    "\n",
    "Show control of some basic board functions\n"
   ]
  },
  {
   "cell_type": "code",
   "execution_count": 1,
   "metadata": {
    "tags": []
   },
   "outputs": [],
   "source": [
    "%%capture --no-display\n",
    "\n",
    "%load_ext micropython_magic\n",
    "%reload_ext micropython_magic"
   ]
  },
  {
   "cell_type": "code",
   "execution_count": 2,
   "metadata": {
    "tags": []
   },
   "outputs": [
    {
     "name": "stdout",
     "output_type": "stream",
     "text": [
      "COM3 E46024C7434C552A 2e8a:1003 Microsoft None\n",
      "['COM3']\n"
     ]
    }
   ],
   "source": [
    "# connect to the last device in the list\n",
    "devices = %mpy --list\n",
    "print('\\n'.join(devices))\n",
    "# use jupyter Slist to select only the first column\n",
    "ports = devices.fields(0)\n",
    "print(ports)"
   ]
  },
  {
   "cell_type": "code",
   "execution_count": 18,
   "metadata": {
    "tags": []
   },
   "outputs": [],
   "source": [
    "#  select to a specific device\n",
    "%micropython --select {ports[0]}\n",
    "\n",
    "# or using shorthand \n",
    "%mpy -s {ports[0]} \n",
    "\n",
    "# or\n",
    "%mpy --select auto\n"
   ]
  },
  {
   "cell_type": "code",
   "execution_count": 4,
   "metadata": {},
   "outputs": [
    {
     "data": {
      "text/plain": [
       "{'ver': 'v1.20.0',\n",
       " 'version': '1.20.0',\n",
       " 'port': 'rp2',\n",
       " 'mpy': 'v6.1',\n",
       " 'build': '',\n",
       " 'cpu': 'RP2040',\n",
       " 'family': 'micropython',\n",
       " 'board': 'Pimoroni Pico LiPo 16MB with RP2040',\n",
       " 'arch': 'armv6m',\n",
       " 'serial_port': 'COM3'}"
      ]
     },
     "execution_count": 4,
     "metadata": {},
     "output_type": "execute_result"
    }
   ],
   "source": [
    "%mpy --info"
   ]
  },
  {
   "cell_type": "code",
   "execution_count": 5,
   "metadata": {},
   "outputs": [
    {
     "name": "stdout",
     "output_type": "stream",
     "text": [
      "(sysname='rp2', nodename='rp2', release='1.20.0', version='v1.20.0 on 2023-04-26 (GNU 12.1.0 MinSizeRel)', machine='Pimoroni Pico LiPo 16MB with RP2040')\n",
      "['AWG_v1.py', '__magic.py', 'blink.py', 'blink_neo.py', 'boot.py', 'cool.py', 'dmx_pio.py', 'exec.py', 'feed.py', 'foo.py', 'lib', 'main.py', 'pio_1hz.py', 'pymakr.conf', 'send.py', 'typing.py']\n",
      "42\n"
     ]
    }
   ],
   "source": [
    "# %%micropython\n",
    "import os\n",
    "\n",
    "print(os.uname())\n",
    "print(os.listdir(\".\"))\n",
    "x = 2 * 3 * 7\n",
    "print(x)"
   ]
  },
  {
   "cell_type": "code",
   "execution_count": 6,
   "metadata": {},
   "outputs": [],
   "source": [
    "# select to the last device in the list\n",
    "%micropython --select {ports[-1]}"
   ]
  },
  {
   "cell_type": "code",
   "execution_count": 7,
   "metadata": {},
   "outputs": [
    {
     "name": "stdout",
     "output_type": "stream",
     "text": [
      "(sysname='rp2', nodename='rp2', release='1.20.0', version='v1.20.0 on 2023-04-26 (GNU 12.1.0 MinSizeRel)', machine='Pimoroni Pico LiPo 16MB with RP2040')\n",
      "['AWG_v1.py', '__magic.py', 'blink.py', 'blink_neo.py', 'boot.py', 'cool.py', 'dmx_pio.py', 'exec.py', 'feed.py', 'foo.py', 'lib', 'main.py', 'pio_1hz.py', 'pymakr.conf', 'send.py', 'typing.py']\n",
      "42\n"
     ]
    }
   ],
   "source": [
    "# %%micropython\n",
    "import os\n",
    "\n",
    "print(os.uname())\n",
    "print(os.listdir(\".\"))\n",
    "x = 2 * 3 * 7\n",
    "print(x)"
   ]
  },
  {
   "attachments": {},
   "cell_type": "markdown",
   "metadata": {},
   "source": [
    "Turn on the LED connected to Pin 25 ( the built in LED on the RP2 Pico board )\n"
   ]
  },
  {
   "cell_type": "code",
   "execution_count": 8,
   "metadata": {},
   "outputs": [],
   "source": [
    "# %%micropython\n",
    "from machine import Pin\n",
    "\n",
    "led = Pin(25, Pin.OUT)\n",
    "led.value(1)\n",
    "led.value()"
   ]
  },
  {
   "attachments": {},
   "cell_type": "markdown",
   "metadata": {},
   "source": [
    "Blink the led 5 times with a 0.5 second delay between each blink\n"
   ]
  },
  {
   "cell_type": "code",
   "execution_count": 9,
   "metadata": {},
   "outputs": [],
   "source": [
    "%%micropython\n",
    "from machine import Pin\n",
    "\n",
    "led = Pin(25, Pin.OUT)\n",
    "import time\n",
    "\n",
    "for _ in range(5):\n",
    "    led.value(0)\n",
    "    time.sleep(0.25)\n",
    "    led.value(1)\n",
    "    time.sleep(0.25)"
   ]
  },
  {
   "attachments": {},
   "cell_type": "markdown",
   "metadata": {},
   "source": [
    "Use '# %%micropython' to enable syntax highlighting. The comment `#` enables the syntax highlighting for the whole cell.\n",
    "\n",
    "Alternative notations are :\n",
    "\n",
    "- `# %%micropython`\n",
    "- `# ! %%micropython`\n",
    "- `#%%mpy`\n",
    "- `#!%%mpy`\n"
   ]
  },
  {
   "cell_type": "code",
   "execution_count": 10,
   "metadata": {},
   "outputs": [],
   "source": [
    "# %%micropython\n",
    "# Use '# %%micropython' to enable syntax highlighting\n",
    "from machine import Pin\n",
    "\n",
    "led = Pin(25, Pin.OUT)\n",
    "import time\n",
    "\n",
    "for _ in range(5):\n",
    "    led.value(0)\n",
    "    time.sleep(0.25)\n",
    "    led.value(1)\n",
    "    time.sleep(0.25)"
   ]
  },
  {
   "cell_type": "code",
   "execution_count": 11,
   "metadata": {
    "scrolled": true
   },
   "outputs": [
    {
     "name": "stdout",
     "output_type": "stream",
     "text": [
      "stack: 1004 out of 7936\n",
      "GC: total: 226560, used: 34496, free: 192064\n",
      " No. of 1-blocks: 385, 2-blocks: 80, max blk sz: 72, max free sz: 11986\n",
      "None\n"
     ]
    }
   ],
   "source": [
    "# %%micropython\n",
    "import micropython\n",
    "\n",
    "print(micropython.mem_info())"
   ]
  },
  {
   "attachments": {},
   "cell_type": "markdown",
   "metadata": {},
   "source": [
    "`%% micropython --writefile filename.py`\n",
    "will write the contents of the cell to the specified path and file on the micropython board.\n",
    "\n",
    "It will not be executed unless you explicitly import or run it with `%micropython import filename`\n"
   ]
  },
  {
   "cell_type": "code",
   "execution_count": 12,
   "metadata": {},
   "outputs": [],
   "source": [
    "# %%micropython --writefile blink_neo.py\n",
    "# blink the neopixel led on GPIO48\n",
    "from machine import Pin\n",
    "from neopixel import NeoPixel\n",
    "import time\n",
    "\n",
    "LED = Pin(48, Pin.OUT)\n",
    "np = NeoPixel(LED, 1)\n",
    "\n",
    "\n",
    "def new_func(np, c=(255, 255, 255)):\n",
    "    np[0] = c\n",
    "    np.write()\n",
    "\n",
    "\n",
    "new_func(np, (255, 0, 0))\n",
    "time.sleep(1)\n",
    "new_func(np, (0, 255, 0))\n",
    "time.sleep(1)\n",
    "new_func(np, (0, 0, 255))\n",
    "time.sleep(1)\n",
    "new_func(np, (10, 10, 10))"
   ]
  },
  {
   "cell_type": "code",
   "execution_count": 13,
   "metadata": {},
   "outputs": [],
   "source": [
    "# %%micropython --writefile blink.py\n",
    "\"\"\"Blinks the led on Pin 25 - rp2040\"\"\"\n",
    "from machine import Pin\n",
    "\n",
    "led = Pin(25, Pin.OUT)\n",
    "import time\n",
    "\n",
    "for _ in range(5):\n",
    "    led.value(0)\n",
    "    time.sleep(0.25)\n",
    "    led.value(1)\n",
    "    time.sleep(0.25)"
   ]
  },
  {
   "cell_type": "code",
   "execution_count": 14,
   "metadata": {},
   "outputs": [],
   "source": [
    "# %%micropython\n",
    "import blink"
   ]
  },
  {
   "cell_type": "code",
   "execution_count": 1,
   "metadata": {},
   "outputs": [
    {
     "name": "stdout",
     "output_type": "stream",
     "text": [
      "True\n"
     ]
    }
   ],
   "source": [
    "# %%micropython --reset\n",
    "\n",
    "import blink"
   ]
  }
 ],
 "metadata": {
  "kernelspec": {
   "display_name": "Python 3 (ipykernel)",
   "language": "python",
   "name": "python3"
  },
  "language_info": {
   "codemirror_mode": {
    "name": "ipython",
    "version": 3
   },
   "file_extension": ".py",
   "mimetype": "text/x-python",
   "name": "python",
   "nbconvert_exporter": "python",
   "pygments_lexer": "ipython3",
   "version": "3.11.7"
  }
 },
 "nbformat": 4,
 "nbformat_minor": 4
}
