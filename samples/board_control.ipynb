{
 "cells": [
  {
   "attachments": {},
   "cell_type": "markdown",
   "metadata": {},
   "source": [
    "### Micropython board control\n",
    "\n",
    "Show control of some basic board functions\n"
   ]
  },
  {
   "cell_type": "code",
   "execution_count": 1,
   "metadata": {
    "tags": []
   },
   "outputs": [],
   "source": [
    "%%capture --no-display\n",
    "\n",
    "# %load_ext micropython_magic\n",
    "# %reload_ext micropython_magic"
   ]
  },
  {
   "cell_type": "code",
   "execution_count": 2,
   "metadata": {
    "tags": []
   },
   "outputs": [
    {
     "name": "stdout",
     "output_type": "stream",
     "text": [
      "COM4 E661410403600E38 2e8a:0005 Microsoft None\n",
      "['COM4']\n"
     ]
    }
   ],
   "source": [
    "# connect to the last device in the list\n",
    "devices = %mpy --list\n",
    "print('\\n'.join(devices))\n",
    "# use jupyter Slist to select only the first column\n",
    "ports = devices.fields(0)\n",
    "print(ports)"
   ]
  },
  {
   "cell_type": "code",
   "execution_count": 3,
   "metadata": {
    "tags": []
   },
   "outputs": [
    {
     "name": "stdout",
     "output_type": "stream",
     "text": [
      "\u001b[33m\u001b[1mWARNING \u001b[0m | \u001b[36mmicropython_magic.octarine\u001b[0m:\u001b[36mmpy_line\u001b[0m:\u001b[36m237\u001b[0m - \u001b[33m\u001b[1margs.select=['COM4'] not yet implemented\u001b[0m\n"
     ]
    }
   ],
   "source": [
    "#  select to a specific device\n",
    "%mpy --select {ports[0]}\n",
    "\n",
    "# %micropython --select {ports[0]} "
   ]
  },
  {
   "cell_type": "code",
   "execution_count": 4,
   "metadata": {},
   "outputs": [
    {
     "data": {
      "application/json": "",
      "text/plain": [
       "[\"['__magic.py', 'blink.py', 'lib']\", 'rp2']"
      ]
     },
     "execution_count": 4,
     "metadata": {},
     "output_type": "execute_result"
    }
   ],
   "source": [
    "# %%micropython\n",
    "import os\n",
    "\n",
    "print(os.listdir(\".\"))\n",
    "print(os.uname().sysname)\n",
    "x = 1"
   ]
  },
  {
   "cell_type": "code",
   "execution_count": 5,
   "metadata": {},
   "outputs": [
    {
     "name": "stdout",
     "output_type": "stream",
     "text": [
      "\u001b[33m\u001b[1mWARNING \u001b[0m | \u001b[36mmicropython_magic.octarine\u001b[0m:\u001b[36mmpy_line\u001b[0m:\u001b[36m237\u001b[0m - \u001b[33m\u001b[1margs.select=['COM4'] not yet implemented\u001b[0m\n"
     ]
    }
   ],
   "source": [
    "# select to the last device in the list\n",
    "%mpy --select {ports[-1]}"
   ]
  },
  {
   "cell_type": "code",
   "execution_count": 6,
   "metadata": {},
   "outputs": [
    {
     "data": {
      "application/json": "",
      "text/plain": [
       "[\"['__magic.py', 'blink.py', 'lib']\", \"(sysname='rp2', nodename='rp2', release='1.20.0', version='v1.20.0 on 2023-04-26 (GNU 12.1.0 MinSizeRel)', machine='W5500-EVB-Pico with RP2040')\"]"
      ]
     },
     "execution_count": 6,
     "metadata": {},
     "output_type": "execute_result"
    }
   ],
   "source": [
    "%%micropython\n",
    "import os\n",
    "print(os.listdir('.'))\n",
    "print(os.uname())\n",
    "x = 1"
   ]
  },
  {
   "cell_type": "code",
   "execution_count": 7,
   "metadata": {},
   "outputs": [
    {
     "data": {
      "application/json": "",
      "text/plain": [
       "[]"
      ]
     },
     "execution_count": 7,
     "metadata": {},
     "output_type": "execute_result"
    }
   ],
   "source": [
    "# %%micropython\n",
    "from machine import Pin\n",
    "\n",
    "led = Pin(25, Pin.OUT)\n",
    "led.value(1)"
   ]
  },
  {
   "cell_type": "code",
   "execution_count": 8,
   "metadata": {},
   "outputs": [
    {
     "data": {
      "application/json": "",
      "text/plain": [
       "[]"
      ]
     },
     "execution_count": 8,
     "metadata": {},
     "output_type": "execute_result"
    }
   ],
   "source": [
    "# %%micropython\n",
    "# blink the led\n",
    "from machine import Pin\n",
    "\n",
    "led = Pin(25, Pin.OUT)\n",
    "import time\n",
    "\n",
    "for _ in range(5):\n",
    "    led.value(0)\n",
    "    time.sleep(0.25)\n",
    "    led.value(1)\n",
    "    time.sleep(0.25)"
   ]
  },
  {
   "cell_type": "code",
   "execution_count": 9,
   "metadata": {},
   "outputs": [
    {
     "data": {
      "application/json": "",
      "text/plain": [
       "[]"
      ]
     },
     "execution_count": 9,
     "metadata": {},
     "output_type": "execute_result"
    }
   ],
   "source": [
    "# %%micropython\n",
    "# Use '# %%micropython' to enable syntax highlighting\n",
    "from machine import Pin\n",
    "\n",
    "led = Pin(25, Pin.OUT)\n",
    "import time\n",
    "\n",
    "for _ in range(5):\n",
    "    led.value(0)\n",
    "    time.sleep(0.25)\n",
    "    led.value(1)\n",
    "    time.sleep(0.25)"
   ]
  },
  {
   "cell_type": "code",
   "execution_count": 10,
   "metadata": {
    "scrolled": true
   },
   "outputs": [
    {
     "data": {
      "application/json": "",
      "text/plain": [
       "['stack: 1004 out of 7936', 'GC: total: 193664, used: 97440, free: 96224', ' No. of 1-blocks: 1238, 2-blocks: 182, max blk sz: 72, max free sz: 5998', 'None']"
      ]
     },
     "execution_count": 10,
     "metadata": {},
     "output_type": "execute_result"
    }
   ],
   "source": [
    "# %%micropython\n",
    "import micropython\n",
    "\n",
    "print(micropython.mem_info())"
   ]
  },
  {
   "cell_type": "code",
   "execution_count": 11,
   "metadata": {},
   "outputs": [],
   "source": [
    "# %%micropython --writefile blink_neo.py\n",
    "# blink the neopixel led on GPIO48\n",
    "from machine import Pin\n",
    "from neopixel import NeoPixel\n",
    "import time\n",
    "\n",
    "LED = Pin(48, Pin.OUT)\n",
    "np = NeoPixel(LED, 1)\n",
    "\n",
    "\n",
    "def new_func(np, c=(255, 255, 255)):\n",
    "    np[0] = c\n",
    "    np.write()\n",
    "\n",
    "\n",
    "new_func(np, (255, 0, 0))\n",
    "time.sleep(1)\n",
    "new_func(np, (0, 255, 0))\n",
    "time.sleep(1)\n",
    "new_func(np, (0, 0, 255))\n",
    "time.sleep(1)\n",
    "new_func(np, (10, 10, 10))"
   ]
  },
  {
   "cell_type": "code",
   "execution_count": 19,
   "metadata": {},
   "outputs": [],
   "source": [
    "# %%micropython --writefile blink.py\n",
    "\"\"\"Blinks the led on Pin 25 - rp2040\"\"\"\n",
    "from machine import Pin\n",
    "\n",
    "led = Pin(25, Pin.OUT)\n",
    "import time\n",
    "\n",
    "for _ in range(5):\n",
    "    led.value(0)\n",
    "    time.sleep(0.25)\n",
    "    led.value(1)\n",
    "    time.sleep(0.25)"
   ]
  },
  {
   "cell_type": "code",
   "execution_count": 13,
   "metadata": {},
   "outputs": [
    {
     "data": {
      "application/json": "",
      "text/plain": [
       "[]"
      ]
     },
     "execution_count": 13,
     "metadata": {},
     "output_type": "execute_result"
    }
   ],
   "source": [
    "# %%micropython\n",
    "import blink"
   ]
  },
  {
   "cell_type": "code",
   "execution_count": 14,
   "metadata": {},
   "outputs": [
    {
     "data": {
      "application/json": "",
      "text/plain": [
       "[]"
      ]
     },
     "execution_count": 14,
     "metadata": {},
     "output_type": "execute_result"
    }
   ],
   "source": [
    "# %%micropython --reset\n",
    "\n",
    "import blink"
   ]
  }
 ],
 "metadata": {
  "kernelspec": {
   "display_name": "Python 3 (ipykernel)",
   "language": "python",
   "name": "python3"
  },
  "language_info": {
   "codemirror_mode": {
    "name": "ipython",
    "version": 3
   },
   "file_extension": ".py",
   "mimetype": "text/x-python",
   "name": "python",
   "nbconvert_exporter": "python",
   "pygments_lexer": "ipython3",
   "version": "3.11.0"
  }
 },
 "nbformat": 4,
 "nbformat_minor": 4
}
