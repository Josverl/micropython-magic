{
    "cells": [
        {
            "attachments": {},
            "cell_type": "markdown",
            "metadata": {},
            "source": [
                "### Micropython board control\n",
                "\n",
                "Show control of some basic board functions"
            ]
        },
        {
            "cell_type": "code",
            "execution_count": 12,
            "metadata": {
                "tags": []
            },
            "outputs": [],
            "source": [
                "%%capture --no-display\n",
                "\n",
                "%load_ext micropython_magic\n",
                "%reload_ext micropython_magic"
            ]
        },
        {
            "cell_type": "code",
            "execution_count": 13,
            "metadata": {
                "tags": []
            },
            "outputs": [
                {
                    "name": "stdout",
                    "output_type": "stream",
                    "text": [
                        "COM5 E46024C7434C552A 2e8a:1003 Microsoft None\n",
                        "['COM5']\n"
                    ]
                }
            ],
            "source": [
                "# connect to the last device in the list\n",
                "devices = %list_devices\n",
                "print('\\n'.join(devices))\n",
                "# use jupyter Slist to select only the first column\n",
                "ports = devices.fields(0)\n",
                "print(ports)"
            ]
        },
        {
            "cell_type": "code",
            "execution_count": 14,
            "metadata": {
                "tags": []
            },
            "outputs": [
                {
                    "name": "stdout",
                    "output_type": "stream",
                    "text": [
                        "mpremote connect COM5 resume eval \"'Checking connection to MCU on port COM5.'\"\n"
                    ]
                },
                {
                    "data": {
                        "text/plain": [
                            "'Checking connection to MCU on port COM5.'"
                        ]
                    },
                    "execution_count": 14,
                    "metadata": {},
                    "output_type": "execute_result"
                }
            ],
            "source": [
                "#  select to a specific device\n",
                "%select {ports[0]}"
            ]
        },
        {
            "cell_type": "code",
            "execution_count": 15,
            "metadata": {},
            "outputs": [
                {
                    "data": {
                        "text/plain": [
                            "['temp.py']\n",
                            "rp2"
                        ]
                    },
                    "execution_count": 15,
                    "metadata": {},
                    "output_type": "execute_result"
                }
            ],
            "source": [
                "%%micropython\n",
                "import os\n",
                "print(os.listdir('.'))\n",
                "print(os.uname().sysname)\n",
                "x = 1"
            ]
        },
        {
            "cell_type": "code",
            "execution_count": 16,
            "metadata": {},
            "outputs": [
                {
                    "name": "stdout",
                    "output_type": "stream",
                    "text": [
                        "mpremote connect COM5 resume eval \"'Checking connection to MCU on port COM5.'\"\n"
                    ]
                },
                {
                    "data": {
                        "text/plain": [
                            "'Checking connection to MCU on port COM5.'"
                        ]
                    },
                    "execution_count": 16,
                    "metadata": {},
                    "output_type": "execute_result"
                }
            ],
            "source": [
                "# select to the last device in the list\n",
                "%select {ports[-1]}"
            ]
        },
        {
            "cell_type": "code",
            "execution_count": 17,
            "metadata": {},
            "outputs": [
                {
                    "data": {
                        "text/plain": [
                            "['temp.py']\n",
                            "(sysname='rp2', nodename='rp2', release='1.19.1', version='67fac4e on 2023-02-16 (GNU 9.2.1 MinSizeRel)', machine='Pimoroni Pico LiPo 16MB with RP2040')"
                        ]
                    },
                    "execution_count": 17,
                    "metadata": {},
                    "output_type": "execute_result"
                }
            ],
            "source": [
                "%%micropython\n",
                "import os\n",
                "print(os.listdir('.'))\n",
                "print(os.uname())\n",
                "x = 1"
            ]
        },
        {
            "cell_type": "code",
            "execution_count": 20,
            "metadata": {},
            "outputs": [
                {
                    "data": {
                        "text/plain": []
                    },
                    "execution_count": 20,
                    "metadata": {},
                    "output_type": "execute_result"
                }
            ],
            "source": [
                "%%micropython\n",
                "from machine import Pin\n",
                "led = Pin(25, Pin.OUT)\n",
                "led.value(1)"
            ]
        },
        {
            "cell_type": "code",
            "execution_count": 24,
            "metadata": {},
            "outputs": [
                {
                    "data": {
                        "text/plain": []
                    },
                    "execution_count": 24,
                    "metadata": {},
                    "output_type": "execute_result"
                }
            ],
            "source": [
                "%%micropython\n",
                "# blink the led\n",
                "import time\n",
                "for _ in range(5):\n",
                "    led.value(0)\n",
                "    time.sleep(0.25)\n",
                "    led.value(1)\n",
                "    time.sleep(0.25)"
            ]
        },
        {
            "cell_type": "code",
            "execution_count": 25,
            "metadata": {},
            "outputs": [
                {
                    "data": {
                        "text/plain": [
                            "stack: 972 out of 7936\n",
                            "GC: total: 192064, used: 32704, free: 159360\n",
                            " No. of 1-blocks: 327, 2-blocks: 58, max blk sz: 72, max free sz: 9944\n",
                            "None"
                        ]
                    },
                    "execution_count": 25,
                    "metadata": {},
                    "output_type": "execute_result"
                }
            ],
            "source": [
                "%%micropython \n",
                "import gc\n",
                "import micropython\n",
                "print(micropython.mem_info())"
            ]
        }
    ],
    "metadata": {
        "kernelspec": {
            "display_name": "Python 3 (ipykernel)",
            "language": "python",
            "name": "python3"
        },
        "language_info": {
            "codemirror_mode": {
                "name": "ipython",
                "version": 3
            },
            "file_extension": ".py",
            "mimetype": "text/x-python",
            "name": "python",
            "nbconvert_exporter": "python",
            "pygments_lexer": "ipython3",
            "version": "3.11.0"
        }
    },
    "nbformat": 4,
    "nbformat_minor": 4
}
