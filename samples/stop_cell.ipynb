{
 "cells": [
  {
   "cell_type": "markdown",
   "metadata": {},
   "source": [
    "Test interruption of a running cell:\n",
    "\n",
    "- run the below cell\n",
    "- then interrupt the cell using the ⏹️ button to the left of the cell\n",
    "\n",
    "Result:\n",
    "\n",
    "- the MPremote session will be stopped\n",
    "- the script on the connecte MCU will keep running (if it was running)\n",
    "\n",
    "Note:\n",
    "\n",
    "- the keyboard interrupt is only processed during input/output with the MCU\n",
    "- so in order to\n",
    "\n",
    "In order to stop the script on the MCU, you need to run the 2nd cell below\n",
    "or run any other script on the MCU\n"
   ]
  },
  {
   "cell_type": "code",
   "execution_count": 1,
   "metadata": {},
   "outputs": [
    {
     "name": "stdout",
     "output_type": "stream",
     "text": [
      "['COM4']\n"
     ]
    }
   ],
   "source": [
    "# connect to the first device in the list\n",
    "devices = %mpy --list\n",
    "connected_ports = devices.fields(0)\n",
    "print(connected_ports)"
   ]
  },
  {
   "cell_type": "code",
   "execution_count": 2,
   "metadata": {},
   "outputs": [
    {
     "name": "stdout",
     "output_type": "stream",
     "text": [
      "Zzzzzz...\n",
      "Zzzzzz...\n",
      "Zzzzzz...\n",
      "Zzzzzz...\n",
      "Zzzzzz...\n",
      "Zzzzzz...\n",
      "Zzzzzz...\n",
      "Zzzzzz...\n",
      "Zzzzzz...\n",
      "Zzzzzz...\n",
      "That was a nice nap.\n"
     ]
    }
   ],
   "source": [
    "%%micropython \n",
    "\n",
    "import time\n",
    "try: \n",
    "    for i in range(10):\n",
    "        print('Zzzzzz...')\n",
    "        time.sleep(0.5)\n",
    "    print('That was a nice nap.')\n",
    "except KeyboardInterrupt:\n",
    "    print('What a rude awakening!')"
   ]
  },
  {
   "cell_type": "code",
   "execution_count": 7,
   "metadata": {},
   "outputs": [],
   "source": [
    "# programmatically connect to the first device in the list\n",
    "# send a ctrl-c to the device\n",
    "from mpremote.transport_serial import SerialTransport\n",
    "\n",
    "\n",
    "conn = SerialTransport(connected_ports[0])\n",
    "conn.serial.write(b\"\\x03\")\n",
    "\n",
    "conn.close()"
   ]
  },
  {
   "cell_type": "code",
   "execution_count": null,
   "metadata": {},
   "outputs": [],
   "source": [
    "# stop using mpremote exec - which sends Ctrl-C twice\n",
    "import subprocess\n",
    "\n",
    "port = \"COM15\"\n",
    "subprocess.run([\"mpremote\", \"resume\", \"connect\", port, \"exec\", \"1\"])"
   ]
  },
  {
   "cell_type": "markdown",
   "metadata": {},
   "source": [
    "The below cell cannot be interupted as the KeyboardInterrupt is only processed when a complete line is sent from the MCU.\n"
   ]
  },
  {
   "cell_type": "code",
   "execution_count": null,
   "metadata": {},
   "outputs": [],
   "source": [
    "%%micropython\n",
    "\n",
    "import time\n",
    "try: \n",
    "    for i in range(10):\n",
    "        print('Zzzzzz...' , end=' ')\n",
    "        time.sleep(0.5)\n",
    "    print('That was a nice nap.')\n",
    "except KeyboardInterrupt:\n",
    "    print('What a rude awakening!')"
   ]
  }
 ],
 "metadata": {
  "kernelspec": {
   "display_name": ".venv",
   "language": "python",
   "name": "python3"
  },
  "language_info": {
   "codemirror_mode": {
    "name": "ipython",
    "version": 3
   },
   "file_extension": ".py",
   "mimetype": "text/x-python",
   "name": "python",
   "nbconvert_exporter": "python",
   "pygments_lexer": "ipython3",
   "version": "3.11.6"
  },
  "orig_nbformat": 4
 },
 "nbformat": 4,
 "nbformat_minor": 2
}
