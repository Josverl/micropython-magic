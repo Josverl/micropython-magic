{
 "cells": [
  {
   "cell_type": "markdown",
   "metadata": {},
   "source": [
    "Test interruption of a running cell\n",
    "\n",
    "- run the below cell\n",
    "- then interrupt the cell using the ⏹️ button to the left of the cell\n",
    "\n",
    "Result:\n",
    "\n",
    "- the MPremote session will be stopped\n",
    "- the script on the connecte MCU will keep running (if it was running)\n",
    "\n",
    "In order to stop the script on the MCU, you need to run the 2nd cell below\n",
    "or run any other script on the MCU\n"
   ]
  },
  {
   "cell_type": "code",
   "execution_count": 9,
   "metadata": {},
   "outputs": [
    {
     "name": "stdout",
     "output_type": "stream",
     "text": [
      "Zzzzzz...\n",
      "Zzzzzz...\n",
      "Zzzzzz...\n",
      "Zzzzzz...\n",
      "\u001b[33m\u001b[1mWARNING \u001b[0m | \u001b[36mmicropython_magic.interactive\u001b[0m:\u001b[36mipython_run\u001b[0m:\u001b[36m143\u001b[0m - \u001b[33m\u001b[1mKeyboard interrupt detected\u001b[0m\n"
     ]
    }
   ],
   "source": [
    "%%micropython\n",
    "\n",
    "import time\n",
    "try: \n",
    "    for i in range(10):\n",
    "        print('Zzzzzz...')\n",
    "        time.sleep(0.5)\n",
    "    print('That was a nice nap.')\n",
    "except KeyboardInterrupt:\n",
    "    print('What a rude awakening!')"
   ]
  },
  {
   "cell_type": "code",
   "execution_count": null,
   "metadata": {},
   "outputs": [],
   "source": [
    "\n",
    "from  mpremote.pyboard import Pyboard\n",
    "\n",
    "conn = Pyboard(\"COM15\")\n",
    "conn.serial.write(b\"\\x03\")\n",
    "conn.close()\n",
    "\n",
    "\n",
    "\n",
    "\n"
   ]
  },
  {
   "cell_type": "code",
   "execution_count": null,
   "metadata": {},
   "outputs": [],
   "source": [
    "import subprocess\n",
    "port = \"COM15\"\n",
    "subprocess.run([\"mpremote\", \"resume\",\"connect\", port, \"exec\", \"1\"])\n"
   ]
  }
 ],
 "metadata": {
  "kernelspec": {
   "display_name": ".venv",
   "language": "python",
   "name": "python3"
  },
  "language_info": {
   "codemirror_mode": {
    "name": "ipython",
    "version": 3
   },
   "file_extension": ".py",
   "mimetype": "text/x-python",
   "name": "python",
   "nbconvert_exporter": "python",
   "pygments_lexer": "ipython3",
   "version": "3.11.5"
  },
  "orig_nbformat": 4
 },
 "nbformat": 4,
 "nbformat_minor": 2
}
