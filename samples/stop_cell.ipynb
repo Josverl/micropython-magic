{
 "cells": [
  {
   "cell_type": "markdown",
   "metadata": {},
   "source": [
    "Test interruption of a running cell:\n",
    "\n",
    "- run the below cell\n",
    "- then interrupt the cell using the ⏹️ button to the left of the cell\n",
    "\n",
    "Result:\n",
    "\n",
    "- the MPremote session will be stopped\n",
    "- the script on the connecte MCU will keep running (if it was running)\n",
    "\n",
    "Note:\n",
    "\n",
    "- the keyboard interrupt is only processed during input/output with the MCU\n",
    "- so in order to\n",
    "\n",
    "In order to stop the script on the MCU, you need to run the 2nd cell below\n",
    "or run any other script on the MCU\n"
   ]
  },
  {
   "cell_type": "code",
   "execution_count": 2,
   "metadata": {},
   "outputs": [
    {
     "name": "stdout",
     "output_type": "stream",
     "text": [
      "Zzzzzz...\n",
      "Zzzzzz...\n",
      "Zzzzzz...\n",
      "Zzzzzz...\n",
      "Zzzzzz...\n",
      "Zzzzzz...\n",
      "Zzzzzz...\n",
      "Zzzzzz...\n",
      "Zzzzzz...\n",
      "Zzzzzz...\n",
      "That was a nice nap.\n"
     ]
    }
   ],
   "source": [
    "%%micropython \n",
    "# --select rfc2217://localhost:4000\n",
    "\n",
    "import time\n",
    "try: \n",
    "    for i in range(10):\n",
    "        print('Zzzzzz...')\n",
    "        time.sleep(0.5)\n",
    "    print('That was a nice nap.')\n",
    "except KeyboardInterrupt:\n",
    "    print('What a rude awakening!')"
   ]
  },
  {
   "cell_type": "code",
   "execution_count": null,
   "metadata": {},
   "outputs": [],
   "source": [
    "# stop using pyboard - limited functionality\n",
    "from  mpremote.pyboard import Pyboard\n",
    "\n",
    "conn = Pyboard(\"COM15\")\n",
    "conn.serial.write(b\"\\x03\")\n",
    "conn.close()\n",
    "\n",
    "\n",
    "\n",
    "\n"
   ]
  },
  {
   "cell_type": "code",
   "execution_count": null,
   "metadata": {},
   "outputs": [],
   "source": [
    "# stop using mpremote exec - which sends Ctrl-C twice\n",
    "import subprocess\n",
    "port = \"COM15\"\n",
    "subprocess.run([\"mpremote\", \"resume\",\"connect\", port, \"exec\", \"1\"])\n"
   ]
  },
  {
   "cell_type": "markdown",
   "metadata": {},
   "source": [
    "The below cell cannot be interupted as the KeyboardInterrupt is only processed when a complete line is sent from the MCU.\n"
   ]
  },
  {
   "cell_type": "code",
   "execution_count": 7,
   "metadata": {},
   "outputs": [
    {
     "name": "stderr",
     "output_type": "stream",
     "text": [
      "UsageError: unrecognized arguments: --no-follow\n"
     ]
    }
   ],
   "source": [
    "%%micropython\n",
    "\n",
    "import time\n",
    "try: \n",
    "    for i in range(10):\n",
    "        print('Zzzzzz...' , end=' ')\n",
    "        time.sleep(0.5)\n",
    "    print('That was a nice nap.')\n",
    "except KeyboardInterrupt:\n",
    "    print('What a rude awakening!')"
   ]
  }
 ],
 "metadata": {
  "kernelspec": {
   "display_name": ".venv",
   "language": "python",
   "name": "python3"
  },
  "language_info": {
   "codemirror_mode": {
    "name": "ipython",
    "version": 3
   },
   "file_extension": ".py",
   "mimetype": "text/x-python",
   "name": "python",
   "nbconvert_exporter": "python",
   "pygments_lexer": "ipython3",
   "version": "3.11.5"
  },
  "orig_nbformat": 4
 },
 "nbformat": 4,
 "nbformat_minor": 2
}
