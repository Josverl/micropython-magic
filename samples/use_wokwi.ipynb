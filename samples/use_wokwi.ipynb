{
 "cells": [
  {
   "cell_type": "markdown",
   "metadata": {},
   "source": [
    "## Connect to the VSCode Wokwi simulator\n",
    "\n",
    "This demo shows how to connect to the Wokwi extension for VSCode using the rfc2217 protocol.\n",
    "\n",
    "Setup details :\n",
    "\n",
    "- add the Wokwi extension to VSCode\n",
    "- configure WokWi to expose the serial port on port 4000 using rfc2217 (see samples in the simulation folder)\n",
    "- install MPremote with support for rfc2217 (https://github.com/micropython/micropython/pull/12500)\n",
    "\n",
    "Use:\n",
    "\n",
    "- Start Wokwi simulation (Ctrl/Cmd + Shift + Alt + W),\n",
    "- use `%mpy --select rfc2217://localhost:4000` to establish connection\n",
    "\n",
    "**Warning:**  \n",
    "_The connection is not encrypted and no authentication is supported! Only use it in trusted environments, or with public code and information._\n",
    "\n",
    "Example urls:\n",
    "\n",
    "- `rfc2217://localhost:4000`\n",
    "- `rfc2217://localhost:4000?timeout=10`\n",
    "- `rfc2217://homeserver.local:4321`\n",
    "\n",
    "More Info:\n",
    "\n",
    "- pyserial https://pyserial.readthedocs.io/en/latest/url_handlers.html#rfc2217\n",
    "- WokWi extension:\n",
    "  - https://marketplace.visualstudio.com/items?itemName=Wokwi.wokwi-vscode\n",
    "  - https://docs.wokwi.com/vscode/project-config#serial-port-forwarding\n",
    "- rfc2217: https://tools.ietf.org/html/rfc2217\n",
    "\n",
    "_Tools / Servers:_\n",
    "\n",
    "- Python: [pyserial RFC2217 server implementation](https://github.com/pyserial/pyserial/blob/master/examples/rfc2217_server.py)\n",
    "- Windows: [Free Com Port Redirector](https://freecomportredirector.com/)\n",
    "- Linux: socat :http://www.dest-unreach.org/socat/\n"
   ]
  },
  {
   "cell_type": "code",
   "execution_count": 1,
   "metadata": {},
   "outputs": [
    {
     "data": {
      "text/plain": [
       "{'ver': 'v1.20.0',\n",
       " 'version': '1.20.0',\n",
       " 'port': 'rp2',\n",
       " 'mpy': 'v6.1',\n",
       " 'build': '',\n",
       " 'cpu': 'RP2040',\n",
       " 'family': 'micropython',\n",
       " 'board': 'Raspberry Pi Pico W with RP2040',\n",
       " 'arch': 'armv6m',\n",
       " 'serial_port': 'rfc2217://localhost:4000'}"
      ]
     },
     "execution_count": 1,
     "metadata": {},
     "output_type": "execute_result"
    }
   ],
   "source": [
    "# connect to Wokwi's virtual serial port\n",
    "%mpy --select rfc2217://localhost:4000\n",
    "%mpy --info "
   ]
  },
  {
   "cell_type": "code",
   "execution_count": 2,
   "metadata": {},
   "outputs": [],
   "source": [
    "# connect to board published via HDD Ser\n",
    "# %mpy --select rfc2217://localhost:4001\n",
    "# %mpy --select rfc2217://jvnuc:4000\n",
    "# %mpy --info"
   ]
  },
  {
   "cell_type": "code",
   "execution_count": 3,
   "metadata": {},
   "outputs": [],
   "source": [
    "# %mpy --select rfc2217://localhost:4000\n",
    "# %mpy --select socket://localhost:4000\n",
    "# %mpy --select rfc2217://localhost:4004\n",
    "# %mpy\n",
    "# %mpy --select socket://localhost:4000\n",
    "# %mpy --info"
   ]
  },
  {
   "cell_type": "code",
   "execution_count": 4,
   "metadata": {},
   "outputs": [
    {
     "name": "stdout",
     "output_type": "stream",
     "text": [
      "rp2 Raspberry Pi Pico W with RP2040\n"
     ]
    }
   ],
   "source": [
    "%%mpy\n",
    "import sys, os \n",
    "port = \"stm32\" if sys.platform.startswith(\"pyb\") else sys.platform\n",
    "board = sys.implementation._machine if \"_machine\" in dir(sys.implementation) else os.uname().machine\n",
    "print(port, board)\n"
   ]
  },
  {
   "cell_type": "code",
   "execution_count": 5,
   "metadata": {},
   "outputs": [
    {
     "name": "stdout",
     "output_type": "stream",
     "text": [
      "0 1 2 3 4 5 6 7 8 9 10 11 12 13 14 15 16 17 18 19 20 21 22 23 24 25 26 27 28 29 30 31 32 33 34 35 36 37 38 39 40 41 42 43 44 45 46 47 48 49 done\n"
     ]
    }
   ],
   "source": [
    "%%micropython --select rfc2217://localhost:4000\n",
    "\n",
    "from machine import Pin\n",
    "from neopixel import NeoPixel\n",
    "from time import sleep\n",
    "\n",
    "def main():\n",
    "\n",
    "# fmt: off\n",
    "    rainbow = [\n",
    "    (126 , 1 , 0),(114 , 13 , 0),(102 , 25 , 0),(90 , 37 , 0),(78 , 49 , 0),(66 , 61 , 0),(54 , 73 , 0),(42 , 85 , 0),\n",
    "    (30 , 97 , 0),(18 , 109 , 0),(6 , 121 , 0),(0 , 122 , 5),(0 , 110 , 17),(0 , 98 , 29),(0 , 86 , 41),(0 , 74 , 53),\n",
    "    (0 , 62 , 65),(0 , 50 , 77),(0 , 38 , 89),(0 , 26 , 101),(0 , 14 , 113),(0 , 2 , 125),(9 , 0 , 118),(21 , 0 , 106),\n",
    "    (33 , 0 , 94),(45 , 0 , 82),(57 , 0 , 70),(69 , 0 , 58),(81 , 0 , 46),(93 , 0 , 34),(105 , 0 , 22),(117 , 0 , 10)]\n",
    "# fmt: on\n",
    "\n",
    "    pixels = NeoPixel(Pin(15), 16)\n",
    "\n",
    "    # what direction is the rainbow moving?\n",
    "    step = 2\n",
    "\n",
    "    MAX = 50\n",
    "    for n in range(MAX):\n",
    "        rainbow = rainbow[step:] + rainbow[:step]\n",
    "        for i in range(16):\n",
    "            pixels[i] = rainbow[i]\n",
    "        pixels.write()\n",
    "        print(n, end=\" \")\n",
    "        sleep(0.1)\n",
    "    print(\"done\")\n",
    "main()\n"
   ]
  }
 ],
 "metadata": {
  "kernelspec": {
   "display_name": ".venv",
   "language": "python",
   "name": "python3"
  },
  "language_info": {
   "codemirror_mode": {
    "name": "ipython",
    "version": 3
   },
   "file_extension": ".py",
   "mimetype": "text/x-python",
   "name": "python",
   "nbconvert_exporter": "python",
   "pygments_lexer": "ipython3",
   "version": "3.11.7"
  },
  "orig_nbformat": 4
 },
 "nbformat": 4,
 "nbformat_minor": 2
}
