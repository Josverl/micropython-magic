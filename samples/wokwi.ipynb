{
 "cells": [
  {
   "cell_type": "markdown",
   "metadata": {},
   "source": [
    "## Demo of connection to VSCode Wokwi extension\n",
    "\n",
    "Setup details :\n",
    "\n",
    "- add the Wokwi extension to VSCode\n",
    "- configure WokWi to expose the serial port on port 4000 using rfc2217 (see samples in the simulation folder)\n",
    "- install MPremote with support for rfc2217 (https://github.com/micropython/micropython/pull/12500)\n",
    "\n",
    "Use:\n",
    "\n",
    "- Start Wokwi simulation\n",
    "- use `%mpy --select rfc2217://localhost:4000` to establish connection\n",
    "\n",
    "**Warning:**  \n",
    "_The connection is not encrypted and no authentication is supported! Only use it in trusted environments._\n",
    "\n",
    "Example urls:\n",
    "\n",
    "- `rfc2217://localhost:4000`\n",
    "- `rfc2217://localhost:4000?timeout=10`\n",
    "- `rfc2217://homeserver.local:4321`\n",
    "\n",
    "More Info:\n",
    "\n",
    "- pyserial https://pyserial.readthedocs.io/en/latest/url_handlers.html#rfc2217\n",
    "- WokWi extension:\n",
    "  - https://marketplace.visualstudio.com/items?itemName=Wokwi.wokwi-vscode\n",
    "  - https://docs.wokwi.com/vscode/project-config#serial-port-forwarding\n",
    "- rfc2217: https://tools.ietf.org/html/rfc2217\n",
    "- [Free Com Port Redirector](https://freecomportredirector.com/)\n",
    "- \n"
   ]
  },
  {
   "cell_type": "code",
   "execution_count": 12,
   "metadata": {},
   "outputs": [
    {
     "data": {
      "text/plain": [
       "{'ver': 'v1.20.0',\n",
       " 'version': '1.20.0',\n",
       " 'port': 'samd',\n",
       " 'mpy': 'v6.1',\n",
       " 'build': '',\n",
       " 'cpu': 'SAMD51P19A',\n",
       " 'family': 'micropython',\n",
       " 'board': 'Wio Terminal D51R with SAMD51P19A',\n",
       " 'arch': 'armv7emsp',\n",
       " 'serial_port': 'rfc2217://localhost:4040'}"
      ]
     },
     "execution_count": 12,
     "metadata": {},
     "output_type": "execute_result"
    }
   ],
   "source": [
    "# connect to Free Com Port Redirector (RFC2217) on localhost:4001\n",
    "%mpy --select rfc2217://localhost:4040\n",
    "%mpy --info "
   ]
  },
  {
   "cell_type": "code",
   "execution_count": 14,
   "metadata": {},
   "outputs": [
    {
     "data": {
      "text/plain": [
       "{'ver': 'v1.20.0',\n",
       " 'version': '1.20.0',\n",
       " 'port': 'samd',\n",
       " 'mpy': 'v6.1',\n",
       " 'build': '',\n",
       " 'cpu': 'SAMD51P19A',\n",
       " 'family': 'micropython',\n",
       " 'board': 'Wio Terminal D51R with SAMD51P19A',\n",
       " 'arch': 'armv7emsp',\n",
       " 'serial_port': 'rfc2217://localhost:4001'}"
      ]
     },
     "execution_count": 14,
     "metadata": {},
     "output_type": "execute_result"
    }
   ],
   "source": [
    "# connect to board published via HDD Ser \n",
    "# %mpy --select rfc2217://localhost:4001\n",
    "%mpy --select rfc2217://jvnuc:4000\n",
    "%mpy --info "
   ]
  },
  {
   "cell_type": "code",
   "execution_count": 11,
   "metadata": {},
   "outputs": [
    {
     "data": {
      "text/plain": [
       "['failed to access socket://localhost:4004 (it may be in use by another program)']"
      ]
     },
     "execution_count": 11,
     "metadata": {},
     "output_type": "execute_result"
    }
   ],
   "source": [
    "# %mpy --select rfc2217://localhost:4000\n",
    "# %mpy --select socket://localhost:4000\n",
    "# %mpy --select rfc2217://localhost:4004\n",
    "# %mpy \n",
    "%mpy --select socket://localhost:4004\n",
    "%mpy --info "
   ]
  },
  {
   "cell_type": "code",
   "execution_count": 8,
   "metadata": {},
   "outputs": [
    {
     "name": "stdout",
     "output_type": "stream",
     "text": [
      "rp2 Raspberry Pi Pico W with RP2040\n"
     ]
    }
   ],
   "source": [
    "%%mpy\n",
    "import sys, os \n",
    "port = \"stm32\" if sys.platform.startswith(\"pyb\") else sys.platform\n",
    "board = sys.implementation._machine if \"_machine\" in dir(sys.implementation) else os.uname().machine\n",
    "print(port, board)\n"
   ]
  },
  {
   "cell_type": "code",
   "execution_count": 1,
   "metadata": {},
   "outputs": [
    {
     "name": "stdout",
     "output_type": "stream",
     "text": [
      "\u001b[33m\u001b[1mWARNING \u001b[0m | \u001b[36mmicropython_magic.interactive\u001b[0m:\u001b[36mtimed_out\u001b[0m:\u001b[36m89\u001b[0m - \u001b[33m\u001b[1mCommand mpremote connect rfc2217://localhost:4000 resume  cp C:\\Users\\josverl\\AppData\\Local\\Temp\\tmplzp4et_0.py :__magic.py timed out after 60 seconds\u001b[0m\n"
     ]
    },
    {
     "ename": "KeyboardInterrupt",
     "evalue": "",
     "output_type": "error",
     "traceback": [
      "\u001b[1;31m---------------------------------------------------------------------------\u001b[0m",
      "\u001b[1;31mTypeError\u001b[0m                                 Traceback (most recent call last)",
      "File \u001b[1;32mC:\\develop\\MyPython\\micropython-magic\\src\\micropython_magic\\interactive.py:95\u001b[0m, in \u001b[0;36mipython_run\u001b[1;34m(cmd, stream_out, timeout, shell, hide_meminfo, store_output, log_errors, tags)\u001b[0m\n\u001b[0;32m     94\u001b[0m \u001b[39mif\u001b[39;00m line_based:\n\u001b[1;32m---> 95\u001b[0m     output \u001b[39m=\u001b[39m process\u001b[39m.\u001b[39mstdout\u001b[39m.\u001b[39mreadline()\n\u001b[0;32m     96\u001b[0m     output \u001b[39m=\u001b[39m output\u001b[39m.\u001b[39mdecode(\u001b[39m\"\u001b[39m\u001b[39mutf-8\u001b[39m\u001b[39m\"\u001b[39m, errors\u001b[39m=\u001b[39m\u001b[39m\"\u001b[39m\u001b[39mignore\u001b[39m\u001b[39m\"\u001b[39m)\n",
      "\u001b[1;31mTypeError\u001b[0m: BufferedReader.readline() takes no keyword arguments",
      "\nDuring handling of the above exception, another exception occurred:\n",
      "\u001b[1;31mKeyboardInterrupt\u001b[0m                         Traceback (most recent call last)",
      "\u001b[1;32mc:\\develop\\MyPython\\micropython-magic\\samples\\wokwi.ipynb Cell 4\u001b[0m line \u001b[0;36m1\n\u001b[1;32m----> <a href='vscode-notebook-cell:/c%3A/develop/MyPython/micropython-magic/samples/wokwi.ipynb#X10sZmlsZQ%3D%3D?line=0'>1</a>\u001b[0m get_ipython()\u001b[39m.\u001b[39;49mrun_cell_magic(\u001b[39m'\u001b[39;49m\u001b[39mmicropython\u001b[39;49m\u001b[39m'\u001b[39;49m, \u001b[39m'\u001b[39;49m\u001b[39m--select rfc2217://localhost:4000\u001b[39;49m\u001b[39m'\u001b[39;49m, \u001b[39m'\u001b[39;49m\u001b[39m\\n\u001b[39;49;00m\u001b[39mfrom machine import Pin\u001b[39;49m\u001b[39m\\n\u001b[39;49;00m\u001b[39mfrom neopixel import NeoPixel\u001b[39;49m\u001b[39m\\n\u001b[39;49;00m\u001b[39mfrom time import sleep\u001b[39;49m\u001b[39m\\n\u001b[39;49;00m\u001b[39m\\n\u001b[39;49;00m\u001b[39mdef main():\u001b[39;49m\u001b[39m\\n\u001b[39;49;00m\u001b[39m\\n\u001b[39;49;00m\u001b[39m# fmt: off\u001b[39;49m\u001b[39m\\n\u001b[39;49;00m\u001b[39m    rainbow = [\u001b[39;49m\u001b[39m\\n\u001b[39;49;00m\u001b[39m    (126 , 1 , 0),(114 , 13 , 0),(102 , 25 , 0),(90 , 37 , 0),(78 , 49 , 0),(66 , 61 , 0),(54 , 73 , 0),(42 , 85 , 0),\u001b[39;49m\u001b[39m\\n\u001b[39;49;00m\u001b[39m    (30 , 97 , 0),(18 , 109 , 0),(6 , 121 , 0),(0 , 122 , 5),(0 , 110 , 17),(0 , 98 , 29),(0 , 86 , 41),(0 , 74 , 53),\u001b[39;49m\u001b[39m\\n\u001b[39;49;00m\u001b[39m    (0 , 62 , 65),(0 , 50 , 77),(0 , 38 , 89),(0 , 26 , 101),(0 , 14 , 113),(0 , 2 , 125),(9 , 0 , 118),(21 , 0 , 106),\u001b[39;49m\u001b[39m\\n\u001b[39;49;00m\u001b[39m    (33 , 0 , 94),(45 , 0 , 82),(57 , 0 , 70),(69 , 0 , 58),(81 , 0 , 46),(93 , 0 , 34),(105 , 0 , 22),(117 , 0 , 10)]\u001b[39;49m\u001b[39m\\n\u001b[39;49;00m\u001b[39m# fmt: on\u001b[39;49m\u001b[39m\\n\u001b[39;49;00m\u001b[39m\\n\u001b[39;49;00m\u001b[39m    pixels = NeoPixel(Pin(15), 16)\u001b[39;49m\u001b[39m\\n\u001b[39;49;00m\u001b[39m\\n\u001b[39;49;00m\u001b[39m    # what direction is the rainbow moving?\u001b[39;49m\u001b[39m\\n\u001b[39;49;00m\u001b[39m    step = 2\u001b[39;49m\u001b[39m\\n\u001b[39;49;00m\u001b[39m\\n\u001b[39;49;00m\u001b[39m    MAX = 50\u001b[39;49m\u001b[39m\\n\u001b[39;49;00m\u001b[39m    for n in range(MAX):\u001b[39;49m\u001b[39m\\n\u001b[39;49;00m\u001b[39m        rainbow = rainbow[step:] + rainbow[:step]\u001b[39;49m\u001b[39m\\n\u001b[39;49;00m\u001b[39m        for i in range(16):\u001b[39;49m\u001b[39m\\n\u001b[39;49;00m\u001b[39m            pixels[i] = rainbow[i]\u001b[39;49m\u001b[39m\\n\u001b[39;49;00m\u001b[39m        pixels.write()\u001b[39;49m\u001b[39m\\n\u001b[39;49;00m\u001b[39m        print(n, end=\u001b[39;49m\u001b[39m\"\u001b[39;49m\u001b[39m \u001b[39;49m\u001b[39m\"\u001b[39;49m\u001b[39m)\u001b[39;49m\u001b[39m\\n\u001b[39;49;00m\u001b[39m        sleep(0.1)\u001b[39;49m\u001b[39m\\n\u001b[39;49;00m\u001b[39m    print(\u001b[39;49m\u001b[39m\"\u001b[39;49m\u001b[39mdone\u001b[39;49m\u001b[39m\"\u001b[39;49m\u001b[39m)\u001b[39;49m\u001b[39m\\n\u001b[39;49;00m\u001b[39mmain()\u001b[39;49m\u001b[39m\\n\u001b[39;49;00m\u001b[39m'\u001b[39;49m)\n",
      "File \u001b[1;32mc:\\develop\\MyPython\\micropython-magic\\.venv\\Lib\\site-packages\\IPython\\core\\interactiveshell.py:2475\u001b[0m, in \u001b[0;36mInteractiveShell.run_cell_magic\u001b[1;34m(self, magic_name, line, cell)\u001b[0m\n\u001b[0;32m   2473\u001b[0m \u001b[39mwith\u001b[39;00m \u001b[39mself\u001b[39m\u001b[39m.\u001b[39mbuiltin_trap:\n\u001b[0;32m   2474\u001b[0m     args \u001b[39m=\u001b[39m (magic_arg_s, cell)\n\u001b[1;32m-> 2475\u001b[0m     result \u001b[39m=\u001b[39m fn(\u001b[39m*\u001b[39;49margs, \u001b[39m*\u001b[39;49m\u001b[39m*\u001b[39;49mkwargs)\n\u001b[0;32m   2477\u001b[0m \u001b[39m# The code below prevents the output from being displayed\u001b[39;00m\n\u001b[0;32m   2478\u001b[0m \u001b[39m# when using magics with decodator @output_can_be_silenced\u001b[39;00m\n\u001b[0;32m   2479\u001b[0m \u001b[39m# when the last Python token in the expression is a ';'.\u001b[39;00m\n\u001b[0;32m   2480\u001b[0m \u001b[39mif\u001b[39;00m \u001b[39mgetattr\u001b[39m(fn, magic\u001b[39m.\u001b[39mMAGIC_OUTPUT_CAN_BE_SILENCED, \u001b[39mFalse\u001b[39;00m):\n",
      "File \u001b[1;32mC:\\develop\\MyPython\\micropython-magic\\src\\micropython_magic\\octarine.py:177\u001b[0m, in \u001b[0;36mMpyMagics.micropython\u001b[1;34m(self, line, cell)\u001b[0m\n\u001b[0;32m    175\u001b[0m \u001b[39mif\u001b[39;00m \u001b[39mnot\u001b[39;00m cell:\n\u001b[0;32m    176\u001b[0m     \u001b[39mraise\u001b[39;00m UsageError(\u001b[39m\"\u001b[39m\u001b[39mPlease specify some MicroPython code to execute\u001b[39m\u001b[39m\"\u001b[39m)\n\u001b[1;32m--> 177\u001b[0m output \u001b[39m=\u001b[39m \u001b[39mself\u001b[39;49m\u001b[39m.\u001b[39;49mMCU\u001b[39m.\u001b[39;49mrun_cell(cell, timeout\u001b[39m=\u001b[39;49margs\u001b[39m.\u001b[39;49mtimeout)\n",
      "File \u001b[1;32mC:\\develop\\MyPython\\micropython-magic\\src\\micropython_magic\\mpr.py:82\u001b[0m, in \u001b[0;36mMPRemote2.run_cell\u001b[1;34m(self, cell, timeout)\u001b[0m\n\u001b[0;32m     78\u001b[0m \u001b[39m\u001b[39m\u001b[39m\"\"\"run a codeblock on the device and return the output\"\"\"\u001b[39;00m\n\u001b[0;32m     79\u001b[0m \u001b[39m#     # TODO: if the cell is small enough, concat the cell with \\n and use exec instead of copy\u001b[39;00m\n\u001b[0;32m     80\u001b[0m \u001b[39m#     # - may need escaping quotes and newlines\u001b[39;00m\n\u001b[0;32m     81\u001b[0m \u001b[39m# copy the cell to a file on the device\u001b[39;00m\n\u001b[1;32m---> 82\u001b[0m \u001b[39mself\u001b[39;49m\u001b[39m.\u001b[39;49mcell_to_mcu_file(cell, \u001b[39m\"\u001b[39;49m\u001b[39m__magic.py\u001b[39;49m\u001b[39m\"\u001b[39;49m)\n\u001b[0;32m     83\u001b[0m \u001b[39m# run the transferred cell/file\u001b[39;00m\n\u001b[0;32m     84\u001b[0m result \u001b[39m=\u001b[39m \u001b[39mself\u001b[39m\u001b[39m.\u001b[39mrun_mcu_file(\u001b[39m\"\u001b[39m\u001b[39m__magic.py\u001b[39m\u001b[39m\"\u001b[39m, stream_out\u001b[39m=\u001b[39m\u001b[39mTrue\u001b[39;00m, timeout\u001b[39m=\u001b[39mtimeout)\n",
      "File \u001b[1;32mC:\\develop\\MyPython\\micropython-magic\\src\\micropython_magic\\mpr.py:99\u001b[0m, in \u001b[0;36mMPRemote2.cell_to_mcu_file\u001b[1;34m(self, cell, filename)\u001b[0m\n\u001b[0;32m     97\u001b[0m copy_cmd \u001b[39m=\u001b[39m \u001b[39mf\u001b[39m\u001b[39m\"\u001b[39m\u001b[39mcp \u001b[39m\u001b[39m{\u001b[39;00mf\u001b[39m.\u001b[39mname\u001b[39m}\u001b[39;00m\u001b[39m :\u001b[39m\u001b[39m{\u001b[39;00mfilename\u001b[39m}\u001b[39;00m\u001b[39m\"\u001b[39m\n\u001b[0;32m     98\u001b[0m \u001b[39m# TODO: detect / retry / report errors copying the file\u001b[39;00m\n\u001b[1;32m---> 99\u001b[0m _ \u001b[39m=\u001b[39m \u001b[39mself\u001b[39;49m\u001b[39m.\u001b[39;49mrun_cmd(copy_cmd, stream_out\u001b[39m=\u001b[39;49m\u001b[39mFalse\u001b[39;49;00m, timeout\u001b[39m=\u001b[39;49m\u001b[39m60\u001b[39;49m)\n\u001b[0;32m    100\u001b[0m \u001b[39m# log.info(_)\u001b[39;00m\n\u001b[0;32m    101\u001b[0m \u001b[39m# log.info(f.name, \"copied to device\")\u001b[39;00m\n\u001b[0;32m    102\u001b[0m Path(f\u001b[39m.\u001b[39mname)\u001b[39m.\u001b[39munlink()\n",
      "File \u001b[1;32mC:\\develop\\MyPython\\micropython-magic\\src\\micropython_magic\\mpr.py:55\u001b[0m, in \u001b[0;36mMPRemote2.run_cmd\u001b[1;34m(self, cmd, auto_connect, stream_out, shell, timeout)\u001b[0m\n\u001b[0;32m     53\u001b[0m         log\u001b[39m.\u001b[39mwarning(\u001b[39mf\u001b[39m\u001b[39m\"\u001b[39m\u001b[39mcmd is not a string: \u001b[39m\u001b[39m{\u001b[39;00mcmd\u001b[39m}\u001b[39;00m\u001b[39m\"\u001b[39m)\n\u001b[0;32m     54\u001b[0m log\u001b[39m.\u001b[39mdebug(cmd)\n\u001b[1;32m---> 55\u001b[0m \u001b[39mreturn\u001b[39;00m ipython_run(cmd, stream_out\u001b[39m=\u001b[39;49mstream_out, shell\u001b[39m=\u001b[39;49mshell, timeout\u001b[39m=\u001b[39;49mtimeout \u001b[39mor\u001b[39;49;00m \u001b[39mself\u001b[39;49m\u001b[39m.\u001b[39;49mtimeout)\n",
      "File \u001b[1;32mC:\\develop\\MyPython\\micropython-magic\\src\\micropython_magic\\interactive.py:167\u001b[0m, in \u001b[0;36mipython_run\u001b[1;34m(cmd, stream_out, timeout, shell, hide_meminfo, store_output, log_errors, tags)\u001b[0m\n\u001b[0;32m    165\u001b[0m         \u001b[39mfor\u001b[39;00m line \u001b[39min\u001b[39;00m process\u001b[39m.\u001b[39mstderr:\n\u001b[0;32m    166\u001b[0m             log\u001b[39m.\u001b[39mwarning(line)\n\u001b[1;32m--> 167\u001b[0m     \u001b[39mif\u001b[39;00m \u001b[39mnot\u001b[39;00m interupted \u001b[39mand\u001b[39;00m process_timer \u001b[39mand\u001b[39;00m process_timer\u001b[39m.\u001b[39;49mis_alive():\n\u001b[0;32m    168\u001b[0m         process_timer\u001b[39m.\u001b[39mcancel()\n\u001b[0;32m    169\u001b[0m \u001b[39mexcept\u001b[39;00m \u001b[39mException\u001b[39;00m:\n",
      "File \u001b[1;32m~\\AppData\\Local\\Programs\\Python\\Python311\\Lib\\threading.py:1185\u001b[0m, in \u001b[0;36mThread.is_alive\u001b[1;34m(self)\u001b[0m\n\u001b[0;32m   1182\u001b[0m         \u001b[39massert\u001b[39;00m \u001b[39mself\u001b[39m\u001b[39m.\u001b[39m_initialized, \u001b[39m\"\u001b[39m\u001b[39mThread.__init__() not called\u001b[39m\u001b[39m\"\u001b[39m\n\u001b[0;32m   1183\u001b[0m         \u001b[39mreturn\u001b[39;00m \u001b[39mself\u001b[39m\u001b[39m.\u001b[39m_native_id\n\u001b[1;32m-> 1185\u001b[0m \u001b[39mdef\u001b[39;00m \u001b[39mis_alive\u001b[39m(\u001b[39mself\u001b[39m):\n\u001b[0;32m   1186\u001b[0m \u001b[39m    \u001b[39m\u001b[39m\"\"\"Return whether the thread is alive.\u001b[39;00m\n\u001b[0;32m   1187\u001b[0m \n\u001b[0;32m   1188\u001b[0m \u001b[39m    This method returns True just before the run() method starts until just\u001b[39;00m\n\u001b[1;32m   (...)\u001b[0m\n\u001b[0;32m   1191\u001b[0m \n\u001b[0;32m   1192\u001b[0m \u001b[39m    \"\"\"\u001b[39;00m\n\u001b[0;32m   1193\u001b[0m     \u001b[39massert\u001b[39;00m \u001b[39mself\u001b[39m\u001b[39m.\u001b[39m_initialized, \u001b[39m\"\u001b[39m\u001b[39mThread.__init__() not called\u001b[39m\u001b[39m\"\u001b[39m\n",
      "\u001b[1;31mKeyboardInterrupt\u001b[0m: "
     ]
    }
   ],
   "source": [
    "%%micropython --select rfc2217://localhost:4000\n",
    "\n",
    "from machine import Pin\n",
    "from neopixel import NeoPixel\n",
    "from time import sleep\n",
    "\n",
    "def main():\n",
    "\n",
    "# fmt: off\n",
    "    rainbow = [\n",
    "    (126 , 1 , 0),(114 , 13 , 0),(102 , 25 , 0),(90 , 37 , 0),(78 , 49 , 0),(66 , 61 , 0),(54 , 73 , 0),(42 , 85 , 0),\n",
    "    (30 , 97 , 0),(18 , 109 , 0),(6 , 121 , 0),(0 , 122 , 5),(0 , 110 , 17),(0 , 98 , 29),(0 , 86 , 41),(0 , 74 , 53),\n",
    "    (0 , 62 , 65),(0 , 50 , 77),(0 , 38 , 89),(0 , 26 , 101),(0 , 14 , 113),(0 , 2 , 125),(9 , 0 , 118),(21 , 0 , 106),\n",
    "    (33 , 0 , 94),(45 , 0 , 82),(57 , 0 , 70),(69 , 0 , 58),(81 , 0 , 46),(93 , 0 , 34),(105 , 0 , 22),(117 , 0 , 10)]\n",
    "# fmt: on\n",
    "\n",
    "    pixels = NeoPixel(Pin(15), 16)\n",
    "\n",
    "    # what direction is the rainbow moving?\n",
    "    step = 2\n",
    "\n",
    "    MAX = 50\n",
    "    for n in range(MAX):\n",
    "        rainbow = rainbow[step:] + rainbow[:step]\n",
    "        for i in range(16):\n",
    "            pixels[i] = rainbow[i]\n",
    "        pixels.write()\n",
    "        print(n, end=\" \")\n",
    "        sleep(0.1)\n",
    "    print(\"done\")\n",
    "main()\n"
   ]
  }
 ],
 "metadata": {
  "kernelspec": {
   "display_name": ".venv",
   "language": "python",
   "name": "python3"
  },
  "language_info": {
   "codemirror_mode": {
    "name": "ipython",
    "version": 3
   },
   "file_extension": ".py",
   "mimetype": "text/x-python",
   "name": "python",
   "nbconvert_exporter": "python",
   "pygments_lexer": "ipython3",
   "version": "3.11.6"
  },
  "orig_nbformat": 4
 },
 "nbformat": 4,
 "nbformat_minor": 2
}
