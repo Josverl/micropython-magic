{
 "cells": [
  {
   "cell_type": "markdown",
   "metadata": {},
   "source": [
    "How to detect optional functionality that may or may not be included in the MicroPython firmware you are running on your board.\n"
   ]
  },
  {
   "cell_type": "code",
   "execution_count": 11,
   "metadata": {},
   "outputs": [],
   "source": [
    "# %%micropython\n",
    "features = {}\n",
    "\n",
    "try:\n",
    "    i = complex(1, 1)\n",
    "    features[\"complex\"] = True\n",
    "except:\n",
    "    features[\"complex\"] = False"
   ]
  },
  {
   "cell_type": "code",
   "execution_count": 12,
   "metadata": {},
   "outputs": [
    {
     "name": "stdout",
     "output_type": "stream",
     "text": [
      "can't import name asm_thumb\n"
     ]
    }
   ],
   "source": [
    "# %%micropython\n",
    "\n",
    "import micropython\n",
    "\n",
    "try:\n",
    "\n",
    "    @micropython.native\n",
    "    def foo(arg):\n",
    "        return arg + 1\n",
    "\n",
    "    features[\"native\"] = True\n",
    "except Exception as e:\n",
    "    features[\"native\"] = False\n",
    "    print(e)\n",
    "\n",
    "try:\n",
    "\n",
    "    @micropython.viper\n",
    "    def bar(arg: int) -> int:\n",
    "        return arg + 1\n",
    "\n",
    "    features[\"viper\"] = True\n",
    "except Exception as e:\n",
    "    features[\"viper\"] = False\n",
    "    print(e)\n",
    "\n",
    "try:\n",
    "    from micropython import asm_thumb\n",
    "\n",
    "    features[\"asm_thumb\"] = True\n",
    "except Exception as e:\n",
    "    features[\"asm_thumb\"] = False\n",
    "    print(e)"
   ]
  },
  {
   "cell_type": "code",
   "execution_count": 13,
   "metadata": {},
   "outputs": [
    {
     "name": "stdout",
     "output_type": "stream",
     "text": [
      "can't import name asm_xtensa\n"
     ]
    }
   ],
   "source": [
    "# %%micropython\n",
    "\n",
    "try:\n",
    "    from micropython import asm_xtensa\n",
    "\n",
    "    features[\"asm_xtensa\"] = True\n",
    "except Exception as e:\n",
    "    features[\"asm_xtensa\"] = False\n",
    "    print(e)"
   ]
  },
  {
   "cell_type": "code",
   "execution_count": 14,
   "metadata": {},
   "outputs": [],
   "source": [
    "# %%micropython\n",
    "\n",
    "try:\n",
    "    from rp2 import asm_pio\n",
    "\n",
    "    features[\"asm_pio\"] = True\n",
    "except Exception as e:\n",
    "    features[\"asm_pio\"] = False\n",
    "    print(e)"
   ]
  },
  {
   "cell_type": "code",
   "execution_count": 15,
   "metadata": {},
   "outputs": [
    {
     "name": "stdout",
     "output_type": "stream",
     "text": [
      "Features: MicroPython on rp2\n",
      "native      = True\n",
      "asm_thumb   = False\n",
      "asm_xtensa  = False\n",
      "viper       = True\n",
      "asm_pio     = True\n",
      "complex     = True\n"
     ]
    }
   ],
   "source": [
    "# %%micropython\n",
    "import sys\n",
    "\n",
    "print(f\"Features: MicroPython on {sys.platform}\")\n",
    "for k, v in features.items():\n",
    "    print(f\"{k:-12}= {v}\")"
   ]
  }
 ],
 "metadata": {
  "kernelspec": {
   "display_name": ".venv",
   "language": "python",
   "name": "python3"
  },
  "language_info": {
   "codemirror_mode": {
    "name": "ipython",
    "version": 3
   },
   "file_extension": ".py",
   "mimetype": "text/x-python",
   "name": "python",
   "nbconvert_exporter": "python",
   "pygments_lexer": "ipython3",
   "version": "3.11.7"
  }
 },
 "nbformat": 4,
 "nbformat_minor": 2
}
