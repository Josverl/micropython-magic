{
 "cells": [
  {
   "attachments": {},
   "cell_type": "markdown",
   "metadata": {},
   "source": [
    "Show how micropython stubs can help with type checking in MicroPython.\n",
    "\n",
    "[]: # Path: samples\\micropython_typing.py"
   ]
  },
  {
   "cell_type": "code",
   "execution_count": 1,
   "metadata": {},
   "outputs": [
    {
     "name": "stdout",
     "output_type": "stream",
     "text": [
      "Requirement already satisfied: micropython-esp32-stubs in c:\\develop\\mypython\\micropython-magic\\.venv\\lib\\site-packages (1.20.0.post1)\n",
      "Collecting micropython-esp32-stubs\n",
      "  Downloading micropython_esp32_stubs-1.20.0.post2-py3-none-any.whl (132 kB)\n",
      "     ---------------------------------------- 0.0/132.4 kB ? eta -:--:--\n",
      "     -------------------------------------- 132.4/132.4 kB 7.6 MB/s eta 0:00:00\n",
      "Requirement already satisfied: micropython-stdlib-stubs>=0.9.0 in c:\\develop\\mypython\\micropython-magic\\.venv\\lib\\site-packages (from micropython-esp32-stubs) (0.9.0)\n",
      "Installing collected packages: micropython-esp32-stubs\n",
      "  Attempting uninstall: micropython-esp32-stubs\n",
      "    Found existing installation: micropython-esp32-stubs 1.20.0.post1\n",
      "    Uninstalling micropython-esp32-stubs-1.20.0.post1:\n",
      "      Successfully uninstalled micropython-esp32-stubs-1.20.0.post1\n",
      "Successfully installed micropython-esp32-stubs-1.20.0.post2\n",
      "Note: you may need to restart the kernel to use updated packages.\n"
     ]
    },
    {
     "name": "stderr",
     "output_type": "stream",
     "text": [
      "\n",
      "[notice] A new release of pip is available: 23.0.1 -> 23.1.2\n",
      "[notice] To update, run: python.exe -m pip install --upgrade pip\n"
     ]
    }
   ],
   "source": [
    "%pip install -U micropython-rp2-stubs"
   ]
  },
  {
   "cell_type": "code",
   "execution_count": 3,
   "metadata": {},
   "outputs": [
    {
     "name": "stdout",
     "output_type": "stream",
     "text": [
      "Blue Norwegian Parrot (None, False, True, Ellipsis, (), (123, 'str', b'bytes'))\n"
     ]
    }
   ],
   "source": [
    "# %%script \"C:\\develop\\MyPython\\micropython-stubber\\tests\\tools\\windows\\micropython_v1_19_1_337.exe\"\n",
    "from micropython import const\n",
    "\n",
    "ANIMAL = const(\"Blue Norwegian Parrot\")\n",
    "\n",
    "_INT = const(123)\n",
    "_STR = const(\"str\")\n",
    "_BYTES = const(b\"bytes\")\n",
    "_TUPLE = const((_INT, _STR, _BYTES))\n",
    "_TUPLE2 = const((None, False, True, ..., (), _TUPLE))\n",
    "\n",
    "print(ANIMAL, _TUPLE2)"
   ]
  },
  {
   "cell_type": "code",
   "execution_count": null,
   "metadata": {},
   "outputs": [],
   "source": []
  }
 ],
 "metadata": {
  "kernelspec": {
   "display_name": ".venv",
   "language": "python",
   "name": "python3"
  },
  "language_info": {
   "codemirror_mode": {
    "name": "ipython",
    "version": 3
   },
   "file_extension": ".py",
   "mimetype": "text/x-python",
   "name": "python",
   "nbconvert_exporter": "python",
   "pygments_lexer": "ipython3",
   "version": "3.11.0"
  },
  "orig_nbformat": 4
 },
 "nbformat": 4,
 "nbformat_minor": 2
}
