{
 "cells": [
  {
   "cell_type": "markdown",
   "metadata": {},
   "source": [
    "This notebook gives an example of how errors that may occur on the MCU are returned to the notebook.\n",
    "\n",
    "If an Error or Exception occurs on the MCU, the nodebook will receive a message with the error information.\n",
    "The nodebook will then display the traceback and Error or Exeption.\n",
    "The traceback is logged as one or more warnings, and the Exception or Error is logged as an error.\n",
    "\n",
    "- `File \"<stdin>\"` refers to the cell that was executed on the MCU.\n",
    "- the line number and function / class names are also given.\n",
    "- if a module is loaded from the MCU filesystem, filename is also logged.\n",
    "\n",
    "_Note 1:_ If the log level is set to DEBUG or TRACE additional information will be logged.  \n",
    "_Note 2:_ Use the `%xmode` magic to limit the amount of information that is displayed when an exception is raised.\n"
   ]
  },
  {
   "cell_type": "code",
   "execution_count": 1,
   "metadata": {},
   "outputs": [
    {
     "name": "stdout",
     "output_type": "stream",
     "text": [
      "Exception reporting mode: Minimal\n"
     ]
    }
   ],
   "source": [
    "%config MicroPythonMagic.loglevel = \"WARNING\"\n",
    "%xmode Minimal"
   ]
  },
  {
   "cell_type": "code",
   "execution_count": 2,
   "metadata": {
    "tags": [
     "raises-exception"
    ]
   },
   "outputs": [
    {
     "name": "stdout",
     "output_type": "stream",
     "text": [
      "Hello World\n",
      "\u001b[33m\u001b[1mWARNING \u001b[0m | \u001b[33m\u001b[1mTraceback (most recent call last):\u001b[0m\n",
      "\u001b[33m\u001b[1mWARNING \u001b[0m | \u001b[33m\u001b[1m  File \"<stdin>\", line 14, in <module>\u001b[0m\n",
      "\u001b[33m\u001b[1mWARNING \u001b[0m | \u001b[33m\u001b[1m  File \"<stdin>\", line 6, in lumberjack\u001b[0m\n",
      "\u001b[33m\u001b[1mWARNING \u001b[0m | \u001b[33m\u001b[1m  File \"<stdin>\", line 10, in bright_side_of_death\u001b[0m\n",
      "\u001b[31m\u001b[1mERROR   \u001b[0m | \u001b[31m\u001b[1mIndexError: tuple index out of range\n",
      "\u001b[0m\n"
     ]
    },
    {
     "ename": "MCUException",
     "evalue": "IndexError: tuple index out of range\r\n",
     "output_type": "error",
     "traceback": [
      "\u001b[1;31mMCUException\u001b[0m\u001b[1;31m:\u001b[0m IndexError: tuple index out of range\r\n\n"
     ]
    }
   ],
   "source": [
    "# %%micropython\n",
    "import sys\n",
    "\n",
    "\n",
    "def lumberjack():\n",
    "    bright_side_of_death()\n",
    "\n",
    "\n",
    "def bright_side_of_death():\n",
    "    return tuple()[0]\n",
    "\n",
    "\n",
    "print(\"Hello World\")\n",
    "lumberjack()"
   ]
  },
  {
   "cell_type": "code",
   "execution_count": 3,
   "metadata": {},
   "outputs": [
    {
     "name": "stdout",
     "output_type": "stream",
     "text": [
      "True\n"
     ]
    }
   ],
   "source": [
    "%%micropython --writefile petstore.py --reset\n",
    "\n",
    "class Parrot:\n",
    "    def __init__(self):\n",
    "        self.state = 'ALIVE'\n",
    "\n",
    "    def pinin_for_fjords(self):\n",
    "        self.state = 'DEAD'\n",
    "\n",
    "    def is_pinin(self):\n",
    "        return self.state == 'DEAD'\n",
    "    \n",
    "    def feed(self):\n",
    "        self.state = 'ALIVE'\n",
    "  \n",
    "    def is_stiff(self):\n",
    "        return self.state in ['STIFF', 'DEAD']\n",
    "\n",
    "\n",
    "class NorwegianBlue(Parrot):\n",
    "    def is_stiff(self):\n",
    "        raise AssertionError('I am not dead yet!')\n"
   ]
  },
  {
   "cell_type": "code",
   "execution_count": 4,
   "metadata": {
    "tags": [
     "raises-exception"
    ]
   },
   "outputs": [
    {
     "name": "stdout",
     "output_type": "stream",
     "text": [
      "ALIVE\n",
      "DEAD\n",
      "\u001b[33m\u001b[1mWARNING \u001b[0m | \u001b[33m\u001b[1mTraceback (most recent call last):\u001b[0m\n",
      "\u001b[33m\u001b[1mWARNING \u001b[0m | \u001b[33m\u001b[1m  File \"<stdin>\", line 11, in <module>\u001b[0m\n",
      "\u001b[33m\u001b[1mWARNING \u001b[0m | \u001b[33m\u001b[1m  File \"petstore.py\", line 22, in is_stiff\u001b[0m\n",
      "\u001b[31m\u001b[1mERROR   \u001b[0m | \u001b[31m\u001b[1mAssertionError: I am not dead yet!\n",
      "\u001b[0m\n"
     ]
    },
    {
     "ename": "MCUException",
     "evalue": "AssertionError: I am not dead yet!\r\n",
     "output_type": "error",
     "traceback": [
      "\u001b[1;31mMCUException\u001b[0m\u001b[1;31m:\u001b[0m AssertionError: I am not dead yet!\r\n\n"
     ]
    }
   ],
   "source": [
    "# %%micropython\n",
    "\n",
    "from petstore import NorwegianBlue  # type: ignore\n",
    "\n",
    "polly = NorwegianBlue()\n",
    "\n",
    "print(polly.state)\n",
    "polly.pinin_for_fjords()\n",
    "print(polly.state)\n",
    "polly.feed()\n",
    "polly.is_stiff()"
   ]
  }
 ],
 "metadata": {
  "kernelspec": {
   "display_name": ".venv",
   "language": "python",
   "name": "python3"
  },
  "language_info": {
   "codemirror_mode": {
    "name": "ipython",
    "version": 3
   },
   "file_extension": ".py",
   "mimetype": "text/x-python",
   "name": "python",
   "nbconvert_exporter": "python",
   "pygments_lexer": "ipython3",
   "version": "3.11.7"
  }
 },
 "nbformat": 4,
 "nbformat_minor": 2
}
