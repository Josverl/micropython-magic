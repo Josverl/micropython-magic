{
 "cells": [
  {
   "cell_type": "markdown",
   "metadata": {},
   "source": [
    "**Get simple access to port, board and firmware information and many other details**"
   ]
  },
  {
   "cell_type": "code",
   "execution_count": 1,
   "metadata": {},
   "outputs": [
    {
     "data": {
      "text/plain": [
       "['COM3 E46024C7434C552A 2e8a:1003 Microsoft None']"
      ]
     },
     "execution_count": 1,
     "metadata": {},
     "output_type": "execute_result"
    }
   ],
   "source": [
    "# list devices\n",
    "%mpy --list"
   ]
  },
  {
   "cell_type": "code",
   "execution_count": 2,
   "metadata": {},
   "outputs": [
    {
     "data": {
      "text/plain": [
       "{'ver': 'v1.20.0',\n",
       " 'version': '1.20.0',\n",
       " 'port': 'rp2',\n",
       " 'mpy': 'v6.1',\n",
       " 'build': '',\n",
       " 'cpu': 'RP2040',\n",
       " 'family': 'micropython',\n",
       " 'board': 'Pimoroni Pico LiPo 16MB with RP2040',\n",
       " 'arch': 'armv6m',\n",
       " 'serial_port': 'auto'}"
      ]
     },
     "execution_count": 2,
     "metadata": {},
     "output_type": "execute_result"
    }
   ],
   "source": [
    "# Show information about the first device found\n",
    "%mpy --select auto --info "
   ]
  },
  {
   "attachments": {},
   "cell_type": "markdown",
   "metadata": {},
   "source": [
    "List all attached micropython devices including firmware some relevant information about them.\n"
   ]
  },
  {
   "cell_type": "code",
   "execution_count": 3,
   "metadata": {},
   "outputs": [
    {
     "data": {
      "text/plain": [
       "[{'ver': 'v1.20.0',\n",
       "  'version': '1.20.0',\n",
       "  'port': 'rp2',\n",
       "  'mpy': 'v6.1',\n",
       "  'build': '',\n",
       "  'cpu': 'RP2040',\n",
       "  'family': 'micropython',\n",
       "  'board': 'Pimoroni Pico LiPo 16MB with RP2040',\n",
       "  'arch': 'armv6m',\n",
       "  'serial_port': 'COM3'}]"
      ]
     },
     "execution_count": 3,
     "metadata": {},
     "output_type": "execute_result"
    }
   ],
   "source": [
    "devs = %mpy --list\n",
    "ports = devs.fields(0) # list of ports\n",
    "# build a list of dicts with info for each port and attached board \n",
    "dev_info = []\n",
    "for p in ports:\n",
    "    info = %mpy --select {p} --info\n",
    "    if info:\n",
    "        dev_info.append(info)\n",
    "\n",
    "dev_info"
   ]
  },
  {
   "cell_type": "code",
   "execution_count": 4,
   "metadata": {},
   "outputs": [],
   "source": [
    "def get_board(dev_info: list[dict], port: str):\n",
    "    \"\"\"Get the first board of the specified port.\"\"\"\n",
    "    sub = [d for d in dev_info if d[\"port\"] == port]\n",
    "    return sub[0] if sub else None\n",
    "\n",
    "\n",
    "# get the first esp32 board\n",
    "get_board(dev_info, \"esp32\")"
   ]
  },
  {
   "cell_type": "code",
   "execution_count": null,
   "metadata": {},
   "outputs": [],
   "source": []
  }
 ],
 "metadata": {
  "kernelspec": {
   "display_name": ".venv",
   "language": "python",
   "name": "python3"
  },
  "language_info": {
   "codemirror_mode": {
    "name": "ipython",
    "version": 3
   },
   "file_extension": ".py",
   "mimetype": "text/x-python",
   "name": "python",
   "nbconvert_exporter": "python",
   "pygments_lexer": "ipython3",
   "version": "3.11.7"
  },
  "orig_nbformat": 4
 },
 "nbformat": 4,
 "nbformat_minor": 2
}
