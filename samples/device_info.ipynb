{
 "cells": [
  {
   "cell_type": "code",
   "execution_count": 2,
   "metadata": {},
   "outputs": [
    {
     "data": {
      "text/plain": [
       "{'ver': 'v1.19.1',\n",
       " 'version': '1.19.1',\n",
       " 'port': 'rp2',\n",
       " 'mpy': 'v6.1',\n",
       " 'build': '',\n",
       " 'cpu': 'RP2040',\n",
       " 'family': 'micropython',\n",
       " 'board': 'Pimoroni Pico LiPo 16MB with RP2040',\n",
       " 'arch': 'armv6m',\n",
       " 'serial_port': 'auto'}"
      ]
     },
     "execution_count": 2,
     "metadata": {},
     "output_type": "execute_result"
    }
   ],
   "source": [
    "# Show information about the first device found\n",
    "%mpy --info"
   ]
  },
  {
   "attachments": {},
   "cell_type": "markdown",
   "metadata": {},
   "source": [
    "List all attached micropython devices including firmware some relevant information about them.\n"
   ]
  },
  {
   "cell_type": "code",
   "execution_count": 3,
   "metadata": {},
   "outputs": [
    {
     "data": {
      "text/plain": [
       "[{'ver': 'v1.19.1',\n",
       "  'version': '1.19.1',\n",
       "  'port': 'rp2',\n",
       "  'mpy': 'v6.1',\n",
       "  'build': '',\n",
       "  'cpu': 'RP2040',\n",
       "  'family': 'micropython',\n",
       "  'board': 'Pimoroni Pico LiPo 16MB with RP2040',\n",
       "  'arch': 'armv6m',\n",
       "  'serial_port': 'COM3'},\n",
       " {'port': 'esp32',\n",
       "  'build': '',\n",
       "  'arch': 'xtensawin',\n",
       "  'family': 'micropython',\n",
       "  'board': 'ESP32S3 module with ESP32S3',\n",
       "  'cpu': 'ESP32S3',\n",
       "  'version': '1.20.0',\n",
       "  'mpy': 'v6.1',\n",
       "  'ver': 'v1.20.0',\n",
       "  'serial_port': 'COM5'},\n",
       " {'port': 'stm32',\n",
       "  'build': '',\n",
       "  'arch': 'armv7emsp',\n",
       "  'family': 'micropython',\n",
       "  'board': 'PYBv1.1 with STM32F405RG',\n",
       "  'cpu': 'STM32F405RG',\n",
       "  'version': '1.20.0',\n",
       "  'mpy': 'v6.1',\n",
       "  'ver': 'v1.20.0',\n",
       "  'serial_port': 'COM7'},\n",
       " {'port': 'esp32',\n",
       "  'build': '266',\n",
       "  'arch': 'xtensawin',\n",
       "  'family': 'micropython',\n",
       "  'board': 'ESP32 module with ESP32',\n",
       "  'cpu': 'ESP32',\n",
       "  'version': '1.13',\n",
       "  'mpy': 'v5.2',\n",
       "  'ver': 'v1.13-266',\n",
       "  'serial_port': 'COM8'}]"
      ]
     },
     "execution_count": 3,
     "metadata": {},
     "output_type": "execute_result"
    }
   ],
   "source": [
    "devs = %mpy --list\n",
    "ports = devs.fields(0) # list of ports\n",
    "# build a list of dicts with info for each port and attached board \n",
    "dev_info = []\n",
    "for p in ports:\n",
    "    info = %mpy --select {p} --info\n",
    "    if info:\n",
    "        dev_info.append(info)\n",
    "\n",
    "dev_info"
   ]
  },
  {
   "cell_type": "code",
   "execution_count": 4,
   "metadata": {},
   "outputs": [
    {
     "data": {
      "text/plain": [
       "{'port': 'esp32',\n",
       " 'build': '',\n",
       " 'arch': 'xtensawin',\n",
       " 'family': 'micropython',\n",
       " 'board': 'ESP32S3 module with ESP32S3',\n",
       " 'cpu': 'ESP32S3',\n",
       " 'version': '1.20.0',\n",
       " 'mpy': 'v6.1',\n",
       " 'ver': 'v1.20.0',\n",
       " 'serial_port': 'COM5'}"
      ]
     },
     "execution_count": 4,
     "metadata": {},
     "output_type": "execute_result"
    }
   ],
   "source": [
    "# get the first esp32 board\n",
    "def get_board(dev_info: list[dict], port: str):\n",
    "    sub = [d for d in dev_info if d[\"port\"] == port]\n",
    "    return sub[0] if sub else None\n",
    "\n",
    "\n",
    "get_board(dev_info, \"esp32\")"
   ]
  }
 ],
 "metadata": {
  "kernelspec": {
   "display_name": ".venv",
   "language": "python",
   "name": "python3"
  },
  "language_info": {
   "codemirror_mode": {
    "name": "ipython",
    "version": 3
   },
   "file_extension": ".py",
   "mimetype": "text/x-python",
   "name": "python",
   "nbconvert_exporter": "python",
   "pygments_lexer": "ipython3",
   "version": "3.11.0"
  },
  "orig_nbformat": 4
 },
 "nbformat": 4,
 "nbformat_minor": 2
}
