{
 "cells": [
  {
   "cell_type": "markdown",
   "metadata": {},
   "source": [
    "**Get simple access to port, board and firmware information and many other details**"
   ]
  },
  {
   "cell_type": "code",
   "execution_count": 1,
   "metadata": {},
   "outputs": [
    {
     "data": {
      "text/plain": [
       "['COM3 7A674ABB5336464E4E202020FF130722 f055:9802 Microsoft None',\n",
       " 'COM9 E660D4A0A77E7036 2e8a:0005 Microsoft None']"
      ]
     },
     "execution_count": 1,
     "metadata": {},
     "output_type": "execute_result"
    }
   ],
   "source": [
    "# list devices\n",
    "%mpy --list"
   ]
  },
  {
   "cell_type": "code",
   "execution_count": 2,
   "metadata": {},
   "outputs": [
    {
     "data": {
      "text/plain": [
       "{'ver': 'v1.22.0',\n",
       " 'version': '1.22.0',\n",
       " 'port': 'samd',\n",
       " 'mpy': 'v6.2',\n",
       " 'build': '',\n",
       " 'cpu': 'SAMD51P19A',\n",
       " 'family': 'micropython',\n",
       " 'board': 'Wio Terminal D51R with SAMD51P19A',\n",
       " 'arch': 'armv7emsp',\n",
       " 'serial_port': 'auto'}"
      ]
     },
     "execution_count": 2,
     "metadata": {},
     "output_type": "execute_result"
    }
   ],
   "source": [
    "# Show information about the first device found\n",
    "%mpy --select auto --info "
   ]
  },
  {
   "cell_type": "code",
   "execution_count": 6,
   "metadata": {},
   "outputs": [
    {
     "name": "stdout",
     "output_type": "stream",
     "text": [
      "{'ver': 'v1.22.0', 'version': '1.22.0', 'port': 'samd', 'mpy': 'v6.2', 'build': '', 'cpu': 'SAMD51P19A', 'family': 'micropython', 'board': 'Wio Terminal D51R with SAMD51P19A', 'arch': 'armv7emsp', 'serial_port': 'auto'}\n",
      "Device: 'samd Wio Terminal D51R with SAMD51P19A' connected to serial port auto\n"
     ]
    }
   ],
   "source": [
    "info = %mpy --select auto --info\n",
    "print(info)\n",
    "print(f\"Device: '{info.port} {info.board}' connected to serial port {info['serial_port']}\")\n"
   ]
  },
  {
   "attachments": {},
   "cell_type": "markdown",
   "metadata": {},
   "source": [
    "List all attached micropython devices including firmware some relevant information about them.\n"
   ]
  },
  {
   "cell_type": "code",
   "execution_count": null,
   "metadata": {},
   "outputs": [
    {
     "ename": "ConnectionError",
     "evalue": "failed to access COM9 (it may be in use by another program)",
     "output_type": "error",
     "traceback": [
      "\u001b[1;31mConnectionError\u001b[0m\u001b[1;31m:\u001b[0m failed to access COM9 (it may be in use by another program)\n"
     ]
    }
   ],
   "source": [
    "devs = %mpy --list\n",
    "ports = devs.fields(0) # list of ports\n",
    "# build a list of dicts with info for each port and attached board \n",
    "dev_info = []\n",
    "for p in ports:\n",
    "    info = %mpy --select {p} --info\n",
    "    if info:\n",
    "        dev_info.append(info)\n",
    "\n",
    "dev_info"
   ]
  },
  {
   "cell_type": "code",
   "execution_count": null,
   "metadata": {},
   "outputs": [],
   "source": [
    "def get_board(dev_info: list[dict], port: str):\n",
    "    \"\"\"Get the first board of the specified port.\"\"\"\n",
    "    sub = [d for d in dev_info if d[\"port\"] == port]\n",
    "    return sub[0] if sub else None\n",
    "\n",
    "\n",
    "# get the first esp32 board\n",
    "get_board(dev_info, \"esp32\")"
   ]
  },
  {
   "cell_type": "code",
   "execution_count": null,
   "metadata": {},
   "outputs": [],
   "source": []
  }
 ],
 "metadata": {
  "kernelspec": {
   "display_name": ".venv",
   "language": "python",
   "name": "python3"
  },
  "language_info": {
   "codemirror_mode": {
    "name": "ipython",
    "version": 3
   },
   "file_extension": ".py",
   "mimetype": "text/x-python",
   "name": "python",
   "nbconvert_exporter": "python",
   "pygments_lexer": "ipython3",
   "version": "3.11.7"
  },
  "orig_nbformat": 4
 },
 "nbformat": 4,
 "nbformat_minor": 2
}
