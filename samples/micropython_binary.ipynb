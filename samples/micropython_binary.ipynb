{
 "cells": [
  {
   "attachments": {},
   "cell_type": "markdown",
   "metadata": {},
   "source": [
    "## running cells in Micropython Linux or Windows\n",
    "\n",
    "It is possible to run native versions of micropython  by using the Juputer standard [`%%script` magic](https://ipython.readthedocs.io/en/stable/interactive/magics.html#cellmagic-script).\n",
    "\n",
    "In order to allow Pylance to work properly, add a comment before the script tag as shown in the below example:\n"
   ]
  },
  {
   "cell_type": "code",
   "execution_count": 1,
   "metadata": {},
   "outputs": [
    {
     "name": "stdout",
     "output_type": "stream",
     "text": [
      "0\n",
      "1\n",
      "2\n"
     ]
    }
   ],
   "source": [
    "# %%script \"C:\\develop\\MyPython\\micropython-stubber\\tests\\tools\\windows\\micropython_v1_19_1_337.exe\"\n",
    "import time\n",
    "import machine\n",
    "\n",
    "for i in range(3):\n",
    "    time.sleep(0.1)\n",
    "    print(i)\n"
   ]
  }
 ],
 "metadata": {
  "kernelspec": {
   "display_name": ".venv",
   "language": "python",
   "name": "python3"
  },
  "language_info": {
   "codemirror_mode": {
    "name": "ipython",
    "version": 3
   },
   "file_extension": ".py",
   "mimetype": "text/x-python",
   "name": "python",
   "nbconvert_exporter": "python",
   "pygments_lexer": "ipython3",
   "version": "3.11.0"
  },
  "orig_nbformat": 4
 },
 "nbformat": 4,
 "nbformat_minor": 2
}
