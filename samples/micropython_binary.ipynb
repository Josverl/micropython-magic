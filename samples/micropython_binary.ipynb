{
 "cells": [
  {
   "attachments": {},
   "cell_type": "markdown",
   "metadata": {},
   "source": [
    "## Running cells in MicroPython Linux or Windows ports\n",
    "\n",
    "It is possible to run native versions of micropython by using the Jupyter standard [`%%script` magic](https://ipython.readthedocs.io/en/stable/interactive/magics.html#cellmagic-script).\n",
    "Notice that the output is already shown while the script is still being processed by the MicroPython executable.\n",
    "\n",
    "In order to allow Pylance to work properly, add a comment before the script tag as shown in the below example:"
   ]
  },
  {
   "cell_type": "code",
   "execution_count": 2,
   "metadata": {},
   "outputs": [
    {
     "name": "stdout",
     "output_type": "stream",
     "text": [
      "0\n",
      "1\n",
      "2\n",
      "3\n",
      "4\n",
      "5\n",
      "6\n",
      "7\n",
      "8\n",
      "9\n"
     ]
    }
   ],
   "source": [
    "# %%script \"C:\\develop\\MyPython\\micropython-stubber\\tests\\tools\\windows\\micropython_v1_19_1_337.exe\"\n",
    "import time\n",
    "import machine\n",
    "\n",
    "for i in range(10):\n",
    "    time.sleep(0.5)\n",
    "    print(i)"
   ]
  },
  {
   "cell_type": "code",
   "execution_count": null,
   "metadata": {},
   "outputs": [],
   "source": []
  }
 ],
 "metadata": {
  "kernelspec": {
   "display_name": ".venv",
   "language": "python",
   "name": "python3"
  },
  "language_info": {
   "codemirror_mode": {
    "name": "ipython",
    "version": 3
   },
   "file_extension": ".py",
   "mimetype": "text/x-python",
   "name": "python",
   "nbconvert_exporter": "python",
   "pygments_lexer": "ipython3",
   "version": "3.11.0"
  },
  "orig_nbformat": 4
 },
 "nbformat": 4,
 "nbformat_minor": 2
}
