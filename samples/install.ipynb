{
 "cells": [
  {
   "attachments": {},
   "cell_type": "markdown",
   "metadata": {},
   "source": [
    "# Notebook to run MicroPython on a device.\n",
    "\n",
    "Uses mpremote to make the connections to the MCU and run the cells/lines on a connected board\n",
    "\n",
    "Requirements :\n",
    "\n",
    "- `pip install -U \"git+https://github.com/josverl/micropython-magic\"` or\n",
    "- `%pip install -U \"git+https://github.com/josverl/micropython-magic\"` directly in a Jupyter notebook cell\n",
    "\n",
    "For the graphics support use install the [bqplot](https://bqplot.github.io/bqplot/) and numpy packages:\n",
    "\n",
    "- `%pip install -U bqplot numpy`\n",
    "\n",
    "Notes:\n",
    "\n",
    "- The name of the module to load is `micropython_magic`,\n",
    "- In Jupyter it can be loaded with command `%load_ext micropython_magic` or automaticall using configuration.\n",
    "- Micropython Magic makes use of [mpremote](https://docs.micropython.org/en/latest/reference/mpremote.html) to connect to the board(s)\n",
    "- The Cell magic command `%%micropython` or `%%mpy` are used to execute the entire cell a connected board\n",
    "- the `# %%micropython` cell magic can be commented to better enable static code analysis tools like pylance and pylint\n",
    "- For single statements or lines use the line magic command `%micropython` or `%mpy`\n",
    "- Get help by running a cell or line with `%%micropython?` or `%mpy?`\n"
   ]
  },
  {
   "cell_type": "code",
   "execution_count": null,
   "metadata": {},
   "outputs": [],
   "source": [
    "# uncomment the following lines to install the packages\n",
    "\n",
    "# %pip install git+https://github.com/josverl/micropython-magic\n",
    "# %pip install -U bqplot numpy"
   ]
  },
  {
   "cell_type": "code",
   "execution_count": 2,
   "metadata": {
    "tags": [
     "load_magic"
    ]
   },
   "outputs": [
    {
     "name": "stdout",
     "output_type": "stream",
     "text": [
      "The micropython_magic extension is already loaded. To reload it, use:\n",
      "  %reload_ext micropython_magic\n"
     ]
    }
   ],
   "source": [
    "%load_ext micropython_magic\n",
    "%reload_ext micropython_magic"
   ]
  },
  {
   "cell_type": "code",
   "execution_count": 7,
   "metadata": {
    "tags": []
   },
   "outputs": [
    {
     "name": "stdout",
     "output_type": "stream",
     "text": [
      "\u001b[1;31mDocstring:\u001b[0m\n",
      "::\n",
      "\n",
      "  %micropython [--writefile PATH/FILE.PY] [--readfile PATH/FILE.PY]\n",
      "                   [--new] [--select PORT [PORT ...]] [--reset] [--hard-reset]\n",
      "\n",
      "Run Micropython code on an attached device using mpremote.\n",
      "\n",
      "Code execution:\n",
      "  --writefile <PATH/FILE.PY>, -wf <PATH/FILE.PY>\n",
      "                        MCU [path/]filename to write to\n",
      "  --readfile <PATH/FILE.PY>, -rf <PATH/FILE.PY>\n",
      "                        MCU [path/]filename to read from\n",
      "  --new                 new cell is added after the current cell instead of\n",
      "                        replacing it\n",
      "\n",
      "Devices:\n",
      "  --select <PORT [PORT ...]>\n",
      "                        serial port to connect to\n",
      "  --reset, --soft-reset\n",
      "                        Reset device (before running cell).\n",
      "  --hard-reset          reset device.\n",
      "\u001b[1;31mFile:\u001b[0m      c:\\develop\\mypython\\micropython-magic\\src\\micropython_magic\\octarine.py"
     ]
    }
   ],
   "source": [
    "%%micropython?"
   ]
  },
  {
   "cell_type": "code",
   "execution_count": 8,
   "metadata": {},
   "outputs": [
    {
     "name": "stdout",
     "output_type": "stream",
     "text": [
      "\u001b[1;31mDocstring:\u001b[0m\n",
      "::\n",
      "\n",
      "  %mpy_line [--eval [EXPRESSION ...]] [--list] [--select PORT [PORT ...]]\n",
      "                [--reset] [--hard-reset]\n",
      "                [STATEMENTS ...]\n",
      "\n",
      "Run Micropython code on an attached device using mpremote.\n",
      "\n",
      "- can be silenced with a trailing semicolon when used as a line magic\n",
      "\n",
      "Code execution:\n",
      "  STATEMENT(S)          Micropython code to run.\n",
      "  --eval <[EXPRESSION ...]>\n",
      "                        Expression to evaluate\n",
      "\n",
      "Devices:\n",
      "  --list                List available devices.\n",
      "  --select <PORT [PORT ...]>\n",
      "                        serial port to connect to\n",
      "  --reset, --soft-reset\n",
      "                        reset device.\n",
      "  --hard-reset          reset device.\n",
      "\u001b[1;31mFile:\u001b[0m      c:\\develop\\mypython\\micropython-magic\\src\\micropython_magic\\octarine.py"
     ]
    }
   ],
   "source": [
    "%mpy?"
   ]
  },
  {
   "cell_type": "code",
   "execution_count": 9,
   "metadata": {},
   "outputs": [
    {
     "ename": "ConnectionError",
     "evalue": "no device found",
     "output_type": "error",
     "traceback": [
      "\u001b[1;31m---------------------------------------------------------------------------\u001b[0m",
      "\u001b[1;31mConnectionError\u001b[0m                           Traceback (most recent call last)",
      "Cell \u001b[1;32mIn[9], line 1\u001b[0m\n\u001b[1;32m----> 1\u001b[0m get_ipython()\u001b[39m.\u001b[39;49mrun_cell_magic(\u001b[39m'\u001b[39;49m\u001b[39mmicropython\u001b[39;49m\u001b[39m'\u001b[39;49m, \u001b[39m'\u001b[39;49m\u001b[39m'\u001b[39;49m, \u001b[39m'\u001b[39;49m\u001b[39mimport os\u001b[39;49m\u001b[39m\\n\u001b[39;49;00m\u001b[39mimport sys\u001b[39;49m\u001b[39m\\n\u001b[39;49;00m\u001b[39mprint(sys.platform)\u001b[39;49m\u001b[39m\\n\u001b[39;49;00m\u001b[39m\\n\u001b[39;49;00m\u001b[39mprint(os.uname())\u001b[39;49m\u001b[39m\\n\u001b[39;49;00m\u001b[39mprint(\u001b[39;49m\u001b[39m\"\u001b[39;49m\u001b[39mhello from\u001b[39;49m\u001b[39m\"\u001b[39;49m\u001b[39m, os.uname().sysname)\u001b[39;49m\u001b[39m\\n\u001b[39;49;00m\u001b[39m'\u001b[39;49m)\n",
      "File \u001b[1;32mc:\\develop\\MyPython\\micropython-magic\\.venv\\Lib\\site-packages\\IPython\\core\\interactiveshell.py:2475\u001b[0m, in \u001b[0;36mInteractiveShell.run_cell_magic\u001b[1;34m(self, magic_name, line, cell)\u001b[0m\n\u001b[0;32m   2473\u001b[0m \u001b[39mwith\u001b[39;00m \u001b[39mself\u001b[39m\u001b[39m.\u001b[39mbuiltin_trap:\n\u001b[0;32m   2474\u001b[0m     args \u001b[39m=\u001b[39m (magic_arg_s, cell)\n\u001b[1;32m-> 2475\u001b[0m     result \u001b[39m=\u001b[39m fn(\u001b[39m*\u001b[39;49margs, \u001b[39m*\u001b[39;49m\u001b[39m*\u001b[39;49mkwargs)\n\u001b[0;32m   2477\u001b[0m \u001b[39m# The code below prevents the output from being displayed\u001b[39;00m\n\u001b[0;32m   2478\u001b[0m \u001b[39m# when using magics with decodator @output_can_be_silenced\u001b[39;00m\n\u001b[0;32m   2479\u001b[0m \u001b[39m# when the last Python token in the expression is a ';'.\u001b[39;00m\n\u001b[0;32m   2480\u001b[0m \u001b[39mif\u001b[39;00m \u001b[39mgetattr\u001b[39m(fn, magic\u001b[39m.\u001b[39mMAGIC_OUTPUT_CAN_BE_SILENCED, \u001b[39mFalse\u001b[39;00m):\n",
      "File \u001b[1;32mC:\\develop\\MyPython\\micropython-magic\\src\\micropython_magic\\octarine.py:196\u001b[0m, in \u001b[0;36mMpyMagics.micropython\u001b[1;34m(self, line, cell)\u001b[0m\n\u001b[0;32m    194\u001b[0m \u001b[39mif\u001b[39;00m \u001b[39mnot\u001b[39;00m cell:\n\u001b[0;32m    195\u001b[0m     \u001b[39mraise\u001b[39;00m UsageError(\u001b[39m\"\u001b[39m\u001b[39mPlease specify some MicroPython code to execute\u001b[39m\u001b[39m\"\u001b[39m)\n\u001b[1;32m--> 196\u001b[0m output \u001b[39m=\u001b[39m \u001b[39mself\u001b[39;49m\u001b[39m.\u001b[39;49mMCU\u001b[39m.\u001b[39;49mrun_cell(cell)\n\u001b[0;32m    197\u001b[0m \u001b[39mreturn\u001b[39;00m PrettyOutput(output)\n",
      "File \u001b[1;32mC:\\develop\\MyPython\\micropython-magic\\src\\micropython_magic\\mpr.py:64\u001b[0m, in \u001b[0;36mMPRemote2.run_cell\u001b[1;34m(self, cell)\u001b[0m\n\u001b[0;32m     60\u001b[0m \u001b[39m\u001b[39m\u001b[39m\"\"\"run a codeblock on the device and return the output\"\"\"\u001b[39;00m\n\u001b[0;32m     61\u001b[0m \u001b[39m#     # TODO: if the cell is small enough, concat the cell with \\n an use exec instead of copy\u001b[39;00m\n\u001b[0;32m     62\u001b[0m \u001b[39m#     # - may need escaping quotes and newlines\u001b[39;00m\n\u001b[0;32m     63\u001b[0m \u001b[39m# copy the cell to a file on the device\u001b[39;00m\n\u001b[1;32m---> 64\u001b[0m \u001b[39mself\u001b[39;49m\u001b[39m.\u001b[39;49mcell_to_mcu_file(cell, \u001b[39m\"\u001b[39;49m\u001b[39m__magic.py\u001b[39;49m\u001b[39m\"\u001b[39;49m)\n\u001b[0;32m     65\u001b[0m \u001b[39m# run the transferred cell/file\u001b[39;00m\n\u001b[0;32m     66\u001b[0m \u001b[39mreturn\u001b[39;00m \u001b[39mself\u001b[39m\u001b[39m.\u001b[39mrun_mcu_file(\u001b[39m\"\u001b[39m\u001b[39m__magic.py\u001b[39m\u001b[39m\"\u001b[39m)\n",
      "File \u001b[1;32mC:\\develop\\MyPython\\micropython-magic\\src\\micropython_magic\\mpr.py:80\u001b[0m, in \u001b[0;36mMPRemote2.cell_to_mcu_file\u001b[1;34m(self, cell, filename)\u001b[0m\n\u001b[0;32m     78\u001b[0m copy_cmd \u001b[39m=\u001b[39m \u001b[39mf\u001b[39m\u001b[39m\"\u001b[39m\u001b[39mcp \u001b[39m\u001b[39m{\u001b[39;00mf\u001b[39m.\u001b[39mname\u001b[39m}\u001b[39;00m\u001b[39m :\u001b[39m\u001b[39m{\u001b[39;00mfilename\u001b[39m}\u001b[39;00m\u001b[39m\"\u001b[39m\n\u001b[0;32m     79\u001b[0m \u001b[39m# TODO: detect / retry / report errors copying the file\u001b[39;00m\n\u001b[1;32m---> 80\u001b[0m _ \u001b[39m=\u001b[39m \u001b[39mself\u001b[39;49m\u001b[39m.\u001b[39;49mrun_cmd(copy_cmd)\n\u001b[0;32m     81\u001b[0m \u001b[39m# log.info(_)\u001b[39;00m\n\u001b[0;32m     82\u001b[0m \u001b[39m# log.info(f.name, \"copied to device\")\u001b[39;00m\n\u001b[0;32m     83\u001b[0m Path(f\u001b[39m.\u001b[39mname)\u001b[39m.\u001b[39munlink()\n",
      "File \u001b[1;32mC:\\develop\\MyPython\\micropython-magic\\src\\micropython_magic\\mpr.py:45\u001b[0m, in \u001b[0;36mMPRemote2.run_cmd\u001b[1;34m(self, cmd, auto_connect)\u001b[0m\n\u001b[0;32m     43\u001b[0m \u001b[39massert\u001b[39;00m \u001b[39misinstance\u001b[39m(output, SList)\n\u001b[0;32m     44\u001b[0m \u001b[39mif\u001b[39;00m \u001b[39mlen\u001b[39m(output) \u001b[39m>\u001b[39m \u001b[39m0\u001b[39m \u001b[39mand\u001b[39;00m output[\u001b[39m0\u001b[39m]\u001b[39m.\u001b[39mstrip() \u001b[39m==\u001b[39m \u001b[39m\"\u001b[39m\u001b[39mno device found\u001b[39m\u001b[39m\"\u001b[39m:\n\u001b[1;32m---> 45\u001b[0m     \u001b[39mraise\u001b[39;00m \u001b[39mConnectionError\u001b[39;00m(\u001b[39m\"\u001b[39m\u001b[39mno device found\u001b[39m\u001b[39m\"\u001b[39m)\n\u001b[0;32m     46\u001b[0m \u001b[39mreturn\u001b[39;00m output\n",
      "\u001b[1;31mConnectionError\u001b[0m: no device found"
     ]
    }
   ],
   "source": [
    "# %%micropython\n",
    "import os\n",
    "\n",
    "print(os.uname())\n",
    "print(\"hello from\", os.uname().sysname)"
   ]
  },
  {
   "cell_type": "code",
   "execution_count": 10,
   "metadata": {},
   "outputs": [
    {
     "name": "stdout",
     "output_type": "stream",
     "text": [
      "\n"
     ]
    }
   ],
   "source": [
    "# connect to the last device in the list\n",
    "devices = %mpy --list\n",
    "print('\\n'.join(devices))\n"
   ]
  },
  {
   "cell_type": "code",
   "execution_count": 11,
   "metadata": {},
   "outputs": [
    {
     "name": "stdout",
     "output_type": "stream",
     "text": [
      "[]\n"
     ]
    }
   ],
   "source": [
    "# use jupyter Slist to select only the first column\n",
    "ports = devices.fields(0)\n",
    "print(ports)"
   ]
  },
  {
   "cell_type": "code",
   "execution_count": 1,
   "metadata": {},
   "outputs": [
    {
     "data": {
      "text/plain": [
       "42"
      ]
     },
     "execution_count": 1,
     "metadata": {},
     "output_type": "execute_result"
    }
   ],
   "source": [
    "%mpy --eval 2*3*7 "
   ]
  },
  {
   "cell_type": "code",
   "execution_count": null,
   "metadata": {},
   "outputs": [],
   "source": []
  }
 ],
 "metadata": {
  "kernelspec": {
   "display_name": "Python 3 (ipykernel)",
   "language": "python",
   "name": "python3"
  },
  "language_info": {
   "codemirror_mode": {
    "name": "ipython",
    "version": 3
   },
   "file_extension": ".py",
   "mimetype": "text/x-python",
   "name": "python",
   "nbconvert_exporter": "python",
   "pygments_lexer": "ipython3",
   "version": "3.11.7"
  }
 },
 "nbformat": 4,
 "nbformat_minor": 4
}
