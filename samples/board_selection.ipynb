{
 "cells": [
  {
   "cell_type": "code",
   "execution_count": 1,
   "metadata": {},
   "outputs": [
    {
     "data": {
      "text/plain": [
       "['COM3 E46024C7434C552A 2e8a:1003 Microsoft None',\n",
       " 'COM4 E661410403600E38 2e8a:0005 Microsoft None']"
      ]
     },
     "execution_count": 1,
     "metadata": {},
     "output_type": "execute_result"
    }
   ],
   "source": [
    "%mpy --list"
   ]
  },
  {
   "cell_type": "code",
   "execution_count": 7,
   "metadata": {},
   "outputs": [],
   "source": [
    "%mpy --select COM4\n",
    "# select device om COM4 for all subsequent operations"
   ]
  },
  {
   "cell_type": "code",
   "execution_count": 8,
   "metadata": {},
   "outputs": [
    {
     "data": {
      "application/json": "",
      "text/plain": [
       "['rp2 W5500-EVB-Pico with RP2040']"
      ]
     },
     "execution_count": 8,
     "metadata": {},
     "output_type": "execute_result"
    }
   ],
   "source": [
    "%%mpy\n",
    "import sys, os \n",
    "port = \"stm32\" if sys.platform.startswith(\"pyb\") else sys.platform\n",
    "board = sys.implementation._machine if \"_machine\" in dir(sys.implementation) else os.uname().machine\n",
    "print(port, board)\n"
   ]
  },
  {
   "cell_type": "code",
   "execution_count": 9,
   "metadata": {},
   "outputs": [
    {
     "data": {
      "application/json": "",
      "text/plain": [
       "['rp2 Pimoroni Pico LiPo 16MB with RP2040']"
      ]
     },
     "execution_count": 9,
     "metadata": {},
     "output_type": "execute_result"
    }
   ],
   "source": [
    "%%mpy --select COM3\n",
    "# select device om COM3 for this and all subsequent operations\n",
    "import sys, os \n",
    "port = \"stm32\" if sys.platform.startswith(\"pyb\") else sys.platform\n",
    "board = sys.implementation._machine if \"_machine\" in dir(sys.implementation) else os.uname().machine\n",
    "print(port, board)\n"
   ]
  },
  {
   "cell_type": "code",
   "execution_count": 16,
   "metadata": {},
   "outputs": [
    {
     "data": {
      "application/json": "",
      "text/plain": [
       "['rp2 W5500-EVB-Pico with RP2040']"
      ]
     },
     "execution_count": 16,
     "metadata": {},
     "output_type": "execute_result"
    }
   ],
   "source": [
    "%mpy --select COM4 \n",
    "%mpy print(port, board) "
   ]
  },
  {
   "cell_type": "code",
   "execution_count": null,
   "metadata": {},
   "outputs": [],
   "source": []
  }
 ],
 "metadata": {
  "kernelspec": {
   "display_name": ".venv",
   "language": "python",
   "name": "python3"
  },
  "language_info": {
   "codemirror_mode": {
    "name": "ipython",
    "version": 3
   },
   "file_extension": ".py",
   "mimetype": "text/x-python",
   "name": "python",
   "nbconvert_exporter": "python",
   "pygments_lexer": "ipython3",
   "version": "3.11.6"
  },
  "orig_nbformat": 4
 },
 "nbformat": 4,
 "nbformat_minor": 2
}
