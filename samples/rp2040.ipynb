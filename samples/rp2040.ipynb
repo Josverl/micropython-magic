{
 "cells": [
  {
   "cell_type": "code",
   "execution_count": null,
   "metadata": {},
   "outputs": [],
   "source": [
    "try:\n",
    "    import bqplot.pyplot as plt\n",
    "    import numpy as np\n",
    "except (ModuleNotFoundError, ImportError):\n",
    "    %pip install -U bqplot, numpy\n",
    "\n",
    "measurements = []"
   ]
  },
  {
   "cell_type": "code",
   "execution_count": null,
   "metadata": {
    "scrolled": true
   },
   "outputs": [],
   "source": [
    "%%micropython\n",
    "import machine\n",
    "import utime\n",
    "\n",
    "def cpu_temp():\n",
    "    sensor_temp = machine.ADC(4)\n",
    "    conversion_factor = 3.3 / (65535)\n",
    "    reading = sensor_temp.read_u16() * conversion_factor \n",
    "    temperature = 27 - (reading - 0.706)/0.001721\n",
    "    return temperature"
   ]
  },
  {
   "cell_type": "code",
   "execution_count": null,
   "metadata": {},
   "outputs": [],
   "source": [
    "t = %eval cpu_temp()\n",
    "print(t)\n",
    "measurements.append(float(t))\n",
    "print(measurements)"
   ]
  },
  {
   "cell_type": "code",
   "execution_count": null,
   "metadata": {},
   "outputs": [],
   "source": [
    "# create a graph of the measurements using pyplot\n",
    "cpu_graph = plt.plot(measurements)\n",
    "cpu_graph.colors = ['red']\n",
    "cpu_graph.xlabel = 'samples'\n",
    "cpu_graph.ylabel = 'CPU Temp'\n",
    "cpu_graph.title = 'CPU Temperature'\n",
    "cpu_graph.display_legend = True\n",
    "plt.show()"
   ]
  },
  {
   "cell_type": "code",
   "execution_count": null,
   "metadata": {},
   "outputs": [],
   "source": [
    "import time\n",
    "for i in range(100):\n",
    "    t = %eval cpu_temp()\n",
    "    measurements.append(float(t))\n",
    "    plt.plot(measurements)\n",
    "    time.sleep(1)"
   ]
  },
  {
   "cell_type": "code",
   "execution_count": null,
   "metadata": {},
   "outputs": [],
   "source": []
  }
 ],
 "metadata": {
  "celltoolbar": "Geen",
  "kernelspec": {
   "display_name": "Python 3 (ipykernel)",
   "language": "python",
   "name": "python3"
  },
  "language_info": {
   "codemirror_mode": {
    "name": "ipython",
    "version": 3
   },
   "file_extension": ".py",
   "mimetype": "text/x-python",
   "name": "python",
   "nbconvert_exporter": "python",
   "pygments_lexer": "ipython3",
   "version": "3.11.0"
  }
 },
 "nbformat": 4,
 "nbformat_minor": 2
}
