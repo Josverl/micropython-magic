{
 "cells": [
  {
   "cell_type": "code",
   "execution_count": 1,
   "metadata": {},
   "outputs": [
    {
     "name": "stdout",
     "output_type": "stream",
     "text": [
      "The micropython_magic extension is already loaded. To reload it, use:\n",
      "  %reload_ext micropython_magic\n"
     ]
    }
   ],
   "source": [
    "# load / install libraries\n",
    "try:\n",
    "    import bqplot.pyplot as plt\n",
    "    import numpy as np\n",
    "except (ModuleNotFoundError, ImportError):\n",
    "    %pip install -U bqplot numpy\n",
    "\n",
    "%load_ext micropython_magic  "
   ]
  },
  {
   "cell_type": "code",
   "execution_count": 2,
   "metadata": {},
   "outputs": [],
   "source": [
    "# start with an empty list of measurements\n",
    "measurements = []"
   ]
  },
  {
   "cell_type": "code",
   "execution_count": 3,
   "metadata": {
    "scrolled": true
   },
   "outputs": [
    {
     "name": "stdout",
     "output_type": "stream",
     "text": [
      "\u001b[34m\u001b[1mDEBUG   \u001b[0m | \u001b[36mmicropython_magic.octarine\u001b[0m:\u001b[36mrun_cmd\u001b[0m:\u001b[36m93\u001b[0m - \u001b[34m\u001b[1mmpremote connect auto resume  cp C:\\Users\\josverl\\AppData\\Local\\Temp\\tmpgbstvs0s.py :__magic.py\u001b[0m\n",
      "\u001b[34m\u001b[1mDEBUG   \u001b[0m | \u001b[36mmicropython_magic.octarine\u001b[0m:\u001b[36mrun_cmd\u001b[0m:\u001b[36m93\u001b[0m - \u001b[34m\u001b[1mmpremote connect auto resume  exec \"exec( open('__magic.py').read() , globals() )\"\u001b[0m\n"
     ]
    },
    {
     "data": {
      "text/plain": []
     },
     "execution_count": 3,
     "metadata": {},
     "output_type": "execute_result"
    }
   ],
   "source": [
    "%%micropython\n",
    "import machine\n",
    "import utime\n",
    "\n",
    "def cpu_temp():\n",
    "    \"function to measure the internal temperature sensor of a rp2040 cpu in Celsius\"\n",
    "    sensor_temp = machine.ADC(4)\n",
    "    conversion_factor = 3.3 / (65535)\n",
    "    reading = sensor_temp.read_u16() * conversion_factor\n",
    "    return 27 - (reading - 0.706)/0.001721\n"
   ]
  },
  {
   "cell_type": "code",
   "execution_count": 4,
   "metadata": {},
   "outputs": [
    {
     "name": "stdout",
     "output_type": "stream",
     "text": [
      "\u001b[34m\u001b[1mDEBUG   \u001b[0m | \u001b[36mmicropython_magic.octarine\u001b[0m:\u001b[36mrun_cmd\u001b[0m:\u001b[36m93\u001b[0m - \u001b[34m\u001b[1mmpremote connect auto resume  exec \"import json; print('<json~',json.dumps(cpu_temp()),'~json>')\"\u001b[0m\n"
     ]
    },
    {
     "data": {
      "text/plain": [
       "float"
      ]
     },
     "execution_count": 4,
     "metadata": {},
     "output_type": "execute_result"
    }
   ],
   "source": [
    "t = %eval cpu_temp()\n",
    "type(t)"
   ]
  },
  {
   "cell_type": "code",
   "execution_count": 5,
   "metadata": {},
   "outputs": [
    {
     "name": "stdout",
     "output_type": "stream",
     "text": [
      "\u001b[34m\u001b[1mDEBUG   \u001b[0m | \u001b[36mmicropython_magic.octarine\u001b[0m:\u001b[36mrun_cmd\u001b[0m:\u001b[36m93\u001b[0m - \u001b[34m\u001b[1mmpremote connect auto resume  exec \"import json; print('<json~',json.dumps(cpu_temp()),'~json>')\"\u001b[0m\n",
      "31.72584\n",
      "[31.72584]\n"
     ]
    }
   ],
   "source": [
    "# measure once and append to the list\n",
    "t = %eval cpu_temp()\n",
    "print(t)\n",
    "measurements.append(t)\n",
    "print(measurements)"
   ]
  },
  {
   "cell_type": "code",
   "execution_count": 6,
   "metadata": {},
   "outputs": [
    {
     "data": {
      "application/vnd.jupyter.widget-view+json": {
       "model_id": "9ea4794f834b4121a64154a68dc33a21",
       "version_major": 2,
       "version_minor": 0
      },
      "text/plain": [
       "VBox(children=(Figure(axes=[Axis(scale=LinearScale()), Axis(orientation='vertical', scale=LinearScale())], fig…"
      ]
     },
     "metadata": {},
     "output_type": "display_data"
    }
   ],
   "source": [
    "# create a graph of the measurements using pyplot\n",
    "cpu_graph = plt.plot(measurements)\n",
    "cpu_graph.colors = ['red']\n",
    "cpu_graph.xlabel = 'samples'\n",
    "cpu_graph.ylabel = 'CPU Temp'\n",
    "cpu_graph.title = 'CPU Temperature'\n",
    "cpu_graph.display_legend = True\n",
    "plt.show()"
   ]
  },
  {
   "cell_type": "code",
   "execution_count": 7,
   "metadata": {},
   "outputs": [
    {
     "name": "stdout",
     "output_type": "stream",
     "text": [
      "\u001b[34m\u001b[1mDEBUG   \u001b[0m | \u001b[36mmicropython_magic.octarine\u001b[0m:\u001b[36mrun_cmd\u001b[0m:\u001b[36m93\u001b[0m - \u001b[34m\u001b[1mmpremote connect auto resume  exec \"import json; print('<json~',json.dumps(cpu_temp()),'~json>')\"\u001b[0m\n",
      "\u001b[34m\u001b[1mDEBUG   \u001b[0m | \u001b[36mmicropython_magic.octarine\u001b[0m:\u001b[36mrun_cmd\u001b[0m:\u001b[36m93\u001b[0m - \u001b[34m\u001b[1mmpremote connect auto resume  exec \"import json; print('<json~',json.dumps(cpu_temp()),'~json>')\"\u001b[0m\n",
      "\u001b[34m\u001b[1mDEBUG   \u001b[0m | \u001b[36mmicropython_magic.octarine\u001b[0m:\u001b[36mrun_cmd\u001b[0m:\u001b[36m93\u001b[0m - \u001b[34m\u001b[1mmpremote connect auto resume  exec \"import json; print('<json~',json.dumps(cpu_temp()),'~json>')\"\u001b[0m\n",
      "\u001b[34m\u001b[1mDEBUG   \u001b[0m | \u001b[36mmicropython_magic.octarine\u001b[0m:\u001b[36mrun_cmd\u001b[0m:\u001b[36m93\u001b[0m - \u001b[34m\u001b[1mmpremote connect auto resume  exec \"import json; print('<json~',json.dumps(cpu_temp()),'~json>')\"\u001b[0m\n",
      "\u001b[34m\u001b[1mDEBUG   \u001b[0m | \u001b[36mmicropython_magic.octarine\u001b[0m:\u001b[36mrun_cmd\u001b[0m:\u001b[36m93\u001b[0m - \u001b[34m\u001b[1mmpremote connect auto resume  exec \"import json; print('<json~',json.dumps(cpu_temp()),'~json>')\"\u001b[0m\n",
      "\u001b[34m\u001b[1mDEBUG   \u001b[0m | \u001b[36mmicropython_magic.octarine\u001b[0m:\u001b[36mrun_cmd\u001b[0m:\u001b[36m93\u001b[0m - \u001b[34m\u001b[1mmpremote connect auto resume  exec \"import json; print('<json~',json.dumps(cpu_temp()),'~json>')\"\u001b[0m\n",
      "\u001b[34m\u001b[1mDEBUG   \u001b[0m | \u001b[36mmicropython_magic.octarine\u001b[0m:\u001b[36mrun_cmd\u001b[0m:\u001b[36m93\u001b[0m - \u001b[34m\u001b[1mmpremote connect auto resume  exec \"import json; print('<json~',json.dumps(cpu_temp()),'~json>')\"\u001b[0m\n",
      "\u001b[34m\u001b[1mDEBUG   \u001b[0m | \u001b[36mmicropython_magic.octarine\u001b[0m:\u001b[36mrun_cmd\u001b[0m:\u001b[36m93\u001b[0m - \u001b[34m\u001b[1mmpremote connect auto resume  exec \"import json; print('<json~',json.dumps(cpu_temp()),'~json>')\"\u001b[0m\n",
      "\u001b[34m\u001b[1mDEBUG   \u001b[0m | \u001b[36mmicropython_magic.octarine\u001b[0m:\u001b[36mrun_cmd\u001b[0m:\u001b[36m93\u001b[0m - \u001b[34m\u001b[1mmpremote connect auto resume  exec \"import json; print('<json~',json.dumps(cpu_temp()),'~json>')\"\u001b[0m\n",
      "\u001b[34m\u001b[1mDEBUG   \u001b[0m | \u001b[36mmicropython_magic.octarine\u001b[0m:\u001b[36mrun_cmd\u001b[0m:\u001b[36m93\u001b[0m - \u001b[34m\u001b[1mmpremote connect auto resume  exec \"import json; print('<json~',json.dumps(cpu_temp()),'~json>')\"\u001b[0m\n",
      "\u001b[34m\u001b[1mDEBUG   \u001b[0m | \u001b[36mmicropython_magic.octarine\u001b[0m:\u001b[36mrun_cmd\u001b[0m:\u001b[36m93\u001b[0m - \u001b[34m\u001b[1mmpremote connect auto resume  exec \"import json; print('<json~',json.dumps(cpu_temp()),'~json>')\"\u001b[0m\n",
      "\u001b[34m\u001b[1mDEBUG   \u001b[0m | \u001b[36mmicropython_magic.octarine\u001b[0m:\u001b[36mrun_cmd\u001b[0m:\u001b[36m93\u001b[0m - \u001b[34m\u001b[1mmpremote connect auto resume  exec \"import json; print('<json~',json.dumps(cpu_temp()),'~json>')\"\u001b[0m\n",
      "\u001b[34m\u001b[1mDEBUG   \u001b[0m | \u001b[36mmicropython_magic.octarine\u001b[0m:\u001b[36mrun_cmd\u001b[0m:\u001b[36m93\u001b[0m - \u001b[34m\u001b[1mmpremote connect auto resume  exec \"import json; print('<json~',json.dumps(cpu_temp()),'~json>')\"\u001b[0m\n",
      "\u001b[34m\u001b[1mDEBUG   \u001b[0m | \u001b[36mmicropython_magic.octarine\u001b[0m:\u001b[36mrun_cmd\u001b[0m:\u001b[36m93\u001b[0m - \u001b[34m\u001b[1mmpremote connect auto resume  exec \"import json; print('<json~',json.dumps(cpu_temp()),'~json>')\"\u001b[0m\n",
      "\u001b[34m\u001b[1mDEBUG   \u001b[0m | \u001b[36mmicropython_magic.octarine\u001b[0m:\u001b[36mrun_cmd\u001b[0m:\u001b[36m93\u001b[0m - \u001b[34m\u001b[1mmpremote connect auto resume  exec \"import json; print('<json~',json.dumps(cpu_temp()),'~json>')\"\u001b[0m\n",
      "\u001b[34m\u001b[1mDEBUG   \u001b[0m | \u001b[36mmicropython_magic.octarine\u001b[0m:\u001b[36mrun_cmd\u001b[0m:\u001b[36m93\u001b[0m - \u001b[34m\u001b[1mmpremote connect auto resume  exec \"import json; print('<json~',json.dumps(cpu_temp()),'~json>')\"\u001b[0m\n",
      "\u001b[34m\u001b[1mDEBUG   \u001b[0m | \u001b[36mmicropython_magic.octarine\u001b[0m:\u001b[36mrun_cmd\u001b[0m:\u001b[36m93\u001b[0m - \u001b[34m\u001b[1mmpremote connect auto resume  exec \"import json; print('<json~',json.dumps(cpu_temp()),'~json>')\"\u001b[0m\n",
      "\u001b[34m\u001b[1mDEBUG   \u001b[0m | \u001b[36mmicropython_magic.octarine\u001b[0m:\u001b[36mrun_cmd\u001b[0m:\u001b[36m93\u001b[0m - \u001b[34m\u001b[1mmpremote connect auto resume  exec \"import json; print('<json~',json.dumps(cpu_temp()),'~json>')\"\u001b[0m\n",
      "\u001b[34m\u001b[1mDEBUG   \u001b[0m | \u001b[36mmicropython_magic.octarine\u001b[0m:\u001b[36mrun_cmd\u001b[0m:\u001b[36m93\u001b[0m - \u001b[34m\u001b[1mmpremote connect auto resume  exec \"import json; print('<json~',json.dumps(cpu_temp()),'~json>')\"\u001b[0m\n",
      "\u001b[34m\u001b[1mDEBUG   \u001b[0m | \u001b[36mmicropython_magic.octarine\u001b[0m:\u001b[36mrun_cmd\u001b[0m:\u001b[36m93\u001b[0m - \u001b[34m\u001b[1mmpremote connect auto resume  exec \"import json; print('<json~',json.dumps(cpu_temp()),'~json>')\"\u001b[0m\n",
      "\u001b[34m\u001b[1mDEBUG   \u001b[0m | \u001b[36mmicropython_magic.octarine\u001b[0m:\u001b[36mrun_cmd\u001b[0m:\u001b[36m93\u001b[0m - \u001b[34m\u001b[1mmpremote connect auto resume  exec \"import json; print('<json~',json.dumps(cpu_temp()),'~json>')\"\u001b[0m\n",
      "\u001b[34m\u001b[1mDEBUG   \u001b[0m | \u001b[36mmicropython_magic.octarine\u001b[0m:\u001b[36mrun_cmd\u001b[0m:\u001b[36m93\u001b[0m - \u001b[34m\u001b[1mmpremote connect auto resume  exec \"import json; print('<json~',json.dumps(cpu_temp()),'~json>')\"\u001b[0m\n",
      "\u001b[34m\u001b[1mDEBUG   \u001b[0m | \u001b[36mmicropython_magic.octarine\u001b[0m:\u001b[36mrun_cmd\u001b[0m:\u001b[36m93\u001b[0m - \u001b[34m\u001b[1mmpremote connect auto resume  exec \"import json; print('<json~',json.dumps(cpu_temp()),'~json>')\"\u001b[0m\n",
      "\u001b[34m\u001b[1mDEBUG   \u001b[0m | \u001b[36mmicropython_magic.octarine\u001b[0m:\u001b[36mrun_cmd\u001b[0m:\u001b[36m93\u001b[0m - \u001b[34m\u001b[1mmpremote connect auto resume  exec \"import json; print('<json~',json.dumps(cpu_temp()),'~json>')\"\u001b[0m\n",
      "\u001b[34m\u001b[1mDEBUG   \u001b[0m | \u001b[36mmicropython_magic.octarine\u001b[0m:\u001b[36mrun_cmd\u001b[0m:\u001b[36m93\u001b[0m - \u001b[34m\u001b[1mmpremote connect auto resume  exec \"import json; print('<json~',json.dumps(cpu_temp()),'~json>')\"\u001b[0m\n",
      "\u001b[34m\u001b[1mDEBUG   \u001b[0m | \u001b[36mmicropython_magic.octarine\u001b[0m:\u001b[36mrun_cmd\u001b[0m:\u001b[36m93\u001b[0m - \u001b[34m\u001b[1mmpremote connect auto resume  exec \"import json; print('<json~',json.dumps(cpu_temp()),'~json>')\"\u001b[0m\n",
      "\u001b[34m\u001b[1mDEBUG   \u001b[0m | \u001b[36mmicropython_magic.octarine\u001b[0m:\u001b[36mrun_cmd\u001b[0m:\u001b[36m93\u001b[0m - \u001b[34m\u001b[1mmpremote connect auto resume  exec \"import json; print('<json~',json.dumps(cpu_temp()),'~json>')\"\u001b[0m\n",
      "\u001b[34m\u001b[1mDEBUG   \u001b[0m | \u001b[36mmicropython_magic.octarine\u001b[0m:\u001b[36mrun_cmd\u001b[0m:\u001b[36m93\u001b[0m - \u001b[34m\u001b[1mmpremote connect auto resume  exec \"import json; print('<json~',json.dumps(cpu_temp()),'~json>')\"\u001b[0m\n",
      "\u001b[34m\u001b[1mDEBUG   \u001b[0m | \u001b[36mmicropython_magic.octarine\u001b[0m:\u001b[36mrun_cmd\u001b[0m:\u001b[36m93\u001b[0m - \u001b[34m\u001b[1mmpremote connect auto resume  exec \"import json; print('<json~',json.dumps(cpu_temp()),'~json>')\"\u001b[0m\n",
      "\u001b[34m\u001b[1mDEBUG   \u001b[0m | \u001b[36mmicropython_magic.octarine\u001b[0m:\u001b[36mrun_cmd\u001b[0m:\u001b[36m93\u001b[0m - \u001b[34m\u001b[1mmpremote connect auto resume  exec \"import json; print('<json~',json.dumps(cpu_temp()),'~json>')\"\u001b[0m\n",
      "\u001b[34m\u001b[1mDEBUG   \u001b[0m | \u001b[36mmicropython_magic.octarine\u001b[0m:\u001b[36mrun_cmd\u001b[0m:\u001b[36m93\u001b[0m - \u001b[34m\u001b[1mmpremote connect auto resume  exec \"import json; print('<json~',json.dumps(cpu_temp()),'~json>')\"\u001b[0m\n",
      "\u001b[34m\u001b[1mDEBUG   \u001b[0m | \u001b[36mmicropython_magic.octarine\u001b[0m:\u001b[36mrun_cmd\u001b[0m:\u001b[36m93\u001b[0m - \u001b[34m\u001b[1mmpremote connect auto resume  exec \"import json; print('<json~',json.dumps(cpu_temp()),'~json>')\"\u001b[0m\n",
      "\u001b[34m\u001b[1mDEBUG   \u001b[0m | \u001b[36mmicropython_magic.octarine\u001b[0m:\u001b[36mrun_cmd\u001b[0m:\u001b[36m93\u001b[0m - \u001b[34m\u001b[1mmpremote connect auto resume  exec \"import json; print('<json~',json.dumps(cpu_temp()),'~json>')\"\u001b[0m\n",
      "\u001b[34m\u001b[1mDEBUG   \u001b[0m | \u001b[36mmicropython_magic.octarine\u001b[0m:\u001b[36mrun_cmd\u001b[0m:\u001b[36m93\u001b[0m - \u001b[34m\u001b[1mmpremote connect auto resume  exec \"import json; print('<json~',json.dumps(cpu_temp()),'~json>')\"\u001b[0m\n",
      "\u001b[34m\u001b[1mDEBUG   \u001b[0m | \u001b[36mmicropython_magic.octarine\u001b[0m:\u001b[36mrun_cmd\u001b[0m:\u001b[36m93\u001b[0m - \u001b[34m\u001b[1mmpremote connect auto resume  exec \"import json; print('<json~',json.dumps(cpu_temp()),'~json>')\"\u001b[0m\n",
      "\u001b[34m\u001b[1mDEBUG   \u001b[0m | \u001b[36mmicropython_magic.octarine\u001b[0m:\u001b[36mrun_cmd\u001b[0m:\u001b[36m93\u001b[0m - \u001b[34m\u001b[1mmpremote connect auto resume  exec \"import json; print('<json~',json.dumps(cpu_temp()),'~json>')\"\u001b[0m\n",
      "\u001b[34m\u001b[1mDEBUG   \u001b[0m | \u001b[36mmicropython_magic.octarine\u001b[0m:\u001b[36mrun_cmd\u001b[0m:\u001b[36m93\u001b[0m - \u001b[34m\u001b[1mmpremote connect auto resume  exec \"import json; print('<json~',json.dumps(cpu_temp()),'~json>')\"\u001b[0m\n",
      "\u001b[34m\u001b[1mDEBUG   \u001b[0m | \u001b[36mmicropython_magic.octarine\u001b[0m:\u001b[36mrun_cmd\u001b[0m:\u001b[36m93\u001b[0m - \u001b[34m\u001b[1mmpremote connect auto resume  exec \"import json; print('<json~',json.dumps(cpu_temp()),'~json>')\"\u001b[0m\n",
      "\u001b[34m\u001b[1mDEBUG   \u001b[0m | \u001b[36mmicropython_magic.octarine\u001b[0m:\u001b[36mrun_cmd\u001b[0m:\u001b[36m93\u001b[0m - \u001b[34m\u001b[1mmpremote connect auto resume  exec \"import json; print('<json~',json.dumps(cpu_temp()),'~json>')\"\u001b[0m\n",
      "\u001b[34m\u001b[1mDEBUG   \u001b[0m | \u001b[36mmicropython_magic.octarine\u001b[0m:\u001b[36mrun_cmd\u001b[0m:\u001b[36m93\u001b[0m - \u001b[34m\u001b[1mmpremote connect auto resume  exec \"import json; print('<json~',json.dumps(cpu_temp()),'~json>')\"\u001b[0m\n",
      "\u001b[34m\u001b[1mDEBUG   \u001b[0m | \u001b[36mmicropython_magic.octarine\u001b[0m:\u001b[36mrun_cmd\u001b[0m:\u001b[36m93\u001b[0m - \u001b[34m\u001b[1mmpremote connect auto resume  exec \"import json; print('<json~',json.dumps(cpu_temp()),'~json>')\"\u001b[0m\n",
      "\u001b[34m\u001b[1mDEBUG   \u001b[0m | \u001b[36mmicropython_magic.octarine\u001b[0m:\u001b[36mrun_cmd\u001b[0m:\u001b[36m93\u001b[0m - \u001b[34m\u001b[1mmpremote connect auto resume  exec \"import json; print('<json~',json.dumps(cpu_temp()),'~json>')\"\u001b[0m\n",
      "\u001b[34m\u001b[1mDEBUG   \u001b[0m | \u001b[36mmicropython_magic.octarine\u001b[0m:\u001b[36mrun_cmd\u001b[0m:\u001b[36m93\u001b[0m - \u001b[34m\u001b[1mmpremote connect auto resume  exec \"import json; print('<json~',json.dumps(cpu_temp()),'~json>')\"\u001b[0m\n",
      "\u001b[34m\u001b[1mDEBUG   \u001b[0m | \u001b[36mmicropython_magic.octarine\u001b[0m:\u001b[36mrun_cmd\u001b[0m:\u001b[36m93\u001b[0m - \u001b[34m\u001b[1mmpremote connect auto resume  exec \"import json; print('<json~',json.dumps(cpu_temp()),'~json>')\"\u001b[0m\n",
      "\u001b[34m\u001b[1mDEBUG   \u001b[0m | \u001b[36mmicropython_magic.octarine\u001b[0m:\u001b[36mrun_cmd\u001b[0m:\u001b[36m93\u001b[0m - \u001b[34m\u001b[1mmpremote connect auto resume  exec \"import json; print('<json~',json.dumps(cpu_temp()),'~json>')\"\u001b[0m\n",
      "\u001b[34m\u001b[1mDEBUG   \u001b[0m | \u001b[36mmicropython_magic.octarine\u001b[0m:\u001b[36mrun_cmd\u001b[0m:\u001b[36m93\u001b[0m - \u001b[34m\u001b[1mmpremote connect auto resume  exec \"import json; print('<json~',json.dumps(cpu_temp()),'~json>')\"\u001b[0m\n",
      "\u001b[34m\u001b[1mDEBUG   \u001b[0m | \u001b[36mmicropython_magic.octarine\u001b[0m:\u001b[36mrun_cmd\u001b[0m:\u001b[36m93\u001b[0m - \u001b[34m\u001b[1mmpremote connect auto resume  exec \"import json; print('<json~',json.dumps(cpu_temp()),'~json>')\"\u001b[0m\n",
      "\u001b[34m\u001b[1mDEBUG   \u001b[0m | \u001b[36mmicropython_magic.octarine\u001b[0m:\u001b[36mrun_cmd\u001b[0m:\u001b[36m93\u001b[0m - \u001b[34m\u001b[1mmpremote connect auto resume  exec \"import json; print('<json~',json.dumps(cpu_temp()),'~json>')\"\u001b[0m\n",
      "\u001b[34m\u001b[1mDEBUG   \u001b[0m | \u001b[36mmicropython_magic.octarine\u001b[0m:\u001b[36mrun_cmd\u001b[0m:\u001b[36m93\u001b[0m - \u001b[34m\u001b[1mmpremote connect auto resume  exec \"import json; print('<json~',json.dumps(cpu_temp()),'~json>')\"\u001b[0m\n",
      "\u001b[34m\u001b[1mDEBUG   \u001b[0m | \u001b[36mmicropython_magic.octarine\u001b[0m:\u001b[36mrun_cmd\u001b[0m:\u001b[36m93\u001b[0m - \u001b[34m\u001b[1mmpremote connect auto resume  exec \"import json; print('<json~',json.dumps(cpu_temp()),'~json>')\"\u001b[0m\n",
      "\u001b[34m\u001b[1mDEBUG   \u001b[0m | \u001b[36mmicropython_magic.octarine\u001b[0m:\u001b[36mrun_cmd\u001b[0m:\u001b[36m93\u001b[0m - \u001b[34m\u001b[1mmpremote connect auto resume  exec \"import json; print('<json~',json.dumps(cpu_temp()),'~json>')\"\u001b[0m\n",
      "\u001b[34m\u001b[1mDEBUG   \u001b[0m | \u001b[36mmicropython_magic.octarine\u001b[0m:\u001b[36mrun_cmd\u001b[0m:\u001b[36m93\u001b[0m - \u001b[34m\u001b[1mmpremote connect auto resume  exec \"import json; print('<json~',json.dumps(cpu_temp()),'~json>')\"\u001b[0m\n",
      "\u001b[34m\u001b[1mDEBUG   \u001b[0m | \u001b[36mmicropython_magic.octarine\u001b[0m:\u001b[36mrun_cmd\u001b[0m:\u001b[36m93\u001b[0m - \u001b[34m\u001b[1mmpremote connect auto resume  exec \"import json; print('<json~',json.dumps(cpu_temp()),'~json>')\"\u001b[0m\n",
      "\u001b[34m\u001b[1mDEBUG   \u001b[0m | \u001b[36mmicropython_magic.octarine\u001b[0m:\u001b[36mrun_cmd\u001b[0m:\u001b[36m93\u001b[0m - \u001b[34m\u001b[1mmpremote connect auto resume  exec \"import json; print('<json~',json.dumps(cpu_temp()),'~json>')\"\u001b[0m\n",
      "\u001b[34m\u001b[1mDEBUG   \u001b[0m | \u001b[36mmicropython_magic.octarine\u001b[0m:\u001b[36mrun_cmd\u001b[0m:\u001b[36m93\u001b[0m - \u001b[34m\u001b[1mmpremote connect auto resume  exec \"import json; print('<json~',json.dumps(cpu_temp()),'~json>')\"\u001b[0m\n",
      "\u001b[34m\u001b[1mDEBUG   \u001b[0m | \u001b[36mmicropython_magic.octarine\u001b[0m:\u001b[36mrun_cmd\u001b[0m:\u001b[36m93\u001b[0m - \u001b[34m\u001b[1mmpremote connect auto resume  exec \"import json; print('<json~',json.dumps(cpu_temp()),'~json>')\"\u001b[0m\n",
      "\u001b[34m\u001b[1mDEBUG   \u001b[0m | \u001b[36mmicropython_magic.octarine\u001b[0m:\u001b[36mrun_cmd\u001b[0m:\u001b[36m93\u001b[0m - \u001b[34m\u001b[1mmpremote connect auto resume  exec \"import json; print('<json~',json.dumps(cpu_temp()),'~json>')\"\u001b[0m\n",
      "\u001b[34m\u001b[1mDEBUG   \u001b[0m | \u001b[36mmicropython_magic.octarine\u001b[0m:\u001b[36mrun_cmd\u001b[0m:\u001b[36m93\u001b[0m - \u001b[34m\u001b[1mmpremote connect auto resume  exec \"import json; print('<json~',json.dumps(cpu_temp()),'~json>')\"\u001b[0m\n",
      "\u001b[34m\u001b[1mDEBUG   \u001b[0m | \u001b[36mmicropython_magic.octarine\u001b[0m:\u001b[36mrun_cmd\u001b[0m:\u001b[36m93\u001b[0m - \u001b[34m\u001b[1mmpremote connect auto resume  exec \"import json; print('<json~',json.dumps(cpu_temp()),'~json>')\"\u001b[0m\n",
      "\u001b[34m\u001b[1mDEBUG   \u001b[0m | \u001b[36mmicropython_magic.octarine\u001b[0m:\u001b[36mrun_cmd\u001b[0m:\u001b[36m93\u001b[0m - \u001b[34m\u001b[1mmpremote connect auto resume  exec \"import json; print('<json~',json.dumps(cpu_temp()),'~json>')\"\u001b[0m\n",
      "\u001b[34m\u001b[1mDEBUG   \u001b[0m | \u001b[36mmicropython_magic.octarine\u001b[0m:\u001b[36mrun_cmd\u001b[0m:\u001b[36m93\u001b[0m - \u001b[34m\u001b[1mmpremote connect auto resume  exec \"import json; print('<json~',json.dumps(cpu_temp()),'~json>')\"\u001b[0m\n",
      "\u001b[34m\u001b[1mDEBUG   \u001b[0m | \u001b[36mmicropython_magic.octarine\u001b[0m:\u001b[36mrun_cmd\u001b[0m:\u001b[36m93\u001b[0m - \u001b[34m\u001b[1mmpremote connect auto resume  exec \"import json; print('<json~',json.dumps(cpu_temp()),'~json>')\"\u001b[0m\n",
      "\u001b[34m\u001b[1mDEBUG   \u001b[0m | \u001b[36mmicropython_magic.octarine\u001b[0m:\u001b[36mrun_cmd\u001b[0m:\u001b[36m93\u001b[0m - \u001b[34m\u001b[1mmpremote connect auto resume  exec \"import json; print('<json~',json.dumps(cpu_temp()),'~json>')\"\u001b[0m\n",
      "\u001b[34m\u001b[1mDEBUG   \u001b[0m | \u001b[36mmicropython_magic.octarine\u001b[0m:\u001b[36mrun_cmd\u001b[0m:\u001b[36m93\u001b[0m - \u001b[34m\u001b[1mmpremote connect auto resume  exec \"import json; print('<json~',json.dumps(cpu_temp()),'~json>')\"\u001b[0m\n",
      "\u001b[34m\u001b[1mDEBUG   \u001b[0m | \u001b[36mmicropython_magic.octarine\u001b[0m:\u001b[36mrun_cmd\u001b[0m:\u001b[36m93\u001b[0m - \u001b[34m\u001b[1mmpremote connect auto resume  exec \"import json; print('<json~',json.dumps(cpu_temp()),'~json>')\"\u001b[0m\n",
      "\u001b[34m\u001b[1mDEBUG   \u001b[0m | \u001b[36mmicropython_magic.octarine\u001b[0m:\u001b[36mrun_cmd\u001b[0m:\u001b[36m93\u001b[0m - \u001b[34m\u001b[1mmpremote connect auto resume  exec \"import json; print('<json~',json.dumps(cpu_temp()),'~json>')\"\u001b[0m\n",
      "\u001b[34m\u001b[1mDEBUG   \u001b[0m | \u001b[36mmicropython_magic.octarine\u001b[0m:\u001b[36mrun_cmd\u001b[0m:\u001b[36m93\u001b[0m - \u001b[34m\u001b[1mmpremote connect auto resume  exec \"import json; print('<json~',json.dumps(cpu_temp()),'~json>')\"\u001b[0m\n",
      "\u001b[34m\u001b[1mDEBUG   \u001b[0m | \u001b[36mmicropython_magic.octarine\u001b[0m:\u001b[36mrun_cmd\u001b[0m:\u001b[36m93\u001b[0m - \u001b[34m\u001b[1mmpremote connect auto resume  exec \"import json; print('<json~',json.dumps(cpu_temp()),'~json>')\"\u001b[0m\n",
      "\u001b[34m\u001b[1mDEBUG   \u001b[0m | \u001b[36mmicropython_magic.octarine\u001b[0m:\u001b[36mrun_cmd\u001b[0m:\u001b[36m93\u001b[0m - \u001b[34m\u001b[1mmpremote connect auto resume  exec \"import json; print('<json~',json.dumps(cpu_temp()),'~json>')\"\u001b[0m\n",
      "\u001b[34m\u001b[1mDEBUG   \u001b[0m | \u001b[36mmicropython_magic.octarine\u001b[0m:\u001b[36mrun_cmd\u001b[0m:\u001b[36m93\u001b[0m - \u001b[34m\u001b[1mmpremote connect auto resume  exec \"import json; print('<json~',json.dumps(cpu_temp()),'~json>')\"\u001b[0m\n",
      "\u001b[34m\u001b[1mDEBUG   \u001b[0m | \u001b[36mmicropython_magic.octarine\u001b[0m:\u001b[36mrun_cmd\u001b[0m:\u001b[36m93\u001b[0m - \u001b[34m\u001b[1mmpremote connect auto resume  exec \"import json; print('<json~',json.dumps(cpu_temp()),'~json>')\"\u001b[0m\n",
      "\u001b[34m\u001b[1mDEBUG   \u001b[0m | \u001b[36mmicropython_magic.octarine\u001b[0m:\u001b[36mrun_cmd\u001b[0m:\u001b[36m93\u001b[0m - \u001b[34m\u001b[1mmpremote connect auto resume  exec \"import json; print('<json~',json.dumps(cpu_temp()),'~json>')\"\u001b[0m\n",
      "\u001b[34m\u001b[1mDEBUG   \u001b[0m | \u001b[36mmicropython_magic.octarine\u001b[0m:\u001b[36mrun_cmd\u001b[0m:\u001b[36m93\u001b[0m - \u001b[34m\u001b[1mmpremote connect auto resume  exec \"import json; print('<json~',json.dumps(cpu_temp()),'~json>')\"\u001b[0m\n",
      "\u001b[34m\u001b[1mDEBUG   \u001b[0m | \u001b[36mmicropython_magic.octarine\u001b[0m:\u001b[36mrun_cmd\u001b[0m:\u001b[36m93\u001b[0m - \u001b[34m\u001b[1mmpremote connect auto resume  exec \"import json; print('<json~',json.dumps(cpu_temp()),'~json>')\"\u001b[0m\n",
      "\u001b[34m\u001b[1mDEBUG   \u001b[0m | \u001b[36mmicropython_magic.octarine\u001b[0m:\u001b[36mrun_cmd\u001b[0m:\u001b[36m93\u001b[0m - \u001b[34m\u001b[1mmpremote connect auto resume  exec \"import json; print('<json~',json.dumps(cpu_temp()),'~json>')\"\u001b[0m\n",
      "\u001b[34m\u001b[1mDEBUG   \u001b[0m | \u001b[36mmicropython_magic.octarine\u001b[0m:\u001b[36mrun_cmd\u001b[0m:\u001b[36m93\u001b[0m - \u001b[34m\u001b[1mmpremote connect auto resume  exec \"import json; print('<json~',json.dumps(cpu_temp()),'~json>')\"\u001b[0m\n",
      "\u001b[34m\u001b[1mDEBUG   \u001b[0m | \u001b[36mmicropython_magic.octarine\u001b[0m:\u001b[36mrun_cmd\u001b[0m:\u001b[36m93\u001b[0m - \u001b[34m\u001b[1mmpremote connect auto resume  exec \"import json; print('<json~',json.dumps(cpu_temp()),'~json>')\"\u001b[0m\n",
      "\u001b[34m\u001b[1mDEBUG   \u001b[0m | \u001b[36mmicropython_magic.octarine\u001b[0m:\u001b[36mrun_cmd\u001b[0m:\u001b[36m93\u001b[0m - \u001b[34m\u001b[1mmpremote connect auto resume  exec \"import json; print('<json~',json.dumps(cpu_temp()),'~json>')\"\u001b[0m\n",
      "\u001b[34m\u001b[1mDEBUG   \u001b[0m | \u001b[36mmicropython_magic.octarine\u001b[0m:\u001b[36mrun_cmd\u001b[0m:\u001b[36m93\u001b[0m - \u001b[34m\u001b[1mmpremote connect auto resume  exec \"import json; print('<json~',json.dumps(cpu_temp()),'~json>')\"\u001b[0m\n",
      "\u001b[34m\u001b[1mDEBUG   \u001b[0m | \u001b[36mmicropython_magic.octarine\u001b[0m:\u001b[36mrun_cmd\u001b[0m:\u001b[36m93\u001b[0m - \u001b[34m\u001b[1mmpremote connect auto resume  exec \"import json; print('<json~',json.dumps(cpu_temp()),'~json>')\"\u001b[0m\n",
      "\u001b[34m\u001b[1mDEBUG   \u001b[0m | \u001b[36mmicropython_magic.octarine\u001b[0m:\u001b[36mrun_cmd\u001b[0m:\u001b[36m93\u001b[0m - \u001b[34m\u001b[1mmpremote connect auto resume  exec \"import json; print('<json~',json.dumps(cpu_temp()),'~json>')\"\u001b[0m\n",
      "\u001b[34m\u001b[1mDEBUG   \u001b[0m | \u001b[36mmicropython_magic.octarine\u001b[0m:\u001b[36mrun_cmd\u001b[0m:\u001b[36m93\u001b[0m - \u001b[34m\u001b[1mmpremote connect auto resume  exec \"import json; print('<json~',json.dumps(cpu_temp()),'~json>')\"\u001b[0m\n",
      "\u001b[34m\u001b[1mDEBUG   \u001b[0m | \u001b[36mmicropython_magic.octarine\u001b[0m:\u001b[36mrun_cmd\u001b[0m:\u001b[36m93\u001b[0m - \u001b[34m\u001b[1mmpremote connect auto resume  exec \"import json; print('<json~',json.dumps(cpu_temp()),'~json>')\"\u001b[0m\n",
      "\u001b[34m\u001b[1mDEBUG   \u001b[0m | \u001b[36mmicropython_magic.octarine\u001b[0m:\u001b[36mrun_cmd\u001b[0m:\u001b[36m93\u001b[0m - \u001b[34m\u001b[1mmpremote connect auto resume  exec \"import json; print('<json~',json.dumps(cpu_temp()),'~json>')\"\u001b[0m\n",
      "\u001b[34m\u001b[1mDEBUG   \u001b[0m | \u001b[36mmicropython_magic.octarine\u001b[0m:\u001b[36mrun_cmd\u001b[0m:\u001b[36m93\u001b[0m - \u001b[34m\u001b[1mmpremote connect auto resume  exec \"import json; print('<json~',json.dumps(cpu_temp()),'~json>')\"\u001b[0m\n",
      "\u001b[34m\u001b[1mDEBUG   \u001b[0m | \u001b[36mmicropython_magic.octarine\u001b[0m:\u001b[36mrun_cmd\u001b[0m:\u001b[36m93\u001b[0m - \u001b[34m\u001b[1mmpremote connect auto resume  exec \"import json; print('<json~',json.dumps(cpu_temp()),'~json>')\"\u001b[0m\n",
      "\u001b[34m\u001b[1mDEBUG   \u001b[0m | \u001b[36mmicropython_magic.octarine\u001b[0m:\u001b[36mrun_cmd\u001b[0m:\u001b[36m93\u001b[0m - \u001b[34m\u001b[1mmpremote connect auto resume  exec \"import json; print('<json~',json.dumps(cpu_temp()),'~json>')\"\u001b[0m\n",
      "\u001b[34m\u001b[1mDEBUG   \u001b[0m | \u001b[36mmicropython_magic.octarine\u001b[0m:\u001b[36mrun_cmd\u001b[0m:\u001b[36m93\u001b[0m - \u001b[34m\u001b[1mmpremote connect auto resume  exec \"import json; print('<json~',json.dumps(cpu_temp()),'~json>')\"\u001b[0m\n",
      "\u001b[34m\u001b[1mDEBUG   \u001b[0m | \u001b[36mmicropython_magic.octarine\u001b[0m:\u001b[36mrun_cmd\u001b[0m:\u001b[36m93\u001b[0m - \u001b[34m\u001b[1mmpremote connect auto resume  exec \"import json; print('<json~',json.dumps(cpu_temp()),'~json>')\"\u001b[0m\n",
      "\u001b[34m\u001b[1mDEBUG   \u001b[0m | \u001b[36mmicropython_magic.octarine\u001b[0m:\u001b[36mrun_cmd\u001b[0m:\u001b[36m93\u001b[0m - \u001b[34m\u001b[1mmpremote connect auto resume  exec \"import json; print('<json~',json.dumps(cpu_temp()),'~json>')\"\u001b[0m\n",
      "\u001b[34m\u001b[1mDEBUG   \u001b[0m | \u001b[36mmicropython_magic.octarine\u001b[0m:\u001b[36mrun_cmd\u001b[0m:\u001b[36m93\u001b[0m - \u001b[34m\u001b[1mmpremote connect auto resume  exec \"import json; print('<json~',json.dumps(cpu_temp()),'~json>')\"\u001b[0m\n",
      "\u001b[34m\u001b[1mDEBUG   \u001b[0m | \u001b[36mmicropython_magic.octarine\u001b[0m:\u001b[36mrun_cmd\u001b[0m:\u001b[36m93\u001b[0m - \u001b[34m\u001b[1mmpremote connect auto resume  exec \"import json; print('<json~',json.dumps(cpu_temp()),'~json>')\"\u001b[0m\n",
      "\u001b[34m\u001b[1mDEBUG   \u001b[0m | \u001b[36mmicropython_magic.octarine\u001b[0m:\u001b[36mrun_cmd\u001b[0m:\u001b[36m93\u001b[0m - \u001b[34m\u001b[1mmpremote connect auto resume  exec \"import json; print('<json~',json.dumps(cpu_temp()),'~json>')\"\u001b[0m\n",
      "\u001b[34m\u001b[1mDEBUG   \u001b[0m | \u001b[36mmicropython_magic.octarine\u001b[0m:\u001b[36mrun_cmd\u001b[0m:\u001b[36m93\u001b[0m - \u001b[34m\u001b[1mmpremote connect auto resume  exec \"import json; print('<json~',json.dumps(cpu_temp()),'~json>')\"\u001b[0m\n",
      "\u001b[34m\u001b[1mDEBUG   \u001b[0m | \u001b[36mmicropython_magic.octarine\u001b[0m:\u001b[36mrun_cmd\u001b[0m:\u001b[36m93\u001b[0m - \u001b[34m\u001b[1mmpremote connect auto resume  exec \"import json; print('<json~',json.dumps(cpu_temp()),'~json>')\"\u001b[0m\n",
      "\u001b[34m\u001b[1mDEBUG   \u001b[0m | \u001b[36mmicropython_magic.octarine\u001b[0m:\u001b[36mrun_cmd\u001b[0m:\u001b[36m93\u001b[0m - \u001b[34m\u001b[1mmpremote connect auto resume  exec \"import json; print('<json~',json.dumps(cpu_temp()),'~json>')\"\u001b[0m\n",
      "\u001b[34m\u001b[1mDEBUG   \u001b[0m | \u001b[36mmicropython_magic.octarine\u001b[0m:\u001b[36mrun_cmd\u001b[0m:\u001b[36m93\u001b[0m - \u001b[34m\u001b[1mmpremote connect auto resume  exec \"import json; print('<json~',json.dumps(cpu_temp()),'~json>')\"\u001b[0m\n",
      "\u001b[34m\u001b[1mDEBUG   \u001b[0m | \u001b[36mmicropython_magic.octarine\u001b[0m:\u001b[36mrun_cmd\u001b[0m:\u001b[36m93\u001b[0m - \u001b[34m\u001b[1mmpremote connect auto resume  exec \"import json; print('<json~',json.dumps(cpu_temp()),'~json>')\"\u001b[0m\n",
      "\u001b[34m\u001b[1mDEBUG   \u001b[0m | \u001b[36mmicropython_magic.octarine\u001b[0m:\u001b[36mrun_cmd\u001b[0m:\u001b[36m93\u001b[0m - \u001b[34m\u001b[1mmpremote connect auto resume  exec \"import json; print('<json~',json.dumps(cpu_temp()),'~json>')\"\u001b[0m\n",
      "\u001b[34m\u001b[1mDEBUG   \u001b[0m | \u001b[36mmicropython_magic.octarine\u001b[0m:\u001b[36mrun_cmd\u001b[0m:\u001b[36m93\u001b[0m - \u001b[34m\u001b[1mmpremote connect auto resume  exec \"import json; print('<json~',json.dumps(cpu_temp()),'~json>')\"\u001b[0m\n"
     ]
    }
   ],
   "source": [
    "import time\n",
    "for i in range(100):\n",
    "    t = %eval cpu_temp()\n",
    "    measurements.append(t)\n",
    "    plt.plot(measurements)\n",
    "    time.sleep(1)"
   ]
  },
  {
   "cell_type": "code",
   "execution_count": null,
   "metadata": {},
   "outputs": [],
   "source": []
  }
 ],
 "metadata": {
  "celltoolbar": "Geen",
  "kernelspec": {
   "display_name": "Python 3 (ipykernel)",
   "language": "python",
   "name": "python3"
  },
  "language_info": {
   "codemirror_mode": {
    "name": "ipython",
    "version": 3
   },
   "file_extension": ".py",
   "mimetype": "text/x-python",
   "name": "python",
   "nbconvert_exporter": "python",
   "pygments_lexer": "ipython3",
   "version": "3.11.0"
  }
 },
 "nbformat": 4,
 "nbformat_minor": 4
}
