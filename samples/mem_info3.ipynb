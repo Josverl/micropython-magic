{
 "cells": [
  {
   "cell_type": "code",
   "execution_count": 1,
   "metadata": {},
   "outputs": [],
   "source": [
    "from meminfo_mg import MemoryInfoList, MemoryInfo"
   ]
  },
  {
   "cell_type": "code",
   "execution_count": 2,
   "metadata": {},
   "outputs": [
    {
     "data": {
      "application/json": "",
      "text/plain": [
       "['stack: 500 out of 7936', 'GC: total: 192064, used: 5456, free: 186608', ' No. of 1-blocks: 89, 2-blocks: 26, max blk sz: 64, max free sz: 11652', 'GC memory layout; from 20009520:', '00000000: h=MhhhBDhhBTTBDBDBhTh===BTB=Dh====B=BBBBBBTB=BTB=BBBTB=TBTB=Bh==', '00000400: =DB=h===========h===================BBBh==h=h=====h=============', '00000800: ====h===========================================================', '00000c00: ====h===========================================================', '00001000: ====h=hhhBhhhhBhhhhhhhhh=Bh=hhBhhhhhh=Bhh=hhBhhh=h=hhBhhh=h=hhBh', '00001400: hh=h=hhB..h=h=h....h=h=.....h=h=................................', '       (181 lines all free)', '0002ec00: ....................................']"
      ]
     },
     "execution_count": 2,
     "metadata": {},
     "output_type": "execute_result"
    }
   ],
   "source": [
    "mi_txt = %mpy import micropython; micropython.mem_info(1)\n",
    "mi_txt"
   ]
  },
  {
   "cell_type": "code",
   "execution_count": 3,
   "metadata": {},
   "outputs": [
    {
     "data": {
      "text/plain": [
       "\u001b[37m\u001b[40mStack used:  0x01f4 of Total: 0x1f00  pct free: 93.7%\n",
       "Memory used: 0x000_1550 of Total: 0x002_ee40  free: 0x002_d8f0 pct free: 97.2%\n",
       "1-Blocks:          89  2-Blocks:         26\n",
       "Max Block size:    64  Max Free size: 11652\n",
       "\u001b[30m\u001b[41mh\u001b[30m\u001b[41m=\u001b[30m\u001b[46mM\u001b[30m\u001b[41mh\u001b[30m\u001b[41mh\u001b[30m\u001b[41mh\u001b[37m\u001b[41mB\u001b[37m\u001b[41mD\u001b[30m\u001b[41mh\u001b[30m\u001b[41mh\u001b[37m\u001b[41mB\u001b[37m\u001b[41mT\u001b[37m\u001b[41mT\u001b[37m\u001b[41mB\u001b[37m\u001b[41mD\u001b[37m\u001b[41mB\u001b[37m\u001b[41mD\u001b[37m\u001b[41mB\u001b[30m\u001b[41mh\u001b[37m\u001b[41mT\u001b[30m\u001b[41mh\u001b[30m\u001b[41m=\u001b[30m\u001b[41m=\u001b[30m\u001b[41m=\u001b[37m\u001b[41mB\u001b[37m\u001b[41mT\u001b[37m\u001b[41mB\u001b[37m\u001b[41m=\u001b[37m\u001b[41mD\u001b[30m\u001b[41mh\u001b[30m\u001b[41m=\u001b[30m\u001b[41m=\u001b[30m\u001b[41m=\u001b[30m\u001b[41m=\u001b[37m\u001b[41mB\u001b[37m\u001b[41m=\u001b[37m\u001b[41mB\u001b[37m\u001b[41mB\u001b[37m\u001b[41mB\u001b[37m\u001b[41mB\u001b[37m\u001b[41mB\u001b[37m\u001b[41mB\u001b[37m\u001b[41mT\u001b[37m\u001b[41mB\u001b[37m\u001b[41m=\u001b[37m\u001b[41mB\u001b[37m\u001b[41mT\u001b[37m\u001b[41mB\u001b[37m\u001b[41m=\u001b[37m\u001b[41mB\u001b[37m\u001b[41mB\u001b[37m\u001b[41mB\u001b[37m\u001b[41mT\u001b[37m\u001b[41mB\u001b[37m\u001b[41m=\u001b[37m\u001b[41mT\u001b[37m\u001b[41mB\u001b[37m\u001b[41mT\u001b[37m\u001b[41mB\u001b[37m\u001b[41m=\u001b[37m\u001b[41mB\u001b[30m\u001b[41mh\u001b[30m\u001b[41m=\u001b[30m\u001b[41m=\u001b[0m \u001b[30m\u001b[41m=\u001b[37m\u001b[41mD\u001b[37m\u001b[41mB\u001b[37m\u001b[41m=\u001b[30m\u001b[41mh\u001b[30m\u001b[41m=\u001b[30m\u001b[41m=\u001b[30m\u001b[41m=\u001b[30m\u001b[41m=\u001b[30m\u001b[41m=\u001b[30m\u001b[41m=\u001b[30m\u001b[41m=\u001b[30m\u001b[41m=\u001b[30m\u001b[41m=\u001b[30m\u001b[41m=\u001b[30m\u001b[41m=\u001b[30m\u001b[41mh\u001b[30m\u001b[41m=\u001b[30m\u001b[41m=\u001b[30m\u001b[41m=\u001b[30m\u001b[41m=\u001b[30m\u001b[41m=\u001b[30m\u001b[41m=\u001b[30m\u001b[41m=\u001b[30m\u001b[41m=\u001b[30m\u001b[41m=\u001b[30m\u001b[41m=\u001b[30m\u001b[41m=\u001b[30m\u001b[41m=\u001b[30m\u001b[41m=\u001b[30m\u001b[41m=\u001b[30m\u001b[41m=\u001b[30m\u001b[41m=\u001b[30m\u001b[41m=\u001b[30m\u001b[41m=\u001b[30m\u001b[41m=\u001b[37m\u001b[41mB\u001b[37m\u001b[41mB\u001b[37m\u001b[41mB\u001b[30m\u001b[41mh\u001b[30m\u001b[41m=\u001b[30m\u001b[41m=\u001b[30m\u001b[41mh\u001b[30m\u001b[41m=\u001b[30m\u001b[41mh\u001b[30m\u001b[41m=\u001b[30m\u001b[41m=\u001b[30m\u001b[41m=\u001b[30m\u001b[41m=\u001b[30m\u001b[41m=\u001b[30m\u001b[41mh\u001b[30m\u001b[41m=\u001b[30m\u001b[41m=\u001b[30m\u001b[41m=\u001b[30m\u001b[41m=\u001b[30m\u001b[41m=\u001b[30m\u001b[41m=\u001b[30m\u001b[41m=\u001b[30m\u001b[41m=\u001b[30m\u001b[41m=\u001b[30m\u001b[41m=\u001b[30m\u001b[41m=\u001b[30m\u001b[41m=\u001b[30m\u001b[41m=\u001b[0m \u001b[30m\u001b[41m=\u001b[30m\u001b[41m=\u001b[30m\u001b[41m=\u001b[30m\u001b[41m=\u001b[30m\u001b[41mh\u001b[30m\u001b[41m=\u001b[30m\u001b[41m=\u001b[30m\u001b[41m=\u001b[30m\u001b[41m=\u001b[30m\u001b[41m=\u001b[30m\u001b[41m=\u001b[30m\u001b[41m=\u001b[30m\u001b[41m=\u001b[30m\u001b[41m=\u001b[30m\u001b[41m=\u001b[30m\u001b[41m=\u001b[30m\u001b[41m=\u001b[30m\u001b[41m=\u001b[30m\u001b[41m=\u001b[30m\u001b[41m=\u001b[30m\u001b[41m=\u001b[30m\u001b[41m=\u001b[30m\u001b[41m=\u001b[30m\u001b[41m=\u001b[30m\u001b[41m=\u001b[30m\u001b[41m=\u001b[30m\u001b[41m=\u001b[30m\u001b[41m=\u001b[30m\u001b[41m=\u001b[30m\u001b[41m=\u001b[30m\u001b[41m=\u001b[30m\u001b[41m=\u001b[30m\u001b[41m=\u001b[30m\u001b[41m=\u001b[30m\u001b[41m=\u001b[30m\u001b[41m=\u001b[30m\u001b[41m=\u001b[30m\u001b[41m=\u001b[30m\u001b[41m=\u001b[30m\u001b[41m=\u001b[30m\u001b[41m=\u001b[30m\u001b[41m=\u001b[30m\u001b[41m=\u001b[30m\u001b[41m=\u001b[30m\u001b[41m=\u001b[30m\u001b[41m=\u001b[30m\u001b[41m=\u001b[30m\u001b[41m=\u001b[30m\u001b[41m=\u001b[30m\u001b[41m=\u001b[30m\u001b[41m=\u001b[30m\u001b[41m=\u001b[30m\u001b[41m=\u001b[30m\u001b[41m=\u001b[30m\u001b[41m=\u001b[30m\u001b[41m=\u001b[30m\u001b[41m=\u001b[30m\u001b[41m=\u001b[30m\u001b[41m=\u001b[30m\u001b[41m=\u001b[30m\u001b[41m=\u001b[30m\u001b[41m=\u001b[30m\u001b[41m=\u001b[30m\u001b[41m=\u001b[0m \u001b[30m\u001b[41m=\u001b[30m\u001b[41m=\u001b[30m\u001b[41m=\u001b[30m\u001b[41m=\u001b[30m\u001b[41mh\u001b[30m\u001b[41m=\u001b[30m\u001b[41m=\u001b[30m\u001b[41m=\u001b[30m\u001b[41m=\u001b[30m\u001b[41m=\u001b[30m\u001b[41m=\u001b[30m\u001b[41m=\u001b[30m\u001b[41m=\u001b[30m\u001b[41m=\u001b[30m\u001b[41m=\u001b[30m\u001b[41m=\u001b[30m\u001b[41m=\u001b[30m\u001b[41m=\u001b[30m\u001b[41m=\u001b[30m\u001b[41m=\u001b[30m\u001b[41m=\u001b[30m\u001b[41m=\u001b[30m\u001b[41m=\u001b[30m\u001b[41m=\u001b[30m\u001b[41m=\u001b[30m\u001b[41m=\u001b[30m\u001b[41m=\u001b[30m\u001b[41m=\u001b[30m\u001b[41m=\u001b[30m\u001b[41m=\u001b[30m\u001b[41m=\u001b[30m\u001b[41m=\u001b[30m\u001b[41m=\u001b[30m\u001b[41m=\u001b[30m\u001b[41m=\u001b[30m\u001b[41m=\u001b[30m\u001b[41m=\u001b[30m\u001b[41m=\u001b[30m\u001b[41m=\u001b[30m\u001b[41m=\u001b[30m\u001b[41m=\u001b[30m\u001b[41m=\u001b[30m\u001b[41m=\u001b[30m\u001b[41m=\u001b[30m\u001b[41m=\u001b[30m\u001b[41m=\u001b[30m\u001b[41m=\u001b[30m\u001b[41m=\u001b[30m\u001b[41m=\u001b[30m\u001b[41m=\u001b[30m\u001b[41m=\u001b[30m\u001b[41m=\u001b[30m\u001b[41m=\u001b[30m\u001b[41m=\u001b[30m\u001b[41m=\u001b[30m\u001b[41m=\u001b[30m\u001b[41m=\u001b[30m\u001b[41m=\u001b[30m\u001b[41m=\u001b[30m\u001b[41m=\u001b[30m\u001b[41m=\u001b[30m\u001b[41m=\u001b[30m\u001b[41m=\u001b[30m\u001b[41m=\u001b[0m \u001b[0m\n",
       "\u001b[30m\u001b[41m=\u001b[30m\u001b[41m=\u001b[30m\u001b[41m=\u001b[30m\u001b[41m=\u001b[30m\u001b[41mh\u001b[30m\u001b[41m=\u001b[30m\u001b[41mh\u001b[30m\u001b[41mh\u001b[30m\u001b[41mh\u001b[37m\u001b[41mB\u001b[30m\u001b[41mh\u001b[30m\u001b[41mh\u001b[30m\u001b[41mh\u001b[30m\u001b[41mh\u001b[37m\u001b[41mB\u001b[30m\u001b[41mh\u001b[30m\u001b[41mh\u001b[30m\u001b[41mh\u001b[30m\u001b[41mh\u001b[30m\u001b[41mh\u001b[30m\u001b[41mh\u001b[30m\u001b[41mh\u001b[30m\u001b[41mh\u001b[30m\u001b[41mh\u001b[30m\u001b[41m=\u001b[37m\u001b[41mB\u001b[30m\u001b[41mh\u001b[30m\u001b[41m=\u001b[30m\u001b[41mh\u001b[30m\u001b[41mh\u001b[37m\u001b[41mB\u001b[30m\u001b[41mh\u001b[30m\u001b[41mh\u001b[30m\u001b[41mh\u001b[30m\u001b[41mh\u001b[30m\u001b[41mh\u001b[30m\u001b[41mh\u001b[30m\u001b[41m=\u001b[37m\u001b[41mB\u001b[30m\u001b[41mh\u001b[30m\u001b[41mh\u001b[30m\u001b[41m=\u001b[30m\u001b[41mh\u001b[30m\u001b[41mh\u001b[37m\u001b[41mB\u001b[30m\u001b[41mh\u001b[30m\u001b[41mh\u001b[30m\u001b[41mh\u001b[30m\u001b[41m=\u001b[30m\u001b[41mh\u001b[30m\u001b[41m=\u001b[30m\u001b[41mh\u001b[30m\u001b[41mh\u001b[37m\u001b[41mB\u001b[30m\u001b[41mh\u001b[30m\u001b[41mh\u001b[30m\u001b[41mh\u001b[30m\u001b[41m=\u001b[30m\u001b[41mh\u001b[30m\u001b[41m=\u001b[30m\u001b[41mh\u001b[30m\u001b[41mh\u001b[37m\u001b[41mB\u001b[30m\u001b[41mh\u001b[0m \u001b[30m\u001b[41mh\u001b[30m\u001b[41mh\u001b[30m\u001b[41m=\u001b[30m\u001b[41mh\u001b[30m\u001b[41m=\u001b[30m\u001b[41mh\u001b[30m\u001b[41mh\u001b[37m\u001b[41mB\u001b[32m\u001b[42m.\u001b[32m\u001b[42m.\u001b[30m\u001b[41mh\u001b[30m\u001b[41m=\u001b[30m\u001b[41mh\u001b[30m\u001b[41m=\u001b[30m\u001b[41mh\u001b[32m\u001b[42m.\u001b[32m\u001b[42m.\u001b[32m\u001b[42m.\u001b[32m\u001b[42m.\u001b[30m\u001b[41mh\u001b[30m\u001b[41m=\u001b[30m\u001b[41mh\u001b[30m\u001b[41m=\u001b[32m\u001b[42m.\u001b[32m\u001b[42m.\u001b[32m\u001b[42m.\u001b[32m\u001b[42m.\u001b[32m\u001b[42m.\u001b[30m\u001b[41mh\u001b[30m\u001b[41m=\u001b[30m\u001b[41mh\u001b[30m\u001b[41m=\u001b[32m\u001b[42m.\u001b[32m\u001b[42m.\u001b[32m\u001b[42m.\u001b[32m\u001b[42m.\u001b[32m\u001b[42m.\u001b[32m\u001b[42m.\u001b[32m\u001b[42m.\u001b[32m\u001b[42m.\u001b[32m\u001b[42m.\u001b[32m\u001b[42m.\u001b[32m\u001b[42m.\u001b[32m\u001b[42m.\u001b[32m\u001b[42m.\u001b[32m\u001b[42m.\u001b[32m\u001b[42m.\u001b[32m\u001b[42m.\u001b[32m\u001b[42m.\u001b[32m\u001b[42m.\u001b[32m\u001b[42m.\u001b[32m\u001b[42m.\u001b[32m\u001b[42m.\u001b[32m\u001b[42m.\u001b[32m\u001b[42m.\u001b[32m\u001b[42m.\u001b[32m\u001b[42m.\u001b[32m\u001b[42m.\u001b[32m\u001b[42m.\u001b[32m\u001b[42m.\u001b[32m\u001b[42m.\u001b[32m\u001b[42m.\u001b[32m\u001b[42m.\u001b[32m\u001b[42m.\u001b[0m \u001b[32m\u001b[42m.\u001b[32m\u001b[42m.\u001b[32m\u001b[42m.\u001b[32m\u001b[42m.\u001b[32m\u001b[42m.\u001b[32m\u001b[42m.\u001b[32m\u001b[42m.\u001b[32m\u001b[42m.\u001b[32m\u001b[42m.\u001b[32m\u001b[42m.\u001b[32m\u001b[42m.\u001b[32m\u001b[42m.\u001b[32m\u001b[42m.\u001b[32m\u001b[42m.\u001b[32m\u001b[42m.\u001b[32m\u001b[42m.\u001b[32m\u001b[42m.\u001b[32m\u001b[42m.\u001b[32m\u001b[42m.\u001b[32m\u001b[42m.\u001b[32m\u001b[42m.\u001b[32m\u001b[42m.\u001b[32m\u001b[42m.\u001b[32m\u001b[42m.\u001b[32m\u001b[42m.\u001b[32m\u001b[42m.\u001b[32m\u001b[42m.\u001b[32m\u001b[42m.\u001b[32m\u001b[42m.\u001b[32m\u001b[42m.\u001b[32m\u001b[42m.\u001b[32m\u001b[42m.\u001b[32m\u001b[42m.\u001b[32m\u001b[42m.\u001b[32m\u001b[42m.\u001b[32m\u001b[42m."
      ]
     },
     "execution_count": 3,
     "metadata": {},
     "output_type": "execute_result"
    }
   ],
   "source": [
    "# type(mi_txt.data)\n",
    "\n",
    "MemoryInfo(mi_txt)\n"
   ]
  },
  {
   "cell_type": "code",
   "execution_count": 4,
   "metadata": {},
   "outputs": [],
   "source": [
    "l = MemoryInfoList([mi_txt.data])"
   ]
  },
  {
   "cell_type": "code",
   "execution_count": 5,
   "metadata": {},
   "outputs": [
    {
     "data": {
      "text/plain": [
       "\u001b[37m\u001b[40mfoo\n",
       "Stack used:  0x01f4 of Total: 0x1f00  pct free: 93.7%\n",
       "Memory used: 0x000_1550 of Total: 0x002_ee40  free: 0x002_d8f0 pct free: 97.2%\n",
       "1-Blocks:          89  2-Blocks:         26\n",
       "Max Block size:    64  Max Free size: 11652\n",
       "\u001b[30m\u001b[41mh\u001b[30m\u001b[41m=\u001b[30m\u001b[46mM\u001b[30m\u001b[41mh\u001b[30m\u001b[41mh\u001b[30m\u001b[41mh\u001b[37m\u001b[41mB\u001b[37m\u001b[41mD\u001b[30m\u001b[41mh\u001b[30m\u001b[41mh\u001b[37m\u001b[41mB\u001b[37m\u001b[41mT\u001b[37m\u001b[41mT\u001b[37m\u001b[41mB\u001b[37m\u001b[41mD\u001b[37m\u001b[41mB\u001b[37m\u001b[41mD\u001b[37m\u001b[41mB\u001b[30m\u001b[41mh\u001b[37m\u001b[41mT\u001b[30m\u001b[41mh\u001b[30m\u001b[41m=\u001b[30m\u001b[41m=\u001b[30m\u001b[41m=\u001b[37m\u001b[41mB\u001b[37m\u001b[41mT\u001b[37m\u001b[41mB\u001b[37m\u001b[41m=\u001b[37m\u001b[41mD\u001b[30m\u001b[41mh\u001b[30m\u001b[41m=\u001b[30m\u001b[41m=\u001b[30m\u001b[41m=\u001b[30m\u001b[41m=\u001b[37m\u001b[41mB\u001b[37m\u001b[41m=\u001b[37m\u001b[41mB\u001b[37m\u001b[41mB\u001b[37m\u001b[41mB\u001b[37m\u001b[41mB\u001b[37m\u001b[41mB\u001b[37m\u001b[41mB\u001b[37m\u001b[41mT\u001b[37m\u001b[41mB\u001b[37m\u001b[41m=\u001b[37m\u001b[41mB\u001b[37m\u001b[41mT\u001b[37m\u001b[41mB\u001b[37m\u001b[41m=\u001b[37m\u001b[41mB\u001b[37m\u001b[41mB\u001b[37m\u001b[41mB\u001b[37m\u001b[41mT\u001b[37m\u001b[41mB\u001b[37m\u001b[41m=\u001b[37m\u001b[41mT\u001b[37m\u001b[41mB\u001b[37m\u001b[41mT\u001b[37m\u001b[41mB\u001b[37m\u001b[41m=\u001b[37m\u001b[41mB\u001b[30m\u001b[41mh\u001b[30m\u001b[41m=\u001b[30m\u001b[41m=\u001b[0m \u001b[30m\u001b[41m=\u001b[37m\u001b[41mD\u001b[37m\u001b[41mB\u001b[37m\u001b[41m=\u001b[30m\u001b[41mh\u001b[30m\u001b[41m=\u001b[30m\u001b[41m=\u001b[30m\u001b[41m=\u001b[30m\u001b[41m=\u001b[30m\u001b[41m=\u001b[30m\u001b[41m=\u001b[30m\u001b[41m=\u001b[30m\u001b[41m=\u001b[30m\u001b[41m=\u001b[30m\u001b[41m=\u001b[30m\u001b[41m=\u001b[30m\u001b[41mh\u001b[30m\u001b[41m=\u001b[30m\u001b[41m=\u001b[30m\u001b[41m=\u001b[30m\u001b[41m=\u001b[30m\u001b[41m=\u001b[30m\u001b[41m=\u001b[30m\u001b[41m=\u001b[30m\u001b[41m=\u001b[30m\u001b[41m=\u001b[30m\u001b[41m=\u001b[30m\u001b[41m=\u001b[30m\u001b[41m=\u001b[30m\u001b[41m=\u001b[30m\u001b[41m=\u001b[30m\u001b[41m=\u001b[30m\u001b[41m=\u001b[30m\u001b[41m=\u001b[30m\u001b[41m=\u001b[30m\u001b[41m=\u001b[37m\u001b[41mB\u001b[37m\u001b[41mB\u001b[37m\u001b[41mB\u001b[30m\u001b[41mh\u001b[30m\u001b[41m=\u001b[30m\u001b[41m=\u001b[30m\u001b[41mh\u001b[30m\u001b[41m=\u001b[30m\u001b[41mh\u001b[30m\u001b[41m=\u001b[30m\u001b[41m=\u001b[30m\u001b[41m=\u001b[30m\u001b[41m=\u001b[30m\u001b[41m=\u001b[30m\u001b[41mh\u001b[30m\u001b[41m=\u001b[30m\u001b[41m=\u001b[30m\u001b[41m=\u001b[30m\u001b[41m=\u001b[30m\u001b[41m=\u001b[30m\u001b[41m=\u001b[30m\u001b[41m=\u001b[30m\u001b[41m=\u001b[30m\u001b[41m=\u001b[30m\u001b[41m=\u001b[30m\u001b[41m=\u001b[30m\u001b[41m=\u001b[30m\u001b[41m=\u001b[0m \u001b[30m\u001b[41m=\u001b[30m\u001b[41m=\u001b[30m\u001b[41m=\u001b[30m\u001b[41m=\u001b[30m\u001b[41mh\u001b[30m\u001b[41m=\u001b[30m\u001b[41m=\u001b[30m\u001b[41m=\u001b[30m\u001b[41m=\u001b[30m\u001b[41m=\u001b[30m\u001b[41m=\u001b[30m\u001b[41m=\u001b[30m\u001b[41m=\u001b[30m\u001b[41m=\u001b[30m\u001b[41m=\u001b[30m\u001b[41m=\u001b[30m\u001b[41m=\u001b[30m\u001b[41m=\u001b[30m\u001b[41m=\u001b[30m\u001b[41m=\u001b[30m\u001b[41m=\u001b[30m\u001b[41m=\u001b[30m\u001b[41m=\u001b[30m\u001b[41m=\u001b[30m\u001b[41m=\u001b[30m\u001b[41m=\u001b[30m\u001b[41m=\u001b[30m\u001b[41m=\u001b[30m\u001b[41m=\u001b[30m\u001b[41m=\u001b[30m\u001b[41m=\u001b[30m\u001b[41m=\u001b[30m\u001b[41m=\u001b[30m\u001b[41m=\u001b[30m\u001b[41m=\u001b[30m\u001b[41m=\u001b[30m\u001b[41m=\u001b[30m\u001b[41m=\u001b[30m\u001b[41m=\u001b[30m\u001b[41m=\u001b[30m\u001b[41m=\u001b[30m\u001b[41m=\u001b[30m\u001b[41m=\u001b[30m\u001b[41m=\u001b[30m\u001b[41m=\u001b[30m\u001b[41m=\u001b[30m\u001b[41m=\u001b[30m\u001b[41m=\u001b[30m\u001b[41m=\u001b[30m\u001b[41m=\u001b[30m\u001b[41m=\u001b[30m\u001b[41m=\u001b[30m\u001b[41m=\u001b[30m\u001b[41m=\u001b[30m\u001b[41m=\u001b[30m\u001b[41m=\u001b[30m\u001b[41m=\u001b[30m\u001b[41m=\u001b[30m\u001b[41m=\u001b[30m\u001b[41m=\u001b[30m\u001b[41m=\u001b[30m\u001b[41m=\u001b[30m\u001b[41m=\u001b[30m\u001b[41m=\u001b[0m \u001b[30m\u001b[41m=\u001b[30m\u001b[41m=\u001b[30m\u001b[41m=\u001b[30m\u001b[41m=\u001b[30m\u001b[41mh\u001b[30m\u001b[41m=\u001b[30m\u001b[41m=\u001b[30m\u001b[41m=\u001b[30m\u001b[41m=\u001b[30m\u001b[41m=\u001b[30m\u001b[41m=\u001b[30m\u001b[41m=\u001b[30m\u001b[41m=\u001b[30m\u001b[41m=\u001b[30m\u001b[41m=\u001b[30m\u001b[41m=\u001b[30m\u001b[41m=\u001b[30m\u001b[41m=\u001b[30m\u001b[41m=\u001b[30m\u001b[41m=\u001b[30m\u001b[41m=\u001b[30m\u001b[41m=\u001b[30m\u001b[41m=\u001b[30m\u001b[41m=\u001b[30m\u001b[41m=\u001b[30m\u001b[41m=\u001b[30m\u001b[41m=\u001b[30m\u001b[41m=\u001b[30m\u001b[41m=\u001b[30m\u001b[41m=\u001b[30m\u001b[41m=\u001b[30m\u001b[41m=\u001b[30m\u001b[41m=\u001b[30m\u001b[41m=\u001b[30m\u001b[41m=\u001b[30m\u001b[41m=\u001b[30m\u001b[41m=\u001b[30m\u001b[41m=\u001b[30m\u001b[41m=\u001b[30m\u001b[41m=\u001b[30m\u001b[41m=\u001b[30m\u001b[41m=\u001b[30m\u001b[41m=\u001b[30m\u001b[41m=\u001b[30m\u001b[41m=\u001b[30m\u001b[41m=\u001b[30m\u001b[41m=\u001b[30m\u001b[41m=\u001b[30m\u001b[41m=\u001b[30m\u001b[41m=\u001b[30m\u001b[41m=\u001b[30m\u001b[41m=\u001b[30m\u001b[41m=\u001b[30m\u001b[41m=\u001b[30m\u001b[41m=\u001b[30m\u001b[41m=\u001b[30m\u001b[41m=\u001b[30m\u001b[41m=\u001b[30m\u001b[41m=\u001b[30m\u001b[41m=\u001b[30m\u001b[41m=\u001b[30m\u001b[41m=\u001b[30m\u001b[41m=\u001b[30m\u001b[41m=\u001b[0m \u001b[0m\n",
       "\u001b[30m\u001b[41m=\u001b[30m\u001b[41m=\u001b[30m\u001b[41m=\u001b[30m\u001b[41m=\u001b[30m\u001b[41mh\u001b[30m\u001b[41m=\u001b[30m\u001b[41mh\u001b[30m\u001b[41mh\u001b[30m\u001b[41mh\u001b[37m\u001b[41mB\u001b[30m\u001b[41mh\u001b[30m\u001b[41mh\u001b[30m\u001b[41mh\u001b[30m\u001b[41mh\u001b[37m\u001b[41mB\u001b[30m\u001b[41mh\u001b[30m\u001b[41mh\u001b[30m\u001b[41mh\u001b[30m\u001b[41mh\u001b[30m\u001b[41mh\u001b[30m\u001b[41mh\u001b[30m\u001b[41mh\u001b[30m\u001b[41mh\u001b[30m\u001b[41mh\u001b[30m\u001b[41m=\u001b[37m\u001b[41mB\u001b[30m\u001b[41mh\u001b[30m\u001b[41m=\u001b[30m\u001b[41mh\u001b[30m\u001b[41mh\u001b[37m\u001b[41mB\u001b[30m\u001b[41mh\u001b[30m\u001b[41mh\u001b[30m\u001b[41mh\u001b[30m\u001b[41mh\u001b[30m\u001b[41mh\u001b[30m\u001b[41mh\u001b[30m\u001b[41m=\u001b[37m\u001b[41mB\u001b[30m\u001b[41mh\u001b[30m\u001b[41mh\u001b[30m\u001b[41m=\u001b[30m\u001b[41mh\u001b[30m\u001b[41mh\u001b[37m\u001b[41mB\u001b[30m\u001b[41mh\u001b[30m\u001b[41mh\u001b[30m\u001b[41mh\u001b[30m\u001b[41m=\u001b[30m\u001b[41mh\u001b[30m\u001b[41m=\u001b[30m\u001b[41mh\u001b[30m\u001b[41mh\u001b[37m\u001b[41mB\u001b[30m\u001b[41mh\u001b[30m\u001b[41mh\u001b[30m\u001b[41mh\u001b[30m\u001b[41m=\u001b[30m\u001b[41mh\u001b[30m\u001b[41m=\u001b[30m\u001b[41mh\u001b[30m\u001b[41mh\u001b[37m\u001b[41mB\u001b[30m\u001b[41mh\u001b[0m \u001b[30m\u001b[41mh\u001b[30m\u001b[41mh\u001b[30m\u001b[41m=\u001b[30m\u001b[41mh\u001b[30m\u001b[41m=\u001b[30m\u001b[41mh\u001b[30m\u001b[41mh\u001b[37m\u001b[41mB\u001b[32m\u001b[42m.\u001b[32m\u001b[42m.\u001b[30m\u001b[41mh\u001b[30m\u001b[41m=\u001b[30m\u001b[41mh\u001b[30m\u001b[41m=\u001b[30m\u001b[41mh\u001b[32m\u001b[42m.\u001b[32m\u001b[42m.\u001b[32m\u001b[42m.\u001b[32m\u001b[42m.\u001b[30m\u001b[41mh\u001b[30m\u001b[41m=\u001b[30m\u001b[41mh\u001b[30m\u001b[41m=\u001b[32m\u001b[42m.\u001b[32m\u001b[42m.\u001b[32m\u001b[42m.\u001b[32m\u001b[42m.\u001b[32m\u001b[42m.\u001b[30m\u001b[41mh\u001b[30m\u001b[41m=\u001b[30m\u001b[41mh\u001b[30m\u001b[41m=\u001b[32m\u001b[42m.\u001b[32m\u001b[42m.\u001b[32m\u001b[42m.\u001b[32m\u001b[42m.\u001b[32m\u001b[42m.\u001b[32m\u001b[42m.\u001b[32m\u001b[42m.\u001b[32m\u001b[42m.\u001b[32m\u001b[42m.\u001b[32m\u001b[42m.\u001b[32m\u001b[42m.\u001b[32m\u001b[42m.\u001b[32m\u001b[42m.\u001b[32m\u001b[42m.\u001b[32m\u001b[42m.\u001b[32m\u001b[42m.\u001b[32m\u001b[42m.\u001b[32m\u001b[42m.\u001b[32m\u001b[42m.\u001b[32m\u001b[42m.\u001b[32m\u001b[42m.\u001b[32m\u001b[42m.\u001b[32m\u001b[42m.\u001b[32m\u001b[42m.\u001b[32m\u001b[42m.\u001b[32m\u001b[42m.\u001b[32m\u001b[42m.\u001b[32m\u001b[42m.\u001b[32m\u001b[42m.\u001b[32m\u001b[42m.\u001b[32m\u001b[42m.\u001b[32m\u001b[42m.\u001b[0m \u001b[32m\u001b[42m.\u001b[32m\u001b[42m.\u001b[32m\u001b[42m.\u001b[32m\u001b[42m.\u001b[32m\u001b[42m.\u001b[32m\u001b[42m.\u001b[32m\u001b[42m.\u001b[32m\u001b[42m.\u001b[32m\u001b[42m.\u001b[32m\u001b[42m.\u001b[32m\u001b[42m.\u001b[32m\u001b[42m.\u001b[32m\u001b[42m.\u001b[32m\u001b[42m.\u001b[32m\u001b[42m.\u001b[32m\u001b[42m.\u001b[32m\u001b[42m.\u001b[32m\u001b[42m.\u001b[32m\u001b[42m.\u001b[32m\u001b[42m.\u001b[32m\u001b[42m.\u001b[32m\u001b[42m.\u001b[32m\u001b[42m.\u001b[32m\u001b[42m.\u001b[32m\u001b[42m.\u001b[32m\u001b[42m.\u001b[32m\u001b[42m.\u001b[32m\u001b[42m.\u001b[32m\u001b[42m.\u001b[32m\u001b[42m.\u001b[32m\u001b[42m.\u001b[32m\u001b[42m.\u001b[32m\u001b[42m.\u001b[32m\u001b[42m.\u001b[32m\u001b[42m.\u001b[32m\u001b[42m."
      ]
     },
     "execution_count": 5,
     "metadata": {},
     "output_type": "execute_result"
    }
   ],
   "source": [
    "x = MemoryInfo(mi_txt.data, \"foo\")\n",
    "x"
   ]
  },
  {
   "cell_type": "code",
   "execution_count": 6,
   "metadata": {},
   "outputs": [
    {
     "data": {
      "text/plain": [
       "'foo'"
      ]
     },
     "execution_count": 6,
     "metadata": {},
     "output_type": "execute_result"
    }
   ],
   "source": [
    "x.name"
   ]
  },
  {
   "cell_type": "code",
   "execution_count": 7,
   "metadata": {},
   "outputs": [
    {
     "data": {
      "text/plain": [
       "\u001b[37m\u001b[40mfoo\n",
       "Stack used:  0x01f4 of Total: 0x1f00  pct free: 93.7%\n",
       "Memory used: 0x000_1550 of Total: 0x002_ee40  free: 0x002_d8f0 pct free: 97.2%\n",
       "1-Blocks:          89  2-Blocks:         26\n",
       "Max Block size:    64  Max Free size: 11652\n",
       "\u001b[30m\u001b[41mh\u001b[30m\u001b[41m=\u001b[30m\u001b[46mM\u001b[30m\u001b[41mh\u001b[30m\u001b[41mh\u001b[30m\u001b[41mh\u001b[37m\u001b[41mB\u001b[37m\u001b[41mD\u001b[30m\u001b[41mh\u001b[30m\u001b[41mh\u001b[37m\u001b[41mB\u001b[37m\u001b[41mT\u001b[37m\u001b[41mT\u001b[37m\u001b[41mB\u001b[37m\u001b[41mD\u001b[37m\u001b[41mB\u001b[37m\u001b[41mD\u001b[37m\u001b[41mB\u001b[30m\u001b[41mh\u001b[37m\u001b[41mT\u001b[30m\u001b[41mh\u001b[30m\u001b[41m=\u001b[30m\u001b[41m=\u001b[30m\u001b[41m=\u001b[37m\u001b[41mB\u001b[37m\u001b[41mT\u001b[37m\u001b[41mB\u001b[37m\u001b[41m=\u001b[37m\u001b[41mD\u001b[30m\u001b[41mh\u001b[30m\u001b[41m=\u001b[30m\u001b[41m=\u001b[30m\u001b[41m=\u001b[30m\u001b[41m=\u001b[37m\u001b[41mB\u001b[37m\u001b[41m=\u001b[37m\u001b[41mB\u001b[37m\u001b[41mB\u001b[37m\u001b[41mB\u001b[37m\u001b[41mB\u001b[37m\u001b[41mB\u001b[37m\u001b[41mB\u001b[37m\u001b[41mT\u001b[37m\u001b[41mB\u001b[37m\u001b[41m=\u001b[37m\u001b[41mB\u001b[37m\u001b[41mT\u001b[37m\u001b[41mB\u001b[37m\u001b[41m=\u001b[37m\u001b[41mB\u001b[37m\u001b[41mB\u001b[37m\u001b[41mB\u001b[37m\u001b[41mT\u001b[37m\u001b[41mB\u001b[37m\u001b[41m=\u001b[37m\u001b[41mT\u001b[37m\u001b[41mB\u001b[37m\u001b[41mT\u001b[37m\u001b[41mB\u001b[37m\u001b[41m=\u001b[37m\u001b[41mB\u001b[30m\u001b[41mh\u001b[30m\u001b[41m=\u001b[30m\u001b[41m=\u001b[0m \u001b[30m\u001b[41m=\u001b[37m\u001b[41mD\u001b[37m\u001b[41mB\u001b[37m\u001b[41m=\u001b[30m\u001b[41mh\u001b[30m\u001b[41m=\u001b[30m\u001b[41m=\u001b[30m\u001b[41m=\u001b[30m\u001b[41m=\u001b[30m\u001b[41m=\u001b[30m\u001b[41m=\u001b[30m\u001b[41m=\u001b[30m\u001b[41m=\u001b[30m\u001b[41m=\u001b[30m\u001b[41m=\u001b[30m\u001b[41m=\u001b[30m\u001b[41mh\u001b[30m\u001b[41m=\u001b[30m\u001b[41m=\u001b[30m\u001b[41m=\u001b[30m\u001b[41m=\u001b[30m\u001b[41m=\u001b[30m\u001b[41m=\u001b[30m\u001b[41m=\u001b[30m\u001b[41m=\u001b[30m\u001b[41m=\u001b[30m\u001b[41m=\u001b[30m\u001b[41m=\u001b[30m\u001b[41m=\u001b[30m\u001b[41m=\u001b[30m\u001b[41m=\u001b[30m\u001b[41m=\u001b[30m\u001b[41m=\u001b[30m\u001b[41m=\u001b[30m\u001b[41m=\u001b[30m\u001b[41m=\u001b[37m\u001b[41mB\u001b[37m\u001b[41mB\u001b[37m\u001b[41mB\u001b[30m\u001b[41mh\u001b[30m\u001b[41m=\u001b[30m\u001b[41m=\u001b[30m\u001b[41mh\u001b[30m\u001b[41m=\u001b[30m\u001b[41mh\u001b[30m\u001b[41m=\u001b[30m\u001b[41m=\u001b[30m\u001b[41m=\u001b[30m\u001b[41m=\u001b[30m\u001b[41m=\u001b[30m\u001b[41mh\u001b[30m\u001b[41m=\u001b[30m\u001b[41m=\u001b[30m\u001b[41m=\u001b[30m\u001b[41m=\u001b[30m\u001b[41m=\u001b[30m\u001b[41m=\u001b[30m\u001b[41m=\u001b[30m\u001b[41m=\u001b[30m\u001b[41m=\u001b[30m\u001b[41m=\u001b[30m\u001b[41m=\u001b[30m\u001b[41m=\u001b[30m\u001b[41m=\u001b[0m \u001b[30m\u001b[41m=\u001b[30m\u001b[41m=\u001b[30m\u001b[41m=\u001b[30m\u001b[41m=\u001b[30m\u001b[41mh\u001b[30m\u001b[41m=\u001b[30m\u001b[41m=\u001b[30m\u001b[41m=\u001b[30m\u001b[41m=\u001b[30m\u001b[41m=\u001b[30m\u001b[41m=\u001b[30m\u001b[41m=\u001b[30m\u001b[41m=\u001b[30m\u001b[41m=\u001b[30m\u001b[41m=\u001b[30m\u001b[41m=\u001b[30m\u001b[41m=\u001b[30m\u001b[41m=\u001b[30m\u001b[41m=\u001b[30m\u001b[41m=\u001b[30m\u001b[41m=\u001b[30m\u001b[41m=\u001b[30m\u001b[41m=\u001b[30m\u001b[41m=\u001b[30m\u001b[41m=\u001b[30m\u001b[41m=\u001b[30m\u001b[41m=\u001b[30m\u001b[41m=\u001b[30m\u001b[41m=\u001b[30m\u001b[41m=\u001b[30m\u001b[41m=\u001b[30m\u001b[41m=\u001b[30m\u001b[41m=\u001b[30m\u001b[41m=\u001b[30m\u001b[41m=\u001b[30m\u001b[41m=\u001b[30m\u001b[41m=\u001b[30m\u001b[41m=\u001b[30m\u001b[41m=\u001b[30m\u001b[41m=\u001b[30m\u001b[41m=\u001b[30m\u001b[41m=\u001b[30m\u001b[41m=\u001b[30m\u001b[41m=\u001b[30m\u001b[41m=\u001b[30m\u001b[41m=\u001b[30m\u001b[41m=\u001b[30m\u001b[41m=\u001b[30m\u001b[41m=\u001b[30m\u001b[41m=\u001b[30m\u001b[41m=\u001b[30m\u001b[41m=\u001b[30m\u001b[41m=\u001b[30m\u001b[41m=\u001b[30m\u001b[41m=\u001b[30m\u001b[41m=\u001b[30m\u001b[41m=\u001b[30m\u001b[41m=\u001b[30m\u001b[41m=\u001b[30m\u001b[41m=\u001b[30m\u001b[41m=\u001b[30m\u001b[41m=\u001b[30m\u001b[41m=\u001b[30m\u001b[41m=\u001b[0m \u001b[30m\u001b[41m=\u001b[30m\u001b[41m=\u001b[30m\u001b[41m=\u001b[30m\u001b[41m=\u001b[30m\u001b[41mh\u001b[30m\u001b[41m=\u001b[30m\u001b[41m=\u001b[30m\u001b[41m=\u001b[30m\u001b[41m=\u001b[30m\u001b[41m=\u001b[30m\u001b[41m=\u001b[30m\u001b[41m=\u001b[30m\u001b[41m=\u001b[30m\u001b[41m=\u001b[30m\u001b[41m=\u001b[30m\u001b[41m=\u001b[30m\u001b[41m=\u001b[30m\u001b[41m=\u001b[30m\u001b[41m=\u001b[30m\u001b[41m=\u001b[30m\u001b[41m=\u001b[30m\u001b[41m=\u001b[30m\u001b[41m=\u001b[30m\u001b[41m=\u001b[30m\u001b[41m=\u001b[30m\u001b[41m=\u001b[30m\u001b[41m=\u001b[30m\u001b[41m=\u001b[30m\u001b[41m=\u001b[30m\u001b[41m=\u001b[30m\u001b[41m=\u001b[30m\u001b[41m=\u001b[30m\u001b[41m=\u001b[30m\u001b[41m=\u001b[30m\u001b[41m=\u001b[30m\u001b[41m=\u001b[30m\u001b[41m=\u001b[30m\u001b[41m=\u001b[30m\u001b[41m=\u001b[30m\u001b[41m=\u001b[30m\u001b[41m=\u001b[30m\u001b[41m=\u001b[30m\u001b[41m=\u001b[30m\u001b[41m=\u001b[30m\u001b[41m=\u001b[30m\u001b[41m=\u001b[30m\u001b[41m=\u001b[30m\u001b[41m=\u001b[30m\u001b[41m=\u001b[30m\u001b[41m=\u001b[30m\u001b[41m=\u001b[30m\u001b[41m=\u001b[30m\u001b[41m=\u001b[30m\u001b[41m=\u001b[30m\u001b[41m=\u001b[30m\u001b[41m=\u001b[30m\u001b[41m=\u001b[30m\u001b[41m=\u001b[30m\u001b[41m=\u001b[30m\u001b[41m=\u001b[30m\u001b[41m=\u001b[30m\u001b[41m=\u001b[30m\u001b[41m=\u001b[30m\u001b[41m=\u001b[0m \u001b[0m\n",
       "\u001b[30m\u001b[41m=\u001b[30m\u001b[41m=\u001b[30m\u001b[41m=\u001b[30m\u001b[41m=\u001b[30m\u001b[41mh\u001b[30m\u001b[41m=\u001b[30m\u001b[41mh\u001b[30m\u001b[41mh\u001b[30m\u001b[41mh\u001b[37m\u001b[41mB\u001b[30m\u001b[41mh\u001b[30m\u001b[41mh\u001b[30m\u001b[41mh\u001b[30m\u001b[41mh\u001b[37m\u001b[41mB\u001b[30m\u001b[41mh\u001b[30m\u001b[41mh\u001b[30m\u001b[41mh\u001b[30m\u001b[41mh\u001b[30m\u001b[41mh\u001b[30m\u001b[41mh\u001b[30m\u001b[41mh\u001b[30m\u001b[41mh\u001b[30m\u001b[41mh\u001b[30m\u001b[41m=\u001b[37m\u001b[41mB\u001b[30m\u001b[41mh\u001b[30m\u001b[41m=\u001b[30m\u001b[41mh\u001b[30m\u001b[41mh\u001b[37m\u001b[41mB\u001b[30m\u001b[41mh\u001b[30m\u001b[41mh\u001b[30m\u001b[41mh\u001b[30m\u001b[41mh\u001b[30m\u001b[41mh\u001b[30m\u001b[41mh\u001b[30m\u001b[41m=\u001b[37m\u001b[41mB\u001b[30m\u001b[41mh\u001b[30m\u001b[41mh\u001b[30m\u001b[41m=\u001b[30m\u001b[41mh\u001b[30m\u001b[41mh\u001b[37m\u001b[41mB\u001b[30m\u001b[41mh\u001b[30m\u001b[41mh\u001b[30m\u001b[41mh\u001b[30m\u001b[41m=\u001b[30m\u001b[41mh\u001b[30m\u001b[41m=\u001b[30m\u001b[41mh\u001b[30m\u001b[41mh\u001b[37m\u001b[41mB\u001b[30m\u001b[41mh\u001b[30m\u001b[41mh\u001b[30m\u001b[41mh\u001b[30m\u001b[41m=\u001b[30m\u001b[41mh\u001b[30m\u001b[41m=\u001b[30m\u001b[41mh\u001b[30m\u001b[41mh\u001b[37m\u001b[41mB\u001b[30m\u001b[41mh\u001b[0m \u001b[30m\u001b[41mh\u001b[30m\u001b[41mh\u001b[30m\u001b[41m=\u001b[30m\u001b[41mh\u001b[30m\u001b[41m=\u001b[30m\u001b[41mh\u001b[30m\u001b[41mh\u001b[37m\u001b[41mB\u001b[32m\u001b[42m.\u001b[32m\u001b[42m.\u001b[30m\u001b[41mh\u001b[30m\u001b[41m=\u001b[30m\u001b[41mh\u001b[30m\u001b[41m=\u001b[30m\u001b[41mh\u001b[32m\u001b[42m.\u001b[32m\u001b[42m.\u001b[32m\u001b[42m.\u001b[32m\u001b[42m.\u001b[30m\u001b[41mh\u001b[30m\u001b[41m=\u001b[30m\u001b[41mh\u001b[30m\u001b[41m=\u001b[32m\u001b[42m.\u001b[32m\u001b[42m.\u001b[32m\u001b[42m.\u001b[32m\u001b[42m.\u001b[32m\u001b[42m.\u001b[30m\u001b[41mh\u001b[30m\u001b[41m=\u001b[30m\u001b[41mh\u001b[30m\u001b[41m=\u001b[32m\u001b[42m.\u001b[32m\u001b[42m.\u001b[32m\u001b[42m.\u001b[32m\u001b[42m.\u001b[32m\u001b[42m.\u001b[32m\u001b[42m.\u001b[32m\u001b[42m.\u001b[32m\u001b[42m.\u001b[32m\u001b[42m.\u001b[32m\u001b[42m.\u001b[32m\u001b[42m.\u001b[32m\u001b[42m.\u001b[32m\u001b[42m.\u001b[32m\u001b[42m.\u001b[32m\u001b[42m.\u001b[32m\u001b[42m.\u001b[32m\u001b[42m.\u001b[32m\u001b[42m.\u001b[32m\u001b[42m.\u001b[32m\u001b[42m.\u001b[32m\u001b[42m.\u001b[32m\u001b[42m.\u001b[32m\u001b[42m.\u001b[32m\u001b[42m.\u001b[32m\u001b[42m.\u001b[32m\u001b[42m.\u001b[32m\u001b[42m.\u001b[32m\u001b[42m.\u001b[32m\u001b[42m.\u001b[32m\u001b[42m.\u001b[32m\u001b[42m.\u001b[32m\u001b[42m.\u001b[0m \u001b[32m\u001b[42m.\u001b[32m\u001b[42m.\u001b[32m\u001b[42m.\u001b[32m\u001b[42m.\u001b[32m\u001b[42m.\u001b[32m\u001b[42m.\u001b[32m\u001b[42m.\u001b[32m\u001b[42m.\u001b[32m\u001b[42m.\u001b[32m\u001b[42m.\u001b[32m\u001b[42m.\u001b[32m\u001b[42m.\u001b[32m\u001b[42m.\u001b[32m\u001b[42m.\u001b[32m\u001b[42m.\u001b[32m\u001b[42m.\u001b[32m\u001b[42m.\u001b[32m\u001b[42m.\u001b[32m\u001b[42m.\u001b[32m\u001b[42m.\u001b[32m\u001b[42m.\u001b[32m\u001b[42m.\u001b[32m\u001b[42m.\u001b[32m\u001b[42m.\u001b[32m\u001b[42m.\u001b[32m\u001b[42m.\u001b[32m\u001b[42m.\u001b[32m\u001b[42m.\u001b[32m\u001b[42m.\u001b[32m\u001b[42m.\u001b[32m\u001b[42m.\u001b[32m\u001b[42m.\u001b[32m\u001b[42m.\u001b[32m\u001b[42m.\u001b[32m\u001b[42m.\u001b[32m\u001b[42m."
      ]
     },
     "metadata": {},
     "output_type": "display_data"
    }
   ],
   "source": [
    "display(x)"
   ]
  },
  {
   "cell_type": "code",
   "execution_count": 8,
   "metadata": {},
   "outputs": [],
   "source": [
    "mi_txt = %mpy import micropython; micropython.mem_info(1)\n",
    "l.append(MemoryInfo(str(mi_txt)))\n"
   ]
  },
  {
   "cell_type": "code",
   "execution_count": 9,
   "metadata": {},
   "outputs": [
    {
     "data": {
      "text/plain": [
       "2"
      ]
     },
     "execution_count": 9,
     "metadata": {},
     "output_type": "execute_result"
    }
   ],
   "source": [
    "len(l)"
   ]
  },
  {
   "cell_type": "code",
   "execution_count": 10,
   "metadata": {},
   "outputs": [
    {
     "data": {
      "text/plain": [
       "\u001b[37m\u001b[40mStack used:  0x01f4 of Total: 0x1f00  pct free: 93.7%\n",
       "Memory used: 0x000_15e0 of Total: 0x002_ee40  free: 0x002_d860 pct free: 97.1%\n",
       "1-Blocks:          94  2-Blocks:         28\n",
       "Max Block size:    64  Max Free size: 11643\n"
      ]
     },
     "metadata": {},
     "output_type": "display_data"
    }
   ],
   "source": [
    "l.play(delay=1)"
   ]
  },
  {
   "cell_type": "code",
   "execution_count": 11,
   "metadata": {},
   "outputs": [
    {
     "name": "stdout",
     "output_type": "stream",
     "text": [
      "0\t\t186608\n",
      "1\t\t186464\n"
     ]
    }
   ],
   "source": [
    "start_ = None\n",
    "end_ = None\n",
    "for x, i in enumerate(l[slice(start_, end_)]):\n",
    "    print(x, i.free, sep=\"\\t\\t\")"
   ]
  },
  {
   "cell_type": "code",
   "execution_count": 12,
   "metadata": {},
   "outputs": [
    {
     "name": "stdout",
     "output_type": "stream",
     "text": [
      "0\t\t186608\n",
      "1\t\t186464\n"
     ]
    }
   ],
   "source": [
    "for x, i in enumerate(l.filter(lambda x: x.free > 183300)):\n",
    "    print(x, i.free, sep=\"\\t\\t\")"
   ]
  },
  {
   "cell_type": "code",
   "execution_count": 13,
   "metadata": {},
   "outputs": [
    {
     "data": {
      "text/plain": [
       "\u001b[37m\u001b[40m --> \n",
       "Stack used:  0x01f4 of Total: 0x1f00  pct free: 93.7%\n",
       "Memory used: 0x000_15e0 of Total: 0x002_ee40  free: 0x002_d860 pct free: 97.1%\n",
       "1-Blocks:          94  2-Blocks:         28\n",
       "Max Block size:    64  Max Free size: 11643\n"
      ]
     },
     "execution_count": 13,
     "metadata": {},
     "output_type": "execute_result"
    }
   ],
   "source": [
    "l[-1] - l[0]\n"
   ]
  },
  {
   "cell_type": "code",
   "execution_count": 14,
   "metadata": {},
   "outputs": [
    {
     "data": {
      "text/plain": []
     },
     "execution_count": 14,
     "metadata": {},
     "output_type": "execute_result"
    }
   ],
   "source": [
    "MemoryInfoList([])"
   ]
  },
  {
   "cell_type": "code",
   "execution_count": 15,
   "metadata": {},
   "outputs": [],
   "source": [
    "info = MemoryInfo(mi_txt.data)"
   ]
  },
  {
   "cell_type": "code",
   "execution_count": 16,
   "metadata": {},
   "outputs": [
    {
     "data": {
      "text/plain": [
       "'h=MhhhBDhhBTTBDBDBhTh===BTB=Dh====B=BBBBBBTB=BTB=BBBTB=TBTB=Bh===DB=h===========h===================BBBh==h=h=====h=================h===============================================================h===============================================================h=hhhBhhhhBhhhhhhhhh=Bh=hhBhhhhhh=Bhh=hhBhhh=h=hhBhhh=h=hhBhhh=h=hhBhhh=h=hhB..h=h=h....h=h=.....h=h=...........................................................'"
      ]
     },
     "execution_count": 16,
     "metadata": {},
     "output_type": "execute_result"
    }
   ],
   "source": [
    "info.mmap\n"
   ]
  },
  {
   "cell_type": "code",
   "execution_count": 17,
   "metadata": {},
   "outputs": [
    {
     "name": "stdout",
     "output_type": "stream",
     "text": [
      "7\n"
     ]
    },
    {
     "data": {
      "text/plain": [
       "[]"
      ]
     },
     "execution_count": 17,
     "metadata": {},
     "output_type": "execute_result"
    }
   ],
   "source": [
    "import textwrap\n",
    "\n",
    "raw = textwrap.wrap(str(info.mmap), 64)\n",
    "print(len(raw))\n",
    "folds = []\n",
    "in_blank = False\n",
    "count = 0\n",
    "start = -1\n",
    "for idx, line in enumerate(raw):\n",
    "    # print(idx, line, sep=\"\\t\\t\")\n",
    "    in_blank = (line == \".\"*64)\n",
    "    if in_blank:\n",
    "        count += 1\n",
    "    else:\n",
    "        if count:\n",
    "            folds.append((1+idx-count, idx, count))\n",
    "        count = 0\n",
    "if count:\n",
    "    folds.append((1+idx-count, idx,count))\n",
    "folds\n"
   ]
  },
  {
   "cell_type": "code",
   "execution_count": 18,
   "metadata": {},
   "outputs": [
    {
     "name": "stdout",
     "output_type": "stream",
     "text": [
      "7\n",
      "['h=MhhhBDhhBTTBDBDBhTh===BTB=Dh====B=BBBBBBTB=BTB=BBBTB=TBTB=Bh==', '=DB=h===========h===================BBBh==h=h=====h=============', '====h===========================================================', '====h===========================================================', '====h=hhhBhhhhBhhhhhhhhh=Bh=hhBhhhhhh=Bhh=hhBhhh=h=hhBhhh=h=hhBh', 'hh=h=hhBhhh=h=hhB..h=h=h....h=h=.....h=h=.......................', '....................................']\n"
     ]
    }
   ],
   "source": [
    "for start, end, count in reversed(folds):\n",
    "    print(start, end, count, sep=\"\\t\\t\")\n",
    "    raw[start:end] = [f\"({count} lines all free)\"]\n",
    "\n",
    "print(len(raw))\n",
    "print(raw)\n"
   ]
  },
  {
   "cell_type": "code",
   "execution_count": 19,
   "metadata": {},
   "outputs": [
    {
     "data": {
      "text/plain": [
       "['stack: 500 out of 7936',\n",
       " 'GC: total: 192064, used: 5600, free: 186464',\n",
       " ' No. of 1-blocks: 94, 2-blocks: 28, max blk sz: 64, max free sz: 11643',\n",
       " 'GC memory layout; from 20009520:',\n",
       " '00000000: h=MhhhBDhhBTTBDBDBhTh===BTB=Dh====B=BBBBBBTB=BTB=BBBTB=TBTB=Bh==',\n",
       " '00000400: =DB=h===========h===================BBBh==h=h=====h=============',\n",
       " '00000800: ====h===========================================================',\n",
       " '00000c00: ====h===========================================================',\n",
       " '00001000: ====h=hhhBhhhhBhhhhhhhhh=Bh=hhBhhhhhh=Bhh=hhBhhh=h=hhBhhh=h=hhBh',\n",
       " '00001400: hh=h=hhBhhh=h=hhB..h=h=h....h=h=.....h=h=.......................',\n",
       " '       (181 lines all free)',\n",
       " '0002ec00: ....................................']"
      ]
     },
     "execution_count": 19,
     "metadata": {},
     "output_type": "execute_result"
    }
   ],
   "source": [
    "mi_txt.data if 'data' in dir(mi_txt) else mi_txt"
   ]
  },
  {
   "cell_type": "code",
   "execution_count": 21,
   "metadata": {},
   "outputs": [],
   "source": [
    "from micropython_magic.octarine import DONT_KNOW"
   ]
  },
  {
   "cell_type": "code",
   "execution_count": null,
   "metadata": {},
   "outputs": [],
   "source": []
  }
 ],
 "metadata": {
  "kernelspec": {
   "display_name": ".venv",
   "language": "python",
   "name": "python3"
  },
  "language_info": {
   "codemirror_mode": {
    "name": "ipython",
    "version": 3
   },
   "file_extension": ".py",
   "mimetype": "text/x-python",
   "name": "python",
   "nbconvert_exporter": "python",
   "pygments_lexer": "ipython3",
   "version": "3.11.0"
  },
  "orig_nbformat": 4
 },
 "nbformat": 4,
 "nbformat_minor": 2
}
