{
 "cells": [
  {
   "attachments": {},
   "cell_type": "markdown",
   "metadata": {},
   "source": [
    "Test\n",
    "\n",
    "- persistance of mcu state across execution of multiple cells\n",
    "- soft-reset of the MCU, which should clear the variables\n"
   ]
  },
  {
   "cell_type": "code",
   "execution_count": 1,
   "metadata": {},
   "outputs": [
    {
     "data": {
      "text/plain": [
       "[]"
      ]
     },
     "execution_count": 1,
     "metadata": {},
     "output_type": "execute_result"
    }
   ],
   "source": [
    "%mpy foo = 'persistent'"
   ]
  },
  {
   "cell_type": "code",
   "execution_count": 2,
   "metadata": {},
   "outputs": [
    {
     "data": {
      "text/plain": [
       "'persistent'"
      ]
     },
     "execution_count": 2,
     "metadata": {},
     "output_type": "execute_result"
    }
   ],
   "source": [
    "# expect foo to exist as the MCU should not be reset between cells\n",
    "%mpy --eval foo"
   ]
  },
  {
   "cell_type": "code",
   "execution_count": 3,
   "metadata": {},
   "outputs": [],
   "source": [
    "assert \"persistent\" in str(_)"
   ]
  },
  {
   "cell_type": "code",
   "execution_count": 4,
   "metadata": {},
   "outputs": [
    {
     "name": "stdout",
     "output_type": "stream",
     "text": [
      "True\n"
     ]
    }
   ],
   "source": [
    "%mpy --soft-reset"
   ]
  },
  {
   "cell_type": "code",
   "execution_count": 5,
   "metadata": {
    "tags": [
     "raises-exception"
    ]
   },
   "outputs": [
    {
     "name": "stdout",
     "output_type": "stream",
     "text": [
      "\u001b[31m\u001b[1mERROR   \u001b[0m | \u001b[36mmicropython_magic.interactive\u001b[0m:\u001b[36mipython_run\u001b[0m:\u001b[36m97\u001b[0m - \u001b[31m\u001b[1mNameError: name 'foo' isn't defined\n",
      "\u001b[0m\n"
     ]
    },
    {
     "ename": "MCUException",
     "evalue": "NameError: name 'foo' isn't defined",
     "output_type": "error",
     "traceback": [
      "\u001b[1;31m---------------------------------------------------------------------------\u001b[0m",
      "\u001b[1;31mNameError\u001b[0m                                 Traceback (most recent call last)",
      "\u001b[1;31mNameError\u001b[0m: ",
      "\nThe above exception was the direct cause of the following exception:\n",
      "\u001b[1;31mMCUException\u001b[0m                              Traceback (most recent call last)",
      "Cell \u001b[1;32mIn[5], line 3\u001b[0m\n\u001b[0;32m      1\u001b[0m \u001b[39m# Expect to raise error as foo is no longer defined after reset\u001b[39;00m\n\u001b[0;32m      2\u001b[0m \u001b[39mtry\u001b[39;00m: \n\u001b[1;32m----> 3\u001b[0m     get_ipython()\u001b[39m.\u001b[39;49mrun_line_magic(\u001b[39m'\u001b[39;49m\u001b[39mmpy\u001b[39;49m\u001b[39m'\u001b[39;49m, \u001b[39m'\u001b[39;49m\u001b[39m--eval foo\u001b[39;49m\u001b[39m'\u001b[39;49m)\n\u001b[0;32m      4\u001b[0m \u001b[39mexcept\u001b[39;00m \u001b[39mNameError\u001b[39;00m:\n\u001b[0;32m      5\u001b[0m     \u001b[39mpass\u001b[39;00m\n",
      "File \u001b[1;32mc:\\develop\\MyPython\\micropython-magic\\.venv\\Lib\\site-packages\\IPython\\core\\interactiveshell.py:2414\u001b[0m, in \u001b[0;36mInteractiveShell.run_line_magic\u001b[1;34m(self, magic_name, line, _stack_depth)\u001b[0m\n\u001b[0;32m   2412\u001b[0m     kwargs[\u001b[39m'\u001b[39m\u001b[39mlocal_ns\u001b[39m\u001b[39m'\u001b[39m] \u001b[39m=\u001b[39m \u001b[39mself\u001b[39m\u001b[39m.\u001b[39mget_local_scope(stack_depth)\n\u001b[0;32m   2413\u001b[0m \u001b[39mwith\u001b[39;00m \u001b[39mself\u001b[39m\u001b[39m.\u001b[39mbuiltin_trap:\n\u001b[1;32m-> 2414\u001b[0m     result \u001b[39m=\u001b[39m fn(\u001b[39m*\u001b[39;49margs, \u001b[39m*\u001b[39;49m\u001b[39m*\u001b[39;49mkwargs)\n\u001b[0;32m   2416\u001b[0m \u001b[39m# The code below prevents the output from being displayed\u001b[39;00m\n\u001b[0;32m   2417\u001b[0m \u001b[39m# when using magics with decodator @output_can_be_silenced\u001b[39;00m\n\u001b[0;32m   2418\u001b[0m \u001b[39m# when the last Python token in the expression is a ';'.\u001b[39;00m\n\u001b[0;32m   2419\u001b[0m \u001b[39mif\u001b[39;00m \u001b[39mgetattr\u001b[39m(fn, magic\u001b[39m.\u001b[39mMAGIC_OUTPUT_CAN_BE_SILENCED, \u001b[39mFalse\u001b[39;00m):\n",
      "File \u001b[1;32mC:\\develop\\MyPython\\micropython-magic\\src\\micropython_magic\\octarine.py:237\u001b[0m, in \u001b[0;36mMpyMagics.mpy_line\u001b[1;34m(self, line)\u001b[0m\n\u001b[0;32m    234\u001b[0m             \u001b[39mreturn\u001b[39;00m out\n\u001b[0;32m    236\u001b[0m \u001b[39melif\u001b[39;00m args\u001b[39m.\u001b[39meval:\n\u001b[1;32m--> 237\u001b[0m     \u001b[39mreturn\u001b[39;00m \u001b[39mself\u001b[39;49m\u001b[39m.\u001b[39;49meval(args\u001b[39m.\u001b[39;49meval)\n\u001b[0;32m    239\u001b[0m \u001b[39melif\u001b[39;00m args\u001b[39m.\u001b[39mstatement:\n\u001b[0;32m    240\u001b[0m     \u001b[39m# Assemble the command to run\u001b[39;00m\n\u001b[0;32m    241\u001b[0m     statement \u001b[39m=\u001b[39m \u001b[39m\"\u001b[39m\u001b[39m\\n\u001b[39;00m\u001b[39m\"\u001b[39m\u001b[39m.\u001b[39mjoin(args\u001b[39m.\u001b[39mstatement)\n",
      "File \u001b[1;32mC:\\develop\\MyPython\\micropython-magic\\src\\micropython_magic\\octarine.py:292\u001b[0m, in \u001b[0;36mMpyMagics.eval\u001b[1;34m(self, line)\u001b[0m\n\u001b[0;32m    289\u001b[0m \u001b[39mfor\u001b[39;00m ln \u001b[39min\u001b[39;00m output\u001b[39m.\u001b[39ml:\n\u001b[0;32m    290\u001b[0m     \u001b[39m# check for errors and raise them\u001b[39;00m\n\u001b[0;32m    291\u001b[0m     \u001b[39mif\u001b[39;00m \u001b[39many\u001b[39m(re\u001b[39m.\u001b[39mmatch(m, ln) \u001b[39mfor\u001b[39;00m m \u001b[39min\u001b[39;00m matchers):\n\u001b[1;32m--> 292\u001b[0m         \u001b[39mraise\u001b[39;00m MCUException(ln) \u001b[39mfrom\u001b[39;00m \u001b[39meval\u001b[39;00m(ln\u001b[39m.\u001b[39msplit(\u001b[39m\"\u001b[39m\u001b[39m:\u001b[39m\u001b[39m\"\u001b[39m)[\u001b[39m0\u001b[39m])\n\u001b[0;32m    293\u001b[0m     \u001b[39m# check for json output and try to convert it\u001b[39;00m\n\u001b[0;32m    294\u001b[0m     \u001b[39mif\u001b[39;00m ln\u001b[39m.\u001b[39mstartswith(JSON_START) \u001b[39mand\u001b[39;00m ln\u001b[39m.\u001b[39mendswith(JSON_END):\n",
      "\u001b[1;31mMCUException\u001b[0m: NameError: name 'foo' isn't defined"
     ]
    }
   ],
   "source": [
    "# Expect to raise error as foo is no longer defined after reset\n",
    "try: \n",
    "    %mpy --eval foo\n",
    "except NameError:\n",
    "    pass"
   ]
  },
  {
   "cell_type": "code",
   "execution_count": 6,
   "metadata": {},
   "outputs": [],
   "source": [
    "# last_output = _\n",
    "# assert \"'foo' isn't defined\" in str(last_output)"
   ]
  }
 ],
 "metadata": {
  "kernelspec": {
   "display_name": ".venv",
   "language": "python",
   "name": "python3"
  },
  "language_info": {
   "codemirror_mode": {
    "name": "ipython",
    "version": 3
   },
   "file_extension": ".py",
   "mimetype": "text/x-python",
   "name": "python",
   "nbconvert_exporter": "python",
   "pygments_lexer": "ipython3",
   "version": "3.11.0"
  },
  "orig_nbformat": 4
 },
 "nbformat": 4,
 "nbformat_minor": 2
}
