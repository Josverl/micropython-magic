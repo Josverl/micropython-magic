{
 "cells": [
  {
   "attachments": {},
   "cell_type": "markdown",
   "metadata": {},
   "source": [
    "Test that the outputs of cell magigs are accessible via the `outputs` attribute of the cell object."
   ]
  },
  {
   "cell_type": "code",
   "execution_count": 11,
   "metadata": {},
   "outputs": [
    {
     "data": {
      "text/plain": [
       "'First Cell'"
      ]
     },
     "execution_count": 11,
     "metadata": {},
     "output_type": "execute_result"
    }
   ],
   "source": [
    "from IPython.core.interactiveshell import InteractiveShell\n",
    "from IPython.core.getipython import get_ipython\n",
    "\n",
    "ipy: InteractiveShell = get_ipython()\n",
    "\n",
    "\"First Cell\""
   ]
  },
  {
   "cell_type": "code",
   "execution_count": 12,
   "metadata": {},
   "outputs": [
    {
     "name": "stdout",
     "output_type": "stream",
     "text": [
      "\n",
      "*** Memory info just a test ***\n",
      "time:(2021, 1, 1, 0, 2, 23, 4, 1)\n",
      "stack: 1228 out of 7936\n",
      "GC: total: 226560, used: 26288, free: 200272\n",
      " No. of 1-blocks: 263, 2-blocks: 47, max blk sz: 72, max free sz: 12476\n",
      "***********************\n",
      "\n"
     ]
    }
   ],
   "source": [
    "%%mpy \n",
    "from time import gmtime as _gmtime\n",
    "from micropython import mem_info as _mem_info\n",
    "def log_mem(id=\"\", verbose=False):\n",
    "    print(f\"\\n*** Memory info {id} ***\")\n",
    "    # add time to the log\n",
    "    print(f\"time:{_gmtime()}\")\n",
    "    if verbose:\n",
    "        _ = _mem_info(1)\n",
    "    else:\n",
    "        _ = _mem_info()\n",
    "    print(\"***********************\\n\")\n",
    "\n",
    "log_mem(\"just a test\")"
   ]
  },
  {
   "cell_type": "code",
   "execution_count": 13,
   "metadata": {},
   "outputs": [],
   "source": [
    "assert ipy.last_execution_succeeded\n",
    "assert \"First Cell\" != _ \n",
    "assert \"First Cell\" not in str(ipy.last_execution_result)\n",
    "assert \"*** Memory info just a test ***\" in _ \n",
    "assert \"*** Memory info just a test ***\"  in str(ipy.last_execution_result)"
   ]
  },
  {
   "cell_type": "code",
   "execution_count": 14,
   "metadata": {},
   "outputs": [
    {
     "data": {
      "text/plain": [
       "'Parrot'"
      ]
     },
     "execution_count": 14,
     "metadata": {},
     "output_type": "execute_result"
    }
   ],
   "source": [
    "\"Parrot\""
   ]
  },
  {
   "cell_type": "code",
   "execution_count": 16,
   "metadata": {},
   "outputs": [],
   "source": [
    "assert \"*** Memory info just a test ***\" in __ \n",
    "# assert \"*** Memory info just a test ***\" in _2 "
   ]
  }
 ],
 "metadata": {
  "kernelspec": {
   "display_name": ".venv",
   "language": "python",
   "name": "python3"
  },
  "language_info": {
   "codemirror_mode": {
    "name": "ipython",
    "version": 3
   },
   "file_extension": ".py",
   "mimetype": "text/x-python",
   "name": "python",
   "nbconvert_exporter": "python",
   "pygments_lexer": "ipython3",
   "version": "3.11.4"
  },
  "orig_nbformat": 4
 },
 "nbformat": 4,
 "nbformat_minor": 2
}
