{
 "cells": [
  {
   "attachments": {},
   "cell_type": "markdown",
   "metadata": {},
   "source": [
    "Test that the outputs of cell magigs are accessible via the `outputs` attribute of the cell object."
   ]
  },
  {
   "cell_type": "code",
   "execution_count": 1,
   "metadata": {},
   "outputs": [
    {
     "data": {
      "text/plain": [
       "'First Cell'"
      ]
     },
     "execution_count": 1,
     "metadata": {},
     "output_type": "execute_result"
    }
   ],
   "source": [
    "from IPython.core.interactiveshell import InteractiveShell\n",
    "from IPython.core.getipython import get_ipython\n",
    "\n",
    "ipy: InteractiveShell = get_ipython()\n",
    "\n",
    "\"First Cell\""
   ]
  },
  {
   "cell_type": "code",
   "execution_count": 2,
   "metadata": {},
   "outputs": [
    {
     "name": "stdout",
     "output_type": "stream",
     "text": [
      "\n",
      "*** Memory info just a test ***\n",
      "time:(2021, 1, 1, 19, 10, 21, 4, 1)\n",
      "stack: 1228 out of 7936\n",
      "GC: total: 193664, used: 96096, free: 97568\n",
      " No. of 1-blocks: 1488, 2-blocks: 224, max blk sz: 72, max free sz: 6052\n",
      "***********************\n",
      "\n"
     ]
    }
   ],
   "source": [
    "%%mpy \n",
    "from time import gmtime as _gmtime\n",
    "from micropython import mem_info as _mem_info\n",
    "def log_mem(id=\"\", verbose=False):\n",
    "    print(f\"\\n*** Memory info {id} ***\")\n",
    "    # add time to the log\n",
    "    print(f\"time:{_gmtime()}\")\n",
    "    if verbose:\n",
    "        _ = _mem_info(1)\n",
    "    else:\n",
    "        _ = _mem_info()\n",
    "    print(\"***********************\\n\")\n",
    "\n",
    "log_mem(\"just a test\")"
   ]
  },
  {
   "cell_type": "code",
   "execution_count": 3,
   "metadata": {},
   "outputs": [],
   "source": [
    "assert ipy.last_execution_succeeded\n",
    "assert \"First Cell\" != _ \n",
    "assert \"First Cell\" not in str(ipy.last_execution_result)\n",
    "assert \"*** Memory info just a test ***\" in _ \n",
    "assert \"*** Memory info just a test ***\"  in str(ipy.last_execution_result)"
   ]
  },
  {
   "cell_type": "code",
   "execution_count": 4,
   "metadata": {},
   "outputs": [
    {
     "data": {
      "text/plain": [
       "'Parrot'"
      ]
     },
     "execution_count": 4,
     "metadata": {},
     "output_type": "execute_result"
    }
   ],
   "source": [
    "\"Parrot\""
   ]
  },
  {
   "cell_type": "code",
   "execution_count": 5,
   "metadata": {},
   "outputs": [],
   "source": [
    "assert \"*** Memory info just a test ***\" in __ \n",
    "assert \"*** Memory info just a test ***\" in _2 "
   ]
  }
 ],
 "metadata": {
  "kernelspec": {
   "display_name": ".venv",
   "language": "python",
   "name": "python3"
  },
  "language_info": {
   "codemirror_mode": {
    "name": "ipython",
    "version": 3
   },
   "file_extension": ".py",
   "mimetype": "text/x-python",
   "name": "python",
   "nbconvert_exporter": "python",
   "pygments_lexer": "ipython3",
   "version": "3.11.0"
  },
  "orig_nbformat": 4
 },
 "nbformat": 4,
 "nbformat_minor": 2
}
