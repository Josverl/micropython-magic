{
 "cells": [
  {
   "cell_type": "code",
   "execution_count": 15,
   "metadata": {},
   "outputs": [
    {
     "data": {
      "text/plain": [
       "{'ver': 'v1.21.0',\n",
       " 'version': '1.21.0',\n",
       " 'port': 'rp2',\n",
       " 'mpy': 'v6.1',\n",
       " 'build': '',\n",
       " 'cpu': 'RP2040',\n",
       " 'family': 'micropython',\n",
       " 'board': 'Raspberry Pi Pico W with RP2040',\n",
       " 'arch': 'armv6m',\n",
       " 'serial_port': 'auto'}"
      ]
     },
     "execution_count": 15,
     "metadata": {},
     "output_type": "execute_result"
    }
   ],
   "source": [
    "%mpy --select auto --info"
   ]
  },
  {
   "cell_type": "code",
   "execution_count": 16,
   "metadata": {},
   "outputs": [],
   "source": [
    "import time\n",
    "\n",
    "s1 = time.time()"
   ]
  },
  {
   "cell_type": "code",
   "execution_count": 17,
   "metadata": {},
   "outputs": [],
   "source": [
    "# %%micropython --no-follow\n",
    "\n",
    "import time\n",
    "import machine\n",
    "\n",
    "for i in range(3, 0, -1):\n",
    "    print(i)\n",
    "    time.sleep(1)\n",
    "machine.reset()"
   ]
  },
  {
   "cell_type": "code",
   "execution_count": 18,
   "metadata": {},
   "outputs": [
    {
     "name": "stdout",
     "output_type": "stream",
     "text": [
      "0.25591325759887695\n"
     ]
    }
   ],
   "source": [
    "s2 = time.time()\n",
    "print(s2 - s1)\n",
    "\n",
    "# if --no-follow works, this should be less than 1 second\n",
    "assert s2 - s1 < 1"
   ]
  },
  {
   "cell_type": "code",
   "execution_count": 19,
   "metadata": {},
   "outputs": [
    {
     "name": "stdout",
     "output_type": "stream",
     "text": [
      "done\n"
     ]
    }
   ],
   "source": [
    "# now wait a bit to see if the board resets\n",
    "time.sleep(4)\n",
    "\n",
    "print(\"done\")"
   ]
  }
 ],
 "metadata": {
  "kernelspec": {
   "display_name": ".venv",
   "language": "python",
   "name": "python3"
  },
  "language_info": {
   "codemirror_mode": {
    "name": "ipython",
    "version": 3
   },
   "file_extension": ".py",
   "mimetype": "text/x-python",
   "name": "python",
   "nbconvert_exporter": "python",
   "pygments_lexer": "ipython3",
   "version": "3.11.7"
  },
  "orig_nbformat": 4
 },
 "nbformat": 4,
 "nbformat_minor": 2
}
