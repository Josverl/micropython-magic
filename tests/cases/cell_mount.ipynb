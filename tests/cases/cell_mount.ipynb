{
 "cells": [
  {
   "cell_type": "code",
   "execution_count": 14,
   "metadata": {},
   "outputs": [
    {
     "name": "stdout",
     "output_type": "stream",
     "text": [
      "Hello world!\n",
      "Hello world!\n",
      "Hello world!\n",
      "Hello world!\n"
     ]
    }
   ],
   "source": [
    "# %%micropython\n",
    "\n",
    "for i in range(4):\n",
    "    print(\"Hello world!\")"
   ]
  },
  {
   "cell_type": "code",
   "execution_count": 15,
   "metadata": {},
   "outputs": [
    {
     "name": "stdout",
     "output_type": "stream",
     "text": [
      "Exception reporting mode: Verbose\n"
     ]
    }
   ],
   "source": [
    "%xmode Verbose"
   ]
  },
  {
   "cell_type": "code",
   "execution_count": 16,
   "metadata": {},
   "outputs": [
    {
     "name": "stdout",
     "output_type": "stream",
     "text": [
      "Local directory . is mounted at /remote\n",
      "Hello mount world!\n",
      "Hello mount world!\n",
      "Hello mount world!\n",
      "Hello mount world!\n"
     ]
    }
   ],
   "source": [
    "# %%micropython --mount .\n",
    "\n",
    "for i in range(4):\n",
    "    print(\"Hello mount world!\")"
   ]
  },
  {
   "cell_type": "code",
   "execution_count": 17,
   "metadata": {},
   "outputs": [],
   "source": [
    "# print(_)\n",
    "assert \"Local directory . is mounted at /remote\" in _"
   ]
  },
  {
   "cell_type": "code",
   "execution_count": 18,
   "metadata": {},
   "outputs": [
    {
     "name": "stdout",
     "output_type": "stream",
     "text": [
      "Local directory c:\\users is mounted at /remote\n",
      "Hello mount world!\n",
      "Hello mount world!\n",
      "Hello mount world!\n",
      "Hello mount world!\n"
     ]
    }
   ],
   "source": [
    "# %%micropython --mount c:\\users\n",
    "\n",
    "for i in range(4):\n",
    "    print(\"Hello mount world!\")"
   ]
  },
  {
   "cell_type": "code",
   "execution_count": 19,
   "metadata": {},
   "outputs": [],
   "source": [
    "# print(_)\n",
    "assert \"Local directory c:\\\\users is mounted at /remote\" in _"
   ]
  },
  {
   "cell_type": "code",
   "execution_count": 20,
   "metadata": {},
   "outputs": [
    {
     "name": "stdout",
     "output_type": "stream",
     "text": [
      "Local directory d:\\ is mounted at /remote\n",
      "/remote\n",
      "['$RECYCLE.BIN', 'Build_26_9_23', 'dataproc', 'docker', 'en-us_windows_11_business_editions_version_23h2_updated_dec_2023_x64_dvd_d9da936d.iso', 'en-us_windows_11_consumer_editions_version_23h2_updated_dec_2023_x64_dvd_7cd2c9a8.iso', 'exporter', 'MyPython', 'playwright', 'Python-C#', 'repos', 'shared_venv', 'System Volume Information', 'tools']\n"
     ]
    }
   ],
   "source": [
    "# %%micropython --mount d:\\\n",
    "import os\n",
    "\n",
    "print(os.getcwd())\n",
    "print(os.listdir())"
   ]
  },
  {
   "cell_type": "code",
   "execution_count": 21,
   "metadata": {},
   "outputs": [],
   "source": [
    "# print(_)\n",
    "assert \"Local directory d:\\\\ is mounted at /remote\" in _"
   ]
  }
 ],
 "metadata": {
  "kernelspec": {
   "display_name": ".venv",
   "language": "python",
   "name": "python3"
  },
  "language_info": {
   "codemirror_mode": {
    "name": "ipython",
    "version": 3
   },
   "file_extension": ".py",
   "mimetype": "text/x-python",
   "name": "python",
   "nbconvert_exporter": "python",
   "pygments_lexer": "ipython3",
   "version": "3.11.7"
  }
 },
 "nbformat": 4,
 "nbformat_minor": 2
}
