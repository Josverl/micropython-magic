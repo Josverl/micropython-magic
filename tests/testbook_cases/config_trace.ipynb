{
 "cells": [
  {
   "cell_type": "code",
   "execution_count": 1,
   "metadata": {},
   "outputs": [
    {
     "name": "stdout",
     "output_type": "stream",
     "text": [
      "MicroPythonMagic(Magics) options\n",
      "------------------------------\n",
      "MicroPythonMagic.loglevel=<UseEnum>\n",
      "    Choices: any of ['TRACE', 'DEBUG', 'INFO', 'WARNING', 'ERROR']\n",
      "    Current: <LogLevel.WARNING: 'WARNING'>\n",
      "MicroPythonMagic.timeout=<Float>\n",
      "    Current: 300.0\n"
     ]
    }
   ],
   "source": [
    "%config MicroPythonMagic"
   ]
  },
  {
   "cell_type": "code",
   "execution_count": 2,
   "metadata": {},
   "outputs": [],
   "source": [
    "%config MicroPythonMagic.loglevel = 'TRACE'"
   ]
  },
  {
   "cell_type": "code",
   "execution_count": 3,
   "metadata": {},
   "outputs": [],
   "source": [
    "%config MicroPythonMagic.timeout = 300"
   ]
  },
  {
   "cell_type": "code",
   "execution_count": 4,
   "metadata": {},
   "outputs": [
    {
     "name": "stdout",
     "output_type": "stream",
     "text": [
      "\u001b[36m\u001b[1mTRACE   \u001b[0m | \u001b[36mmicropython_magic.octarine\u001b[0m:\u001b[36mmicropython\u001b[0m:\u001b[36m234\u001b[0m - \u001b[36m\u001b[1mcell='\\nprint(\"Hello world!\")\\n'\u001b[0m\n",
      "\u001b[36m\u001b[1mTRACE   \u001b[0m | \u001b[36mmicropython_magic.mpr\u001b[0m:\u001b[36mrun_cell\u001b[0m:\u001b[36m114\u001b[0m - \u001b[36m\u001b[1mcopied cell to C:\\Users\\josverl\\AppData\\Local\\Temp\\tmpx2zymvfp.py\u001b[0m\n",
      "\u001b[36m\u001b[1mTRACE   \u001b[0m | \u001b[36mmicropython_magic.mpr\u001b[0m:\u001b[36mrun_cell\u001b[0m:\u001b[36m116\u001b[0m - \u001b[36m\u001b[1mfile_attributes=os.stat_result(st_mode=33206, st_ino=7036874418189291, st_dev=820892441, st_nlink=1, st_uid=0, st_gid=0, st_size=41, st_atime=1704577016, st_mtime=1704577016, st_ctime=1704577016)\u001b[0m\n",
      "\u001b[36m\u001b[1mTRACE   \u001b[0m | \u001b[36mmicropython_magic.mpr\u001b[0m:\u001b[36mrun_cell\u001b[0m:\u001b[36m124\u001b[0m - \u001b[36m\u001b[1mrunning ['run', 'C:\\\\Users\\\\josverl\\\\AppData\\\\Local\\\\Temp\\\\tmpx2zymvfp.py']\u001b[0m\n",
      "\u001b[34m\u001b[1mDEBUG   \u001b[0m | \u001b[36mmicropython_magic.mpr\u001b[0m:\u001b[36mrun_cmd\u001b[0m:\u001b[36m71\u001b[0m - \u001b[34m\u001b[1m['mpremote', 'connect', 'auto', 'resume', 'run', 'C:\\\\Users\\\\josverl\\\\AppData\\\\Local\\\\Temp\\\\tmpx2zymvfp.py']\u001b[0m\n",
      "\u001b[36m\u001b[1mTRACE   \u001b[0m | \u001b[36mmicropython_magic.interactive\u001b[0m:\u001b[36mipython_run\u001b[0m:\u001b[36m98\u001b[0m - \u001b[36m\u001b[1mline based, with timeout of 300.0 seconds\u001b[0m\n",
      "Hello world!\n",
      "\u001b[36m\u001b[1mTRACE   \u001b[0m | \u001b[36mmicropython_magic.mpr\u001b[0m:\u001b[36mrun_cell\u001b[0m:\u001b[36m133\u001b[0m - \u001b[36m\u001b[1mresult: ['Hello world!']\u001b[0m\n"
     ]
    }
   ],
   "source": [
    "%%micropython\n",
    "\n",
    "print(\"Hello world!\")\n"
   ]
  },
  {
   "cell_type": "code",
   "execution_count": 5,
   "metadata": {},
   "outputs": [
    {
     "name": "stderr",
     "output_type": "stream",
     "text": [
      "c:\\develop\\MyPython\\micropython-magic\\.venv\\Lib\\site-packages\\IPython\\core\\interactiveshell.py:3266: UserWarning: Config option `verbose` not recognized by `MicroPythonMagic`.\n",
      "  has_raised = await self.run_ast_nodes(code_ast.body, cell_name,\n"
     ]
    }
   ],
   "source": [
    "%config MicroPythonMagic.verbose = 'DEBUG'"
   ]
  }
 ],
 "metadata": {
  "kernelspec": {
   "display_name": ".venv",
   "language": "python",
   "name": "python3"
  },
  "language_info": {
   "codemirror_mode": {
    "name": "ipython",
    "version": 3
   },
   "file_extension": ".py",
   "mimetype": "text/x-python",
   "name": "python",
   "nbconvert_exporter": "python",
   "pygments_lexer": "ipython3",
   "version": "3.11.7"
  }
 },
 "nbformat": 4,
 "nbformat_minor": 2
}
