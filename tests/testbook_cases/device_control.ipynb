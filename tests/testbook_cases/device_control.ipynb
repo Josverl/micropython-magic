{
 "cells": [
  {
   "cell_type": "markdown",
   "metadata": {},
   "source": [
    "Control wchich connected device / MCU is used by default.\n",
    "\n",
    "* List connected serial devices"
   ]
  },
  {
   "cell_type": "code",
   "execution_count": 1,
   "metadata": {},
   "outputs": [
    {
     "data": {
      "text/plain": [
       "['COM19 E6632C85934E2D28 16d0:08c7 Microsoft None']"
      ]
     },
     "execution_count": 1,
     "metadata": {},
     "output_type": "execute_result"
    }
   ],
   "source": [
    "%micropython --list"
   ]
  },
  {
   "cell_type": "markdown",
   "metadata": {},
   "source": [
    "* `%mpy` is shorthand for `%micropython`"
   ]
  },
  {
   "cell_type": "code",
   "execution_count": 2,
   "metadata": {},
   "outputs": [
    {
     "data": {
      "text/plain": [
       "['COM19 E6632C85934E2D28 16d0:08c7 Microsoft None']"
      ]
     },
     "execution_count": 2,
     "metadata": {},
     "output_type": "execute_result"
    }
   ],
   "source": [
    "%mpy --list"
   ]
  },
  {
   "cell_type": "markdown",
   "metadata": {},
   "source": [
    "Using the detected devices in your Notebook\n",
    "* The output is presented as an  SList, which is a subclass of list, with some extra methods that omong other things simply getting the first column of the output."
   ]
  },
  {
   "cell_type": "code",
   "execution_count": 3,
   "metadata": {},
   "outputs": [
    {
     "data": {
      "text/plain": [
       "'Detected COM19'"
      ]
     },
     "execution_count": 3,
     "metadata": {},
     "output_type": "execute_result"
    }
   ],
   "source": [
    "# connect to the last device in the list\n",
    "device_list = %mpy --list\n",
    "if len(device_list.fields(0)) == 0:\n",
    "    raise ConnectionError(\"No MicroPython devices found\")\n",
    "\n",
    "lastMCU = device_list.fields(0)[-1]\n",
    "f\"Detected {lastMCU}\""
   ]
  },
  {
   "cell_type": "markdown",
   "metadata": {},
   "source": [
    "\n",
    "* Select a specific serial port for this and future commands with `%mpy --select <port>`  \n",
    "  Use `auto` to select to the first available port. This is the default setting."
   ]
  },
  {
   "cell_type": "code",
   "execution_count": 4,
   "metadata": {},
   "outputs": [],
   "source": [
    "%mpy --select $lastMCU"
   ]
  },
  {
   "cell_type": "markdown",
   "metadata": {},
   "source": [
    "* Use `--verify` to verify the connection to a device\n"
   ]
  },
  {
   "cell_type": "code",
   "execution_count": 5,
   "metadata": {},
   "outputs": [
    {
     "name": "stdout",
     "output_type": "stream",
     "text": [
      "'COM19'\n"
     ]
    }
   ],
   "source": [
    "%mpy --select $lastMCU --verify "
   ]
  },
  {
   "cell_type": "markdown",
   "metadata": {},
   "source": [
    "* `--connect` is an alias for `--select`"
   ]
  },
  {
   "cell_type": "code",
   "execution_count": 6,
   "metadata": {},
   "outputs": [],
   "source": [
    "%mpy --connect auto"
   ]
  },
  {
   "cell_type": "markdown",
   "metadata": {},
   "source": [
    "--select can also be used with the `%%micropython` cell magic, but only for the current cell."
   ]
  },
  {
   "cell_type": "code",
   "execution_count": 9,
   "metadata": {},
   "outputs": [
    {
     "name": "stdout",
     "output_type": "stream",
     "text": [
      "rp2 3.4.0; MicroPython v1.22.1 on 2024-01-05\n"
     ]
    }
   ],
   "source": [
    "# %%micropython --select $lastMCU \n",
    "\n",
    "import sys\n",
    "print(sys.platform, sys.version)\n"
   ]
  }
 ],
 "metadata": {
  "kernelspec": {
   "display_name": ".venv",
   "language": "python",
   "name": "python3"
  },
  "language_info": {
   "codemirror_mode": {
    "name": "ipython",
    "version": 3
   },
   "file_extension": ".py",
   "mimetype": "text/x-python",
   "name": "python",
   "nbconvert_exporter": "python",
   "pygments_lexer": "ipython3",
   "version": "3.11.7"
  }
 },
 "nbformat": 4,
 "nbformat_minor": 2
}
