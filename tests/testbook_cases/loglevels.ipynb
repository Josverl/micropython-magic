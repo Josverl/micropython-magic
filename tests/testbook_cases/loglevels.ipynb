{
 "cells": [
  {
   "cell_type": "code",
   "execution_count": 6,
   "metadata": {},
   "outputs": [
    {
     "name": "stdout",
     "output_type": "stream",
     "text": [
      "\u001b[1mINFO    \u001b[0m | \u001b[36moctarine\u001b[0m:\u001b[36m_loglevel_changed\u001b[0m:\u001b[36m53\u001b[0m | {} | \u001b[1mLog level set to LogLevel.INFO\u001b[0m\n"
     ]
    }
   ],
   "source": [
    "%config MicroPythonMagic.loglevel = \"INFO\""
   ]
  },
  {
   "cell_type": "code",
   "execution_count": 7,
   "metadata": {},
   "outputs": [
    {
     "name": "stdout",
     "output_type": "stream",
     "text": [
      "\u001b[1mINFO    \u001b[0m | \u001b[1mLog level set to LogLevel.ERROR\u001b[0m\n"
     ]
    }
   ],
   "source": [
    "%config MicroPythonMagic.loglevel = \"ERROR\""
   ]
  },
  {
   "cell_type": "code",
   "execution_count": 8,
   "metadata": {},
   "outputs": [
    {
     "name": "stdout",
     "output_type": "stream",
     "text": [
      "\u001b[1mINFO    \u001b[0m | \u001b[1mLog level set to LogLevel.WARNING\u001b[0m\n"
     ]
    }
   ],
   "source": [
    "%config MicroPythonMagic.loglevel = \"INFO\"\n",
    "%config MicroPythonMagic.loglevel = \"WARNING\""
   ]
  },
  {
   "cell_type": "code",
   "execution_count": 9,
   "metadata": {},
   "outputs": [
    {
     "name": "stdout",
     "output_type": "stream",
     "text": [
      "\u001b[1mINFO    \u001b[0m | \u001b[1mLog level set to LogLevel.DEBUG\u001b[0m\n"
     ]
    }
   ],
   "source": [
    "%config MicroPythonMagic.loglevel = \"INFO\"\n",
    "%config MicroPythonMagic.loglevel = \"DEBUG\"\n"
   ]
  },
  {
   "cell_type": "code",
   "execution_count": 10,
   "metadata": {},
   "outputs": [
    {
     "name": "stdout",
     "output_type": "stream",
     "text": [
      "\u001b[1mINFO    \u001b[0m | \u001b[36moctarine\u001b[0m:\u001b[36m_loglevel_changed\u001b[0m:\u001b[36m53\u001b[0m | {} | \u001b[1mLog level set to LogLevel.INFO\u001b[0m\n",
      "\u001b[1mINFO    \u001b[0m | \u001b[1mLog level set to LogLevel.TRACE\u001b[0m\n"
     ]
    }
   ],
   "source": [
    "%config MicroPythonMagic.loglevel = \"INFO\"\n",
    "%config MicroPythonMagic.loglevel = \"TRACE\""
   ]
  }
 ],
 "metadata": {
  "kernelspec": {
   "display_name": ".venv",
   "language": "python",
   "name": "python3"
  },
  "language_info": {
   "codemirror_mode": {
    "name": "ipython",
    "version": 3
   },
   "file_extension": ".py",
   "mimetype": "text/x-python",
   "name": "python",
   "nbconvert_exporter": "python",
   "pygments_lexer": "ipython3",
   "version": "3.11.7"
  }
 },
 "nbformat": 4,
 "nbformat_minor": 2
}
