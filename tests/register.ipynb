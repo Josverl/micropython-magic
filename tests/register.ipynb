{
    "cells": [
        {
            "attachments": {},
            "cell_type": "markdown",
            "metadata": {
                "notebookRunGroups": {
                    "groupValue": "21"
                }
            },
            "source": [
                "### Notebook to test basic functionality of the MicroPython magics\n"
            ]
        },
        {
            "cell_type": "code",
            "execution_count": 1,
            "metadata": {
                "notebookRunGroups": {
                    "groupValue": "1"
                },
                "tags": [
                    "load_magic"
                ]
            },
            "outputs": [
                {
                    "name": "stdout",
                    "output_type": "stream",
                    "text": [
                        "The micropython_magic extension is already loaded. To reload it, use:\n",
                        "  %reload_ext micropython_magic\n"
                    ]
                }
            ],
            "source": [
                "%load_ext micropython_magic"
            ]
        },
        {
            "cell_type": "code",
            "execution_count": 2,
            "metadata": {
                "notebookRunGroups": {
                    "groupValue": "2"
                },
                "tags": []
            },
            "outputs": [],
            "source": [
                "# check to see if all of the expectect magics is registered\n",
                "mx = %lsmagic"
            ]
        },
        {
            "cell_type": "code",
            "execution_count": 3,
            "metadata": {},
            "outputs": [
                {
                    "data": {
                        "text/plain": [
                            "('MpyMagics', 'Other')"
                        ]
                    },
                    "execution_count": 3,
                    "metadata": {},
                    "output_type": "execute_result"
                }
            ],
            "source": [
                "# cell magics\n",
                "(\n",
                "mx._repr_json_()['cell']['mpy'],\n",
                "mx._repr_json_()['cell']['micropython'], # alias\n",
                ")"
            ]
        },
        {
            "cell_type": "code",
            "execution_count": 4,
            "metadata": {},
            "outputs": [
                {
                    "data": {
                        "text/plain": [
                            "('MpyMagics', 'Other', 'MpyMagics', 'MpyMagics', 'MpyMagics')"
                        ]
                    },
                    "execution_count": 4,
                    "metadata": {},
                    "output_type": "execute_result"
                }
            ],
            "source": [
                "# line magics\n",
                "(\n",
                "mx._repr_json_()['line']['mpy'],\n",
                "mx._repr_json_()['line']['micropython'], # alias\n",
                "mx._repr_json_()['line']['mpremote'],\n",
                "mx._repr_json_()['line']['eval'],\n",
                "mx._repr_json_()['line']['select'],\n",
                ")"
            ]
        }
    ],
    "metadata": {
        "kernelspec": {
            "display_name": "Python 3 (ipykernel)",
            "language": "python",
            "name": "python3"
        },
        "language_info": {
            "codemirror_mode": {
                "name": "ipython",
                "version": 3
            },
            "file_extension": ".py",
            "mimetype": "text/x-python",
            "name": "python",
            "nbconvert_exporter": "python",
            "pygments_lexer": "ipython3",
            "version": "3.11.0"
        }
    },
    "nbformat": 4,
    "nbformat_minor": 4
}
