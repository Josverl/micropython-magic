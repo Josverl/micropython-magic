{
 "cells": [
  {
   "cell_type": "code",
   "execution_count": 1,
   "metadata": {},
   "outputs": [
    {
     "name": "stdout",
     "output_type": "stream",
     "text": [
      "{'cell': {'!': 'OSMagics',\n",
      "          'HTML': 'Other',\n",
      "          'SVG': 'Other',\n",
      "          'bash': 'Other',\n",
      "          'capture': 'ExecutionMagics',\n",
      "          'cmd': 'Other',\n",
      "          'debug': 'ExecutionMagics',\n",
      "          'file': 'Other',\n",
      "          'html': 'DisplayMagics',\n",
      "          'javascript': 'DisplayMagics',\n",
      "          'js': 'DisplayMagics',\n",
      "          'latex': 'DisplayMagics',\n",
      "          'markdown': 'DisplayMagics',\n",
      "          'micropython': 'MpyMagics',\n",
      "          'mpy': 'MpyMagics',\n",
      "          'perl': 'Other',\n",
      "          'prun': 'ExecutionMagics',\n",
      "          'pypy': 'Other',\n",
      "          'python': 'Other',\n",
      "          'python2': 'Other',\n",
      "          'python3': 'Other',\n",
      "          'ruby': 'Other',\n",
      "          'script': 'ScriptMagics',\n",
      "          'sh': 'Other',\n",
      "          'svg': 'DisplayMagics',\n",
      "          'sx': 'OSMagics',\n",
      "          'system': 'OSMagics',\n",
      "          'time': 'ExecutionMagics',\n",
      "          'timeit': 'ExecutionMagics',\n",
      "          'writefile': 'OSMagics'},\n",
      " 'line': {'alias': 'OSMagics',\n",
      "          'alias_magic': 'BasicMagics',\n",
      "          'autoawait': 'AsyncMagics',\n",
      "          'autocall': 'AutoMagics',\n",
      "          'automagic': 'AutoMagics',\n",
      "          'autosave': 'KernelMagics',\n",
      "          'bookmark': 'OSMagics',\n",
      "          'cd': 'OSMagics',\n",
      "          'clear': 'KernelMagics',\n",
      "          'cls': 'KernelMagics',\n",
      "          'colors': 'BasicMagics',\n",
      "          'conda': 'PackagingMagics',\n",
      "          'config': 'ConfigMagics',\n",
      "          'connect_info': 'KernelMagics',\n",
      "          'copy': 'Other',\n",
      "          'ddir': 'Other',\n",
      "          'debug': 'ExecutionMagics',\n",
      "          'dhist': 'OSMagics',\n",
      "          'dirs': 'OSMagics',\n",
      "          'doctest_mode': 'BasicMagics',\n",
      "          'echo': 'Other',\n",
      "          'ed': 'Other',\n",
      "          'edit': 'KernelMagics',\n",
      "          'env': 'OSMagics',\n",
      "          'gui': 'BasicMagics',\n",
      "          'hist': 'Other',\n",
      "          'history': 'HistoryMagics',\n",
      "          'killbgscripts': 'ScriptMagics',\n",
      "          'ldir': 'Other',\n",
      "          'less': 'KernelMagics',\n",
      "          'load': 'CodeMagics',\n",
      "          'load_ext': 'ExtensionMagics',\n",
      "          'loadpy': 'CodeMagics',\n",
      "          'logoff': 'LoggingMagics',\n",
      "          'logon': 'LoggingMagics',\n",
      "          'logstart': 'LoggingMagics',\n",
      "          'logstate': 'LoggingMagics',\n",
      "          'logstop': 'LoggingMagics',\n",
      "          'ls': 'Other',\n",
      "          'lsmagic': 'BasicMagics',\n",
      "          'macro': 'ExecutionMagics',\n",
      "          'magic': 'BasicMagics',\n",
      "          'matplotlib': 'PylabMagics',\n",
      "          'micropython': 'MpyMagics',\n",
      "          'mkdir': 'Other',\n",
      "          'more': 'KernelMagics',\n",
      "          'mpy': 'MpyMagics',\n",
      "          'notebook': 'BasicMagics',\n",
      "          'page': 'BasicMagics',\n",
      "          'pastebin': 'CodeMagics',\n",
      "          'pdb': 'ExecutionMagics',\n",
      "          'pdef': 'NamespaceMagics',\n",
      "          'pdoc': 'NamespaceMagics',\n",
      "          'pfile': 'NamespaceMagics',\n",
      "          'pinfo': 'NamespaceMagics',\n",
      "          'pinfo2': 'NamespaceMagics',\n",
      "          'pip': 'PackagingMagics',\n",
      "          'popd': 'OSMagics',\n",
      "          'pprint': 'BasicMagics',\n",
      "          'precision': 'BasicMagics',\n",
      "          'prun': 'ExecutionMagics',\n",
      "          'psearch': 'NamespaceMagics',\n",
      "          'psource': 'NamespaceMagics',\n",
      "          'pushd': 'OSMagics',\n",
      "          'pwd': 'OSMagics',\n",
      "          'pycat': 'OSMagics',\n",
      "          'pylab': 'PylabMagics',\n",
      "          'qtconsole': 'KernelMagics',\n",
      "          'quickref': 'BasicMagics',\n",
      "          'recall': 'HistoryMagics',\n",
      "          'rehashx': 'OSMagics',\n",
      "          'reload_ext': 'ExtensionMagics',\n",
      "          'ren': 'Other',\n",
      "          'rep': 'Other',\n",
      "          'rerun': 'HistoryMagics',\n",
      "          'reset': 'NamespaceMagics',\n",
      "          'reset_selective': 'NamespaceMagics',\n",
      "          'rmdir': 'Other',\n",
      "          'run': 'ExecutionMagics',\n",
      "          'save': 'CodeMagics',\n",
      "          'sc': 'OSMagics',\n",
      "          'set_env': 'OSMagics',\n",
      "          'store': 'StoreMagics',\n",
      "          'sx': 'OSMagics',\n",
      "          'system': 'OSMagics',\n",
      "          'tb': 'ExecutionMagics',\n",
      "          'time': 'ExecutionMagics',\n",
      "          'timeit': 'ExecutionMagics',\n",
      "          'unalias': 'OSMagics',\n",
      "          'unload_ext': 'ExtensionMagics',\n",
      "          'who': 'NamespaceMagics',\n",
      "          'who_ls': 'NamespaceMagics',\n",
      "          'whos': 'NamespaceMagics',\n",
      "          'xdel': 'NamespaceMagics',\n",
      "          'xmode': 'BasicMagics'}}\n"
     ]
    }
   ],
   "source": [
    "import pprint\n",
    "mx = %lsmagic\n",
    "pprint.pprint(mx._repr_json_())"
   ]
  },
  {
   "cell_type": "code",
   "execution_count": 2,
   "metadata": {},
   "outputs": [
    {
     "data": {
      "text/plain": [
       "[]"
      ]
     },
     "execution_count": 2,
     "metadata": {},
     "output_type": "execute_result"
    }
   ],
   "source": [
    "%mpy foo = 'persistent'"
   ]
  },
  {
   "cell_type": "code",
   "execution_count": 5,
   "metadata": {},
   "outputs": [
    {
     "data": {
      "text/plain": [
       "'persistent'"
      ]
     },
     "execution_count": 5,
     "metadata": {},
     "output_type": "execute_result"
    }
   ],
   "source": [
    "# expect foo to exist as the MCU should not be reset between cells\n",
    "%mpy --eval foo"
   ]
  },
  {
   "cell_type": "code",
   "execution_count": 6,
   "metadata": {},
   "outputs": [],
   "source": [
    "assert \"persistent\" in str(_)"
   ]
  },
  {
   "cell_type": "code",
   "execution_count": 7,
   "metadata": {},
   "outputs": [
    {
     "name": "stdout",
     "output_type": "stream",
     "text": [
      "True\n"
     ]
    }
   ],
   "source": [
    "%mpy --reset"
   ]
  },
  {
   "cell_type": "code",
   "execution_count": 8,
   "metadata": {},
   "outputs": [
    {
     "name": "stdout",
     "output_type": "stream",
     "text": [
      "\u001b[31m\u001b[1mERROR   \u001b[0m | \u001b[36mmicropython_magic.interactive\u001b[0m:\u001b[36mipython_run\u001b[0m:\u001b[36m97\u001b[0m - \u001b[31m\u001b[1mNameError: name 'foo' isn't defined\n",
      "\u001b[0m\n"
     ]
    },
    {
     "ename": "MCUException",
     "evalue": "NameError: name 'foo' isn't defined",
     "output_type": "error",
     "traceback": [
      "\u001b[1;31m---------------------------------------------------------------------------\u001b[0m",
      "\u001b[1;31mNameError\u001b[0m                                 Traceback (most recent call last)",
      "\u001b[1;31mNameError\u001b[0m: ",
      "\nThe above exception was the direct cause of the following exception:\n",
      "\u001b[1;31mMCUException\u001b[0m                              Traceback (most recent call last)",
      "Cell \u001b[1;32mIn[8], line 2\u001b[0m\n\u001b[0;32m      1\u001b[0m \u001b[39m# Expect to raise error as foo is no longer defined after reset\u001b[39;00m\n\u001b[1;32m----> 2\u001b[0m get_ipython()\u001b[39m.\u001b[39;49mrun_line_magic(\u001b[39m'\u001b[39;49m\u001b[39mmpy\u001b[39;49m\u001b[39m'\u001b[39;49m, \u001b[39m'\u001b[39;49m\u001b[39m--eval foo\u001b[39;49m\u001b[39m'\u001b[39;49m)\n",
      "File \u001b[1;32mc:\\develop\\MyPython\\micropython-magic\\.venv\\Lib\\site-packages\\IPython\\core\\interactiveshell.py:2414\u001b[0m, in \u001b[0;36mInteractiveShell.run_line_magic\u001b[1;34m(self, magic_name, line, _stack_depth)\u001b[0m\n\u001b[0;32m   2412\u001b[0m     kwargs[\u001b[39m'\u001b[39m\u001b[39mlocal_ns\u001b[39m\u001b[39m'\u001b[39m] \u001b[39m=\u001b[39m \u001b[39mself\u001b[39m\u001b[39m.\u001b[39mget_local_scope(stack_depth)\n\u001b[0;32m   2413\u001b[0m \u001b[39mwith\u001b[39;00m \u001b[39mself\u001b[39m\u001b[39m.\u001b[39mbuiltin_trap:\n\u001b[1;32m-> 2414\u001b[0m     result \u001b[39m=\u001b[39m fn(\u001b[39m*\u001b[39;49margs, \u001b[39m*\u001b[39;49m\u001b[39m*\u001b[39;49mkwargs)\n\u001b[0;32m   2416\u001b[0m \u001b[39m# The code below prevents the output from being displayed\u001b[39;00m\n\u001b[0;32m   2417\u001b[0m \u001b[39m# when using magics with decodator @output_can_be_silenced\u001b[39;00m\n\u001b[0;32m   2418\u001b[0m \u001b[39m# when the last Python token in the expression is a ';'.\u001b[39;00m\n\u001b[0;32m   2419\u001b[0m \u001b[39mif\u001b[39;00m \u001b[39mgetattr\u001b[39m(fn, magic\u001b[39m.\u001b[39mMAGIC_OUTPUT_CAN_BE_SILENCED, \u001b[39mFalse\u001b[39;00m):\n",
      "File \u001b[1;32mC:\\develop\\MyPython\\micropython-magic\\src\\micropython_magic\\octarine.py:245\u001b[0m, in \u001b[0;36mMpyMagics.mpy_line\u001b[1;34m(self, line)\u001b[0m\n\u001b[0;32m    243\u001b[0m         \u001b[39mreturn\u001b[39;00m r\n\u001b[0;32m    244\u001b[0m \u001b[39melif\u001b[39;00m args\u001b[39m.\u001b[39meval:\n\u001b[1;32m--> 245\u001b[0m     \u001b[39mreturn\u001b[39;00m \u001b[39mself\u001b[39;49m\u001b[39m.\u001b[39;49meval(args\u001b[39m.\u001b[39;49meval)\n\u001b[0;32m    247\u001b[0m \u001b[39melif\u001b[39;00m args\u001b[39m.\u001b[39mstatement:\n\u001b[0;32m    248\u001b[0m     \u001b[39m# Assemble the command to run\u001b[39;00m\n\u001b[0;32m    249\u001b[0m     statement \u001b[39m=\u001b[39m \u001b[39m\"\u001b[39m\u001b[39m\\n\u001b[39;00m\u001b[39m\"\u001b[39m\u001b[39m.\u001b[39mjoin(args\u001b[39m.\u001b[39mstatement)\n",
      "File \u001b[1;32mC:\\develop\\MyPython\\micropython-magic\\src\\micropython_magic\\octarine.py:300\u001b[0m, in \u001b[0;36mMpyMagics.eval\u001b[1;34m(self, line)\u001b[0m\n\u001b[0;32m    297\u001b[0m \u001b[39mfor\u001b[39;00m ln \u001b[39min\u001b[39;00m output\u001b[39m.\u001b[39ml:\n\u001b[0;32m    298\u001b[0m     \u001b[39m# check for errors and raise them\u001b[39;00m\n\u001b[0;32m    299\u001b[0m     \u001b[39mif\u001b[39;00m \u001b[39many\u001b[39m(re\u001b[39m.\u001b[39mmatch(m, ln) \u001b[39mfor\u001b[39;00m m \u001b[39min\u001b[39;00m matchers):\n\u001b[1;32m--> 300\u001b[0m         \u001b[39mraise\u001b[39;00m MCUException(ln) \u001b[39mfrom\u001b[39;00m \u001b[39meval\u001b[39;00m(ln\u001b[39m.\u001b[39msplit(\u001b[39m\"\u001b[39m\u001b[39m:\u001b[39m\u001b[39m\"\u001b[39m)[\u001b[39m0\u001b[39m])\n\u001b[0;32m    301\u001b[0m     \u001b[39m# check for json output and try to convert it\u001b[39;00m\n\u001b[0;32m    302\u001b[0m     \u001b[39mif\u001b[39;00m ln\u001b[39m.\u001b[39mstartswith(JSON_START) \u001b[39mand\u001b[39;00m ln\u001b[39m.\u001b[39mendswith(JSON_END):\n",
      "\u001b[1;31mMCUException\u001b[0m: NameError: name 'foo' isn't defined"
     ]
    }
   ],
   "source": [
    "# Expect to raise error as foo is no longer defined after reset\n",
    "%mpy --eval foo"
   ]
  },
  {
   "cell_type": "code",
   "execution_count": 9,
   "metadata": {},
   "outputs": [],
   "source": [
    "assert \"'foo' isn't defined\" in str(_)"
   ]
  }
 ],
 "metadata": {
  "kernelspec": {
   "display_name": ".venv",
   "language": "python",
   "name": "python3"
  },
  "language_info": {
   "codemirror_mode": {
    "name": "ipython",
    "version": 3
   },
   "file_extension": ".py",
   "mimetype": "text/x-python",
   "name": "python",
   "nbconvert_exporter": "python",
   "pygments_lexer": "ipython3",
   "version": "3.11.4"
  },
  "orig_nbformat": 4
 },
 "nbformat": 4,
 "nbformat_minor": 2
}
