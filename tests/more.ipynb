{
 "cells": [
  {
   "cell_type": "code",
   "execution_count": 4,
   "metadata": {},
   "outputs": [
    {
     "name": "stdout",
     "output_type": "stream",
     "text": [
      "{'cell': {'!': 'OSMagics',\n",
      "          'HTML': 'Other',\n",
      "          'SVG': 'Other',\n",
      "          'bash': 'Other',\n",
      "          'capture': 'ExecutionMagics',\n",
      "          'cmd': 'Other',\n",
      "          'debug': 'ExecutionMagics',\n",
      "          'file': 'Other',\n",
      "          'html': 'DisplayMagics',\n",
      "          'javascript': 'DisplayMagics',\n",
      "          'js': 'DisplayMagics',\n",
      "          'latex': 'DisplayMagics',\n",
      "          'markdown': 'DisplayMagics',\n",
      "          'micropython': 'Other',\n",
      "          'mpy': 'MpyMagics',\n",
      "          'perl': 'Other',\n",
      "          'prun': 'ExecutionMagics',\n",
      "          'pypy': 'Other',\n",
      "          'python': 'Other',\n",
      "          'python2': 'Other',\n",
      "          'python3': 'Other',\n",
      "          'ruby': 'Other',\n",
      "          'script': 'ScriptMagics',\n",
      "          'sh': 'Other',\n",
      "          'svg': 'DisplayMagics',\n",
      "          'sx': 'OSMagics',\n",
      "          'system': 'OSMagics',\n",
      "          'time': 'ExecutionMagics',\n",
      "          'timeit': 'ExecutionMagics',\n",
      "          'writefile': 'OSMagics'},\n",
      " 'line': {'alias': 'OSMagics',\n",
      "          'alias_magic': 'BasicMagics',\n",
      "          'autoawait': 'AsyncMagics',\n",
      "          'autocall': 'AutoMagics',\n",
      "          'automagic': 'AutoMagics',\n",
      "          'autosave': 'KernelMagics',\n",
      "          'bookmark': 'OSMagics',\n",
      "          'cd': 'OSMagics',\n",
      "          'clear': 'KernelMagics',\n",
      "          'cls': 'KernelMagics',\n",
      "          'colors': 'BasicMagics',\n",
      "          'conda': 'PackagingMagics',\n",
      "          'config': 'ConfigMagics',\n",
      "          'connect_info': 'KernelMagics',\n",
      "          'copy': 'Other',\n",
      "          'ddir': 'Other',\n",
      "          'debug': 'ExecutionMagics',\n",
      "          'dhist': 'OSMagics',\n",
      "          'dirs': 'OSMagics',\n",
      "          'doctest_mode': 'BasicMagics',\n",
      "          'echo': 'Other',\n",
      "          'ed': 'Other',\n",
      "          'edit': 'KernelMagics',\n",
      "          'env': 'OSMagics',\n",
      "          'eval': 'MpyMagics',\n",
      "          'gui': 'BasicMagics',\n",
      "          'hist': 'Other',\n",
      "          'history': 'HistoryMagics',\n",
      "          'killbgscripts': 'ScriptMagics',\n",
      "          'ldir': 'Other',\n",
      "          'less': 'KernelMagics',\n",
      "          'list_devices': 'MpyMagics',\n",
      "          'load': 'CodeMagics',\n",
      "          'load_ext': 'ExtensionMagics',\n",
      "          'loadpy': 'CodeMagics',\n",
      "          'logoff': 'LoggingMagics',\n",
      "          'logon': 'LoggingMagics',\n",
      "          'logstart': 'LoggingMagics',\n",
      "          'logstate': 'LoggingMagics',\n",
      "          'logstop': 'LoggingMagics',\n",
      "          'ls': 'Other',\n",
      "          'lsmagic': 'BasicMagics',\n",
      "          'macro': 'ExecutionMagics',\n",
      "          'magic': 'BasicMagics',\n",
      "          'matplotlib': 'PylabMagics',\n",
      "          'micropython': 'Other',\n",
      "          'mkdir': 'Other',\n",
      "          'more': 'KernelMagics',\n",
      "          'mpremote': 'MpyMagics',\n",
      "          'mpy': 'MpyMagics',\n",
      "          'notebook': 'BasicMagics',\n",
      "          'page': 'BasicMagics',\n",
      "          'pastebin': 'CodeMagics',\n",
      "          'pdb': 'ExecutionMagics',\n",
      "          'pdef': 'NamespaceMagics',\n",
      "          'pdoc': 'NamespaceMagics',\n",
      "          'pfile': 'NamespaceMagics',\n",
      "          'pinfo': 'NamespaceMagics',\n",
      "          'pinfo2': 'NamespaceMagics',\n",
      "          'pip': 'PackagingMagics',\n",
      "          'popd': 'OSMagics',\n",
      "          'pprint': 'BasicMagics',\n",
      "          'precision': 'BasicMagics',\n",
      "          'prun': 'ExecutionMagics',\n",
      "          'psearch': 'NamespaceMagics',\n",
      "          'psource': 'NamespaceMagics',\n",
      "          'pushd': 'OSMagics',\n",
      "          'pwd': 'OSMagics',\n",
      "          'pycat': 'OSMagics',\n",
      "          'pylab': 'PylabMagics',\n",
      "          'qtconsole': 'KernelMagics',\n",
      "          'quickref': 'BasicMagics',\n",
      "          'recall': 'HistoryMagics',\n",
      "          'rehashx': 'OSMagics',\n",
      "          'reload_ext': 'ExtensionMagics',\n",
      "          'ren': 'Other',\n",
      "          'rep': 'Other',\n",
      "          'rerun': 'HistoryMagics',\n",
      "          'reset': 'NamespaceMagics',\n",
      "          'reset_selective': 'NamespaceMagics',\n",
      "          'rmdir': 'Other',\n",
      "          'run': 'ExecutionMagics',\n",
      "          'save': 'CodeMagics',\n",
      "          'sc': 'OSMagics',\n",
      "          'select': 'MpyMagics',\n",
      "          'set_env': 'OSMagics',\n",
      "          'store': 'StoreMagics',\n",
      "          'sx': 'OSMagics',\n",
      "          'system': 'OSMagics',\n",
      "          'tb': 'ExecutionMagics',\n",
      "          'time': 'ExecutionMagics',\n",
      "          'timeit': 'ExecutionMagics',\n",
      "          'unalias': 'OSMagics',\n",
      "          'unload_ext': 'ExtensionMagics',\n",
      "          'who': 'NamespaceMagics',\n",
      "          'who_ls': 'NamespaceMagics',\n",
      "          'whos': 'NamespaceMagics',\n",
      "          'xdel': 'NamespaceMagics',\n",
      "          'xmode': 'BasicMagics'}}\n"
     ]
    }
   ],
   "source": [
    "import pprint\n",
    "mx = %lsmagic\n",
    "pprint.pprint(mx._repr_json_())"
   ]
  },
  {
   "cell_type": "code",
   "execution_count": 24,
   "metadata": {},
   "outputs": [
    {
     "data": {
      "text/plain": []
     },
     "execution_count": 24,
     "metadata": {},
     "output_type": "execute_result"
    }
   ],
   "source": [
    "%mpy foo = 'persistent'"
   ]
  },
  {
   "cell_type": "code",
   "execution_count": 25,
   "metadata": {},
   "outputs": [
    {
     "data": {
      "text/plain": [
       "'persistent'"
      ]
     },
     "execution_count": 25,
     "metadata": {},
     "output_type": "execute_result"
    }
   ],
   "source": [
    "# expect foo to exist as the MCU should not be reset between cells\n",
    "%eval foo"
   ]
  },
  {
   "cell_type": "code",
   "execution_count": 26,
   "metadata": {},
   "outputs": [],
   "source": [
    "assert \"persistent\" in str(_)"
   ]
  },
  {
   "cell_type": "code",
   "execution_count": 27,
   "metadata": {},
   "outputs": [
    {
     "data": {
      "text/plain": [
       "'True'"
      ]
     },
     "execution_count": 27,
     "metadata": {},
     "output_type": "execute_result"
    }
   ],
   "source": [
    "%reset"
   ]
  },
  {
   "cell_type": "code",
   "execution_count": 28,
   "metadata": {},
   "outputs": [
    {
     "data": {
      "text/plain": [
       "'Traceback (most recent call last):\\n  File \"<stdin>\", line 1, in <module>\\nNameError: name \\'foo\\' isn\\'t defined'"
      ]
     },
     "execution_count": 28,
     "metadata": {},
     "output_type": "execute_result"
    }
   ],
   "source": [
    "# Expect to raise error as foo is no longer defined after reset\n",
    "%eval foo"
   ]
  },
  {
   "cell_type": "code",
   "execution_count": 29,
   "metadata": {},
   "outputs": [],
   "source": [
    "assert \"'foo' isn't defined\" in str(_)"
   ]
  }
 ],
 "metadata": {
  "kernelspec": {
   "display_name": ".venv",
   "language": "python",
   "name": "python3"
  },
  "language_info": {
   "codemirror_mode": {
    "name": "ipython",
    "version": 3
   },
   "file_extension": ".py",
   "mimetype": "text/x-python",
   "name": "python",
   "nbconvert_exporter": "python",
   "pygments_lexer": "ipython3",
   "version": "3.11.0"
  },
  "orig_nbformat": 4
 },
 "nbformat": 4,
 "nbformat_minor": 2
}
