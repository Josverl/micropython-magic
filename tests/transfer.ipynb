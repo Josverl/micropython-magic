{
 "cells": [
  {
   "attachments": {},
   "cell_type": "markdown",
   "metadata": {},
   "source": [
    "## Test the data transfer and exchange from the MCU to the local python kernel"
   ]
  },
  {
   "cell_type": "code",
   "execution_count": 4,
   "metadata": {},
   "outputs": [
    {
     "name": "stdout",
     "output_type": "stream",
     "text": [
      "The micropython_magic extension is already loaded. To reload it, use:\n",
      "  %reload_ext micropython_magic\n"
     ]
    }
   ],
   "source": [
    "# load the magics and start with an empty list of measurements\n",
    "%load_ext micropython_magic"
   ]
  },
  {
   "cell_type": "code",
   "execution_count": 5,
   "metadata": {},
   "outputs": [
    {
     "data": {
      "application/json": "",
      "text/plain": [
       "[]"
      ]
     },
     "execution_count": 5,
     "metadata": {},
     "output_type": "execute_result"
    }
   ],
   "source": [
    "%%micropython\n",
    "\n",
    "def foo_int():\n",
    "    return 41\n",
    "\n",
    "def foo_float():\n",
    "    return 4.2\n",
    "\n",
    "def foo_tuple():\n",
    "    return (4,3)\n",
    "\n",
    "def foo_str():\n",
    "    return \"44\"\n",
    "\n",
    "def foo_list():\n",
    "    return [\"45\", \"46\"]\n",
    "\n",
    "def foo_dict():\n",
    "    return {\"47\": \"48\"}\n",
    "\n",
    "def foo_bool():\n",
    "    return True\n",
    "\n",
    "def foo_none():\n",
    "    return None\n",
    "\n",
    "def foo_bytes():\n",
    "    return b\"51\"\n",
    "\n",
    "def foo_bytearray():\n",
    "    return bytearray(b\"52\")\n",
    "\n",
    "def foo_complex():\n",
    "    return 54 + 55j\n",
    "\n",
    "def foo_range():\n",
    "    return range(10)\n",
    "\n",
    "\n",
    "def foo_frozenset():\n",
    "    return frozenset([\"56\", \"57\"])\n",
    "\n",
    "def foo_set():    \n",
    "    return {\"49\", \"50\"}\n",
    "\n"
   ]
  },
  {
   "cell_type": "code",
   "execution_count": 6,
   "metadata": {},
   "outputs": [
    {
     "name": "stdout",
     "output_type": "stream",
     "text": [
      "None <class 'NoneType'>\n"
     ]
    }
   ],
   "source": [
    "from types import NoneType\n",
    "\n",
    "\n",
    "i = %mpy --eval foo_none()\n",
    "print(i , type(i))\n",
    "assert isinstance(i, NoneType)\n"
   ]
  },
  {
   "cell_type": "code",
   "execution_count": 7,
   "metadata": {},
   "outputs": [
    {
     "name": "stdout",
     "output_type": "stream",
     "text": [
      "frozenset({'56', '57'}) <class 'frozenset'>\n"
     ]
    }
   ],
   "source": [
    "# %%timeit -n 100 -r 3\n",
    "i = %mpy --eval foo_frozenset()\n",
    "print(i , type(i))\n",
    "assert isinstance(i, frozenset) \n"
   ]
  },
  {
   "cell_type": "code",
   "execution_count": 8,
   "metadata": {},
   "outputs": [
    {
     "name": "stdout",
     "output_type": "stream",
     "text": [
      "41 <class 'int'>\n",
      "4.2 <class 'float'>\n",
      "44 <class 'str'>\n",
      "True <class 'bool'>\n",
      "51 <class 'str'>\n",
      "bytearray(b'52') <class 'bytearray'>\n",
      "(54+55j) <class 'complex'>\n",
      "[4, 3] <class 'list'>\n",
      "['45', '46'] <class 'list'>\n",
      "range(0, 10) <class 'range'>\n",
      "frozenset({'56', '57'}) <class 'frozenset'>\n",
      "{'49', '50'} <class 'set'>\n"
     ]
    }
   ],
   "source": [
    "i = %mpy --eval foo_int()\n",
    "print(i , type(i))\n",
    "assert isinstance(i, int)\n",
    "\n",
    "i = %mpy --eval foo_float()\n",
    "print(i , type(i))\n",
    "assert isinstance(i, float)\n",
    "\n",
    "i = %mpy --eval foo_str()\n",
    "print(i , type(i))\n",
    "assert isinstance(i, str)\n",
    "from types import NoneType\n",
    "\n",
    "i = %mpy --eval foo_bool()\n",
    "print(i , type(i))\n",
    "assert isinstance(i, bool)\n",
    "\n",
    "i = %mpy --eval foo_bytes()\n",
    "print(i , type(i))\n",
    "assert isinstance(i, (bytes, str)) # bytes roundtripped via json is a string\n",
    "\n",
    "i = %mpy --eval foo_bytearray()\n",
    "print(i , type(i))\n",
    "assert isinstance(i, bytearray)\n",
    "\n",
    "i = %mpy --eval foo_complex()\n",
    "print(i , type(i))\n",
    "assert isinstance(i, complex)\n",
    "\n",
    "i = %mpy --eval foo_tuple()\n",
    "print(i , type(i))\n",
    "assert isinstance(i, (tuple, list)) # tuple roundtripped via json is a list\n",
    "\n",
    "i = %mpy --eval foo_list()\n",
    "print(i , type(i))\n",
    "assert isinstance(i, list) \n",
    "\n",
    "i = %mpy --eval foo_range()\n",
    "print(i , type(i))\n",
    "assert isinstance(i, range)\n",
    "\n",
    "i = %mpy --eval foo_frozenset() \n",
    "print(i , type(i))\n",
    "assert isinstance(i, frozenset) # needs special handling\n",
    "\n",
    "i = %mpy --eval foo_set()\n",
    "print(i , type(i))\n",
    "assert isinstance(i, (set, list)) # needs special handling\n"
   ]
  }
 ],
 "metadata": {
  "kernelspec": {
   "display_name": ".venv",
   "language": "python",
   "name": "python3"
  },
  "language_info": {
   "codemirror_mode": {
    "name": "ipython",
    "version": 3
   },
   "file_extension": ".py",
   "mimetype": "text/x-python",
   "name": "python",
   "nbconvert_exporter": "python",
   "pygments_lexer": "ipython3",
   "version": "3.11.0"
  },
  "orig_nbformat": 4
 },
 "nbformat": 4,
 "nbformat_minor": 2
}
