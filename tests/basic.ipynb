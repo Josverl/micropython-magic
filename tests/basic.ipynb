{
    "cells": [
        {
            "attachments": {},
            "cell_type": "markdown",
            "metadata": {
                "notebookRunGroups": {
                    "groupValue": "21"
                }
            },
            "source": [
                "### Notebook to test basic functionality of the MicroPython magics\n"
            ]
        },
        {
            "cell_type": "code",
            "execution_count": 1,
            "metadata": {},
            "outputs": [],
            "source": [
                "# %pip install git+https://github.com/josverl/micropython-magic\n",
                "# %pip install -U bqplot, numpy"
            ]
        },
        {
            "cell_type": "code",
            "execution_count": 2,
            "metadata": {
                "notebookRunGroups": {
                    "groupValue": "1"
                },
                "tags": [
                    "load_magic"
                ]
            },
            "outputs": [
                {
                    "name": "stdout",
                    "output_type": "stream",
                    "text": [
                        "The micropython_magic extension is already loaded. To reload it, use:\n",
                        "  %reload_ext micropython_magic\n"
                    ]
                }
            ],
            "source": [
                "%load_ext micropython_magic\n",
                "%reload_ext micropython_magic"
            ]
        },
        {
            "cell_type": "code",
            "execution_count": 3,
            "metadata": {
                "notebookRunGroups": {
                    "groupValue": "2"
                },
                "tags": []
            },
            "outputs": [
                {
                    "data": {
                        "text/plain": [
                            "['COM3 E46024C7434C552A 2e8a:1003 Microsoft None']"
                        ]
                    },
                    "execution_count": 3,
                    "metadata": {},
                    "output_type": "execute_result"
                }
            ],
            "source": [
                "%mpy --select auto\n",
                "%mpy --list"
            ]
        },
        {
            "cell_type": "code",
            "execution_count": 4,
            "metadata": {},
            "outputs": [
                {
                    "name": "stdout",
                    "output_type": "stream",
                    "text": [
                        "(sysname='rp2', nodename='rp2', release='1.20.0', version='v1.20.0 on 2023-04-26 (GNU 12.1.0 MinSizeRel)', machine='Pimoroni Pico LiPo 16MB with RP2040')\n",
                        "hello from rp2\n"
                    ]
                }
            ],
            "source": [
                "%%micropython\n",
                "import os\n",
                "print(os.uname())\n",
                "print(\"hello from\", os.uname().sysname)\n"
            ]
        },
        {
            "cell_type": "code",
            "execution_count": 5,
            "metadata": {},
            "outputs": [
                {
                    "data": {
                        "text/plain": [
                            "['COM3']"
                        ]
                    },
                    "execution_count": 5,
                    "metadata": {},
                    "output_type": "execute_result"
                }
            ],
            "source": [
                "# connect to the last device in the list\n",
                "devices = %mpy --list\n",
                "# # use jupyter Slist to select only the first column\n",
                "ports = devices.fields(0)\n",
                "ports\n"
            ]
        },
        {
            "cell_type": "code",
            "execution_count": 6,
            "metadata": {},
            "outputs": [
                {
                    "name": "stdout",
                    "output_type": "stream",
                    "text": [
                        "['AWG_v1.py', '__magic.py', 'blink.py', 'blink_neo.py', 'boot.py', 'cool.py', 'dmx_pio.py', 'exec.py', 'feed.py', 'foo.py', 'lib', 'main.py', 'pio_1hz.py', 'pymakr.conf', 'send.py', 'typing.py']\n",
                        "(sysname='rp2', nodename='rp2', release='1.20.0', version='v1.20.0 on 2023-04-26 (GNU 12.1.0 MinSizeRel)', machine='Pimoroni Pico LiPo 16MB with RP2040')\n"
                    ]
                }
            ],
            "source": [
                "%%micropython\n",
                "import os\n",
                "print(os.listdir('.'))\n",
                "print(os.uname())\n"
            ]
        },
        {
            "cell_type": "code",
            "execution_count": 7,
            "metadata": {},
            "outputs": [
                {
                    "data": {
                        "text/plain": [
                            "14"
                        ]
                    },
                    "execution_count": 7,
                    "metadata": {},
                    "output_type": "execute_result"
                }
            ],
            "source": [
                "%mpy --eval 3+11 "
            ]
        },
        {
            "cell_type": "code",
            "execution_count": 8,
            "metadata": {},
            "outputs": [
                {
                    "data": {
                        "text/plain": [
                            "['test mpy line magic']"
                        ]
                    },
                    "execution_count": 8,
                    "metadata": {},
                    "output_type": "execute_result"
                }
            ],
            "source": [
                "# test line magic\n",
                "%mpy print('test mpy line magic');import ujson"
            ]
        },
        {
            "cell_type": "code",
            "execution_count": 9,
            "metadata": {},
            "outputs": [
                {
                    "data": {
                        "text/plain": [
                            "['test micropython line magic']"
                        ]
                    },
                    "execution_count": 9,
                    "metadata": {},
                    "output_type": "execute_result"
                }
            ],
            "source": [
                "# test line magic\n",
                "%micropython print('test micropython line magic'); import machine"
            ]
        },
        {
            "cell_type": "code",
            "execution_count": 10,
            "metadata": {},
            "outputs": [
                {
                    "name": "stdout",
                    "output_type": "stream",
                    "text": [
                        "test mpy cell magic\n"
                    ]
                }
            ],
            "source": [
                "%%mpy\n",
                "import machine\n",
                "print('test mpy cell magic')"
            ]
        },
        {
            "cell_type": "code",
            "execution_count": 11,
            "metadata": {},
            "outputs": [
                {
                    "name": "stdout",
                    "output_type": "stream",
                    "text": [
                        "test micropython cell magic\n"
                    ]
                }
            ],
            "source": [
                "%%micropython\n",
                "import machine\n",
                "print('test micropython cell magic')"
            ]
        },
        {
            "cell_type": "code",
            "execution_count": 12,
            "metadata": {},
            "outputs": [
                {
                    "name": "stdout",
                    "output_type": "stream",
                    "text": [
                        "0\n",
                        "1\n",
                        "2\n"
                    ]
                }
            ],
            "source": [
                "%%micropython\n",
                "# run indented code\n",
                "for i in range(3):\n",
                "    print(i)\n"
            ]
        },
        {
            "cell_type": "code",
            "execution_count": 13,
            "metadata": {},
            "outputs": [
                {
                    "name": "stdout",
                    "output_type": "stream",
                    "text": [
                        "0\n",
                        "1\n",
                        "2\n"
                    ]
                }
            ],
            "source": [
                "# %%micropython\n",
                "# display with time delay (not checked by unit test)\n",
                "import time\n",
                "\n",
                "for i in range(3):\n",
                "    time.sleep(0.2)\n",
                "    print(i)"
            ]
        }
    ],
    "metadata": {
        "kernelspec": {
            "display_name": "Python 3 (ipykernel)",
            "language": "python",
            "name": "python3"
        },
        "language_info": {
            "codemirror_mode": {
                "name": "ipython",
                "version": 3
            },
            "file_extension": ".py",
            "mimetype": "text/x-python",
            "name": "python",
            "nbconvert_exporter": "python",
            "pygments_lexer": "ipython3",
            "version": "3.11.4"
        }
    },
    "nbformat": 4,
    "nbformat_minor": 4
}
