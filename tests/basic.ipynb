{
    "cells": [
        {
            "attachments": {},
            "cell_type": "markdown",
            "metadata": {
                "notebookRunGroups": {
                    "groupValue": "21"
                }
            },
            "source": [
                "### Notebook to test basic functionality of the MicroPython magics\n"
            ]
        },
        {
            "cell_type": "code",
            "execution_count": 1,
            "metadata": {},
            "outputs": [],
            "source": [
                "# %pip install git+https://github.com/josverl/micropython-magic\n",
                "# %pip install -U bqplot, numpy"
            ]
        },
        {
            "cell_type": "code",
            "execution_count": 2,
            "metadata": {
                "notebookRunGroups": {
                    "groupValue": "1"
                },
                "tags": [
                    "load_magic"
                ]
            },
            "outputs": [
                {
                    "name": "stdout",
                    "output_type": "stream",
                    "text": [
                        "The micropython_magic extension is already loaded. To reload it, use:\n",
                        "  %reload_ext micropython_magic\n"
                    ]
                }
            ],
            "source": [
                "%load_ext micropython_magic\n",
                "%reload_ext micropython_magic"
            ]
        },
        {
            "cell_type": "code",
            "execution_count": 3,
            "metadata": {
                "notebookRunGroups": {
                    "groupValue": "2"
                },
                "tags": []
            },
            "outputs": [
                {
                    "data": {
                        "text/plain": [
                            "['COM5 E46024C7434C552A 2e8a:1003 Microsoft None']"
                        ]
                    },
                    "execution_count": 3,
                    "metadata": {},
                    "output_type": "execute_result"
                }
            ],
            "source": [
                "%list_devices"
            ]
        },
        {
            "cell_type": "code",
            "execution_count": 4,
            "metadata": {},
            "outputs": [
                {
                    "data": {
                        "text/plain": [
                            "(sysname='rp2', nodename='rp2', release='1.19.1', version='67fac4e on 2023-02-16 (GNU 9.2.1 MinSizeRel)', machine='Pimoroni Pico LiPo 16MB with RP2040')\n",
                            "hello from rp2"
                        ]
                    },
                    "execution_count": 4,
                    "metadata": {},
                    "output_type": "execute_result"
                }
            ],
            "source": [
                "%%micropython\n",
                "import os\n",
                "print(os.uname())\n",
                "print(\"hello from\", os.uname().sysname)\n"
            ]
        },
        {
            "cell_type": "code",
            "execution_count": 5,
            "metadata": {},
            "outputs": [
                {
                    "name": "stdout",
                    "output_type": "stream",
                    "text": [
                        "COM5 E46024C7434C552A 2e8a:1003 Microsoft None\n"
                    ]
                }
            ],
            "source": [
                "# connect to the last device in the list\n",
                "devices = %list_devices\n",
                "print('\\n'.join(devices))\n",
                "# use jupyter Slist to select only the first column\n",
                "ports = devices.fields(0)"
            ]
        },
        {
            "cell_type": "code",
            "execution_count": 6,
            "metadata": {},
            "outputs": [
                {
                    "data": {
                        "text/plain": [
                            "['COM5']"
                        ]
                    },
                    "execution_count": 6,
                    "metadata": {},
                    "output_type": "execute_result"
                }
            ],
            "source": [
                "devices.fields(0)"
            ]
        },
        {
            "cell_type": "code",
            "execution_count": 7,
            "metadata": {},
            "outputs": [
                {
                    "data": {
                        "text/plain": [
                            "['__magic.py', 'lib', 'temp.py']\n",
                            "(sysname='rp2', nodename='rp2', release='1.19.1', version='67fac4e on 2023-02-16 (GNU 9.2.1 MinSizeRel)', machine='Pimoroni Pico LiPo 16MB with RP2040')"
                        ]
                    },
                    "execution_count": 7,
                    "metadata": {},
                    "output_type": "execute_result"
                }
            ],
            "source": [
                "%%micropython\n",
                "import os\n",
                "print(os.listdir('.'))\n",
                "print(os.uname())\n"
            ]
        },
        {
            "cell_type": "code",
            "execution_count": 8,
            "metadata": {},
            "outputs": [
                {
                    "data": {
                        "text/plain": [
                            "14"
                        ]
                    },
                    "execution_count": 8,
                    "metadata": {},
                    "output_type": "execute_result"
                }
            ],
            "source": [
                "%eval 3+11 "
            ]
        },
        {
            "cell_type": "code",
            "execution_count": 9,
            "metadata": {},
            "outputs": [
                {
                    "data": {
                        "text/plain": [
                            "test mpy line magic"
                        ]
                    },
                    "execution_count": 9,
                    "metadata": {},
                    "output_type": "execute_result"
                }
            ],
            "source": [
                "# test line magic\n",
                "%mpy print('test mpy line magic');import ujson"
            ]
        },
        {
            "cell_type": "code",
            "execution_count": 10,
            "metadata": {},
            "outputs": [
                {
                    "data": {
                        "text/plain": [
                            "test micropython line magic"
                        ]
                    },
                    "execution_count": 10,
                    "metadata": {},
                    "output_type": "execute_result"
                }
            ],
            "source": [
                "# test line magic\n",
                "%micropython print('test micropython line magic'); import machine"
            ]
        },
        {
            "cell_type": "code",
            "execution_count": 11,
            "metadata": {},
            "outputs": [
                {
                    "data": {
                        "text/plain": [
                            "test mpy cell magic"
                        ]
                    },
                    "execution_count": 11,
                    "metadata": {},
                    "output_type": "execute_result"
                }
            ],
            "source": [
                "%%mpy\n",
                "import machine\n",
                "print('test mpy cell magic')"
            ]
        },
        {
            "cell_type": "code",
            "execution_count": 12,
            "metadata": {},
            "outputs": [
                {
                    "data": {
                        "text/plain": [
                            "test micropython cell magic"
                        ]
                    },
                    "execution_count": 12,
                    "metadata": {},
                    "output_type": "execute_result"
                }
            ],
            "source": [
                "%%micropython\n",
                "import machine\n",
                "print('test micropython cell magic')"
            ]
        },
        {
            "cell_type": "code",
            "execution_count": 13,
            "metadata": {},
            "outputs": [
                {
                    "data": {
                        "text/plain": [
                            "0\n",
                            "1\n",
                            "2"
                        ]
                    },
                    "execution_count": 13,
                    "metadata": {},
                    "output_type": "execute_result"
                }
            ],
            "source": [
                "%%micropython\n",
                "# run indented code\n",
                "for i in range(3):\n",
                "    print(i)\n"
            ]
        }
    ],
    "metadata": {
        "kernelspec": {
            "display_name": "Python 3 (ipykernel)",
            "language": "python",
            "name": "python3"
        },
        "language_info": {
            "codemirror_mode": {
                "name": "ipython",
                "version": 3
            },
            "file_extension": ".py",
            "mimetype": "text/x-python",
            "name": "python",
            "nbconvert_exporter": "python",
            "pygments_lexer": "ipython3",
            "version": "3.11.0"
        }
    },
    "nbformat": 4,
    "nbformat_minor": 4
}
