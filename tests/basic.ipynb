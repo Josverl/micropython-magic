{
    "cells": [
        {
            "attachments": {},
            "cell_type": "markdown",
            "metadata": {
                "notebookRunGroups": {
                    "groupValue": "21"
                }
            },
            "source": [
                "### Notebook to test basic functionality of the MicroPython magics\n"
            ]
        },
        {
            "cell_type": "code",
            "execution_count": 1,
            "metadata": {},
            "outputs": [],
            "source": [
                "# %pip install git+https://github.com/josverl/micropython-magic\n",
                "# %pip install -U bqplot, numpy"
            ]
        },
        {
            "cell_type": "code",
            "execution_count": 2,
            "metadata": {
                "notebookRunGroups": {
                    "groupValue": "1"
                },
                "tags": [
                    "load_magic"
                ]
            },
            "outputs": [
                {
                    "name": "stdout",
                    "output_type": "stream",
                    "text": [
                        "The micropython_magic extension is already loaded. To reload it, use:\n",
                        "  %reload_ext micropython_magic\n"
                    ]
                }
            ],
            "source": [
                "%load_ext micropython_magic\n",
                "%reload_ext micropython_magic"
            ]
        },
        {
            "cell_type": "code",
            "execution_count": 3,
            "metadata": {
                "notebookRunGroups": {
                    "groupValue": "2"
                },
                "tags": []
            },
            "outputs": [
                {
                    "name": "stdout",
                    "output_type": "stream",
                    "text": [
                        "\u001b[34m\u001b[1mDEBUG   \u001b[0m | \u001b[36mmicropython_magic.octarine\u001b[0m:\u001b[36mmpy_line\u001b[0m:\u001b[36m218\u001b[0m - \u001b[34m\u001b[1margs=Namespace(statement=[], eval=None, list=True, select=None, reset=False, hard_reset=False)\u001b[0m\n",
                        "\u001b[34m\u001b[1mDEBUG   \u001b[0m | \u001b[36mmicropython_magic.mpr\u001b[0m:\u001b[36mrun_cmd\u001b[0m:\u001b[36m41\u001b[0m - \u001b[34m\u001b[1mmpremote connect list\u001b[0m\n"
                    ]
                },
                {
                    "data": {
                        "text/plain": [
                            "['COM4 E661410403600E38 2e8a:0005 Microsoft None']"
                        ]
                    },
                    "execution_count": 3,
                    "metadata": {},
                    "output_type": "execute_result"
                }
            ],
            "source": [
                "%mpy --list"
            ]
        },
        {
            "cell_type": "code",
            "execution_count": 4,
            "metadata": {},
            "outputs": [
                {
                    "name": "stdout",
                    "output_type": "stream",
                    "text": [
                        "\u001b[34m\u001b[1mDEBUG   \u001b[0m | \u001b[36mmicropython_magic.mpr\u001b[0m:\u001b[36mrun_cmd\u001b[0m:\u001b[36m41\u001b[0m - \u001b[34m\u001b[1mmpremote connect auto resume  cp C:\\Users\\josverl\\AppData\\Local\\Temp\\tmpv2v89_do.py :__magic.py\u001b[0m\n",
                        "\u001b[34m\u001b[1mDEBUG   \u001b[0m | \u001b[36mmicropython_magic.mpr\u001b[0m:\u001b[36mrun_cmd\u001b[0m:\u001b[36m41\u001b[0m - \u001b[34m\u001b[1mmpremote connect auto resume  exec \"exec( open('__magic.py').read() , globals() )\"\u001b[0m\n"
                    ]
                },
                {
                    "data": {
                        "application/json": "",
                        "text/plain": [
                            "[\"(sysname='rp2', nodename='rp2', release='1.20.0', version='v1.20.0 on 2023-04-26 (GNU 12.1.0 MinSizeRel)', machine='W5500-EVB-Pico with RP2040')\", 'hello from rp2']"
                        ]
                    },
                    "execution_count": 4,
                    "metadata": {},
                    "output_type": "execute_result"
                }
            ],
            "source": [
                "%%micropython\n",
                "import os\n",
                "print(os.uname())\n",
                "print(\"hello from\", os.uname().sysname)\n"
            ]
        },
        {
            "cell_type": "code",
            "execution_count": 5,
            "metadata": {},
            "outputs": [
                {
                    "name": "stdout",
                    "output_type": "stream",
                    "text": [
                        "\u001b[34m\u001b[1mDEBUG   \u001b[0m | \u001b[36mmicropython_magic.octarine\u001b[0m:\u001b[36mmpy_line\u001b[0m:\u001b[36m218\u001b[0m - \u001b[34m\u001b[1margs=Namespace(statement=[], eval=None, list=True, select=None, reset=False, hard_reset=False)\u001b[0m\n",
                        "\u001b[34m\u001b[1mDEBUG   \u001b[0m | \u001b[36mmicropython_magic.mpr\u001b[0m:\u001b[36mrun_cmd\u001b[0m:\u001b[36m41\u001b[0m - \u001b[34m\u001b[1mmpremote connect list\u001b[0m\n",
                        "COM4 E661410403600E38 2e8a:0005 Microsoft None\n"
                    ]
                }
            ],
            "source": [
                "# connect to the last device in the list\n",
                "devices = %mpy --list\n",
                "print('\\n'.join(devices))\n",
                "# use jupyter Slist to select only the first column\n",
                "ports = devices.fields(0)"
            ]
        },
        {
            "cell_type": "code",
            "execution_count": 6,
            "metadata": {},
            "outputs": [
                {
                    "data": {
                        "text/plain": [
                            "['COM4']"
                        ]
                    },
                    "execution_count": 6,
                    "metadata": {},
                    "output_type": "execute_result"
                }
            ],
            "source": [
                "devices.fields(0)"
            ]
        },
        {
            "cell_type": "code",
            "execution_count": 7,
            "metadata": {},
            "outputs": [
                {
                    "name": "stdout",
                    "output_type": "stream",
                    "text": [
                        "\u001b[34m\u001b[1mDEBUG   \u001b[0m | \u001b[36mmicropython_magic.mpr\u001b[0m:\u001b[36mrun_cmd\u001b[0m:\u001b[36m41\u001b[0m - \u001b[34m\u001b[1mmpremote connect auto resume  cp C:\\Users\\josverl\\AppData\\Local\\Temp\\tmpo2os92ab.py :__magic.py\u001b[0m\n",
                        "\u001b[34m\u001b[1mDEBUG   \u001b[0m | \u001b[36mmicropython_magic.mpr\u001b[0m:\u001b[36mrun_cmd\u001b[0m:\u001b[36m41\u001b[0m - \u001b[34m\u001b[1mmpremote connect auto resume  exec \"exec( open('__magic.py').read() , globals() )\"\u001b[0m\n"
                    ]
                },
                {
                    "data": {
                        "application/json": "",
                        "text/plain": [
                            "[\"['__magic.py', 'blink.py', 'lib']\", \"(sysname='rp2', nodename='rp2', release='1.20.0', version='v1.20.0 on 2023-04-26 (GNU 12.1.0 MinSizeRel)', machine='W5500-EVB-Pico with RP2040')\"]"
                        ]
                    },
                    "execution_count": 7,
                    "metadata": {},
                    "output_type": "execute_result"
                }
            ],
            "source": [
                "%%micropython\n",
                "import os\n",
                "print(os.listdir('.'))\n",
                "print(os.uname())\n"
            ]
        },
        {
            "cell_type": "code",
            "execution_count": 8,
            "metadata": {},
            "outputs": [
                {
                    "name": "stdout",
                    "output_type": "stream",
                    "text": [
                        "\u001b[34m\u001b[1mDEBUG   \u001b[0m | \u001b[36mmicropython_magic.param_fixup\u001b[0m:\u001b[36mget_code\u001b[0m:\u001b[36m10\u001b[0m - \u001b[34m\u001b[1mline='--eval 3+11', partial='3+11'\u001b[0m\n",
                        "\u001b[34m\u001b[1mDEBUG   \u001b[0m | \u001b[36mmicropython_magic.param_fixup\u001b[0m:\u001b[36mget_code\u001b[0m:\u001b[36m16\u001b[0m - \u001b[34m\u001b[1mfull='3+11'\u001b[0m\n",
                        "\u001b[34m\u001b[1mDEBUG   \u001b[0m | \u001b[36mmicropython_magic.octarine\u001b[0m:\u001b[36mmpy_line\u001b[0m:\u001b[36m218\u001b[0m - \u001b[34m\u001b[1margs=Namespace(statement=[], eval=['3+11'], list=False, select=None, reset=False, hard_reset=False)\u001b[0m\n",
                        "\u001b[34m\u001b[1mDEBUG   \u001b[0m | \u001b[36mmicropython_magic.mpr\u001b[0m:\u001b[36mrun_cmd\u001b[0m:\u001b[36m41\u001b[0m - \u001b[34m\u001b[1mmpremote connect auto resume  exec \"import json; print('<json~',json.dumps(3+11),'~json>')\"\u001b[0m\n"
                    ]
                },
                {
                    "data": {
                        "text/plain": [
                            "14"
                        ]
                    },
                    "execution_count": 8,
                    "metadata": {},
                    "output_type": "execute_result"
                }
            ],
            "source": [
                "%mpy --eval 3+11 "
            ]
        },
        {
            "cell_type": "code",
            "execution_count": 9,
            "metadata": {},
            "outputs": [
                {
                    "name": "stdout",
                    "output_type": "stream",
                    "text": [
                        "\u001b[34m\u001b[1mDEBUG   \u001b[0m | \u001b[36mmicropython_magic.param_fixup\u001b[0m:\u001b[36mget_code\u001b[0m:\u001b[36m10\u001b[0m - \u001b[34m\u001b[1mline=\"print('test mpy line magic');import ujson\", partial=\"print('test\"\u001b[0m\n",
                        "\u001b[34m\u001b[1mDEBUG   \u001b[0m | \u001b[36mmicropython_magic.param_fixup\u001b[0m:\u001b[36mget_code\u001b[0m:\u001b[36m16\u001b[0m - \u001b[34m\u001b[1mfull=\"print('test mpy line magic');import ujson\"\u001b[0m\n",
                        "\u001b[34m\u001b[1mDEBUG   \u001b[0m | \u001b[36mmicropython_magic.octarine\u001b[0m:\u001b[36mmpy_line\u001b[0m:\u001b[36m218\u001b[0m - \u001b[34m\u001b[1margs=Namespace(statement=[\"print('test mpy line magic');import ujson\"], eval=None, list=False, select=None, reset=False, hard_reset=False)\u001b[0m\n",
                        "\u001b[34m\u001b[1mDEBUG   \u001b[0m | \u001b[36mmicropython_magic.octarine\u001b[0m:\u001b[36mmpy_line\u001b[0m:\u001b[36m227\u001b[0m - \u001b[34m\u001b[1mcmd='exec \"print(\\'test mpy line magic\\');import ujson\"'\u001b[0m\n",
                        "\u001b[34m\u001b[1mDEBUG   \u001b[0m | \u001b[36mmicropython_magic.mpr\u001b[0m:\u001b[36mrun_cmd\u001b[0m:\u001b[36m41\u001b[0m - \u001b[34m\u001b[1mmpremote connect auto resume  exec \"print('test mpy line magic');import ujson\"\u001b[0m\n"
                    ]
                },
                {
                    "data": {
                        "application/json": "",
                        "text/plain": [
                            "['test mpy line magic']"
                        ]
                    },
                    "execution_count": 9,
                    "metadata": {},
                    "output_type": "execute_result"
                }
            ],
            "source": [
                "# test line magic\n",
                "%mpy print('test mpy line magic');import ujson"
            ]
        },
        {
            "cell_type": "code",
            "execution_count": 10,
            "metadata": {},
            "outputs": [
                {
                    "name": "stdout",
                    "output_type": "stream",
                    "text": [
                        "\u001b[34m\u001b[1mDEBUG   \u001b[0m | \u001b[36mmicropython_magic.param_fixup\u001b[0m:\u001b[36mget_code\u001b[0m:\u001b[36m10\u001b[0m - \u001b[34m\u001b[1mline=\"print('test micropython line magic'); import machine\", partial=\"print('test\"\u001b[0m\n",
                        "\u001b[34m\u001b[1mDEBUG   \u001b[0m | \u001b[36mmicropython_magic.param_fixup\u001b[0m:\u001b[36mget_code\u001b[0m:\u001b[36m16\u001b[0m - \u001b[34m\u001b[1mfull=\"print('test micropython line magic'); import machine\"\u001b[0m\n",
                        "\u001b[34m\u001b[1mDEBUG   \u001b[0m | \u001b[36mmicropython_magic.octarine\u001b[0m:\u001b[36mmpy_line\u001b[0m:\u001b[36m218\u001b[0m - \u001b[34m\u001b[1margs=Namespace(statement=[\"print('test micropython line magic'); import machine\"], eval=None, list=False, select=None, reset=False, hard_reset=False)\u001b[0m\n",
                        "\u001b[34m\u001b[1mDEBUG   \u001b[0m | \u001b[36mmicropython_magic.octarine\u001b[0m:\u001b[36mmpy_line\u001b[0m:\u001b[36m227\u001b[0m - \u001b[34m\u001b[1mcmd='exec \"print(\\'test micropython line magic\\'); import machine\"'\u001b[0m\n",
                        "\u001b[34m\u001b[1mDEBUG   \u001b[0m | \u001b[36mmicropython_magic.mpr\u001b[0m:\u001b[36mrun_cmd\u001b[0m:\u001b[36m41\u001b[0m - \u001b[34m\u001b[1mmpremote connect auto resume  exec \"print('test micropython line magic'); import machine\"\u001b[0m\n"
                    ]
                },
                {
                    "data": {
                        "application/json": "",
                        "text/plain": [
                            "['test micropython line magic']"
                        ]
                    },
                    "execution_count": 10,
                    "metadata": {},
                    "output_type": "execute_result"
                }
            ],
            "source": [
                "# test line magic\n",
                "%micropython print('test micropython line magic'); import machine"
            ]
        },
        {
            "cell_type": "code",
            "execution_count": 11,
            "metadata": {},
            "outputs": [
                {
                    "name": "stdout",
                    "output_type": "stream",
                    "text": [
                        "\u001b[34m\u001b[1mDEBUG   \u001b[0m | \u001b[36mmicropython_magic.mpr\u001b[0m:\u001b[36mrun_cmd\u001b[0m:\u001b[36m41\u001b[0m - \u001b[34m\u001b[1mmpremote connect auto resume  cp C:\\Users\\josverl\\AppData\\Local\\Temp\\tmpuzvayiif.py :__magic.py\u001b[0m\n",
                        "\u001b[34m\u001b[1mDEBUG   \u001b[0m | \u001b[36mmicropython_magic.mpr\u001b[0m:\u001b[36mrun_cmd\u001b[0m:\u001b[36m41\u001b[0m - \u001b[34m\u001b[1mmpremote connect auto resume  exec \"exec( open('__magic.py').read() , globals() )\"\u001b[0m\n"
                    ]
                },
                {
                    "data": {
                        "application/json": "",
                        "text/plain": [
                            "['test mpy cell magic']"
                        ]
                    },
                    "execution_count": 11,
                    "metadata": {},
                    "output_type": "execute_result"
                }
            ],
            "source": [
                "%%mpy\n",
                "import machine\n",
                "print('test mpy cell magic')"
            ]
        },
        {
            "cell_type": "code",
            "execution_count": 12,
            "metadata": {},
            "outputs": [
                {
                    "name": "stdout",
                    "output_type": "stream",
                    "text": [
                        "\u001b[34m\u001b[1mDEBUG   \u001b[0m | \u001b[36mmicropython_magic.mpr\u001b[0m:\u001b[36mrun_cmd\u001b[0m:\u001b[36m41\u001b[0m - \u001b[34m\u001b[1mmpremote connect auto resume  cp C:\\Users\\josverl\\AppData\\Local\\Temp\\tmp2kvopmkp.py :__magic.py\u001b[0m\n",
                        "\u001b[34m\u001b[1mDEBUG   \u001b[0m | \u001b[36mmicropython_magic.mpr\u001b[0m:\u001b[36mrun_cmd\u001b[0m:\u001b[36m41\u001b[0m - \u001b[34m\u001b[1mmpremote connect auto resume  exec \"exec( open('__magic.py').read() , globals() )\"\u001b[0m\n"
                    ]
                },
                {
                    "data": {
                        "application/json": "",
                        "text/plain": [
                            "['test micropython cell magic']"
                        ]
                    },
                    "execution_count": 12,
                    "metadata": {},
                    "output_type": "execute_result"
                }
            ],
            "source": [
                "%%micropython\n",
                "import machine\n",
                "print('test micropython cell magic')"
            ]
        },
        {
            "cell_type": "code",
            "execution_count": 13,
            "metadata": {},
            "outputs": [
                {
                    "name": "stdout",
                    "output_type": "stream",
                    "text": [
                        "\u001b[34m\u001b[1mDEBUG   \u001b[0m | \u001b[36mmicropython_magic.mpr\u001b[0m:\u001b[36mrun_cmd\u001b[0m:\u001b[36m41\u001b[0m - \u001b[34m\u001b[1mmpremote connect auto resume  cp C:\\Users\\josverl\\AppData\\Local\\Temp\\tmpfiqq4n24.py :__magic.py\u001b[0m\n",
                        "\u001b[34m\u001b[1mDEBUG   \u001b[0m | \u001b[36mmicropython_magic.mpr\u001b[0m:\u001b[36mrun_cmd\u001b[0m:\u001b[36m41\u001b[0m - \u001b[34m\u001b[1mmpremote connect auto resume  exec \"exec( open('__magic.py').read() , globals() )\"\u001b[0m\n"
                    ]
                },
                {
                    "data": {
                        "application/json": "",
                        "text/plain": [
                            "['0', '1', '2']"
                        ]
                    },
                    "execution_count": 13,
                    "metadata": {},
                    "output_type": "execute_result"
                }
            ],
            "source": [
                "%%micropython\n",
                "# run indented code\n",
                "for i in range(3):\n",
                "    print(i)\n"
            ]
        }
    ],
    "metadata": {
        "kernelspec": {
            "display_name": "Python 3 (ipykernel)",
            "language": "python",
            "name": "python3"
        },
        "language_info": {
            "codemirror_mode": {
                "name": "ipython",
                "version": 3
            },
            "file_extension": ".py",
            "mimetype": "text/x-python",
            "name": "python",
            "nbconvert_exporter": "python",
            "pygments_lexer": "ipython3",
            "version": "3.11.0"
        }
    },
    "nbformat": 4,
    "nbformat_minor": 4
}
