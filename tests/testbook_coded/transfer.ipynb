{
 "cells": [
  {
   "attachments": {},
   "cell_type": "markdown",
   "metadata": {},
   "source": [
    "## Test the data transfer and exchange from the MCU to the local python kernel\n"
   ]
  },
  {
   "cell_type": "code",
   "execution_count": 1,
   "metadata": {},
   "outputs": [
    {
     "name": "stdout",
     "output_type": "stream",
     "text": [
      "The micropython_magic extension is already loaded. To reload it, use:\n",
      "  %reload_ext micropython_magic\n",
      "True\n"
     ]
    }
   ],
   "source": [
    "# load the magics and start with an empty list of measurements\n",
    "%load_ext micropython_magic\n",
    "%micropython --reset\n",
    "# %config MicroPythonMagic.loglevel='TRACE'"
   ]
  },
  {
   "cell_type": "code",
   "execution_count": 2,
   "metadata": {},
   "outputs": [],
   "source": [
    "# %%micropython\n",
    "\n",
    "\n",
    "def foo_int():\n",
    "    return 41\n",
    "\n",
    "\n",
    "def foo_float():\n",
    "    return 4.2\n",
    "\n",
    "\n",
    "def foo_tuple():\n",
    "    return (4, 3)\n",
    "\n",
    "\n",
    "def foo_str():\n",
    "    return \"44\"\n",
    "\n",
    "\n",
    "def foo_list():\n",
    "    return [\"45\", \"46\"]\n",
    "\n",
    "\n",
    "def foo_dict():\n",
    "    return {\"47\": \"48\"}\n",
    "\n",
    "\n",
    "def foo_bool():\n",
    "    return True\n",
    "\n",
    "\n",
    "def foo_none():\n",
    "    return None\n",
    "\n",
    "\n",
    "def foo_bytes():\n",
    "    return b\"51\"\n",
    "\n",
    "\n",
    "def foo_bytearray():\n",
    "    return bytearray(b\"52\")\n",
    "\n",
    "\n",
    "def foo_range():\n",
    "    return range(10)\n",
    "\n",
    "\n",
    "def foo_frozenset():\n",
    "    return frozenset([\"56\", \"57\"])\n",
    "\n",
    "\n",
    "def foo_set():\n",
    "    return {\"49\", \"50\"}"
   ]
  },
  {
   "cell_type": "code",
   "execution_count": 3,
   "metadata": {},
   "outputs": [
    {
     "name": "stdout",
     "output_type": "stream",
     "text": [
      "None <class 'NoneType'>\n"
     ]
    }
   ],
   "source": [
    "from types import NoneType\n",
    "\n",
    "\n",
    "i = %mpy --eval foo_none()\n",
    "print(i , type(i))\n",
    "assert isinstance(i, NoneType)\n"
   ]
  },
  {
   "cell_type": "code",
   "execution_count": 4,
   "metadata": {},
   "outputs": [
    {
     "name": "stdout",
     "output_type": "stream",
     "text": [
      "frozenset({'56', '57'}) <class 'frozenset'>\n"
     ]
    }
   ],
   "source": [
    "# %%timeit -n 100 -r 3\n",
    "i = %mpy --eval foo_frozenset()\n",
    "print(i , type(i))\n",
    "assert isinstance(i, frozenset) \n"
   ]
  },
  {
   "cell_type": "code",
   "execution_count": 5,
   "metadata": {},
   "outputs": [
    {
     "name": "stdout",
     "output_type": "stream",
     "text": [
      "41 <class 'int'>\n",
      "4.2 <class 'float'>\n",
      "44 <class 'str'>\n",
      "True <class 'bool'>\n",
      "51 <class 'str'>\n",
      "bytearray(b'52') <class 'bytearray'>\n",
      "[4, 3] <class 'list'>\n",
      "['45', '46'] <class 'list'>\n",
      "range(0, 10) <class 'range'>\n",
      "frozenset({'56', '57'}) <class 'frozenset'>\n",
      "{'50', '49'} <class 'set'>\n"
     ]
    }
   ],
   "source": [
    "i = %mpy --eval foo_int()\n",
    "print(i , type(i))\n",
    "assert isinstance(i, int)\n",
    "\n",
    "i = %mpy --eval foo_float()\n",
    "print(i , type(i))\n",
    "assert isinstance(i, float)\n",
    "\n",
    "i = %mpy --eval foo_str()\n",
    "print(i , type(i))\n",
    "assert isinstance(i, str)\n",
    "from types import NoneType\n",
    "\n",
    "i = %mpy --eval foo_bool()\n",
    "print(i , type(i))\n",
    "assert isinstance(i, bool)\n",
    "\n",
    "i = %mpy --eval foo_bytes()\n",
    "print(i , type(i))\n",
    "assert isinstance(i, (bytes, str)) # bytes roundtripped via json is a string\n",
    "\n",
    "i = %mpy --eval foo_bytearray()\n",
    "print(i , type(i))\n",
    "assert isinstance(i, bytearray)\n",
    "\n",
    "i = %mpy --eval foo_tuple()\n",
    "print(i , type(i))\n",
    "assert isinstance(i, (tuple, list)) # tuple roundtripped via json is a list\n",
    "\n",
    "i = %mpy --eval foo_list()\n",
    "print(i , type(i))\n",
    "assert isinstance(i, list) \n",
    "\n",
    "i = %mpy --eval foo_range()\n",
    "print(i , type(i))\n",
    "assert isinstance(i, range)\n",
    "\n",
    "i = %mpy --eval foo_frozenset() \n",
    "print(i , type(i))\n",
    "assert isinstance(i, frozenset) # needs special handling\n",
    "\n",
    "i = %mpy --eval foo_set()\n",
    "print(i , type(i))\n",
    "assert isinstance(i, (set, list)) # needs special handling\n"
   ]
  },
  {
   "cell_type": "markdown",
   "metadata": {},
   "source": [
    "Not all ports support complex numbers / may need to find a workaround to avoid false negatives in test"
   ]
  },
  {
   "cell_type": "code",
   "execution_count": 9,
   "metadata": {},
   "outputs": [
    {
     "name": "stdout",
     "output_type": "stream",
     "text": [
      "Traceback (most recent call last):\n",
      "\u001b[31m\u001b[1mERROR   \u001b[0m | \u001b[36mmicropython_magic.interactive\u001b[0m:\u001b[36mdo_output\u001b[0m:\u001b[36m83\u001b[0m - \u001b[31m\u001b[1mSyntaxError: complex values not supported\n",
      "\u001b[0m\n",
      "SyntaxError: complex values not supported\n"
     ]
    }
   ],
   "source": [
    "# %%micropython\n",
    "\n",
    "def foo_complex():  # type: ignore\n",
    "    return 54 + 55j\n"
   ]
  },
  {
   "cell_type": "code",
   "execution_count": 10,
   "metadata": {},
   "outputs": [
    {
     "name": "stdout",
     "output_type": "stream",
     "text": [
      "skipping complex tests\n"
     ]
    }
   ],
   "source": [
    "if \"SyntaxError: complex values not supported\" in _:\n",
    "    run_complex_test = False\n",
    "    print(\"skipping complex tests\")\n",
    "else:\n",
    "    run_complex_test = True"
   ]
  },
  {
   "cell_type": "code",
   "execution_count": 11,
   "metadata": {},
   "outputs": [],
   "source": [
    "if  run_complex_test:\n",
    "    i = %mpy --eval foo_complex()\n",
    "    print(i , type(i))\n",
    "    assert isinstance(i, complex)\n"
   ]
  }
 ],
 "metadata": {
  "kernelspec": {
   "display_name": ".venv",
   "language": "python",
   "name": "python3"
  },
  "language_info": {
   "codemirror_mode": {
    "name": "ipython",
    "version": 3
   },
   "file_extension": ".py",
   "mimetype": "text/x-python",
   "name": "python",
   "nbconvert_exporter": "python",
   "pygments_lexer": "ipython3",
   "version": "3.11.7"
  },
  "orig_nbformat": 4
 },
 "nbformat": 4,
 "nbformat_minor": 2
}
